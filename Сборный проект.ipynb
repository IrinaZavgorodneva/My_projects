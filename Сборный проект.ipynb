{
 "cells": [
  {
   "cell_type": "markdown",
   "metadata": {},
   "source": [
    "# Сводный проект \"Стримчик\""
   ]
  },
  {
   "cell_type": "markdown",
   "metadata": {},
   "source": [
    "# Введение\n",
    "В ходе проекта будут проведены следующие исследования:\n",
    "- считывание и подготовка данных по датасету с историческими данными платформы (отредактируем названия столбцов, обработаем пропуски и дубликаты, преобразуем данные в новые типы где требуется, создадим столбец с суммарными продажами во всех регионах);\n",
    "- исследовательский анализ полученных данных (сгруппируем данные по годам, выясним какие платформы оказались самыми прибыльными, рассмотрим влияние отзывов пользователей и критиков на продажи одной платформы и соотнесём результаты с другими платформами, рассмотрим распределение игр по жанрам);\n",
    "- составление портрета пользователей каждого региона (определим для пользователей каждого региона самые популярные платформы, самые популярные жанры а также влияет ли рейтинг ESRB на продажи в отдельном регионе);\n",
    "- проверка гипотез (о средних пользовательских рейтингах разных платформ и разных жанров);\n",
    "\n",
    "**Цель проекта** - выявить определяющие успешность игры закономерности, что позволит сделать ставку на потенциально популярный продукт и спланировать рекламные кампании."
   ]
  },
  {
   "cell_type": "code",
   "execution_count": null,
   "metadata": {},
   "outputs": [],
   "source": [
    "import pandas as pd #импортируем все необходимые библиотеки и/или методы\n",
    "import numpy as np\n",
    "import datetime as dt\n",
    "import matplotlib.pyplot as plt \n",
    "import seaborn as sns\n",
    "from scipy import stats as st "
   ]
  },
  {
   "cell_type": "markdown",
   "metadata": {},
   "source": [
    "## Считывание данных"
   ]
  },
  {
   "cell_type": "code",
   "execution_count": null,
   "metadata": {},
   "outputs": [],
   "source": [
    "data = pd.read_csv('data.csv') #считываем данные и сохраняем их в датафрейм"
   ]
  },
  {
   "cell_type": "code",
   "execution_count": null,
   "metadata": {},
   "outputs": [],
   "source": [
    "data.head() #изучаем данные"
   ]
  },
  {
   "cell_type": "code",
   "execution_count": null,
   "metadata": {},
   "outputs": [],
   "source": [
    "data.info() #изучаем общую информацию по датафрейму"
   ]
  },
  {
   "cell_type": "markdown",
   "metadata": {},
   "source": [
    "### Промежуточный вывод\n",
    "В ходе этого шага исследования мы считали исходные данные из файла и сохранили их в датафрейм. Изучив их мы можем соотнести их с заданным **описанием данных**:\n",
    "\n",
    "- Name — название игры, формат `object`\n",
    "- Platform — платформа, формат `object`\n",
    "- Year_of_Release — год выпуска, формат `float64`\n",
    "- Genre — жанр игры, формат `object`\n",
    "- NA_sales — продажи в Северной Америке (миллионы проданных копий), формат `float64`\n",
    "- EU_sales — продажи в Европе (миллионы проданных копий), формат `float64`\n",
    "- JP_sales — продажи в Японии (миллионы проданных копий), формат `float64`\n",
    "- Other_sales — продажи в других странах (миллионы проданных копий), формат `float64`\n",
    "- Critic_Score — оценка критиков (максимум 100), формат `float64`\n",
    "- User_Score — оценка пользователей (максимум 10), формат `object`\n",
    "- Rating — рейтинг от организации ESRB (англ. Entertainment Software Rating Board). Эта ассоциация определяет рейтинг компьютерных игр и присваивает им подходящую возрастную категорию, формат `object`"
   ]
  },
  {
   "cell_type": "markdown",
   "metadata": {},
   "source": [
    "## Предобработка данных"
   ]
  },
  {
   "cell_type": "markdown",
   "metadata": {},
   "source": [
    "### Названия столбцов"
   ]
  },
  {
   "cell_type": "code",
   "execution_count": null,
   "metadata": {},
   "outputs": [],
   "source": [
    "data.columns = data.columns.str.lower()#приводим все названия столбцов к нижнему регистру"
   ]
  },
  {
   "cell_type": "code",
   "execution_count": null,
   "metadata": {},
   "outputs": [],
   "source": [
    "data.columns #проверяем корректность результата"
   ]
  },
  {
   "cell_type": "markdown",
   "metadata": {},
   "source": [
    "### Проверка на пропуски и дубликаты и их обработка"
   ]
  },
  {
   "cell_type": "code",
   "execution_count": null,
   "metadata": {
    "scrolled": true
   },
   "outputs": [],
   "source": [
    "data.isna().sum() #проверяем данные на пропуски"
   ]
  },
  {
   "cell_type": "code",
   "execution_count": null,
   "metadata": {},
   "outputs": [],
   "source": [
    "data.duplicated().sum()"
   ]
  },
  {
   "cell_type": "code",
   "execution_count": null,
   "metadata": {},
   "outputs": [],
   "source": [
    "data = data.dropna(subset=['name', 'year_of_release', 'genre']) #удаляем пропуски в столбце 'name' и 'year_of_release'"
   ]
  },
  {
   "cell_type": "code",
   "execution_count": null,
   "metadata": {},
   "outputs": [],
   "source": [
    "data['user_score'] = data['user_score'].replace('tbd', np.nan) \n",
    "#заменяем значение 'tbd' в столбце 'user_score' на NaN"
   ]
  },
  {
   "cell_type": "code",
   "execution_count": null,
   "metadata": {},
   "outputs": [],
   "source": [
    "data['rating'] = data['rating'].fillna('RP') #заменяем пропуски в столбце 'rating' на RP - Rating Pending"
   ]
  },
  {
   "cell_type": "markdown",
   "metadata": {},
   "source": [
    "### Смена типов данных"
   ]
  },
  {
   "cell_type": "code",
   "execution_count": null,
   "metadata": {},
   "outputs": [],
   "source": [
    "data['year_of_release'] = pd.to_datetime(data['year_of_release'], format='%Y') #меняем тип данных в столбце с годом релиза"
   ]
  },
  {
   "cell_type": "code",
   "execution_count": null,
   "metadata": {},
   "outputs": [],
   "source": [
    "for item in ['na_sales', 'eu_sales', 'jp_sales', 'other_sales']: \n",
    "    #меняем тип данных в отдельных столбцах с float64 на floar32 для экономии вычислительной памяти\n",
    "    data[item] = data[item].astype('float32')"
   ]
  },
  {
   "cell_type": "code",
   "execution_count": null,
   "metadata": {},
   "outputs": [],
   "source": [
    "data['critic_score'] = data['critic_score'].astype('float32') #меняем тип данных в столбце с оценками пользователей"
   ]
  },
  {
   "cell_type": "code",
   "execution_count": null,
   "metadata": {},
   "outputs": [],
   "source": [
    "data['user_score'] = data['user_score'].astype('float32') #меняем тип данных в столбце с оценками пользователей"
   ]
  },
  {
   "cell_type": "code",
   "execution_count": null,
   "metadata": {},
   "outputs": [],
   "source": [
    "data.dtypes #проверяем результат"
   ]
  },
  {
   "cell_type": "markdown",
   "metadata": {},
   "source": [
    "### Добавление столбцов"
   ]
  },
  {
   "cell_type": "code",
   "execution_count": null,
   "metadata": {},
   "outputs": [],
   "source": [
    "data['general_sales'] = data['na_sales'] + data['eu_sales'] + data['jp_sales'] + data['other_sales']\n",
    "#создаём столбец с общими продажами во всех регионах"
   ]
  },
  {
   "cell_type": "markdown",
   "metadata": {},
   "source": [
    "### Финальная проверка результатов предобработки"
   ]
  },
  {
   "cell_type": "code",
   "execution_count": null,
   "metadata": {},
   "outputs": [],
   "source": [
    "for item in data.columns:\n",
    "    print(f'{item} {data[item].isna().sum()}') #проверяем наличие неполных дубликатов"
   ]
  },
  {
   "cell_type": "code",
   "execution_count": null,
   "metadata": {},
   "outputs": [],
   "source": [
    "data.head() #проверяем результат"
   ]
  },
  {
   "cell_type": "markdown",
   "metadata": {},
   "source": [
    "### Промежуточный вывод\n",
    "В ходе этого шага исследования мы **предобрабатывали** данные следующим образом:\n",
    "- привели названия всех столбцов к нижнему регистру для удобства работы с данными;\n",
    "- проверили данные на наличие пропусков и нашли их в столбцах 'name' - **2 пропуска**, 'year_of_release' - **269 пропусков**, 'genre' - **2 пропуска**, 'critic_score' - **8578 пропусков**, 'user_score' - **6701 пропуск**, 'rating' - **6766 пропусков**, дубдикатов найдено не было;\n",
    "- в столбцах **'name', 'year_of_release' и 'genre'** пропуски просто удаляем, так как их очень мало относительно общего объёма данных, и при этом данные из этих столбцов очень важны для дальнейшего исследования и пропуски в них будет сложно чем-то заменить или оставить с пропусками. Скорее всего пропуски в этих столбцах вызваны человеческим фактором;\n",
    "- в столбце **'user_score'** встречалось значение 'tbd'. Это сокращение означает \"подлежит уточнению\", то есть конкретную оценку этой игре пользователи ещё не выставили или отзывов ещё слишком мало для подсчёта оценки. Поэтому было принято решение заменить эти значения на NaN;\n",
    "- в столбцах **'user_score' и 'critic_score'** пропуски оставили без изменений, так как их слишком много чтобы удалять а логичной замены найдено не было;\n",
    "- в столбце **'rating'** пропуски заменяем на значение 'RP', так как именно этот рейтинг расшифровывается как \"Rating Pending\" (рейтинг на рассмотрении), так как можно предположить что пропуски в данных обусловлены именно тем, что рейтинг игре ещё не назначен;\n",
    "- заменили типы данных где это было необходимо (в столбце **year_of_release** - на 'datetime', так как это значение даты; в столбцах **'na_sales', 'eu_sales', 'jp_sales', 'other_sales'**, **'critic_score'** с float64 на floar32 для экономии вычислительной памяти; в столбце **'user_score'** с object на float32 так как значения в этом столбце численные);\n",
    "- создали столбец с общими продажами для каждой игры во всех регионах"
   ]
  },
  {
   "cell_type": "markdown",
   "metadata": {},
   "source": [
    "## Исследовательский анализ данных"
   ]
  },
  {
   "cell_type": "markdown",
   "metadata": {},
   "source": [
    "### Изучение статистики ежегодного выпуска игр и выбор периода исследования"
   ]
  },
  {
   "cell_type": "code",
   "execution_count": null,
   "metadata": {
    "scrolled": true
   },
   "outputs": [],
   "source": [
    "data_years = data.groupby('year_of_release').agg({'name': 'count'}).sort_values(by='name') #проверяем, сколько игр выпускалось в разные годы"
   ]
  },
  {
   "cell_type": "code",
   "execution_count": null,
   "metadata": {},
   "outputs": [],
   "source": [
    "data_years.plot(title='Количество выпущенных игр ежегодно', figsize=(10, 6))\n",
    "plt.xlabel('Год выпуска')\n",
    "plt.ylabel('Количество игр')\n",
    "plt.show()"
   ]
  },
  {
   "cell_type": "markdown",
   "metadata": {},
   "source": [
    "Года за которые вышло менее 500 игр не кажутся важными для исследования, плюс это года до 2001, то есть данные старые и уже не очень актуальные, поэтому данные по этим годам мы опустим."
   ]
  },
  {
   "cell_type": "code",
   "execution_count": null,
   "metadata": {},
   "outputs": [],
   "source": [
    "data = data[data['year_of_release'] >= dt.datetime(2001, 1, 1)].reset_index(drop=True) #оставляем данные только с 2001 года и обновляем индексацию"
   ]
  },
  {
   "cell_type": "code",
   "execution_count": null,
   "metadata": {
    "scrolled": true
   },
   "outputs": [],
   "source": [
    "data.head() #проверяем результат"
   ]
  },
  {
   "cell_type": "markdown",
   "metadata": {},
   "source": [
    "### Изучение изменений продаж по платформам"
   ]
  },
  {
   "cell_type": "code",
   "execution_count": null,
   "metadata": {
    "scrolled": true
   },
   "outputs": [],
   "source": [
    "data.pivot_table(index='platform', values='general_sales', aggfunc='sum').sort_values(by='general_sales')\n",
    "#определяем общие продажи для каждой платформы"
   ]
  },
  {
   "cell_type": "markdown",
   "metadata": {},
   "source": [
    "По этим данным можно составить топ-5 платформ по продажам, так как они значительно больше для этих платформ чем для остальных. Вот этот топ - **PS2, X360, Wii, PS3, DS**."
   ]
  },
  {
   "cell_type": "code",
   "execution_count": null,
   "metadata": {},
   "outputs": [],
   "source": [
    "platforms_top = ['DS', 'PS3', 'Wii', 'X360', 'PS2'] #выделяем топовые платформы\n",
    "data_platforms_top = data.query('platform in @platforms_top') #создаём датафрейм с данными только по ним"
   ]
  },
  {
   "cell_type": "code",
   "execution_count": null,
   "metadata": {},
   "outputs": [],
   "source": [
    "data_ds = data_platforms_top.query('platform == \"DS\"').groupby('year_of_release').agg({'general_sales' : 'sum'})\n",
    "data_ds.plot(figsize=(10, 5), grid=True, title='Продажи платформы DS', xlabel='Год выпуска', ylabel='Общие продажи')\n",
    "plt.show()"
   ]
  },
  {
   "cell_type": "markdown",
   "metadata": {},
   "source": [
    "По графику выше можно заметить что продажи платформы **DS** начались в **2004** и в стартовый год было продано **20 мил. копий**, пик продаж был в **2007-2008 годах**, в районе **300 млн. проданных копий** за эти два года, а затем начался спад  и в итоге в **2012 году** было продано около **10 млн. копий**."
   ]
  },
  {
   "cell_type": "code",
   "execution_count": null,
   "metadata": {
    "scrolled": true
   },
   "outputs": [],
   "source": [
    "data_ps3 = data_platforms_top.query('platform == \"PS3\"').groupby('year_of_release').agg({'general_sales' : 'sum'})\n",
    "data_ps3.plot(figsize=(10, 5), grid=True, title='Продажи платформы PS3', xlabel='Год выпуска', ylabel='Общие продажи')\n",
    "plt.show()"
   ]
  },
  {
   "cell_type": "markdown",
   "metadata": {},
   "source": [
    "По графику выше можно заметить что продажи платформы **PS3** начались в **2006** и в стартовый год было продано **20 мил. копий**, пик продаж был в **2011 году**, в районе **158 млн. проданных копий**, а затем начался спад  и в итоге в **2015 году** было продано около **18 млн. копий**."
   ]
  },
  {
   "cell_type": "code",
   "execution_count": null,
   "metadata": {
    "scrolled": true
   },
   "outputs": [],
   "source": [
    "data_wii = data_platforms_top.query('platform == \"Wii\"').groupby('year_of_release').agg({'general_sales' : 'sum'})\n",
    "data_wii.plot(figsize=(10, 5), grid=True, title='Продажи платформы Wii', xlabel='Год выпуска', ylabel='Общие продажи')\n",
    "plt.show()"
   ]
  },
  {
   "cell_type": "markdown",
   "metadata": {},
   "source": [
    "По графику выше можно заметить что продажи платформы **Wii** начались в **2006** и в стартовый год было продано **140 мил. копий**, пик продаж был в **2009 году**, в районе **210 млн. проданных копий**, а затем начался спад  и в итоге в **2015 году** было продано около **1 млн. копий**."
   ]
  },
  {
   "cell_type": "code",
   "execution_count": null,
   "metadata": {
    "scrolled": true
   },
   "outputs": [],
   "source": [
    "data_x360 = data_platforms_top.query('platform == \"X360\"').groupby('year_of_release').agg({'general_sales' : 'sum'})\n",
    "data_x360.plot(figsize=(10, 5), grid=True, title='Продажи платформы X360', xlabel='Год выпуска', ylabel='Общие продажи')\n",
    "plt.show()"
   ]
  },
  {
   "cell_type": "markdown",
   "metadata": {},
   "source": [
    "По графику выше можно заметить что продажи платформы **X360** начались в **2005** и в стартовый год было продано **10 мил. копий**, пик продаж был в **2010 году**, в районе **170 млн. проданных копий**, а затем начался спад  и в итоге в **2015 году** было продано около **10 млн. копий**."
   ]
  },
  {
   "cell_type": "code",
   "execution_count": null,
   "metadata": {},
   "outputs": [],
   "source": [
    "data_ps2 = data_platforms_top.query('platform == \"PS2\"').groupby('year_of_release').agg({'general_sales' : 'sum'})\n",
    "data_ps2.plot(figsize=(10, 5), grid=True, title='Продажи платформы PS2', xlabel='Год выпуска', ylabel='Общие продажи')\n",
    "plt.show()"
   ]
  },
  {
   "cell_type": "markdown",
   "metadata": {},
   "source": [
    "По графику выше можно заметить что продажи платформы **PS2** начались раньше **2001** и в стартовый для нашего исследования год было продано **170 мил. копий**, пик продаж был в **2004 году**, в районе **210 млн. проданных копий**, а затем начался спад и в итоге в **2010 году** было продано менее **10 млн. копий**."
   ]
  },
  {
   "cell_type": "code",
   "execution_count": null,
   "metadata": {},
   "outputs": [],
   "source": [
    "top5 = [data_ds, data_ps3, data_wii, data_x360, data_ps2]\n",
    "counter = 0\n",
    "for item in top5:\n",
    "    counter += len(item)\n",
    "print(f'Средний срок жизни консоли из топ-5: {counter / len(top5)} лет')"
   ]
  },
  {
   "cell_type": "markdown",
   "metadata": {},
   "source": [
    "Так как средний срок взлёта платформы - 3-4 года при среднем цикле жизни 11 лет, для рассчёта перспектив на 2017 год мы можем считать актуальными данные с 2013 года. Далее рассмотрим продажи по платформам за актуальный период."
   ]
  },
  {
   "cell_type": "markdown",
   "metadata": {},
   "source": [
    "### Изучение продаж по платформам за актуальный период"
   ]
  },
  {
   "cell_type": "code",
   "execution_count": null,
   "metadata": {},
   "outputs": [],
   "source": [
    "data = data[data['year_of_release'] >= dt.datetime(2013, 1, 1)].reset_index(drop=True) \n",
    "#оставляем в датафрейме данные только за актуальный период"
   ]
  },
  {
   "cell_type": "code",
   "execution_count": null,
   "metadata": {},
   "outputs": [],
   "source": [
    "data['platform'].unique() #проверяем какие остались платформы"
   ]
  },
  {
   "cell_type": "markdown",
   "metadata": {},
   "source": [
    "Мы можем не рассматривать графики по платформам из топ-5, так как мы уже знаем, что к 2016 году они уже на минимальной точке, в конце спада."
   ]
  },
  {
   "cell_type": "code",
   "execution_count": null,
   "metadata": {},
   "outputs": [],
   "source": [
    "data_ps4 = data.query('platform == \"PS4\"').groupby('year_of_release').agg({'general_sales' : 'sum'})\n",
    "data_ps4.plot(figsize=(10, 5), grid=True, title='Продажи платформы PS4', xlabel='Год выпуска', ylabel='Общие продажи')\n",
    "plt.show()"
   ]
  },
  {
   "cell_type": "markdown",
   "metadata": {},
   "source": [
    "По графику можно предположить что пик платформы **PS4** уже прошёл в **2015 году**, но и в **2016** было продано **70 млн. копий**, что хоть и не близко к пиковому значению **120 млн. копий**, но и далеко от нуля, так что можно предположить что ещё несколько лет платформа будет приносить прибыль."
   ]
  },
  {
   "cell_type": "code",
   "execution_count": null,
   "metadata": {
    "scrolled": true
   },
   "outputs": [],
   "source": [
    "data_3ds = data.query('platform == \"3DS\"').groupby('year_of_release').agg({'general_sales' : 'sum'})\n",
    "data_3ds.plot(figsize=(10, 5), grid=True, title='Продажи платформы 3DS', xlabel='Год выпуска', ylabel='Общие продажи')\n",
    "plt.show()"
   ]
  },
  {
   "cell_type": "markdown",
   "metadata": {},
   "source": [
    "По графику можно предположить что пик платформы **3DS** уже прошёл до рассматриваемого нами периода, и в **2016** было продано менее **10 млн. копий**. По такому резкому спаду можно предположить что на следующий год продажи платформы сойдут на нет."
   ]
  },
  {
   "cell_type": "code",
   "execution_count": null,
   "metadata": {},
   "outputs": [],
   "source": [
    "data_xone = data.query('platform == \"XOne\"').groupby('year_of_release').agg({'general_sales' : 'sum'})\n",
    "data_xone.plot(figsize=(10, 5), grid=True, title='Продажи платформы XOne', xlabel='Год выпуска', ylabel='Общие продажи')\n",
    "plt.show()"
   ]
  },
  {
   "cell_type": "markdown",
   "metadata": {},
   "source": [
    "По графику можно предположить что пик платформы **XOne** уже прошёл в **2015 году**, а в **2016** было продано **25 млн. копий**, что хоть и не близко к пиковому значению **60 млн. копий**, но и не так близко к нулю, значит ещё пару лет платформа может приносить прибыль."
   ]
  },
  {
   "cell_type": "code",
   "execution_count": null,
   "metadata": {},
   "outputs": [],
   "source": [
    "data_wiiu = data.query('platform == \"WiiU\"').groupby('year_of_release').agg({'general_sales' : 'sum'})\n",
    "data_wiiu.plot(figsize=(10, 5), grid=True, title='Продажи платформы WiiU', xlabel='Год выпуска', ylabel='Общие продажи')\n",
    "plt.show()"
   ]
  },
  {
   "cell_type": "markdown",
   "metadata": {},
   "source": [
    "По графику можно предположить что пик платформы **WiiU** уже прошёл в **2014 году**, а в **2016** было продано менее **5 млн. копий**, и в целом общие продажи этой платформы значительно меньше продаж других платформ, поэтому можно уверенно предположить что перспектив у этой платформы нет."
   ]
  },
  {
   "cell_type": "code",
   "execution_count": null,
   "metadata": {},
   "outputs": [],
   "source": [
    "data_pc = data.query('platform == \"PC\"').groupby('year_of_release').agg({'general_sales' : 'sum'})\n",
    "data_pc.plot(figsize=(10, 5), grid=True, title='Продажи платформы PC', xlabel='Год выпуска', ylabel='Общие продажи')\n",
    "plt.show()"
   ]
  },
  {
   "cell_type": "markdown",
   "metadata": {},
   "source": [
    "По графику можно предположить что пик платформы **PC** уже прошёл в **2014 году**, а в **2016** было продано около **5.5 млн. копий**, и в целом общие продажи этой платформы значительно меньше продаж других платформ, поэтому можно уверенно предположить что перспектив у этой платформы нет."
   ]
  },
  {
   "cell_type": "code",
   "execution_count": null,
   "metadata": {},
   "outputs": [],
   "source": [
    "data_psv = data.query('platform == \"PSV\"').groupby('year_of_release').agg({'general_sales' : 'sum'})\n",
    "data_psv.plot(figsize=(10, 5), grid=True, title='Продажи платформы PSV', xlabel='Год выпуска', ylabel='Общие продажи')\n",
    "plt.show()"
   ]
  },
  {
   "cell_type": "markdown",
   "metadata": {},
   "source": [
    "По графику можно предположить что пик платформы **PSV** уже прошёл в **2014 году**, а в **2016** было продано около **4.5 млн. копий**, и в целом общие продажи этой платформы значительно меньше продаж других платформ, поэтому можно уверенно предположить что перспектив у этой платформы нет."
   ]
  },
  {
   "cell_type": "code",
   "execution_count": null,
   "metadata": {
    "scrolled": true
   },
   "outputs": [],
   "source": [
    "data_psp = data.query('platform == \"PSP\"').groupby('year_of_release').agg({'general_sales' : 'sum'})\n",
    "data_psp.plot(figsize=(10, 5), grid=True, title='Продажи платформы PSP', xlabel='Год выпуска', ylabel='Общие продажи')\n",
    "plt.show()"
   ]
  },
  {
   "cell_type": "markdown",
   "metadata": {},
   "source": [
    "По графику можно предположить что пик платформы **PSP** уже прошёл задолго до исследуемого нами периода, а в **2016** не было продано ни одной копии, и в целом общие продажи этой платформы значительно меньше продаж других платформ, поэтому можно уверенно предположить что перспектив у этой платформы нет."
   ]
  },
  {
   "cell_type": "code",
   "execution_count": null,
   "metadata": {
    "scrolled": true
   },
   "outputs": [],
   "source": [
    "data.boxplot(column='general_sales', by='platform', figsize=(20, 15))\n",
    "#строим диаграмму размаха для глобальных продаж в разбивке по платформам\n",
    "plt.ylim(0, 10)\n",
    "plt.title('Глобальные продажи игр в разбивке по платформам')\n",
    "plt.xlabel('Платформа')\n",
    "plt.ylabel('Глобальные продажи')\n",
    "plt.show()\n",
    "data.groupby('platform').agg('general_sales').describe()"
   ]
  },
  {
   "cell_type": "markdown",
   "metadata": {},
   "source": [
    "Наличие выбросов значительно дальше среднего значения скорее всего говорит нам о топовых проектах, ставших хитами и вполне возможно эксклюзивами на данных платформах. Такие случаи наблюдаются на платформе **PS4**. По графикам выше можно сделать вывод что перспективы в ближайший года есть у **PS4  и в меньшей степени у XOne**."
   ]
  },
  {
   "cell_type": "markdown",
   "metadata": {},
   "source": [
    "<div class=\"alert alert-block alert-danger\">\n",
    "<h2> Комментарий ревьюера V1<a class=\"tocSkip\"></h2>\n",
    "\n",
    "\n",
    "<b>На доработку🤔:</b>\n",
    "Скорректируй вывод после изменения актуального периода."
   ]
  },
  {
   "cell_type": "markdown",
   "metadata": {},
   "source": [
    "### Изучение влияния отзывов критиков и пользователей на продажи на примере платформы PS3"
   ]
  },
  {
   "cell_type": "markdown",
   "metadata": {},
   "source": [
    "Для локального исследования выберем платформу PS3 и исследуем как на игроков на этой платформе влияют отзывы критиков и пользователей."
   ]
  },
  {
   "cell_type": "code",
   "execution_count": null,
   "metadata": {
    "scrolled": true
   },
   "outputs": [],
   "source": [
    "data_scores_ps3 = data[data['platform'] == 'PS3'].groupby('name').agg({'critic_score' : 'mean', 'user_score' : 'mean', 'general_sales' : 'sum'})\n",
    "#группируем данные для платформы PS3 по имени проекта и выбираем нужные нам столбцы"
   ]
  },
  {
   "cell_type": "code",
   "execution_count": null,
   "metadata": {
    "scrolled": true
   },
   "outputs": [],
   "source": [
    "data_scores_ps3.plot(x='critic_score', y='general_sales', kind='scatter', title='Зависимость продаж от оценки критиков')\n",
    "#строим диаграмму рассеяния зависимости продаж от оценки критиков\n",
    "plt.xlabel('Оценка критиков')\n",
    "plt.ylabel('Общие продажи')\n",
    "plt.show()"
   ]
  },
  {
   "cell_type": "code",
   "execution_count": null,
   "metadata": {
    "scrolled": true
   },
   "outputs": [],
   "source": [
    "data_scores_ps3['general_sales'].corr(data_scores_ps3['critic_score']) #рассчитываем корреляцию между этими величинами"
   ]
  },
  {
   "cell_type": "code",
   "execution_count": null,
   "metadata": {
    "scrolled": true
   },
   "outputs": [],
   "source": [
    "data_scores_ps3.plot(x='user_score', y='general_sales', kind='scatter', title='Зависимость продаж от оценки пользователей')\n",
    "#строим диаграмму рассеяния зависимости продаж от оценки пользователей\n",
    "plt.xlabel('Оценка пользователей')\n",
    "plt.ylabel('Общие продажи')\n",
    "plt.show()"
   ]
  },
  {
   "cell_type": "code",
   "execution_count": null,
   "metadata": {},
   "outputs": [],
   "source": [
    "data_scores_ps3['general_sales'].corr(data_scores_ps3['user_score']) #рассчитываем корреляцию между этими величинами"
   ]
  },
  {
   "cell_type": "markdown",
   "metadata": {},
   "source": [
    "По диаграммам рассеяния и подсчётам корреляций можно сделать вывод, что зависимость продаж от оценки критиков **прямая и не слабая**, с коэффициентом корреляции приблизительно равным **0.33**, а зависимость продаж от оценки пользователей **прямая но крайне слабая**, с коэффициентом корреляции приблизительно равным **0.024**, а значит отзывы критиков влияют на решения пользователей значительно больше чем другие пользователи."
   ]
  },
  {
   "cell_type": "markdown",
   "metadata": {},
   "source": [
    "### Изучение влияния отзывов критиков и пользователей на продажи на примере платформы X360"
   ]
  },
  {
   "cell_type": "code",
   "execution_count": null,
   "metadata": {},
   "outputs": [],
   "source": [
    "data_scores_x360 = data[data['platform'] == 'X360'].groupby('name').agg({'critic_score' : 'mean', 'user_score' : 'mean', 'general_sales' : 'sum'})\n",
    "#группируем данные для платформы X360 по имени проекта и выбираем нужные нам столбцы"
   ]
  },
  {
   "cell_type": "code",
   "execution_count": null,
   "metadata": {},
   "outputs": [],
   "source": [
    "data_scores_x360.plot(x='critic_score', y='general_sales', kind='scatter', title='Зависимость продаж от оценки критиков')\n",
    "#строим диаграмму рассеяния зависимости продаж от оценки критиков\n",
    "plt.xlabel('Оценка критиков')\n",
    "plt.ylabel('Общие продажи')\n",
    "plt.show()"
   ]
  },
  {
   "cell_type": "code",
   "execution_count": null,
   "metadata": {},
   "outputs": [],
   "source": [
    "data_scores_x360['general_sales'].corr(data_scores_x360['critic_score']) #рассчитываем корреляцию между этими величинами"
   ]
  },
  {
   "cell_type": "code",
   "execution_count": null,
   "metadata": {},
   "outputs": [],
   "source": [
    "data_scores_x360.plot(x='user_score', y='general_sales', kind='scatter', title='Зависимость продаж от оценки пользователей')\n",
    "#строим диаграмму рассеяния зависимости продаж от оценки пользователей\n",
    "plt.xlabel('Оценка пользователей')\n",
    "plt.ylabel('Общие продажи')\n",
    "plt.show()"
   ]
  },
  {
   "cell_type": "code",
   "execution_count": null,
   "metadata": {},
   "outputs": [],
   "source": [
    "data_scores_x360['general_sales'].corr(data_scores_x360['user_score']) #рассчитываем корреляцию между этими величинами"
   ]
  },
  {
   "cell_type": "markdown",
   "metadata": {},
   "source": [
    "По диаграммам рассеяния и подсчётам корреляций можно сделать вывод, что зависимость продаж от оценки критиков **прямая и не слабая**, с коэффициентом корреляции приблизительно равным **0.35**, а зависимость продаж от оценки пользователей **обратная но крайне слабая**, с коэффициентом корреляции приблизительно равным **-0.012**, а значит отзывы критиков влияют на решения пользователей значительно больше чем другие пользователи."
   ]
  },
  {
   "cell_type": "markdown",
   "metadata": {},
   "source": [
    "### Изучение влияния отзывов критиков и пользователей на продажи на примере платформы DS"
   ]
  },
  {
   "cell_type": "code",
   "execution_count": null,
   "metadata": {},
   "outputs": [],
   "source": [
    "data_scores_pc = data[data['platform'] == 'PC'].groupby('name').agg({'critic_score' : 'mean', 'user_score' : 'mean', 'general_sales' : 'sum'})\n",
    "#группируем данные для платформы PC по имени проекта и выбираем нужные нам столбцы"
   ]
  },
  {
   "cell_type": "code",
   "execution_count": null,
   "metadata": {},
   "outputs": [],
   "source": [
    "data_scores_pc.plot(x='critic_score', y='general_sales', kind='scatter', title='Зависимость продаж от оценки критиков')\n",
    "#строим диаграмму рассеяния зависимости продаж от оценки критиков\n",
    "plt.xlabel('Оценка критиков')\n",
    "plt.ylabel('Общие продажи')\n",
    "plt.show()"
   ]
  },
  {
   "cell_type": "code",
   "execution_count": null,
   "metadata": {},
   "outputs": [],
   "source": [
    "data_scores_pc['general_sales'].corr(data_scores_pc['critic_score']) #рассчитываем корреляцию между этими величинами"
   ]
  },
  {
   "cell_type": "code",
   "execution_count": null,
   "metadata": {},
   "outputs": [],
   "source": [
    "data_scores_pc.plot(x='user_score', y='general_sales', kind='scatter', title='Зависимость продаж от оценки пользователей')\n",
    "#строим диаграмму рассеяния зависимости продаж от оценки пользователей\n",
    "plt.xlabel('Оценка пользователей')\n",
    "plt.ylabel('Общие продажи')\n",
    "plt.show()"
   ]
  },
  {
   "cell_type": "code",
   "execution_count": null,
   "metadata": {},
   "outputs": [],
   "source": [
    "data_scores_pc['general_sales'].corr(data_scores_pc['user_score']) #рассчитываем корреляцию между этими величинами"
   ]
  },
  {
   "cell_type": "markdown",
   "metadata": {},
   "source": [
    "По диаграммам рассеяния и подсчётам корреляций можно сделать вывод, что зависимость продаж от оценки критиков **прямая и не слабая**, с коэффициентом корреляции приблизительно равным **0.2**, а зависимость продаж от оценки пользователей **обратная но крайне слабая**, с коэффициентом корреляции приблизительно равным **-0.094**, а значит отзывы критиков влияют на решения пользователей значительно больше чем другие пользователи."
   ]
  },
  {
   "cell_type": "markdown",
   "metadata": {},
   "source": [
    "Рассмотрев данные средних оценок и общих продаж для трёх разных платформ от трёх разных производителей можно заметить что гипотеза о сильной зависимости продаж от оценок критиков по большей части подтверждается, а вот оценки пользователей не имеют серьёзного влияния на продажи."
   ]
  },
  {
   "cell_type": "markdown",
   "metadata": {},
   "source": [
    "### Изучение распределения игр по жанрам"
   ]
  },
  {
   "cell_type": "code",
   "execution_count": null,
   "metadata": {
    "scrolled": true
   },
   "outputs": [],
   "source": [
    "plt.figure(figsize=(15,5))\n",
    "plt.bar(data['genre'], data['general_sales']) #строим столбчатую диаграмму для продаж по жанрам\n",
    "plt.title('Продажи по жанрам')\n",
    "plt.xlabel('Жанры')\n",
    "plt.ylabel('Продажи')\n",
    "plt.show()"
   ]
  },
  {
   "cell_type": "code",
   "execution_count": null,
   "metadata": {},
   "outputs": [],
   "source": [
    "data_genre_pivot = data.groupby('genre').agg({'name' : 'count'}).sort_values(by='name', ascending=False)\n",
    "data_genre_pivot.plot(kind='bar', title='Количество проектов по жанрам', xlabel='Жанры', ylabel='Количество игр', figsize=(15,5))\n",
    "plt.show()"
   ]
  },
  {
   "cell_type": "code",
   "execution_count": null,
   "metadata": {},
   "outputs": [],
   "source": [
    "data_genre_mean = data.groupby('genre').agg({'general_sales' : 'mean'}).sort_values(by='general_sales', ascending=False)\n",
    "data_genre_mean.plot(kind='bar', title='Средние продажи по жанрам', xlabel='Жанры', ylabel='Средние продажи', figsize=(15,5))\n",
    "plt.show()"
   ]
  },
  {
   "cell_type": "code",
   "execution_count": null,
   "metadata": {},
   "outputs": [],
   "source": [
    "data_genre_median = data.groupby('genre').agg({'general_sales' : 'median'}).sort_values(by='general_sales', ascending=False)\n",
    "data_genre_median.plot(kind='bar', title='Медианные продажи по жанрам', xlabel='Жанры', ylabel='Медианные продажи', figsize=(15,5))\n",
    "plt.show()"
   ]
  },
  {
   "cell_type": "markdown",
   "metadata": {},
   "source": [
    "Проанализировав количество общих продаж по жанрам мы увидели что большее число общих продаж приходится на жанр **Action**, а наименьшее - **Strategy, Adventure, Puzzle**. Проанализировав количество игр по жанрам мы увидели что наибольшее количество игр из наших данных приходится на жанр **Action**, наименьшее - на жанр **Puzzle**. Изучив средние и медианные продажи мы можем отметить что соотношение между жанрами почти одинаковое при рассмотрении этих значений, только медианные значения ожидаемо ниже средних, так как мы уже знаем что есть выбросы, связанные с проектами-бестселлерами и неудачными проектами. Тут мы также можем отметить что наибольшие средние и медианные продажи приходятся на жанр **Shooter**, наименьшие - на жанр **Adventure**. "
   ]
  },
  {
   "cell_type": "markdown",
   "metadata": {},
   "source": [
    "### Промежуточный вывод\n",
    "В ходе этого шага исследования мы:\n",
    "- рассмотрели количество игр, выпущенных за разные годы и отсекли неактуальные данные, оставив только данные с **2001 года**, так как они не такие устаревшие и более объёмные;\n",
    "- рассмотрели как менялись продажи по платформам. Выбрали платформы с наибольшими суммарными продажами и построили распределения по годам. Определили средний цикл активного существования платформы в **11 лет**;\n",
    "- так как средний срок взлёта платформы - 3-4 года при среднем цикле жизни 11 лет, для рассчёта перспектив на 2017 год мы определили актуальными данные с 2013 года;\n",
    "- определили платформы, лидирующие по продажам - **PS2, X360, Wii, PS3, DS**;\n",
    "- рассмотрели влияние отзывов критиков и пользователей на продажи для платформы **PS3** и определили, что зависимость продаж от оценки критиков **прямая и достаточно сильная**, с коэффициентом корреляции приблизительно равным **0.33**, а зависимость продаж от оценки пользователей **прямая но очень слабая**, с коэффициентом корреляции приблизительно равным **0.024**, а значит отзывы критиков влияют на решения пользователей значительно больше чем другие пользователи;\n",
    "- рассмотрели влияние отзывов критиков и пользователей на продажи платформы **X360** и определили, что зависимость продаж от оценки критиков **прямая и не слабая**, с коэффициентом корреляции приблизительно равным **0.35**, а зависимость продаж от оценки пользователей **обратная но крайне слабая**, с коэффициентом корреляции приблизительно равным **-0.012**, а значит отзывы критиков влияют на решения пользователей значительно больше чем другие пользователи;\n",
    "- рассмотрели влияние отзывов критиков и пользователей на продажи платформы **DS** и определили, что зависимость продаж от оценки критиков **прямая и не слабая**, с коэффициентом корреляции приблизительно равным **0.2**, а зависимость продаж от оценки пользователей **обратная но крайне слабая**, с коэффициентом корреляции приблизительно равным **-0.094**, а значит отзывы критиков влияют на решения пользователей значительно больше чем другие пользователи;\n",
    "- проанализировали количество общих продаж по жанрам и увидели, что большее число общих продаж приходится на жанр **Action**, а наименьшее - **Strategy, Adventure, Puzzle**;\n",
    "- проанализировали количество игр по жанрам и увидели что наибольшее количество игр из наших данных приходится на жанр **Action**, наименьшее - на жанр **Puzzle**;\n",
    "- изучили средние и медианные продажи и можем отметить что соотношение между жанрами почти одинаковое при рассмотрении этих значений, только медианные значения ожидаемо ниже средних, так как мы уже знаем что есть выбросы, связанные с проектами-бестселлерами и неудачными проектами. Тут мы также можем отметить что наибольшие средние и медианные продажи приходятся на жанр **Shooter**, наименьшие - на жанр **Adventure**. "
   ]
  },
  {
   "cell_type": "markdown",
   "metadata": {},
   "source": [
    "## Портрет пользователя каждого региона"
   ]
  },
  {
   "cell_type": "markdown",
   "metadata": {},
   "source": [
    "### Поиск самых популярных платформ для пользователей каждого региона"
   ]
  },
  {
   "cell_type": "code",
   "execution_count": null,
   "metadata": {},
   "outputs": [],
   "source": [
    "data_na = data.groupby('platform').agg({'na_sales' : 'sum'}).sort_values(by='na_sales').tail()\n",
    "#находим 5 самых популярных платформ для пользователей NA\n",
    "data_na"
   ]
  },
  {
   "cell_type": "code",
   "execution_count": null,
   "metadata": {},
   "outputs": [],
   "source": [
    "data_eu = data.groupby('platform').agg({'eu_sales' : 'sum'}).sort_values(by='eu_sales').tail()\n",
    "#находим 5 самых популярных платформ для пользователей EU\n",
    "data_eu"
   ]
  },
  {
   "cell_type": "code",
   "execution_count": null,
   "metadata": {},
   "outputs": [],
   "source": [
    "data_jp = data.groupby('platform').agg({'jp_sales' : 'sum'}).sort_values(by='jp_sales').tail()\n",
    "#находим 5 самых популярных платформ для пользователей JP\n",
    "data_jp"
   ]
  },
  {
   "cell_type": "code",
   "execution_count": null,
   "metadata": {},
   "outputs": [],
   "source": [
    "plt.figure(figsize=(12, 7))\n",
    "plt.subplot(2, 2, 1)\n",
    "plt.plot(data_na)\n",
    "plt.title('Топ-5 платформ NA')\n",
    "plt.subplot(2, 2, 2)\n",
    "plt.plot(data_eu)\n",
    "plt.title('Топ-5 платформ EU')\n",
    "plt.subplot(2, 2, 3)\n",
    "plt.plot(data_jp)\n",
    "plt.title('Топ-5 платформ JP')\n",
    "plt.show()"
   ]
  },
  {
   "cell_type": "markdown",
   "metadata": {},
   "source": [
    "Самые популярные платформы для пользователей NA (от меньших продаж к большим) - **3DS, PS3, X360, XOne, PS4**, для пользователей EU - **3DS, X360, XOne, PS3, PS4**, для пользователей JP - **WiiU, PS4, PSV, PS3, 3DS**. У пользователей NA и EU это одни и те же платформы, только в разном порядке (хотя самая популярная и менее популярная в топах сохраняются), а у JP вместо X360 и XOne появляются PSV и WiiU. 3DS, PS3, PS4 популярны во всех регионах."
   ]
  },
  {
   "cell_type": "markdown",
   "metadata": {},
   "source": [
    "### Поиск самых популярных жанров для пользователей каждого региона"
   ]
  },
  {
   "cell_type": "code",
   "execution_count": null,
   "metadata": {},
   "outputs": [],
   "source": [
    "genre_na = data.groupby('genre').agg({'na_sales' : 'sum'}).sort_values(by='na_sales').tail()\n",
    "#находим 5 самых популярных жанров для пользователей NA\n",
    "genre_na"
   ]
  },
  {
   "cell_type": "code",
   "execution_count": null,
   "metadata": {},
   "outputs": [],
   "source": [
    "genre_eu = data.groupby('genre').agg({'eu_sales' : 'sum'}).sort_values(by='eu_sales').tail()\n",
    "#находим 5 самых популярных жанров для пользователей EU\n",
    "genre_eu"
   ]
  },
  {
   "cell_type": "code",
   "execution_count": null,
   "metadata": {},
   "outputs": [],
   "source": [
    "genre_jp = data.groupby('genre').agg({'jp_sales' : 'sum'}).sort_values(by='jp_sales').tail()\n",
    "#находим 5 самых популярных жанров для пользователей JP\n",
    "genre_jp"
   ]
  },
  {
   "cell_type": "code",
   "execution_count": null,
   "metadata": {},
   "outputs": [],
   "source": [
    "plt.figure(figsize=(12, 7))\n",
    "plt.subplot(2, 2, 1)\n",
    "plt.plot(genre_na)\n",
    "plt.title('Топ-5 жанров NA')\n",
    "plt.subplot(2, 2, 2)\n",
    "plt.plot(genre_eu)\n",
    "plt.title('Топ-5 жанров EU')\n",
    "plt.subplot(2, 2, 3)\n",
    "plt.plot(genre_jp)\n",
    "plt.title('Топ-5 жанров JP')\n",
    "plt.show()"
   ]
  },
  {
   "cell_type": "markdown",
   "metadata": {},
   "source": [
    "Самые популярные жанры для пользователей NA (от меньших продаж к большим) - **Misc, Role-Playing, Sports, Shooter, Action**, для пользователей EU - **Racing, Role-Playing, Sports, Shooter, Action**, для пользователей JP - **Shooter, Fighting, Misc, Action, Role-Playing**. Для NA и EU все топовые жанры кроме наименее популярной совпадают по очерёдности, только у NA на пятом месте жанр Misc, а у EU - жанр Racing. Во всех регионах встречаются Role-Playing, Shooter и action игры на разных позициях топа, а жанр Fighting встречается только в JP."
   ]
  },
  {
   "cell_type": "markdown",
   "metadata": {},
   "source": [
    "### Поиск самых популярных  рейтингов для пользователей каждого региона"
   ]
  },
  {
   "cell_type": "code",
   "execution_count": null,
   "metadata": {},
   "outputs": [],
   "source": [
    "rating_na = data.groupby('rating').agg({'na_sales' : 'sum'}).sort_values(by='na_sales').tail()\n",
    "#находим 5 самых популярных рейтингов для пользователей NA\n",
    "rating_na"
   ]
  },
  {
   "cell_type": "code",
   "execution_count": null,
   "metadata": {},
   "outputs": [],
   "source": [
    "rating_eu = data.groupby('rating').agg({'eu_sales' : 'sum'}).sort_values(by='eu_sales').tail()\n",
    "#находим 5 самых популярных рейтингов для пользователей EU\n",
    "rating_eu"
   ]
  },
  {
   "cell_type": "code",
   "execution_count": null,
   "metadata": {},
   "outputs": [],
   "source": [
    "rating_jp = data.groupby('rating').agg({'jp_sales' : 'sum'}).sort_values(by='jp_sales').tail()\n",
    "#находим 5 самых популярных рейтингов для пользователей JP\n",
    "rating_jp"
   ]
  },
  {
   "cell_type": "code",
   "execution_count": null,
   "metadata": {},
   "outputs": [],
   "source": [
    "plt.figure(figsize=(12, 7))\n",
    "plt.subplot(2, 2, 1)\n",
    "plt.plot(rating_na)\n",
    "plt.title('Топ-5 рейтингов NA')\n",
    "plt.subplot(2, 2, 2)\n",
    "plt.plot(rating_eu)\n",
    "plt.title('Топ-5 рейтингов EU')\n",
    "plt.subplot(2, 2, 3)\n",
    "plt.plot(rating_jp)\n",
    "plt.title('Топ-5 рейтингов JP')\n",
    "plt.show()"
   ]
  },
  {
   "cell_type": "markdown",
   "metadata": {},
   "source": [
    "Самые популярные рейтинги для пользователей NA - **T, E10+, E, RP, M**, для пользователей EU - **T, E10+, RP, E, M**, для пользователей JP - **E10+, M, E, T, RP**. Для всех пользователей это одни и те же рейтинги, только в NA и EU они расположены почти в одинаковом порядке (за исключением **RP** и **E**, у обоих регионов они находятся на 2 и 3 местах но в разном порядке), а в JP больше всего проектов с ещё не определенным рейтингом (возможно это связано с высоким уровнем цензуры в стране и из-за этого большинство проектов проверяется гораздо тщательнее)."
   ]
  },
  {
   "cell_type": "markdown",
   "metadata": {},
   "source": [
    "### Промежуточный вывод\n",
    "В ходе этого шага исследования мы составили **портрет пользователя каждого региона**:\n",
    "- Для пользователей NA самыми популярными платформами оказались **3DS, PS3, X360, XOne, PS4**, жанрами -  **Misc, Role-Playing, Sports, Shooter, Action**, рейтингами - **T, E10+, E, RP, M**;\n",
    "- Для пользователей EU самыми популярными платформами оказались **3DS, X360, XOne, PS3, PS4**, жанрами -  **Racing, Role-Playing, Sports, Shooter, Action**, рейтингами - **T, E10+, RP, E, M**;\n",
    "- Для пользователей JP самыми популярными платформами оказались **WiiU, PS4, PSV, PS3, 3DS**, жанрами -  **Shooter, Fighting, Misc, Action, Role-Playing**, рейтингами - **E10+, M, E, T, RP**."
   ]
  },
  {
   "cell_type": "markdown",
   "metadata": {},
   "source": [
    "## Проверка гипотез"
   ]
  },
  {
   "cell_type": "markdown",
   "metadata": {},
   "source": [
    "### Гипотеза №1"
   ]
  },
  {
   "cell_type": "markdown",
   "metadata": {},
   "source": [
    "Определяем гипотезы:\n",
    "- Нулевая гипотеза: \"Средние пользовательские рейтинги платформ Xbox One и PC одинаковые\"\n",
    "- Альтернативная гипотеза: \"Средние пользовательские рейтинги платформ Xbox One и PC отличаются\""
   ]
  },
  {
   "cell_type": "code",
   "execution_count": null,
   "metadata": {},
   "outputs": [],
   "source": [
    "data_xone = data[data['platform'] == 'XOne'] #подготавливаем данные к анализу\n",
    "data_pc = data[data['platform'] == 'PC']"
   ]
  },
  {
   "cell_type": "code",
   "execution_count": null,
   "metadata": {},
   "outputs": [],
   "source": [
    "alpha = 0.05 #уровень статистической значимости\n",
    "\n",
    "results_h1 = st.ttest_ind(data_xone['user_score'].dropna(), data_pc['user_score'].dropna()) \n",
    "# проводим ttest для двух выборок, в качестве альтернативной используем двустороннюю гипотезу\n",
    "\n",
    "print(f'p-value: {results_h1.pvalue}')\n",
    "\n",
    "if results_h1.pvalue < alpha: # проверяем p-value\n",
    "    print('Отвергаем нулевую гипотезу')\n",
    "else:\n",
    "    print('Нет оснований отвергнуть нулевую гипотезу')"
   ]
  },
  {
   "cell_type": "markdown",
   "metadata": {},
   "source": [
    "Мы **не можем отвергнуть** гипотезу о том что cредние пользовательские рейтинги платформ Xbox One и PC одинаковые, так как значение p-value значительно больше уровня статистической значимости, значит принимаем гипотезу о том что cредние пользовательские рейтинги платформ Xbox One и PC одинаковые."
   ]
  },
  {
   "cell_type": "markdown",
   "metadata": {},
   "source": [
    "### Гипотеза №2"
   ]
  },
  {
   "cell_type": "markdown",
   "metadata": {},
   "source": [
    "Определяем гипотезы:\n",
    "- Нулевая гипотеза: \"Средние пользовательские рейтинги жанров Action (англ. «действие», экшен-игры) и Sports (англ. «спортивные соревнования») одинаковые\"\n",
    "- Альтернативная гипотеза: \"Средние пользовательские рейтинги жанров Action (англ. «действие», экшен-игры) и Sports (англ. «спортивные соревнования») разные\""
   ]
  },
  {
   "cell_type": "code",
   "execution_count": null,
   "metadata": {},
   "outputs": [],
   "source": [
    "data_action = data[data['genre'] == 'Action'] #подготавливаем данные к анализу\n",
    "data_sports = data[data['genre'] == 'Sports']"
   ]
  },
  {
   "cell_type": "code",
   "execution_count": null,
   "metadata": {},
   "outputs": [],
   "source": [
    "results_h2 = st.ttest_ind(data_action['user_score'].dropna(), data_sports['user_score'].dropna()) \n",
    "# проводим ttest для двух выборок, в качестве альтернативной используем двустороннюю гипотезу\n",
    "\n",
    "print(f'p-value: {results_h2.pvalue}')\n",
    "\n",
    "if results_h2.pvalue < alpha: # проверяем p-value\n",
    "    print('Отвергаем нулевую гипотезу')\n",
    "else:\n",
    "    print('Нет оснований отвергнуть нулевую гипотезу')"
   ]
  },
  {
   "cell_type": "markdown",
   "metadata": {},
   "source": [
    "Мы **отвергаем** нулевую гипотезу о том что cредние пользовательские рейтинги жанров Action (англ. «действие», экшен-игры) и Sports (англ. «спортивные соревнования») одинаковые,  так как значение pvalue значительно меньше уровня статистической значимости, значит можно принять гипотезу о том что средние пользовательские рейтинги жанров Action (англ. «действие», экшен-игры) и Sports (англ. «спортивные соревнования») разные."
   ]
  },
  {
   "cell_type": "markdown",
   "metadata": {},
   "source": [
    "### Промежуточный вывод\n",
    "В ходе этого шага мы формулировали и проверяли гипотезы:\n",
    "- гипотеза о том что средние пользовательские рейтинги платформ Xbox One и PC одинаковые (составили нулевую и альтернативную гипотезу как: Нулевая гипотеза: \"Средние пользовательские рейтинги платформ Xbox One и PC одинаковые\", Альтернативная гипотеза: \"Средние пользовательские рейтинги платформ Xbox One и PC отличаются\". Они были определены именно так потому что нулевая гипотеза всегда декларирует равенство, а альтернативная - неравенство. Так как в гипотезе не было требования проверить что какие-то из пользовательских рейтингов больше/меньше, а нужно было лишь проверить на наличие отличий - мы использовали двустороннюю гипотезу. Так как мы проверяли средние значение двух генеральных совокупностей, мы использовали `ttest_ind`). Мы **не смогли отвергнуть** гипотезу о том что cредние пользовательские рейтинги платформ Xbox One и PC одинаковые, так как значение p-value значительно больше уровня статистической значимости, поэтому приняли гипотезу о том что cредние пользовательские рейтинги платформ Xbox One и PC одинаковые;\n",
    "- гипотеза о том что средние пользовательские рейтинги жанров Action (англ. «действие», экшен-игры) и Sports (англ. «спортивные соревнования») одинаковые (составили нулевую и альтернативную гипотезу как: Нулевая гипотеза: \"Средние пользовательские рейтинги жанров Action (англ. «действие», экшен-игры) и Sports (англ. «спортивные соревнования») одинаковые\", Альтернативная гипотеза: \"Средние пользовательские рейтинги жанров Action (англ. «действие», экшен-игры) и Sports (англ. «спортивные соревнования») разные\". Они были определены именно так потому что нулевая гипотеза всегда декларирует равенство, а альтернативная - неравенство. Так как в гипотезе не было требования проверить что какие-то из пользовательских рейтингов больше/меньше, а нужно было лишь проверить на наличие отличий - мы использовали двустороннюю гипотезу. Так как мы проверяли средние значение двух генеральных совокупностей, мы использовали `ttest_ind`). Мы **отвергли** нулевую гипотезу о том что cредние пользовательские рейтинги жанров Action (англ. «действие», экшен-игры) и Sports (англ. «спортивные соревнования») одинаковые,  так как значение pvalue значительно меньше уровня статистической значимости, поэтому приняли гипотезу о том что средние пользовательские рейтинги жанров Action (англ. «действие», экшен-игры) и Sports (англ. «спортивные соревнования») разные."
   ]
  },
  {
   "cell_type": "markdown",
   "metadata": {},
   "source": [
    "## Общий вывод\n",
    "В ходе данного исследования мы выполнили следующие шаги:\n",
    "- **Изучение исходных данных**: считали исходные данные из файла и сохранили их в датафрейм. Изучив их - соотнесли их с заданным **описанием данных**: Name — название игры, формат `object`, Platform — платформа, формат `object`, Year_of_Release — год выпуска, формат `float64`, Genre — жанр игры, формат `object`, NA_sales — продажи в Северной Америке (миллионы проданных копий), формат `float64`, EU_sales — продажи в Европе (миллионы проданных копий), формат `float64`, JP_sales — продажи в Японии (миллионы проданных копий), формат `float64`, Other_sales — продажи в других странах (миллионы проданных копий), формат `float64`, Critic_Score — оценка критиков (максимум 100), формат `float64`, User_Score — оценка пользователей (максимум 10), формат `object`, Rating — рейтинг от организации ESRB (англ. Entertainment Software Rating Board). Эта ассоциация определяет рейтинг компьютерных игр и присваивает им подходящую возрастную категорию, формат `object`;\n",
    "- **Предобработка данных**: предобработали данные следующим образом: привели названия всех столбцов к нижнему регистру для удобства работы с данными; проверили данные на наличие пропусков и нашли их в столбцах 'name' - **2 пропуска**, 'year_of_release' - **269 пропусков**, 'genre' - **2 пропуска**, 'critic_score' - **8578 пропусков**, 'user_score' - **6701 пропуск**, 'rating' - **6766 пропусков**, дубдикатов найдено не было; в столбцах **'name', 'year_of_release' и 'genre'** пропуски просто удалили, так как их очень мало относительно общего объёма данных, и при этом данные из этих столбцов очень важны для дальнейшего исследования и пропуски в них будет сложно чем-то заменить или оставить с пропусками. Скорее всего пропуски в этих столбцах вызваны человеческим фактором; в столбце **'user_score'** встречалось значение 'tbd'. Это сокращение означает \"подлежит уточнению\", то есть конкретную оценку этой игре пользователи ещё не выставили или отзывов ещё слишком мало для подсчёта оценки. Поэтому было принято решение заменить эти значения на NaN; в столбцах **'user_score' и 'critic_score'** пропуски оставили без изменений, так как их слишком много чтобы удалять а логичной замены найдено не было; в столбце **'rating'** пропуски заменили на значение 'RP', так как именно этот рейтинг расшифровывается как \"Rating Pending\" (рейтинг на рассмотрении), так как можно предположить что пропуски в данных обусловлены именно тем, что рейтинг игре ещё не назначен; заменили типы данных где это было необходимо (в столбце **year_of_release** - на 'datetime', так как это значение даты; в столбцах **'na_sales', 'eu_sales', 'jp_sales', 'other_sales'**, **'critic_score'** с float64 на floar32 для экономии вычислительной памяти; в столбце **'user_score'** с object на float32 так как значения в этом столбце численные); создали столбец с общими продажами для каждой игры во всех регионах;\n",
    "- **Исследовательский анализ данных**: рассмотрели количество игр, выпущенных за разные годы и отсекли неактуальные данные, оставив только данные с **2001 года**, так как они не такие устаревшие и более объёмные; рассмотрели как менялись продажи по платформам. Выбрали платформы с наибольшими суммарными продажами и построили распределения по годам. Определили средний цикл активного существования платформы в **11 лет**; так как средний срок взлёта платформы - 3-4 года при среднем цикле жизни 11 лет, для рассчёта перспектив на 2017 год мы определили актуальными данные с 2013 года; определили платформы, лидирующие по продажам - **PS2, X360, Wii, PS3, DS**; рассмотрели влияние отзывов критиков и пользователей на продажи для платформы **PS3** и определили, что зависимость продаж от оценки критиков **прямая и достаточно сильная**, с коэффициентом корреляции приблизительно равным **0.33**, а зависимость продаж от оценки пользователей **прямая но очень слабая**, с коэффициентом корреляции приблизительно равным **0.024**, а значит отзывы критиков влияют на решения пользователей значительно больше чем другие пользователи; рассмотрели влияние отзывов критиков и пользователей на продажи платформы **X360** и определили, что зависимость продаж от оценки критиков **прямая и не слабая**, с коэффициентом корреляции приблизительно равным **0.35**, а зависимость продаж от оценки пользователей **обратная но крайне слабая**, с коэффициентом корреляции приблизительно равным **-0.012**, а значит отзывы критиков влияют на решения пользователей значительно больше чем другие пользователи; рассмотрели влияние отзывов критиков и пользователей на продажи платформы **DS** и определили, что зависимость продаж от оценки критиков **прямая и не слабая**, с коэффициентом корреляции приблизительно равным **0.2**, а зависимость продаж от оценки пользователей **обратная но крайне слабая**, с коэффициентом корреляции приблизительно равным **-0.094**, а значит отзывы критиков влияют на решения пользователей значительно больше чем другие пользователи; проанализировали количество общих продаж по жанрам и увидели, что большее число общих продаж приходится на жанр **Action**, а наименьшее - **Strategy, Adventure, Puzzle**; проанализировали количество игр по жанрам и увидели что наибольшее количество игр из наших данных приходится на жанр **Action**, наименьшее - на жанр **Puzzle**; изучили средние и медианные продажи и можем отметить что соотношение между жанрами почти одинаковое при рассмотрении этих значений, только медианные значения ожидаемо ниже средних, так как мы уже знаем что есть выбросы, связанные с проектами-бестселлерами и неудачными проектами. Тут мы также можем отметить что наибольшие средние и медианные продажи приходятся на жанр **Shooter**, наименьшие - на жанр **Adventure**;\n",
    "- **Составление портрета пользователя**: составили **портрет пользователя каждого региона**: для пользователей NA самыми популярными платформами оказались **3DS, PS3, X360, XOne, PS4**, жанрами -  **Misc, Role-Playing, Sports, Shooter, Action**, рейтингами - **T, E10+, E, RP, M**; для пользователей EU самыми популярными платформами оказались **3DS, X360, XOne, PS3, PS4**, жанрами -  **Racing, Role-Playing, Sports, Shooter, Action**, рейтингами - **T, E10+, RP, E, M**; для пользователей JP самыми популярными платформами оказались **WiiU, PS4, PSV, PS3, 3DS**, жанрами -  **Shooter, Fighting, Misc, Action, Role-Playing**, рейтингами - **E10+, M, E, T, RP**;\n",
    "- **Проверка гипотез**: формулировали и проверяли гипотезы: гипотеза о том что средние пользовательские рейтинги платформ Xbox One и PC одинаковые (составили нулевую и альтернативную гипотезу как: Нулевая гипотеза: \"Средние пользовательские рейтинги платформ Xbox One и PC одинаковые\", Альтернативная гипотеза: \"Средние пользовательские рейтинги платформ Xbox One и PC отличаются\". Они были определены именно так потому что нулевая гипотеза всегда декларирует равенство, а альтернативная - неравенство. Так как в гипотезе не было требования проверить что какие-то из пользовательских рейтингов больше/меньше, а нужно было лишь проверить на наличие отличий - мы использовали двустороннюю гипотезу. Так как мы проверяли средние значение двух генеральных совокупностей, мы использовали `ttest_ind`). Мы **не смогли отвергнуть** гипотезу о том что cредние пользовательские рейтинги платформ Xbox One и PC одинаковые, так как значение p-value значительно больше уровня статистической значимости, поэтому приняли гипотезу о том что cредние пользовательские рейтинги платформ Xbox One и PC одинаковые; гипотеза о том что средние пользовательские рейтинги жанров Action (англ. «действие», экшен-игры) и Sports (англ. «спортивные соревнования») одинаковые (составили нулевую и альтернативную гипотезу как: Нулевая гипотеза: \"Средние пользовательские рейтинги жанров Action (англ. «действие», экшен-игры) и Sports (англ. «спортивные соревнования») одинаковые\", Альтернативная гипотеза: \"Средние пользовательские рейтинги жанров Action (англ. «действие», экшен-игры) и Sports (англ. «спортивные соревнования») разные\". Они были определены именно так потому что нулевая гипотеза всегда декларирует равенство, а альтернативная - неравенство. Так как в гипотезе не было требования проверить что какие-то из пользовательских рейтингов больше/меньше, а нужно было лишь проверить на наличие отличий - мы использовали двустороннюю гипотезу. Так как мы проверяли средние значение двух генеральных совокупностей, мы использовали `ttest_ind`). Мы **отвергли** нулевую гипотезу о том что cредние пользовательские рейтинги жанров Action (англ. «действие», экшен-игры) и Sports (англ. «спортивные соревнования») одинаковые,  так как значение pvalue значительно меньше уровня статистической значимости, поэтому приняли гипотезу о том что средние пользовательские рейтинги жанров Action (англ. «действие», экшен-игры) и Sports (англ. «спортивные соревнования») разные.\n",
    "\n",
    "**Возможные последующие шаги**: Было бы хорошо отдельно проанализировать консоли разных типов (стационарные и портативные), так как у них должны быть абсолютно разные продажи и т.д. а также консоли разных производителей (Sony, Microsoft, Nintendo и т.д.). Также можно проанализировать соотношение продаж по жанрам к соотношению оценок пользователей по жанрам, чтобы понять какие данные более репрезентативны. Также по рейтингу можно определить средний минимальный возраст игрока для каждого жанра."
   ]
  }
 ],
 "metadata": {
  "ExecuteTimeLog": [
   {
    "duration": 410,
    "start_time": "2023-08-28T11:58:16.367Z"
   },
   {
    "duration": 182,
    "start_time": "2023-08-28T11:58:52.226Z"
   },
   {
    "duration": 15,
    "start_time": "2023-08-28T11:58:58.425Z"
   },
   {
    "duration": 20,
    "start_time": "2023-08-28T11:59:06.491Z"
   },
   {
    "duration": 2,
    "start_time": "2023-08-28T12:12:50.626Z"
   },
   {
    "duration": 52,
    "start_time": "2023-08-28T12:12:52.589Z"
   },
   {
    "duration": 14,
    "start_time": "2023-08-28T12:12:52.741Z"
   },
   {
    "duration": 15,
    "start_time": "2023-08-28T12:12:52.937Z"
   },
   {
    "duration": 5,
    "start_time": "2023-08-28T12:13:33.898Z"
   },
   {
    "duration": 61,
    "start_time": "2023-08-28T12:13:37.610Z"
   },
   {
    "duration": 10,
    "start_time": "2023-08-28T12:13:55.134Z"
   },
   {
    "duration": 3,
    "start_time": "2023-08-28T12:14:01.466Z"
   },
   {
    "duration": 4,
    "start_time": "2023-08-28T12:14:08.266Z"
   },
   {
    "duration": 11,
    "start_time": "2023-08-28T12:14:13.979Z"
   },
   {
    "duration": 4,
    "start_time": "2023-08-28T12:14:14.197Z"
   },
   {
    "duration": 9,
    "start_time": "2023-08-28T12:14:25.682Z"
   },
   {
    "duration": 4,
    "start_time": "2023-08-28T12:14:26.405Z"
   },
   {
    "duration": 15,
    "start_time": "2023-08-28T12:14:29.625Z"
   },
   {
    "duration": 8,
    "start_time": "2023-08-28T12:14:36.450Z"
   },
   {
    "duration": 3,
    "start_time": "2023-08-28T12:14:40.417Z"
   },
   {
    "duration": 49,
    "start_time": "2023-08-28T12:14:40.716Z"
   },
   {
    "duration": 15,
    "start_time": "2023-08-28T12:14:40.857Z"
   },
   {
    "duration": 13,
    "start_time": "2023-08-28T12:14:40.980Z"
   },
   {
    "duration": 3,
    "start_time": "2023-08-28T12:14:41.770Z"
   },
   {
    "duration": 4,
    "start_time": "2023-08-28T12:14:44.143Z"
   },
   {
    "duration": 10,
    "start_time": "2023-08-28T12:18:35.689Z"
   },
   {
    "duration": 10,
    "start_time": "2023-08-28T12:18:49.333Z"
   },
   {
    "duration": 14,
    "start_time": "2023-08-28T12:19:02.628Z"
   },
   {
    "duration": 7,
    "start_time": "2023-08-28T12:19:16.492Z"
   },
   {
    "duration": 16,
    "start_time": "2023-08-28T12:19:17.469Z"
   },
   {
    "duration": 6,
    "start_time": "2023-08-28T12:19:25.515Z"
   },
   {
    "duration": 15,
    "start_time": "2023-08-28T12:19:26.639Z"
   },
   {
    "duration": 52,
    "start_time": "2023-08-28T12:19:44.315Z"
   },
   {
    "duration": 15,
    "start_time": "2023-08-28T12:19:52.921Z"
   },
   {
    "duration": 4,
    "start_time": "2023-08-28T12:20:30.499Z"
   },
   {
    "duration": 22,
    "start_time": "2023-08-28T12:20:31.088Z"
   },
   {
    "duration": 3,
    "start_time": "2023-08-28T12:20:38.176Z"
   },
   {
    "duration": 5,
    "start_time": "2023-08-28T12:20:38.514Z"
   },
   {
    "duration": 5,
    "start_time": "2023-08-28T12:20:38.998Z"
   },
   {
    "duration": 5,
    "start_time": "2023-08-28T12:20:39.402Z"
   },
   {
    "duration": 15,
    "start_time": "2023-08-28T12:20:39.908Z"
   },
   {
    "duration": 14,
    "start_time": "2023-08-28T12:20:48.248Z"
   },
   {
    "duration": 5,
    "start_time": "2023-08-28T12:20:54.784Z"
   },
   {
    "duration": 5,
    "start_time": "2023-08-28T12:20:56.071Z"
   },
   {
    "duration": 15,
    "start_time": "2023-08-28T12:20:56.568Z"
   },
   {
    "duration": 401,
    "start_time": "2023-08-28T12:21:05.288Z"
   },
   {
    "duration": 51,
    "start_time": "2023-08-28T12:21:05.691Z"
   },
   {
    "duration": 39,
    "start_time": "2023-08-28T12:21:05.744Z"
   },
   {
    "duration": 52,
    "start_time": "2023-08-28T12:21:05.785Z"
   },
   {
    "duration": 36,
    "start_time": "2023-08-28T12:21:05.840Z"
   },
   {
    "duration": 77,
    "start_time": "2023-08-28T12:21:05.878Z"
   },
   {
    "duration": 62,
    "start_time": "2023-08-28T12:21:05.957Z"
   },
   {
    "duration": 22,
    "start_time": "2023-08-28T12:21:06.020Z"
   },
   {
    "duration": 33,
    "start_time": "2023-08-28T12:21:06.044Z"
   },
   {
    "duration": 14,
    "start_time": "2023-08-28T12:21:21.875Z"
   },
   {
    "duration": 3,
    "start_time": "2023-08-28T12:21:32.057Z"
   },
   {
    "duration": 6,
    "start_time": "2023-08-28T12:21:32.335Z"
   },
   {
    "duration": 6,
    "start_time": "2023-08-28T12:21:32.701Z"
   },
   {
    "duration": 15,
    "start_time": "2023-08-28T12:21:33.141Z"
   },
   {
    "duration": 15,
    "start_time": "2023-08-28T12:21:33.872Z"
   },
   {
    "duration": 1248,
    "start_time": "2023-08-28T12:24:36.294Z"
   },
   {
    "duration": 736,
    "start_time": "2023-08-28T12:24:57.822Z"
   },
   {
    "duration": 25,
    "start_time": "2023-08-28T12:27:32.397Z"
   },
   {
    "duration": 15,
    "start_time": "2023-08-28T12:27:41.594Z"
   },
   {
    "duration": 69,
    "start_time": "2023-08-28T12:28:19.187Z"
   },
   {
    "duration": 7,
    "start_time": "2023-08-28T12:28:39.004Z"
   },
   {
    "duration": 71,
    "start_time": "2023-08-28T12:28:46.305Z"
   },
   {
    "duration": 3,
    "start_time": "2023-08-28T12:29:16.478Z"
   },
   {
    "duration": 4,
    "start_time": "2023-08-28T12:29:16.813Z"
   },
   {
    "duration": 13,
    "start_time": "2023-08-28T12:29:17.326Z"
   },
   {
    "duration": 7,
    "start_time": "2023-08-28T12:29:17.826Z"
   },
   {
    "duration": 4,
    "start_time": "2023-08-28T12:31:14.981Z"
   },
   {
    "duration": 7,
    "start_time": "2023-08-28T12:34:08.894Z"
   },
   {
    "duration": 12,
    "start_time": "2023-08-28T12:36:03.208Z"
   },
   {
    "duration": 7,
    "start_time": "2023-08-28T12:36:50.492Z"
   },
   {
    "duration": 6,
    "start_time": "2023-08-28T12:37:00.594Z"
   },
   {
    "duration": 14,
    "start_time": "2023-08-28T12:37:08.139Z"
   },
   {
    "duration": 16,
    "start_time": "2023-08-28T12:37:14.961Z"
   },
   {
    "duration": 17,
    "start_time": "2023-08-28T12:39:07.573Z"
   },
   {
    "duration": 12,
    "start_time": "2023-08-28T12:39:24.054Z"
   },
   {
    "duration": 16,
    "start_time": "2023-08-28T12:39:26.084Z"
   },
   {
    "duration": 8,
    "start_time": "2023-08-28T12:41:00.697Z"
   },
   {
    "duration": 15,
    "start_time": "2023-08-28T12:41:03.096Z"
   },
   {
    "duration": 69,
    "start_time": "2023-08-28T12:42:35.256Z"
   },
   {
    "duration": 16,
    "start_time": "2023-08-28T12:42:50.633Z"
   },
   {
    "duration": 402,
    "start_time": "2023-08-28T12:42:59.974Z"
   },
   {
    "duration": 55,
    "start_time": "2023-08-28T12:43:00.378Z"
   },
   {
    "duration": 51,
    "start_time": "2023-08-28T12:43:00.435Z"
   },
   {
    "duration": 68,
    "start_time": "2023-08-28T12:43:00.488Z"
   },
   {
    "duration": 56,
    "start_time": "2023-08-28T12:43:00.559Z"
   },
   {
    "duration": 138,
    "start_time": "2023-08-28T12:43:00.616Z"
   },
   {
    "duration": 0,
    "start_time": "2023-08-28T12:43:00.756Z"
   },
   {
    "duration": 0,
    "start_time": "2023-08-28T12:43:00.757Z"
   },
   {
    "duration": 0,
    "start_time": "2023-08-28T12:43:00.758Z"
   },
   {
    "duration": 0,
    "start_time": "2023-08-28T12:43:00.760Z"
   },
   {
    "duration": 0,
    "start_time": "2023-08-28T12:43:00.761Z"
   },
   {
    "duration": 0,
    "start_time": "2023-08-28T12:43:00.762Z"
   },
   {
    "duration": 0,
    "start_time": "2023-08-28T12:43:00.764Z"
   },
   {
    "duration": 0,
    "start_time": "2023-08-28T12:43:00.765Z"
   },
   {
    "duration": 9,
    "start_time": "2023-08-28T12:43:41.819Z"
   },
   {
    "duration": 51,
    "start_time": "2023-08-28T12:43:51.464Z"
   },
   {
    "duration": 15,
    "start_time": "2023-08-28T12:43:51.944Z"
   },
   {
    "duration": 14,
    "start_time": "2023-08-28T12:43:53.055Z"
   },
   {
    "duration": 439,
    "start_time": "2023-08-28T12:45:14.147Z"
   },
   {
    "duration": 59,
    "start_time": "2023-08-28T12:45:14.588Z"
   },
   {
    "duration": 22,
    "start_time": "2023-08-28T12:45:14.649Z"
   },
   {
    "duration": 17,
    "start_time": "2023-08-28T12:45:14.672Z"
   },
   {
    "duration": 3,
    "start_time": "2023-08-28T12:45:14.692Z"
   },
   {
    "duration": 19,
    "start_time": "2023-08-28T12:45:14.697Z"
   },
   {
    "duration": 13,
    "start_time": "2023-08-28T12:45:14.719Z"
   },
   {
    "duration": 10,
    "start_time": "2023-08-28T12:45:14.734Z"
   },
   {
    "duration": 97,
    "start_time": "2023-08-28T12:45:14.745Z"
   },
   {
    "duration": 0,
    "start_time": "2023-08-28T12:45:14.843Z"
   },
   {
    "duration": 0,
    "start_time": "2023-08-28T12:45:14.845Z"
   },
   {
    "duration": 0,
    "start_time": "2023-08-28T12:45:14.847Z"
   },
   {
    "duration": 0,
    "start_time": "2023-08-28T12:45:14.848Z"
   },
   {
    "duration": 8,
    "start_time": "2023-08-28T12:45:30.848Z"
   },
   {
    "duration": 745,
    "start_time": "2023-08-28T12:45:42.768Z"
   },
   {
    "duration": 2,
    "start_time": "2023-08-28T12:45:58.362Z"
   },
   {
    "duration": 49,
    "start_time": "2023-08-28T12:45:58.850Z"
   },
   {
    "duration": 14,
    "start_time": "2023-08-28T12:45:59.014Z"
   },
   {
    "duration": 16,
    "start_time": "2023-08-28T12:45:59.178Z"
   },
   {
    "duration": 3,
    "start_time": "2023-08-28T12:45:59.668Z"
   },
   {
    "duration": 4,
    "start_time": "2023-08-28T12:45:59.831Z"
   },
   {
    "duration": 10,
    "start_time": "2023-08-28T12:45:59.980Z"
   },
   {
    "duration": 9,
    "start_time": "2023-08-28T12:46:00.147Z"
   },
   {
    "duration": 9,
    "start_time": "2023-08-28T12:46:00.317Z"
   },
   {
    "duration": 673,
    "start_time": "2023-08-28T12:46:00.481Z"
   },
   {
    "duration": 16,
    "start_time": "2023-08-28T12:46:10.892Z"
   },
   {
    "duration": 687,
    "start_time": "2023-08-28T12:46:14.752Z"
   },
   {
    "duration": 13,
    "start_time": "2023-08-28T12:46:23.224Z"
   },
   {
    "duration": 9,
    "start_time": "2023-08-28T12:46:46.268Z"
   },
   {
    "duration": 420,
    "start_time": "2023-08-28T12:46:56.184Z"
   },
   {
    "duration": 51,
    "start_time": "2023-08-28T12:46:56.607Z"
   },
   {
    "duration": 19,
    "start_time": "2023-08-28T12:46:56.660Z"
   },
   {
    "duration": 16,
    "start_time": "2023-08-28T12:46:56.681Z"
   },
   {
    "duration": 30,
    "start_time": "2023-08-28T12:46:56.699Z"
   },
   {
    "duration": 69,
    "start_time": "2023-08-28T12:46:56.731Z"
   },
   {
    "duration": 32,
    "start_time": "2023-08-28T12:46:56.802Z"
   },
   {
    "duration": 39,
    "start_time": "2023-08-28T12:46:56.836Z"
   },
   {
    "duration": 14,
    "start_time": "2023-08-28T12:46:56.877Z"
   },
   {
    "duration": 7,
    "start_time": "2023-08-28T12:46:56.893Z"
   },
   {
    "duration": 11,
    "start_time": "2023-08-28T12:46:56.901Z"
   },
   {
    "duration": 28,
    "start_time": "2023-08-28T12:47:08.652Z"
   },
   {
    "duration": 2,
    "start_time": "2023-08-28T12:48:11.644Z"
   },
   {
    "duration": 51,
    "start_time": "2023-08-28T12:48:11.990Z"
   },
   {
    "duration": 14,
    "start_time": "2023-08-28T12:48:12.157Z"
   },
   {
    "duration": 15,
    "start_time": "2023-08-28T12:48:12.307Z"
   },
   {
    "duration": 3,
    "start_time": "2023-08-28T12:48:13.328Z"
   },
   {
    "duration": 4,
    "start_time": "2023-08-28T12:48:13.712Z"
   },
   {
    "duration": 8,
    "start_time": "2023-08-28T12:48:15.658Z"
   },
   {
    "duration": 9,
    "start_time": "2023-08-28T12:48:15.928Z"
   },
   {
    "duration": 15,
    "start_time": "2023-08-28T12:48:21.046Z"
   },
   {
    "duration": 9,
    "start_time": "2023-08-28T12:48:33.127Z"
   },
   {
    "duration": 828,
    "start_time": "2023-08-28T12:48:33.598Z"
   },
   {
    "duration": 9,
    "start_time": "2023-08-28T12:49:01.518Z"
   },
   {
    "duration": 662,
    "start_time": "2023-08-28T12:49:02.077Z"
   },
   {
    "duration": 15,
    "start_time": "2023-08-28T12:49:59.385Z"
   },
   {
    "duration": 745,
    "start_time": "2023-08-28T12:49:59.772Z"
   },
   {
    "duration": 7,
    "start_time": "2023-08-28T12:50:09.920Z"
   },
   {
    "duration": 677,
    "start_time": "2023-08-28T12:50:10.494Z"
   },
   {
    "duration": 7,
    "start_time": "2023-08-28T12:50:20.311Z"
   },
   {
    "duration": 9,
    "start_time": "2023-08-28T12:50:33.296Z"
   },
   {
    "duration": 572,
    "start_time": "2023-08-28T12:50:34.064Z"
   },
   {
    "duration": 404,
    "start_time": "2023-08-28T12:50:43.886Z"
   },
   {
    "duration": 54,
    "start_time": "2023-08-28T12:50:44.292Z"
   },
   {
    "duration": 21,
    "start_time": "2023-08-28T12:50:44.348Z"
   },
   {
    "duration": 25,
    "start_time": "2023-08-28T12:50:44.371Z"
   },
   {
    "duration": 7,
    "start_time": "2023-08-28T12:50:44.398Z"
   },
   {
    "duration": 11,
    "start_time": "2023-08-28T12:50:44.407Z"
   },
   {
    "duration": 13,
    "start_time": "2023-08-28T12:50:44.420Z"
   },
   {
    "duration": 11,
    "start_time": "2023-08-28T12:50:44.434Z"
   },
   {
    "duration": 25,
    "start_time": "2023-08-28T12:50:44.447Z"
   },
   {
    "duration": 27,
    "start_time": "2023-08-28T12:50:44.474Z"
   },
   {
    "duration": 15,
    "start_time": "2023-08-28T12:50:44.503Z"
   },
   {
    "duration": 8,
    "start_time": "2023-08-28T12:50:44.520Z"
   },
   {
    "duration": 40,
    "start_time": "2023-08-28T12:55:22.198Z"
   },
   {
    "duration": 56,
    "start_time": "2023-08-28T12:55:22.240Z"
   },
   {
    "duration": 40,
    "start_time": "2023-08-28T12:55:22.299Z"
   },
   {
    "duration": 50,
    "start_time": "2023-08-28T12:55:22.342Z"
   },
   {
    "duration": 20,
    "start_time": "2023-08-28T12:55:22.394Z"
   },
   {
    "duration": 25,
    "start_time": "2023-08-28T12:55:22.416Z"
   },
   {
    "duration": 19,
    "start_time": "2023-08-28T12:55:22.443Z"
   },
   {
    "duration": 17,
    "start_time": "2023-08-28T12:55:22.463Z"
   },
   {
    "duration": 24,
    "start_time": "2023-08-28T12:55:22.482Z"
   },
   {
    "duration": 30,
    "start_time": "2023-08-28T12:55:22.508Z"
   },
   {
    "duration": 13,
    "start_time": "2023-08-28T12:55:22.540Z"
   },
   {
    "duration": 14,
    "start_time": "2023-08-28T12:55:22.555Z"
   },
   {
    "duration": 74,
    "start_time": "2023-08-28T13:04:09.297Z"
   },
   {
    "duration": 395,
    "start_time": "2023-08-28T13:04:29.192Z"
   },
   {
    "duration": 54,
    "start_time": "2023-08-28T13:04:29.590Z"
   },
   {
    "duration": 21,
    "start_time": "2023-08-28T13:04:29.646Z"
   },
   {
    "duration": 30,
    "start_time": "2023-08-28T13:04:29.669Z"
   },
   {
    "duration": 20,
    "start_time": "2023-08-28T13:04:29.701Z"
   },
   {
    "duration": 26,
    "start_time": "2023-08-28T13:04:29.723Z"
   },
   {
    "duration": 27,
    "start_time": "2023-08-28T13:04:29.750Z"
   },
   {
    "duration": 34,
    "start_time": "2023-08-28T13:04:29.779Z"
   },
   {
    "duration": 45,
    "start_time": "2023-08-28T13:04:29.814Z"
   },
   {
    "duration": 37,
    "start_time": "2023-08-28T13:04:29.861Z"
   },
   {
    "duration": 23,
    "start_time": "2023-08-28T13:04:29.900Z"
   },
   {
    "duration": 13,
    "start_time": "2023-08-28T13:04:29.925Z"
   },
   {
    "duration": 70,
    "start_time": "2023-08-28T13:07:48.518Z"
   },
   {
    "duration": 5,
    "start_time": "2023-08-28T13:07:56.566Z"
   },
   {
    "duration": 15,
    "start_time": "2023-08-28T13:07:57.180Z"
   },
   {
    "duration": 422,
    "start_time": "2023-08-28T13:08:02.429Z"
   },
   {
    "duration": 68,
    "start_time": "2023-08-28T13:08:02.853Z"
   },
   {
    "duration": 22,
    "start_time": "2023-08-28T13:08:02.923Z"
   },
   {
    "duration": 24,
    "start_time": "2023-08-28T13:08:02.947Z"
   },
   {
    "duration": 27,
    "start_time": "2023-08-28T13:08:02.974Z"
   },
   {
    "duration": 48,
    "start_time": "2023-08-28T13:08:03.002Z"
   },
   {
    "duration": 43,
    "start_time": "2023-08-28T13:08:03.052Z"
   },
   {
    "duration": 46,
    "start_time": "2023-08-28T13:08:03.096Z"
   },
   {
    "duration": 31,
    "start_time": "2023-08-28T13:08:03.144Z"
   },
   {
    "duration": 93,
    "start_time": "2023-08-28T13:08:03.178Z"
   },
   {
    "duration": 0,
    "start_time": "2023-08-28T13:08:03.272Z"
   },
   {
    "duration": 0,
    "start_time": "2023-08-28T13:08:03.273Z"
   },
   {
    "duration": 0,
    "start_time": "2023-08-28T13:08:03.276Z"
   },
   {
    "duration": 5,
    "start_time": "2023-08-28T13:11:56.239Z"
   },
   {
    "duration": 8,
    "start_time": "2023-08-28T13:11:58.975Z"
   },
   {
    "duration": 16,
    "start_time": "2023-08-28T13:12:00.632Z"
   },
   {
    "duration": 22,
    "start_time": "2023-08-28T13:12:15.778Z"
   },
   {
    "duration": 19,
    "start_time": "2023-08-28T13:13:26.618Z"
   },
   {
    "duration": 12,
    "start_time": "2023-08-28T13:13:34.583Z"
   },
   {
    "duration": 7,
    "start_time": "2023-08-28T13:13:34.872Z"
   },
   {
    "duration": 18,
    "start_time": "2023-08-28T13:13:35.504Z"
   },
   {
    "duration": 20,
    "start_time": "2023-08-28T13:13:41.494Z"
   },
   {
    "duration": 16,
    "start_time": "2023-08-28T13:13:50.516Z"
   },
   {
    "duration": 7,
    "start_time": "2023-08-28T13:13:51.108Z"
   },
   {
    "duration": 22,
    "start_time": "2023-08-28T13:13:51.836Z"
   },
   {
    "duration": 19,
    "start_time": "2023-08-28T13:13:58.402Z"
   },
   {
    "duration": 3,
    "start_time": "2023-08-28T13:15:34.209Z"
   },
   {
    "duration": 51,
    "start_time": "2023-08-28T13:15:34.533Z"
   },
   {
    "duration": 14,
    "start_time": "2023-08-28T13:15:34.696Z"
   },
   {
    "duration": 15,
    "start_time": "2023-08-28T13:15:34.844Z"
   },
   {
    "duration": 3,
    "start_time": "2023-08-28T13:15:35.336Z"
   },
   {
    "duration": 4,
    "start_time": "2023-08-28T13:15:35.478Z"
   },
   {
    "duration": 9,
    "start_time": "2023-08-28T13:15:35.607Z"
   },
   {
    "duration": 9,
    "start_time": "2023-08-28T13:15:35.794Z"
   },
   {
    "duration": 6,
    "start_time": "2023-08-28T13:15:35.941Z"
   },
   {
    "duration": 5,
    "start_time": "2023-08-28T13:15:36.112Z"
   },
   {
    "duration": 8,
    "start_time": "2023-08-28T13:15:37.922Z"
   },
   {
    "duration": 24,
    "start_time": "2023-08-28T13:15:39.750Z"
   },
   {
    "duration": 19,
    "start_time": "2023-08-28T13:15:54.442Z"
   },
   {
    "duration": 9,
    "start_time": "2023-08-28T13:17:44.562Z"
   },
   {
    "duration": 3,
    "start_time": "2023-08-28T13:17:50.722Z"
   },
   {
    "duration": 51,
    "start_time": "2023-08-28T13:17:51.031Z"
   },
   {
    "duration": 14,
    "start_time": "2023-08-28T13:17:51.185Z"
   },
   {
    "duration": 14,
    "start_time": "2023-08-28T13:17:51.300Z"
   },
   {
    "duration": 3,
    "start_time": "2023-08-28T13:17:51.762Z"
   },
   {
    "duration": 4,
    "start_time": "2023-08-28T13:17:51.920Z"
   },
   {
    "duration": 10,
    "start_time": "2023-08-28T13:17:52.124Z"
   },
   {
    "duration": 9,
    "start_time": "2023-08-28T13:17:52.463Z"
   },
   {
    "duration": 5,
    "start_time": "2023-08-28T13:17:54.342Z"
   },
   {
    "duration": 5,
    "start_time": "2023-08-28T13:17:54.591Z"
   },
   {
    "duration": 9,
    "start_time": "2023-08-28T13:17:54.936Z"
   },
   {
    "duration": 7,
    "start_time": "2023-08-28T13:18:20.720Z"
   },
   {
    "duration": 17,
    "start_time": "2023-08-28T13:18:48.576Z"
   },
   {
    "duration": 5,
    "start_time": "2023-08-28T13:19:10.083Z"
   },
   {
    "duration": 5,
    "start_time": "2023-08-28T13:21:05.070Z"
   },
   {
    "duration": 5,
    "start_time": "2023-08-28T13:21:33.993Z"
   },
   {
    "duration": 6,
    "start_time": "2023-08-28T13:21:34.642Z"
   },
   {
    "duration": 6,
    "start_time": "2023-08-28T13:21:35.097Z"
   },
   {
    "duration": 5,
    "start_time": "2023-08-28T13:21:45.658Z"
   },
   {
    "duration": 8,
    "start_time": "2023-08-28T13:23:20.029Z"
   },
   {
    "duration": 11,
    "start_time": "2023-08-28T13:24:02.784Z"
   },
   {
    "duration": 4,
    "start_time": "2023-08-28T13:24:51.208Z"
   },
   {
    "duration": 6,
    "start_time": "2023-08-28T13:24:51.745Z"
   },
   {
    "duration": 6,
    "start_time": "2023-08-28T13:26:21.839Z"
   },
   {
    "duration": 5,
    "start_time": "2023-08-28T13:26:22.201Z"
   },
   {
    "duration": 366,
    "start_time": "2023-08-28T13:26:54.415Z"
   },
   {
    "duration": 54,
    "start_time": "2023-08-28T13:26:54.783Z"
   },
   {
    "duration": 23,
    "start_time": "2023-08-28T13:26:54.839Z"
   },
   {
    "duration": 15,
    "start_time": "2023-08-28T13:26:54.863Z"
   },
   {
    "duration": 23,
    "start_time": "2023-08-28T13:26:54.881Z"
   },
   {
    "duration": 19,
    "start_time": "2023-08-28T13:26:54.906Z"
   },
   {
    "duration": 34,
    "start_time": "2023-08-28T13:26:54.927Z"
   },
   {
    "duration": 26,
    "start_time": "2023-08-28T13:26:54.963Z"
   },
   {
    "duration": 5,
    "start_time": "2023-08-28T13:26:54.990Z"
   },
   {
    "duration": 7,
    "start_time": "2023-08-28T13:26:54.997Z"
   },
   {
    "duration": 13,
    "start_time": "2023-08-28T13:26:55.006Z"
   },
   {
    "duration": 10,
    "start_time": "2023-08-28T13:26:55.020Z"
   },
   {
    "duration": 14,
    "start_time": "2023-08-28T13:26:55.032Z"
   },
   {
    "duration": 18,
    "start_time": "2023-08-28T13:26:55.049Z"
   },
   {
    "duration": 29,
    "start_time": "2023-08-28T13:26:55.069Z"
   },
   {
    "duration": 22,
    "start_time": "2023-08-28T13:26:55.100Z"
   },
   {
    "duration": 29,
    "start_time": "2023-08-28T13:26:55.123Z"
   },
   {
    "duration": 23,
    "start_time": "2023-08-28T13:26:55.155Z"
   },
   {
    "duration": 6,
    "start_time": "2023-08-28T13:28:40.793Z"
   },
   {
    "duration": 14,
    "start_time": "2023-08-28T13:28:55.387Z"
   },
   {
    "duration": 6,
    "start_time": "2023-08-28T13:30:31.164Z"
   },
   {
    "duration": 22,
    "start_time": "2023-08-28T13:30:34.279Z"
   },
   {
    "duration": 15,
    "start_time": "2023-08-28T13:36:41.146Z"
   },
   {
    "duration": 23,
    "start_time": "2023-08-28T13:37:08.707Z"
   },
   {
    "duration": 25,
    "start_time": "2023-08-28T13:37:23.632Z"
   },
   {
    "duration": 17,
    "start_time": "2023-08-28T13:37:45.168Z"
   },
   {
    "duration": 16,
    "start_time": "2023-08-28T13:38:54.998Z"
   },
   {
    "duration": 13,
    "start_time": "2023-08-28T13:42:19.870Z"
   },
   {
    "duration": 5,
    "start_time": "2023-08-28T13:42:20.305Z"
   },
   {
    "duration": 4,
    "start_time": "2023-08-28T13:42:20.451Z"
   },
   {
    "duration": 4,
    "start_time": "2023-08-28T13:42:20.601Z"
   },
   {
    "duration": 4,
    "start_time": "2023-08-28T13:42:20.735Z"
   },
   {
    "duration": 77,
    "start_time": "2023-08-28T13:42:20.851Z"
   },
   {
    "duration": 5,
    "start_time": "2023-08-28T13:42:21.002Z"
   },
   {
    "duration": 9,
    "start_time": "2023-08-28T13:42:21.184Z"
   },
   {
    "duration": 4,
    "start_time": "2023-08-28T13:42:23.507Z"
   },
   {
    "duration": 4,
    "start_time": "2023-08-28T13:42:23.651Z"
   },
   {
    "duration": 5,
    "start_time": "2023-08-28T13:42:23.802Z"
   },
   {
    "duration": 5,
    "start_time": "2023-08-28T13:42:23.957Z"
   },
   {
    "duration": 17,
    "start_time": "2023-08-28T13:42:24.104Z"
   },
   {
    "duration": 49,
    "start_time": "2023-08-29T10:40:47.585Z"
   },
   {
    "duration": 421,
    "start_time": "2023-08-29T10:40:54.150Z"
   },
   {
    "duration": 193,
    "start_time": "2023-08-29T10:40:54.573Z"
   },
   {
    "duration": 23,
    "start_time": "2023-08-29T10:40:54.768Z"
   },
   {
    "duration": 30,
    "start_time": "2023-08-29T10:40:54.793Z"
   },
   {
    "duration": 6,
    "start_time": "2023-08-29T10:40:54.827Z"
   },
   {
    "duration": 7,
    "start_time": "2023-08-29T10:40:54.835Z"
   },
   {
    "duration": 15,
    "start_time": "2023-08-29T10:40:54.843Z"
   },
   {
    "duration": 25,
    "start_time": "2023-08-29T10:40:54.859Z"
   },
   {
    "duration": 23,
    "start_time": "2023-08-29T10:40:54.886Z"
   },
   {
    "duration": 13,
    "start_time": "2023-08-29T10:40:54.911Z"
   },
   {
    "duration": 13,
    "start_time": "2023-08-29T10:40:54.926Z"
   },
   {
    "duration": 9,
    "start_time": "2023-08-29T10:40:54.941Z"
   },
   {
    "duration": 13,
    "start_time": "2023-08-29T10:40:54.952Z"
   },
   {
    "duration": 17,
    "start_time": "2023-08-29T10:40:54.968Z"
   },
   {
    "duration": 8,
    "start_time": "2023-08-29T10:40:54.986Z"
   },
   {
    "duration": 8,
    "start_time": "2023-08-29T10:40:54.996Z"
   },
   {
    "duration": 24,
    "start_time": "2023-08-29T10:40:55.006Z"
   },
   {
    "duration": 9,
    "start_time": "2023-08-29T10:40:55.032Z"
   },
   {
    "duration": 9,
    "start_time": "2023-08-29T10:40:55.042Z"
   },
   {
    "duration": 7,
    "start_time": "2023-08-29T10:40:55.053Z"
   },
   {
    "duration": 22,
    "start_time": "2023-08-29T10:40:55.062Z"
   },
   {
    "duration": 1303,
    "start_time": "2023-08-29T10:40:55.085Z"
   },
   {
    "duration": 988,
    "start_time": "2023-08-29T10:41:25.110Z"
   },
   {
    "duration": 5,
    "start_time": "2023-08-29T10:43:03.197Z"
   },
   {
    "duration": 33,
    "start_time": "2023-08-29T10:43:13.753Z"
   },
   {
    "duration": 12,
    "start_time": "2023-08-29T10:43:36.730Z"
   },
   {
    "duration": 82,
    "start_time": "2023-08-29T10:43:46.877Z"
   },
   {
    "duration": 16,
    "start_time": "2023-08-29T10:43:54.950Z"
   },
   {
    "duration": 16,
    "start_time": "2023-08-29T10:43:59.194Z"
   },
   {
    "duration": 18,
    "start_time": "2023-08-29T10:47:37.933Z"
   },
   {
    "duration": 10,
    "start_time": "2023-08-29T10:47:51.950Z"
   },
   {
    "duration": 3,
    "start_time": "2023-08-29T10:49:12.104Z"
   },
   {
    "duration": 49,
    "start_time": "2023-08-29T10:49:12.386Z"
   },
   {
    "duration": 14,
    "start_time": "2023-08-29T10:49:12.503Z"
   },
   {
    "duration": 16,
    "start_time": "2023-08-29T10:49:12.636Z"
   },
   {
    "duration": 4,
    "start_time": "2023-08-29T10:49:13.027Z"
   },
   {
    "duration": 4,
    "start_time": "2023-08-29T10:49:13.136Z"
   },
   {
    "duration": 10,
    "start_time": "2023-08-29T10:49:13.252Z"
   },
   {
    "duration": 16,
    "start_time": "2023-08-29T10:49:13.369Z"
   },
   {
    "duration": 10,
    "start_time": "2023-08-29T10:49:13.501Z"
   },
   {
    "duration": 5,
    "start_time": "2023-08-29T10:49:13.629Z"
   },
   {
    "duration": 6,
    "start_time": "2023-08-29T10:49:13.895Z"
   },
   {
    "duration": 9,
    "start_time": "2023-08-29T10:49:14.052Z"
   },
   {
    "duration": 5,
    "start_time": "2023-08-29T10:49:14.158Z"
   },
   {
    "duration": 6,
    "start_time": "2023-08-29T10:49:14.302Z"
   },
   {
    "duration": 5,
    "start_time": "2023-08-29T10:49:14.427Z"
   },
   {
    "duration": 8,
    "start_time": "2023-08-29T10:49:14.552Z"
   },
   {
    "duration": 4,
    "start_time": "2023-08-29T10:49:14.686Z"
   },
   {
    "duration": 6,
    "start_time": "2023-08-29T10:49:14.786Z"
   },
   {
    "duration": 5,
    "start_time": "2023-08-29T10:49:16.398Z"
   },
   {
    "duration": 5,
    "start_time": "2023-08-29T10:49:16.535Z"
   },
   {
    "duration": 15,
    "start_time": "2023-08-29T10:49:16.692Z"
   },
   {
    "duration": 12,
    "start_time": "2023-08-29T10:49:18.534Z"
   },
   {
    "duration": 8,
    "start_time": "2023-08-29T10:49:35.571Z"
   },
   {
    "duration": 9,
    "start_time": "2023-08-29T10:49:43.374Z"
   },
   {
    "duration": 3,
    "start_time": "2023-08-29T10:49:54.124Z"
   },
   {
    "duration": 15,
    "start_time": "2023-08-29T10:49:59.104Z"
   },
   {
    "duration": 6,
    "start_time": "2023-08-29T10:50:31.844Z"
   },
   {
    "duration": 24,
    "start_time": "2023-08-29T10:50:35.562Z"
   },
   {
    "duration": 8,
    "start_time": "2023-08-29T10:56:17.649Z"
   },
   {
    "duration": 23,
    "start_time": "2023-08-29T10:56:21.234Z"
   },
   {
    "duration": 8,
    "start_time": "2023-08-29T10:57:09.246Z"
   },
   {
    "duration": 23,
    "start_time": "2023-08-29T10:57:09.589Z"
   },
   {
    "duration": 411,
    "start_time": "2023-08-29T10:57:16.566Z"
   },
   {
    "duration": 54,
    "start_time": "2023-08-29T10:57:16.979Z"
   },
   {
    "duration": 21,
    "start_time": "2023-08-29T10:57:17.035Z"
   },
   {
    "duration": 27,
    "start_time": "2023-08-29T10:57:17.058Z"
   },
   {
    "duration": 7,
    "start_time": "2023-08-29T10:57:17.086Z"
   },
   {
    "duration": 19,
    "start_time": "2023-08-29T10:57:17.095Z"
   },
   {
    "duration": 39,
    "start_time": "2023-08-29T10:57:17.116Z"
   },
   {
    "duration": 47,
    "start_time": "2023-08-29T10:57:17.157Z"
   },
   {
    "duration": 14,
    "start_time": "2023-08-29T10:57:17.205Z"
   },
   {
    "duration": 18,
    "start_time": "2023-08-29T10:57:17.222Z"
   },
   {
    "duration": 12,
    "start_time": "2023-08-29T10:57:17.242Z"
   },
   {
    "duration": 26,
    "start_time": "2023-08-29T10:57:17.256Z"
   },
   {
    "duration": 23,
    "start_time": "2023-08-29T10:57:17.284Z"
   },
   {
    "duration": 17,
    "start_time": "2023-08-29T10:57:17.309Z"
   },
   {
    "duration": 32,
    "start_time": "2023-08-29T10:57:17.328Z"
   },
   {
    "duration": 21,
    "start_time": "2023-08-29T10:57:17.362Z"
   },
   {
    "duration": 11,
    "start_time": "2023-08-29T10:57:17.385Z"
   },
   {
    "duration": 17,
    "start_time": "2023-08-29T10:57:17.398Z"
   },
   {
    "duration": 24,
    "start_time": "2023-08-29T10:57:17.416Z"
   },
   {
    "duration": 26,
    "start_time": "2023-08-29T10:57:17.442Z"
   },
   {
    "duration": 43,
    "start_time": "2023-08-29T10:57:17.470Z"
   },
   {
    "duration": 44,
    "start_time": "2023-08-29T10:57:17.515Z"
   },
   {
    "duration": 15,
    "start_time": "2023-08-29T10:57:17.560Z"
   },
   {
    "duration": 46,
    "start_time": "2023-08-29T10:57:17.576Z"
   },
   {
    "duration": 15,
    "start_time": "2023-08-29T10:58:07.532Z"
   },
   {
    "duration": 14,
    "start_time": "2023-08-29T11:00:00.642Z"
   },
   {
    "duration": 86,
    "start_time": "2023-08-29T11:00:28.910Z"
   },
   {
    "duration": 16,
    "start_time": "2023-08-29T11:00:42.535Z"
   },
   {
    "duration": 10,
    "start_time": "2023-08-29T11:01:44.915Z"
   },
   {
    "duration": 394,
    "start_time": "2023-08-29T11:01:45.445Z"
   },
   {
    "duration": 148,
    "start_time": "2023-08-29T11:01:53.297Z"
   },
   {
    "duration": 19,
    "start_time": "2023-08-29T11:02:18.064Z"
   },
   {
    "duration": 15,
    "start_time": "2023-08-29T11:02:25.758Z"
   },
   {
    "duration": 13,
    "start_time": "2023-08-29T11:06:16.656Z"
   },
   {
    "duration": 12,
    "start_time": "2023-08-29T11:06:36.926Z"
   },
   {
    "duration": 26,
    "start_time": "2023-08-29T11:06:48.549Z"
   },
   {
    "duration": 10,
    "start_time": "2023-08-29T11:07:20.134Z"
   },
   {
    "duration": 231,
    "start_time": "2023-08-29T11:07:24.836Z"
   },
   {
    "duration": 299,
    "start_time": "2023-08-29T11:08:20.199Z"
   },
   {
    "duration": 837,
    "start_time": "2023-08-29T11:08:53.509Z"
   },
   {
    "duration": 172,
    "start_time": "2023-08-29T11:09:05.748Z"
   },
   {
    "duration": 163,
    "start_time": "2023-08-29T11:09:12.865Z"
   },
   {
    "duration": 3,
    "start_time": "2023-08-29T11:09:51.338Z"
   },
   {
    "duration": 185,
    "start_time": "2023-08-29T11:09:58.994Z"
   },
   {
    "duration": 165,
    "start_time": "2023-08-29T11:10:31.170Z"
   },
   {
    "duration": 157,
    "start_time": "2023-08-29T11:10:35.197Z"
   },
   {
    "duration": 178,
    "start_time": "2023-08-29T11:10:46.921Z"
   },
   {
    "duration": 12,
    "start_time": "2023-08-29T11:11:36.439Z"
   },
   {
    "duration": 239,
    "start_time": "2023-08-29T11:12:35.662Z"
   },
   {
    "duration": 233,
    "start_time": "2023-08-29T11:13:36.728Z"
   },
   {
    "duration": 20,
    "start_time": "2023-08-29T11:14:33.724Z"
   },
   {
    "duration": 24,
    "start_time": "2023-08-29T11:14:58.847Z"
   },
   {
    "duration": 677,
    "start_time": "2023-08-29T11:16:08.986Z"
   },
   {
    "duration": 349,
    "start_time": "2023-08-29T11:17:27.761Z"
   },
   {
    "duration": 210,
    "start_time": "2023-08-29T11:17:37.830Z"
   },
   {
    "duration": 206,
    "start_time": "2023-08-29T11:17:45.780Z"
   },
   {
    "duration": 8,
    "start_time": "2023-08-29T11:34:28.020Z"
   },
   {
    "duration": 24,
    "start_time": "2023-08-29T11:34:37.995Z"
   },
   {
    "duration": 772,
    "start_time": "2023-08-29T11:36:34.244Z"
   },
   {
    "duration": 168,
    "start_time": "2023-08-29T11:36:47.790Z"
   },
   {
    "duration": 2977,
    "start_time": "2023-08-29T11:38:55.588Z"
   },
   {
    "duration": 1225,
    "start_time": "2023-08-29T11:51:06.052Z"
   },
   {
    "duration": 55,
    "start_time": "2023-08-29T11:51:07.279Z"
   },
   {
    "duration": 20,
    "start_time": "2023-08-29T11:51:07.335Z"
   },
   {
    "duration": 17,
    "start_time": "2023-08-29T11:51:07.357Z"
   },
   {
    "duration": 14,
    "start_time": "2023-08-29T11:51:07.376Z"
   },
   {
    "duration": 28,
    "start_time": "2023-08-29T11:51:07.392Z"
   },
   {
    "duration": 41,
    "start_time": "2023-08-29T11:51:07.421Z"
   },
   {
    "duration": 24,
    "start_time": "2023-08-29T11:51:07.463Z"
   },
   {
    "duration": 11,
    "start_time": "2023-08-29T11:51:07.488Z"
   },
   {
    "duration": 7,
    "start_time": "2023-08-29T11:51:07.500Z"
   },
   {
    "duration": 11,
    "start_time": "2023-08-29T11:51:07.509Z"
   },
   {
    "duration": 12,
    "start_time": "2023-08-29T11:51:07.522Z"
   },
   {
    "duration": 4,
    "start_time": "2023-08-29T11:51:07.536Z"
   },
   {
    "duration": 6,
    "start_time": "2023-08-29T11:51:07.556Z"
   },
   {
    "duration": 8,
    "start_time": "2023-08-29T11:51:07.564Z"
   },
   {
    "duration": 9,
    "start_time": "2023-08-29T11:51:07.574Z"
   },
   {
    "duration": 10,
    "start_time": "2023-08-29T11:51:07.585Z"
   },
   {
    "duration": 11,
    "start_time": "2023-08-29T11:51:07.597Z"
   },
   {
    "duration": 11,
    "start_time": "2023-08-29T11:51:07.610Z"
   },
   {
    "duration": 8,
    "start_time": "2023-08-29T11:51:07.622Z"
   },
   {
    "duration": 32,
    "start_time": "2023-08-29T11:51:07.632Z"
   },
   {
    "duration": 73,
    "start_time": "2023-08-29T11:51:07.666Z"
   },
   {
    "duration": 33,
    "start_time": "2023-08-29T11:51:07.741Z"
   },
   {
    "duration": 24,
    "start_time": "2023-08-29T11:51:07.777Z"
   },
   {
    "duration": 22,
    "start_time": "2023-08-29T11:51:07.803Z"
   },
   {
    "duration": 8,
    "start_time": "2023-08-29T11:51:07.827Z"
   },
   {
    "duration": 101,
    "start_time": "2023-08-29T11:52:41.863Z"
   },
   {
    "duration": 16,
    "start_time": "2023-08-29T11:52:59.129Z"
   },
   {
    "duration": 16,
    "start_time": "2023-08-29T11:53:10.054Z"
   },
   {
    "duration": 61,
    "start_time": "2023-08-29T11:54:12.529Z"
   },
   {
    "duration": 58,
    "start_time": "2023-08-29T11:54:15.417Z"
   },
   {
    "duration": 60,
    "start_time": "2023-08-29T11:54:24.877Z"
   },
   {
    "duration": 269,
    "start_time": "2023-08-29T11:55:40.466Z"
   },
   {
    "duration": 271,
    "start_time": "2023-08-29T11:56:14.604Z"
   },
   {
    "duration": 363,
    "start_time": "2023-08-29T11:56:19.474Z"
   },
   {
    "duration": 13,
    "start_time": "2023-08-29T11:57:04.873Z"
   },
   {
    "duration": 11,
    "start_time": "2023-08-29T11:57:30.985Z"
   },
   {
    "duration": 3,
    "start_time": "2023-08-29T11:57:34.343Z"
   },
   {
    "duration": 50,
    "start_time": "2023-08-29T11:57:34.955Z"
   },
   {
    "duration": 14,
    "start_time": "2023-08-29T11:57:35.233Z"
   },
   {
    "duration": 13,
    "start_time": "2023-08-29T11:57:35.376Z"
   },
   {
    "duration": 3,
    "start_time": "2023-08-29T11:57:36.245Z"
   },
   {
    "duration": 4,
    "start_time": "2023-08-29T11:57:36.427Z"
   },
   {
    "duration": 11,
    "start_time": "2023-08-29T11:57:36.573Z"
   },
   {
    "duration": 17,
    "start_time": "2023-08-29T11:57:37.049Z"
   },
   {
    "duration": 8,
    "start_time": "2023-08-29T11:57:38.483Z"
   },
   {
    "duration": 5,
    "start_time": "2023-08-29T11:57:38.778Z"
   },
   {
    "duration": 7,
    "start_time": "2023-08-29T11:57:38.966Z"
   },
   {
    "duration": 7,
    "start_time": "2023-08-29T11:57:41.247Z"
   },
   {
    "duration": 4,
    "start_time": "2023-08-29T11:57:41.392Z"
   },
   {
    "duration": 6,
    "start_time": "2023-08-29T11:57:41.530Z"
   },
   {
    "duration": 6,
    "start_time": "2023-08-29T11:57:41.678Z"
   },
   {
    "duration": 8,
    "start_time": "2023-08-29T11:57:41.833Z"
   },
   {
    "duration": 5,
    "start_time": "2023-08-29T11:57:41.940Z"
   },
   {
    "duration": 6,
    "start_time": "2023-08-29T11:57:42.073Z"
   },
   {
    "duration": 5,
    "start_time": "2023-08-29T11:57:42.207Z"
   },
   {
    "duration": 4,
    "start_time": "2023-08-29T11:57:42.332Z"
   },
   {
    "duration": 15,
    "start_time": "2023-08-29T11:57:42.486Z"
   },
   {
    "duration": 13,
    "start_time": "2023-08-29T11:57:42.880Z"
   },
   {
    "duration": 6,
    "start_time": "2023-08-29T11:57:43.040Z"
   },
   {
    "duration": 15,
    "start_time": "2023-08-29T11:57:43.157Z"
   },
   {
    "duration": 15,
    "start_time": "2023-08-29T11:57:43.295Z"
   },
   {
    "duration": 8,
    "start_time": "2023-08-29T11:57:43.440Z"
   },
   {
    "duration": 325,
    "start_time": "2023-08-29T11:57:43.573Z"
   },
   {
    "duration": 306,
    "start_time": "2023-08-29T11:57:53.730Z"
   },
   {
    "duration": 5835,
    "start_time": "2023-08-29T11:58:04.546Z"
   },
   {
    "duration": 332,
    "start_time": "2023-08-29T11:58:17.621Z"
   },
   {
    "duration": 300,
    "start_time": "2023-08-29T11:59:07.223Z"
   },
   {
    "duration": 279,
    "start_time": "2023-08-29T11:59:17.163Z"
   },
   {
    "duration": 303,
    "start_time": "2023-08-29T11:59:22.505Z"
   },
   {
    "duration": 340,
    "start_time": "2023-08-29T11:59:53.912Z"
   },
   {
    "duration": 293,
    "start_time": "2023-08-29T12:00:02.441Z"
   },
   {
    "duration": 316,
    "start_time": "2023-08-29T12:00:12.857Z"
   },
   {
    "duration": 157,
    "start_time": "2023-08-29T12:00:21.534Z"
   },
   {
    "duration": 307,
    "start_time": "2023-08-29T12:00:24.691Z"
   },
   {
    "duration": 165,
    "start_time": "2023-08-29T12:00:28.153Z"
   },
   {
    "duration": 289,
    "start_time": "2023-08-29T12:00:31.736Z"
   },
   {
    "duration": 286,
    "start_time": "2023-08-29T12:01:41.725Z"
   },
   {
    "duration": 423,
    "start_time": "2023-08-29T12:01:48.092Z"
   },
   {
    "duration": 281,
    "start_time": "2023-08-29T12:04:34.870Z"
   },
   {
    "duration": 267,
    "start_time": "2023-08-29T12:04:39.336Z"
   },
   {
    "duration": 276,
    "start_time": "2023-08-29T12:04:43.039Z"
   },
   {
    "duration": 450,
    "start_time": "2023-08-29T12:04:48.340Z"
   },
   {
    "duration": 347,
    "start_time": "2023-08-29T12:05:01.610Z"
   },
   {
    "duration": 279,
    "start_time": "2023-08-29T12:05:08.205Z"
   },
   {
    "duration": 279,
    "start_time": "2023-08-29T12:05:13.816Z"
   },
   {
    "duration": 283,
    "start_time": "2023-08-29T12:05:35.415Z"
   },
   {
    "duration": 309,
    "start_time": "2023-08-29T12:06:39.761Z"
   },
   {
    "duration": 1202,
    "start_time": "2023-08-29T12:07:04.578Z"
   },
   {
    "duration": 51,
    "start_time": "2023-08-29T12:07:05.782Z"
   },
   {
    "duration": 18,
    "start_time": "2023-08-29T12:07:05.835Z"
   },
   {
    "duration": 27,
    "start_time": "2023-08-29T12:07:05.855Z"
   },
   {
    "duration": 3,
    "start_time": "2023-08-29T12:07:05.885Z"
   },
   {
    "duration": 15,
    "start_time": "2023-08-29T12:07:05.890Z"
   },
   {
    "duration": 32,
    "start_time": "2023-08-29T12:07:05.907Z"
   },
   {
    "duration": 46,
    "start_time": "2023-08-29T12:07:05.941Z"
   },
   {
    "duration": 23,
    "start_time": "2023-08-29T12:07:05.989Z"
   },
   {
    "duration": 28,
    "start_time": "2023-08-29T12:07:06.014Z"
   },
   {
    "duration": 7,
    "start_time": "2023-08-29T12:07:06.044Z"
   },
   {
    "duration": 37,
    "start_time": "2023-08-29T12:07:06.053Z"
   },
   {
    "duration": 9,
    "start_time": "2023-08-29T12:07:06.092Z"
   },
   {
    "duration": 14,
    "start_time": "2023-08-29T12:07:06.103Z"
   },
   {
    "duration": 28,
    "start_time": "2023-08-29T12:07:06.119Z"
   },
   {
    "duration": 34,
    "start_time": "2023-08-29T12:07:06.148Z"
   },
   {
    "duration": 92,
    "start_time": "2023-08-29T12:07:06.184Z"
   },
   {
    "duration": 25,
    "start_time": "2023-08-29T12:07:06.278Z"
   },
   {
    "duration": 12,
    "start_time": "2023-08-29T12:07:06.305Z"
   },
   {
    "duration": 11,
    "start_time": "2023-08-29T12:07:06.319Z"
   },
   {
    "duration": 25,
    "start_time": "2023-08-29T12:07:06.332Z"
   },
   {
    "duration": 14,
    "start_time": "2023-08-29T12:07:06.359Z"
   },
   {
    "duration": 6,
    "start_time": "2023-08-29T12:07:06.374Z"
   },
   {
    "duration": 17,
    "start_time": "2023-08-29T12:07:06.381Z"
   },
   {
    "duration": 23,
    "start_time": "2023-08-29T12:07:06.400Z"
   },
   {
    "duration": 8,
    "start_time": "2023-08-29T12:07:06.425Z"
   },
   {
    "duration": 308,
    "start_time": "2023-08-29T12:07:06.435Z"
   },
   {
    "duration": 322,
    "start_time": "2023-08-29T12:07:29.734Z"
   },
   {
    "duration": 284,
    "start_time": "2023-08-29T12:07:44.149Z"
   },
   {
    "duration": 281,
    "start_time": "2023-08-29T12:07:55.945Z"
   },
   {
    "duration": 669,
    "start_time": "2023-08-29T12:14:31.442Z"
   },
   {
    "duration": 694,
    "start_time": "2023-08-29T12:14:51.687Z"
   },
   {
    "duration": 772,
    "start_time": "2023-08-29T12:15:24.771Z"
   },
   {
    "duration": 109,
    "start_time": "2023-08-29T12:21:04.649Z"
   },
   {
    "duration": 11,
    "start_time": "2023-08-29T12:21:20.258Z"
   },
   {
    "duration": 91,
    "start_time": "2023-08-29T12:21:43.532Z"
   },
   {
    "duration": 187,
    "start_time": "2023-08-29T12:22:16.315Z"
   },
   {
    "duration": 23,
    "start_time": "2023-08-29T12:22:39.090Z"
   },
   {
    "duration": 18,
    "start_time": "2023-08-29T12:22:46.105Z"
   },
   {
    "duration": 22,
    "start_time": "2023-08-29T12:23:11.500Z"
   },
   {
    "duration": 118,
    "start_time": "2023-08-29T12:23:41.929Z"
   },
   {
    "duration": 141,
    "start_time": "2023-08-29T12:25:27.991Z"
   },
   {
    "duration": 125,
    "start_time": "2023-08-29T12:26:36.659Z"
   },
   {
    "duration": 348,
    "start_time": "2023-08-29T12:27:30.022Z"
   },
   {
    "duration": 449,
    "start_time": "2023-08-29T12:27:55.386Z"
   },
   {
    "duration": 384,
    "start_time": "2023-08-29T12:28:00.531Z"
   },
   {
    "duration": 318,
    "start_time": "2023-08-29T12:28:05.507Z"
   },
   {
    "duration": 474,
    "start_time": "2023-08-29T12:28:10.662Z"
   },
   {
    "duration": 374,
    "start_time": "2023-08-29T12:28:27.029Z"
   },
   {
    "duration": 361,
    "start_time": "2023-08-29T12:28:31.383Z"
   },
   {
    "duration": 365,
    "start_time": "2023-08-29T12:28:35.346Z"
   },
   {
    "duration": 474,
    "start_time": "2023-08-29T12:28:43.231Z"
   },
   {
    "duration": 368,
    "start_time": "2023-08-29T12:28:48.300Z"
   },
   {
    "duration": 740,
    "start_time": "2023-08-29T12:28:53.552Z"
   },
   {
    "duration": 389,
    "start_time": "2023-08-29T12:28:54.294Z"
   },
   {
    "duration": 501,
    "start_time": "2023-08-29T12:28:57.822Z"
   },
   {
    "duration": 359,
    "start_time": "2023-08-29T12:29:03.848Z"
   },
   {
    "duration": 958,
    "start_time": "2023-08-29T12:29:28.082Z"
   },
   {
    "duration": 622,
    "start_time": "2023-08-29T12:30:41.088Z"
   },
   {
    "duration": 443,
    "start_time": "2023-08-29T12:30:52.155Z"
   },
   {
    "duration": 534,
    "start_time": "2023-08-29T12:31:01.672Z"
   },
   {
    "duration": 353,
    "start_time": "2023-08-29T12:31:07.471Z"
   },
   {
    "duration": 382,
    "start_time": "2023-08-29T12:31:14.057Z"
   },
   {
    "duration": 377,
    "start_time": "2023-08-29T12:31:21.294Z"
   },
   {
    "duration": 14,
    "start_time": "2023-08-29T12:32:03.066Z"
   },
   {
    "duration": 356,
    "start_time": "2023-08-29T12:32:13.577Z"
   },
   {
    "duration": 119,
    "start_time": "2023-08-29T12:32:21.520Z"
   },
   {
    "duration": 16,
    "start_time": "2023-08-29T12:32:35.584Z"
   },
   {
    "duration": 577,
    "start_time": "2023-08-29T12:33:15.321Z"
   },
   {
    "duration": 365,
    "start_time": "2023-08-29T12:33:22.218Z"
   },
   {
    "duration": 436,
    "start_time": "2023-08-29T12:33:29.599Z"
   },
   {
    "duration": 391,
    "start_time": "2023-08-29T12:34:13.667Z"
   },
   {
    "duration": 25,
    "start_time": "2023-08-29T12:34:31.292Z"
   },
   {
    "duration": 93,
    "start_time": "2023-08-29T12:34:51.407Z"
   },
   {
    "duration": 110,
    "start_time": "2023-08-29T12:35:05.572Z"
   },
   {
    "duration": 439,
    "start_time": "2023-08-29T12:35:18.724Z"
   },
   {
    "duration": 382,
    "start_time": "2023-08-29T12:35:23.126Z"
   },
   {
    "duration": 435,
    "start_time": "2023-08-29T12:35:30.659Z"
   },
   {
    "duration": 585,
    "start_time": "2023-08-29T12:35:45.565Z"
   },
   {
    "duration": 485,
    "start_time": "2023-08-29T12:35:58.648Z"
   },
   {
    "duration": 425,
    "start_time": "2023-08-29T12:36:07.645Z"
   },
   {
    "duration": 395,
    "start_time": "2023-08-29T12:36:39.799Z"
   },
   {
    "duration": 405,
    "start_time": "2023-08-29T12:36:50.334Z"
   },
   {
    "duration": 488,
    "start_time": "2023-08-29T12:37:10.586Z"
   },
   {
    "duration": 419,
    "start_time": "2023-08-29T12:37:21.798Z"
   },
   {
    "duration": 441,
    "start_time": "2023-08-29T12:37:59.152Z"
   },
   {
    "duration": 819,
    "start_time": "2023-08-29T12:38:11.922Z"
   },
   {
    "duration": 445,
    "start_time": "2023-08-29T12:38:52.556Z"
   },
   {
    "duration": 26,
    "start_time": "2023-08-29T12:43:16.778Z"
   },
   {
    "duration": 1668,
    "start_time": "2023-08-29T12:45:20.981Z"
   },
   {
    "duration": 1530,
    "start_time": "2023-08-29T12:45:42.038Z"
   },
   {
    "duration": 477,
    "start_time": "2023-08-29T12:45:53.533Z"
   },
   {
    "duration": 1268,
    "start_time": "2023-08-29T12:46:01.027Z"
   },
   {
    "duration": 23,
    "start_time": "2023-08-29T12:48:34.366Z"
   },
   {
    "duration": 20,
    "start_time": "2023-08-29T12:48:55.314Z"
   },
   {
    "duration": 13,
    "start_time": "2023-08-29T12:49:30.378Z"
   },
   {
    "duration": 16,
    "start_time": "2023-08-29T12:49:33.374Z"
   },
   {
    "duration": 226,
    "start_time": "2023-08-29T12:49:33.774Z"
   },
   {
    "duration": 16,
    "start_time": "2023-08-29T12:49:48.210Z"
   },
   {
    "duration": 18,
    "start_time": "2023-08-29T12:50:19.612Z"
   },
   {
    "duration": 141,
    "start_time": "2023-08-29T12:50:39.783Z"
   },
   {
    "duration": 1920,
    "start_time": "2023-08-29T12:51:02.531Z"
   },
   {
    "duration": 145,
    "start_time": "2023-08-29T12:51:10.584Z"
   },
   {
    "duration": 147,
    "start_time": "2023-08-29T12:52:05.805Z"
   },
   {
    "duration": 151,
    "start_time": "2023-08-29T12:52:13.821Z"
   },
   {
    "duration": 252,
    "start_time": "2023-08-29T12:52:42.359Z"
   },
   {
    "duration": 13,
    "start_time": "2023-08-29T12:53:01.861Z"
   },
   {
    "duration": 284,
    "start_time": "2023-08-29T12:53:02.108Z"
   },
   {
    "duration": 590,
    "start_time": "2023-08-29T12:53:16.994Z"
   },
   {
    "duration": 146,
    "start_time": "2023-08-29T12:53:27.182Z"
   },
   {
    "duration": 165,
    "start_time": "2023-08-29T12:54:13.611Z"
   },
   {
    "duration": 7,
    "start_time": "2023-08-29T12:56:27.112Z"
   },
   {
    "duration": 5,
    "start_time": "2023-08-29T12:56:43.532Z"
   },
   {
    "duration": 179,
    "start_time": "2023-08-29T13:00:43.009Z"
   },
   {
    "duration": 1216,
    "start_time": "2023-08-29T13:03:22.166Z"
   },
   {
    "duration": 56,
    "start_time": "2023-08-29T13:03:23.385Z"
   },
   {
    "duration": 20,
    "start_time": "2023-08-29T13:03:23.443Z"
   },
   {
    "duration": 19,
    "start_time": "2023-08-29T13:03:23.465Z"
   },
   {
    "duration": 6,
    "start_time": "2023-08-29T13:03:23.487Z"
   },
   {
    "duration": 27,
    "start_time": "2023-08-29T13:03:23.494Z"
   },
   {
    "duration": 27,
    "start_time": "2023-08-29T13:03:23.523Z"
   },
   {
    "duration": 30,
    "start_time": "2023-08-29T13:03:23.552Z"
   },
   {
    "duration": 21,
    "start_time": "2023-08-29T13:03:23.583Z"
   },
   {
    "duration": 121,
    "start_time": "2023-08-29T13:03:23.606Z"
   },
   {
    "duration": 10,
    "start_time": "2023-08-29T13:03:23.729Z"
   },
   {
    "duration": 29,
    "start_time": "2023-08-29T13:03:23.741Z"
   },
   {
    "duration": 19,
    "start_time": "2023-08-29T13:03:23.772Z"
   },
   {
    "duration": 37,
    "start_time": "2023-08-29T13:03:23.794Z"
   },
   {
    "duration": 12,
    "start_time": "2023-08-29T13:03:23.833Z"
   },
   {
    "duration": 36,
    "start_time": "2023-08-29T13:03:23.848Z"
   },
   {
    "duration": 40,
    "start_time": "2023-08-29T13:03:23.886Z"
   },
   {
    "duration": 18,
    "start_time": "2023-08-29T13:03:23.928Z"
   },
   {
    "duration": 29,
    "start_time": "2023-08-29T13:03:23.948Z"
   },
   {
    "duration": 31,
    "start_time": "2023-08-29T13:03:23.979Z"
   },
   {
    "duration": 35,
    "start_time": "2023-08-29T13:03:24.012Z"
   },
   {
    "duration": 136,
    "start_time": "2023-08-29T13:03:24.049Z"
   },
   {
    "duration": 127,
    "start_time": "2023-08-29T13:03:24.187Z"
   },
   {
    "duration": 70,
    "start_time": "2023-08-29T13:03:24.316Z"
   },
   {
    "duration": 56,
    "start_time": "2023-08-29T13:03:24.389Z"
   },
   {
    "duration": 22,
    "start_time": "2023-08-29T13:03:24.447Z"
   },
   {
    "duration": 316,
    "start_time": "2023-08-29T13:03:24.471Z"
   },
   {
    "duration": 682,
    "start_time": "2023-08-29T13:03:24.789Z"
   },
   {
    "duration": 440,
    "start_time": "2023-08-29T13:03:25.473Z"
   },
   {
    "duration": 11,
    "start_time": "2023-08-29T13:03:25.918Z"
   },
   {
    "duration": 138,
    "start_time": "2023-08-29T13:03:25.930Z"
   },
   {
    "duration": 6,
    "start_time": "2023-08-29T13:03:26.070Z"
   },
   {
    "duration": 154,
    "start_time": "2023-08-29T13:03:26.078Z"
   },
   {
    "duration": 6,
    "start_time": "2023-08-29T13:03:26.234Z"
   },
   {
    "duration": 263,
    "start_time": "2023-08-29T13:03:26.242Z"
   },
   {
    "duration": 161,
    "start_time": "2023-08-29T13:03:41.997Z"
   },
   {
    "duration": 197477,
    "start_time": "2023-08-29T13:03:53.443Z"
   },
   {
    "duration": 23770,
    "start_time": "2023-08-29T13:07:10.922Z"
   },
   {
    "duration": 24311,
    "start_time": "2023-08-29T13:09:16.861Z"
   },
   {
    "duration": 95,
    "start_time": "2023-08-29T13:11:26.429Z"
   },
   {
    "duration": 25546,
    "start_time": "2023-08-29T13:11:45.017Z"
   },
   {
    "duration": 22370,
    "start_time": "2023-08-29T13:12:22.908Z"
   },
   {
    "duration": 23261,
    "start_time": "2023-08-29T13:13:12.948Z"
   },
   {
    "duration": 24507,
    "start_time": "2023-08-29T13:14:12.823Z"
   },
   {
    "duration": 7780,
    "start_time": "2023-08-29T13:27:56.241Z"
   },
   {
    "duration": 479,
    "start_time": "2023-08-29T13:28:54.723Z"
   },
   {
    "duration": 471,
    "start_time": "2023-08-29T13:29:07.344Z"
   },
   {
    "duration": 773,
    "start_time": "2023-08-29T13:29:33.572Z"
   },
   {
    "duration": 521,
    "start_time": "2023-08-29T13:29:50.157Z"
   },
   {
    "duration": 472,
    "start_time": "2023-08-29T13:31:02.285Z"
   },
   {
    "duration": 560,
    "start_time": "2023-08-29T13:31:19.231Z"
   },
   {
    "duration": 524,
    "start_time": "2023-08-29T13:32:10.958Z"
   },
   {
    "duration": 1226,
    "start_time": "2023-08-29T13:46:06.160Z"
   },
   {
    "duration": 53,
    "start_time": "2023-08-29T13:46:07.389Z"
   },
   {
    "duration": 19,
    "start_time": "2023-08-29T13:46:07.444Z"
   },
   {
    "duration": 17,
    "start_time": "2023-08-29T13:46:07.466Z"
   },
   {
    "duration": 4,
    "start_time": "2023-08-29T13:46:07.485Z"
   },
   {
    "duration": 43,
    "start_time": "2023-08-29T13:46:07.491Z"
   },
   {
    "duration": 19,
    "start_time": "2023-08-29T13:46:07.536Z"
   },
   {
    "duration": 23,
    "start_time": "2023-08-29T13:46:07.557Z"
   },
   {
    "duration": 10,
    "start_time": "2023-08-29T13:46:07.581Z"
   },
   {
    "duration": 5,
    "start_time": "2023-08-29T13:46:07.595Z"
   },
   {
    "duration": 8,
    "start_time": "2023-08-29T13:46:07.601Z"
   },
   {
    "duration": 21,
    "start_time": "2023-08-29T13:46:07.611Z"
   },
   {
    "duration": 9,
    "start_time": "2023-08-29T13:46:07.633Z"
   },
   {
    "duration": 21,
    "start_time": "2023-08-29T13:46:07.644Z"
   },
   {
    "duration": 7,
    "start_time": "2023-08-29T13:46:07.666Z"
   },
   {
    "duration": 14,
    "start_time": "2023-08-29T13:46:07.674Z"
   },
   {
    "duration": 10,
    "start_time": "2023-08-29T13:46:07.690Z"
   },
   {
    "duration": 19,
    "start_time": "2023-08-29T13:46:07.702Z"
   },
   {
    "duration": 16,
    "start_time": "2023-08-29T13:46:07.723Z"
   },
   {
    "duration": 16,
    "start_time": "2023-08-29T13:46:07.740Z"
   },
   {
    "duration": 45,
    "start_time": "2023-08-29T13:46:07.758Z"
   },
   {
    "duration": 23,
    "start_time": "2023-08-29T13:46:07.805Z"
   },
   {
    "duration": 14,
    "start_time": "2023-08-29T13:46:07.830Z"
   },
   {
    "duration": 15,
    "start_time": "2023-08-29T13:46:07.846Z"
   },
   {
    "duration": 25,
    "start_time": "2023-08-29T13:46:07.862Z"
   },
   {
    "duration": 11,
    "start_time": "2023-08-29T13:46:07.889Z"
   },
   {
    "duration": 322,
    "start_time": "2023-08-29T13:46:07.901Z"
   },
   {
    "duration": 712,
    "start_time": "2023-08-29T13:46:08.228Z"
   },
   {
    "duration": 568,
    "start_time": "2023-08-29T13:46:08.942Z"
   },
   {
    "duration": 10,
    "start_time": "2023-08-29T13:46:09.512Z"
   },
   {
    "duration": 163,
    "start_time": "2023-08-29T13:46:09.524Z"
   },
   {
    "duration": 6,
    "start_time": "2023-08-29T13:46:09.688Z"
   },
   {
    "duration": 154,
    "start_time": "2023-08-29T13:46:09.696Z"
   },
   {
    "duration": 7,
    "start_time": "2023-08-29T13:46:09.852Z"
   },
   {
    "duration": 19680,
    "start_time": "2023-08-29T13:46:09.861Z"
   },
   {
    "duration": 16,
    "start_time": "2023-08-29T13:51:27.653Z"
   },
   {
    "duration": 15,
    "start_time": "2023-08-29T13:51:42.286Z"
   },
   {
    "duration": 27,
    "start_time": "2023-08-29T13:52:00.769Z"
   },
   {
    "duration": 15,
    "start_time": "2023-08-29T13:52:23.095Z"
   },
   {
    "duration": 30,
    "start_time": "2023-08-29T13:54:23.768Z"
   },
   {
    "duration": 1218,
    "start_time": "2023-08-29T14:06:43.973Z"
   },
   {
    "duration": 55,
    "start_time": "2023-08-29T14:06:45.193Z"
   },
   {
    "duration": 19,
    "start_time": "2023-08-29T14:06:45.250Z"
   },
   {
    "duration": 38,
    "start_time": "2023-08-29T14:06:45.271Z"
   },
   {
    "duration": 14,
    "start_time": "2023-08-29T14:06:45.312Z"
   },
   {
    "duration": 39,
    "start_time": "2023-08-29T14:06:45.328Z"
   },
   {
    "duration": 28,
    "start_time": "2023-08-29T14:06:45.369Z"
   },
   {
    "duration": 22,
    "start_time": "2023-08-29T14:06:45.399Z"
   },
   {
    "duration": 10,
    "start_time": "2023-08-29T14:06:45.423Z"
   },
   {
    "duration": 38,
    "start_time": "2023-08-29T14:06:45.435Z"
   },
   {
    "duration": 18,
    "start_time": "2023-08-29T14:06:45.475Z"
   },
   {
    "duration": 20,
    "start_time": "2023-08-29T14:06:45.495Z"
   },
   {
    "duration": 10,
    "start_time": "2023-08-29T14:06:45.517Z"
   },
   {
    "duration": 10,
    "start_time": "2023-08-29T14:06:45.530Z"
   },
   {
    "duration": 5,
    "start_time": "2023-08-29T14:06:45.542Z"
   },
   {
    "duration": 39,
    "start_time": "2023-08-29T14:06:45.549Z"
   },
   {
    "duration": 21,
    "start_time": "2023-08-29T14:06:45.590Z"
   },
   {
    "duration": 23,
    "start_time": "2023-08-29T14:06:45.613Z"
   },
   {
    "duration": 47,
    "start_time": "2023-08-29T14:06:45.637Z"
   },
   {
    "duration": 32,
    "start_time": "2023-08-29T14:06:45.685Z"
   },
   {
    "duration": 42,
    "start_time": "2023-08-29T14:06:45.719Z"
   },
   {
    "duration": 24,
    "start_time": "2023-08-29T14:06:45.763Z"
   },
   {
    "duration": 6,
    "start_time": "2023-08-29T14:06:45.789Z"
   },
   {
    "duration": 30,
    "start_time": "2023-08-29T14:06:45.797Z"
   },
   {
    "duration": 28,
    "start_time": "2023-08-29T14:06:45.829Z"
   },
   {
    "duration": 9,
    "start_time": "2023-08-29T14:06:45.859Z"
   },
   {
    "duration": 311,
    "start_time": "2023-08-29T14:06:45.869Z"
   },
   {
    "duration": 717,
    "start_time": "2023-08-29T14:06:46.182Z"
   },
   {
    "duration": 577,
    "start_time": "2023-08-29T14:06:46.901Z"
   },
   {
    "duration": 12,
    "start_time": "2023-08-29T14:06:47.480Z"
   },
   {
    "duration": 158,
    "start_time": "2023-08-29T14:06:47.494Z"
   },
   {
    "duration": 6,
    "start_time": "2023-08-29T14:06:47.655Z"
   },
   {
    "duration": 170,
    "start_time": "2023-08-29T14:06:47.663Z"
   },
   {
    "duration": 5,
    "start_time": "2023-08-29T14:06:47.835Z"
   },
   {
    "duration": 45,
    "start_time": "2023-08-29T14:06:47.842Z"
   },
   {
    "duration": 20010,
    "start_time": "2023-08-29T14:06:47.889Z"
   },
   {
    "duration": 1214,
    "start_time": "2023-08-29T14:21:59.064Z"
   },
   {
    "duration": 54,
    "start_time": "2023-08-29T14:22:00.280Z"
   },
   {
    "duration": 19,
    "start_time": "2023-08-29T14:22:00.335Z"
   },
   {
    "duration": 66,
    "start_time": "2023-08-29T14:22:00.356Z"
   },
   {
    "duration": 62,
    "start_time": "2023-08-29T14:22:00.425Z"
   },
   {
    "duration": 70,
    "start_time": "2023-08-29T14:22:00.489Z"
   },
   {
    "duration": 68,
    "start_time": "2023-08-29T14:22:00.562Z"
   },
   {
    "duration": 87,
    "start_time": "2023-08-29T14:22:00.632Z"
   },
   {
    "duration": 148,
    "start_time": "2023-08-29T14:22:00.722Z"
   },
   {
    "duration": 84,
    "start_time": "2023-08-29T14:22:00.872Z"
   },
   {
    "duration": 77,
    "start_time": "2023-08-29T14:22:00.958Z"
   },
   {
    "duration": 47,
    "start_time": "2023-08-29T14:22:01.037Z"
   },
   {
    "duration": 52,
    "start_time": "2023-08-29T14:22:01.086Z"
   },
   {
    "duration": 44,
    "start_time": "2023-08-29T14:22:01.141Z"
   },
   {
    "duration": 23,
    "start_time": "2023-08-29T14:22:01.187Z"
   },
   {
    "duration": 49,
    "start_time": "2023-08-29T14:22:01.212Z"
   },
   {
    "duration": 43,
    "start_time": "2023-08-29T14:22:01.264Z"
   },
   {
    "duration": 64,
    "start_time": "2023-08-29T14:22:01.309Z"
   },
   {
    "duration": 44,
    "start_time": "2023-08-29T14:22:01.376Z"
   },
   {
    "duration": 59,
    "start_time": "2023-08-29T14:22:01.422Z"
   },
   {
    "duration": 48,
    "start_time": "2023-08-29T14:22:01.483Z"
   },
   {
    "duration": 92,
    "start_time": "2023-08-29T14:22:01.533Z"
   },
   {
    "duration": 96,
    "start_time": "2023-08-29T14:22:01.627Z"
   },
   {
    "duration": 57,
    "start_time": "2023-08-29T14:22:01.726Z"
   },
   {
    "duration": 45,
    "start_time": "2023-08-29T14:22:01.785Z"
   },
   {
    "duration": 32,
    "start_time": "2023-08-29T14:22:01.831Z"
   },
   {
    "duration": 329,
    "start_time": "2023-08-29T14:22:01.865Z"
   },
   {
    "duration": 240,
    "start_time": "2023-08-29T14:22:03.662Z"
   },
   {
    "duration": 6,
    "start_time": "2023-08-29T14:22:03.904Z"
   },
   {
    "duration": 316,
    "start_time": "2023-08-29T14:22:03.911Z"
   },
   {
    "duration": 19735,
    "start_time": "2023-08-29T14:22:04.229Z"
   },
   {
    "duration": 26,
    "start_time": "2023-08-29T14:22:23.965Z"
   },
   {
    "duration": 120,
    "start_time": "2023-08-29T14:22:48.861Z"
   },
   {
    "duration": 19,
    "start_time": "2023-08-29T14:23:52.679Z"
   },
   {
    "duration": 12,
    "start_time": "2023-08-29T14:24:09.152Z"
   },
   {
    "duration": 13,
    "start_time": "2023-08-29T14:25:03.692Z"
   },
   {
    "duration": 11,
    "start_time": "2023-08-29T14:25:51.932Z"
   },
   {
    "duration": 13,
    "start_time": "2023-08-29T14:26:40.941Z"
   },
   {
    "duration": 11,
    "start_time": "2023-08-29T14:32:39.462Z"
   },
   {
    "duration": 13,
    "start_time": "2023-08-29T14:33:03.499Z"
   },
   {
    "duration": 12,
    "start_time": "2023-08-29T14:33:19.419Z"
   },
   {
    "duration": 15,
    "start_time": "2023-08-29T14:37:38.301Z"
   },
   {
    "duration": 13,
    "start_time": "2023-08-29T14:37:51.936Z"
   },
   {
    "duration": 13,
    "start_time": "2023-08-29T14:38:05.759Z"
   },
   {
    "duration": 12,
    "start_time": "2023-08-29T14:39:46.380Z"
   },
   {
    "duration": 15,
    "start_time": "2023-08-29T14:39:57.013Z"
   },
   {
    "duration": 15,
    "start_time": "2023-08-29T14:50:31.815Z"
   },
   {
    "duration": 3,
    "start_time": "2023-08-29T14:50:52.912Z"
   },
   {
    "duration": 12,
    "start_time": "2023-08-29T14:50:56.096Z"
   },
   {
    "duration": 10,
    "start_time": "2023-08-29T14:52:41.756Z"
   },
   {
    "duration": 32,
    "start_time": "2023-08-29T14:52:47.218Z"
   },
   {
    "duration": 27,
    "start_time": "2023-08-29T14:53:40.091Z"
   },
   {
    "duration": 9,
    "start_time": "2023-08-29T14:54:58.582Z"
   },
   {
    "duration": 1213,
    "start_time": "2023-08-29T14:55:27.569Z"
   },
   {
    "duration": 63,
    "start_time": "2023-08-29T14:55:28.785Z"
   },
   {
    "duration": 24,
    "start_time": "2023-08-29T14:55:28.850Z"
   },
   {
    "duration": 45,
    "start_time": "2023-08-29T14:55:28.876Z"
   },
   {
    "duration": 10,
    "start_time": "2023-08-29T14:55:28.925Z"
   },
   {
    "duration": 40,
    "start_time": "2023-08-29T14:55:28.937Z"
   },
   {
    "duration": 34,
    "start_time": "2023-08-29T14:55:28.979Z"
   },
   {
    "duration": 37,
    "start_time": "2023-08-29T14:55:29.015Z"
   },
   {
    "duration": 24,
    "start_time": "2023-08-29T14:55:29.054Z"
   },
   {
    "duration": 21,
    "start_time": "2023-08-29T14:55:29.081Z"
   },
   {
    "duration": 14,
    "start_time": "2023-08-29T14:55:29.105Z"
   },
   {
    "duration": 33,
    "start_time": "2023-08-29T14:55:29.124Z"
   },
   {
    "duration": 26,
    "start_time": "2023-08-29T14:55:29.159Z"
   },
   {
    "duration": 21,
    "start_time": "2023-08-29T14:55:29.190Z"
   },
   {
    "duration": 23,
    "start_time": "2023-08-29T14:55:29.214Z"
   },
   {
    "duration": 19,
    "start_time": "2023-08-29T14:55:29.239Z"
   },
   {
    "duration": 33,
    "start_time": "2023-08-29T14:55:29.260Z"
   },
   {
    "duration": 18,
    "start_time": "2023-08-29T14:55:29.295Z"
   },
   {
    "duration": 13,
    "start_time": "2023-08-29T14:55:29.315Z"
   },
   {
    "duration": 16,
    "start_time": "2023-08-29T14:55:29.330Z"
   },
   {
    "duration": 37,
    "start_time": "2023-08-29T14:55:29.348Z"
   },
   {
    "duration": 26,
    "start_time": "2023-08-29T14:55:29.386Z"
   },
   {
    "duration": 45,
    "start_time": "2023-08-29T14:55:29.414Z"
   },
   {
    "duration": 16,
    "start_time": "2023-08-29T14:55:29.460Z"
   },
   {
    "duration": 40,
    "start_time": "2023-08-29T14:55:29.477Z"
   },
   {
    "duration": 7,
    "start_time": "2023-08-29T14:55:29.519Z"
   },
   {
    "duration": 305,
    "start_time": "2023-08-29T14:55:29.528Z"
   },
   {
    "duration": 688,
    "start_time": "2023-08-29T14:55:29.834Z"
   },
   {
    "duration": 549,
    "start_time": "2023-08-29T14:55:30.524Z"
   },
   {
    "duration": 9,
    "start_time": "2023-08-29T14:55:31.075Z"
   },
   {
    "duration": 359,
    "start_time": "2023-08-29T14:55:31.086Z"
   },
   {
    "duration": 12,
    "start_time": "2023-08-29T14:55:31.447Z"
   },
   {
    "duration": 211,
    "start_time": "2023-08-29T14:55:31.460Z"
   },
   {
    "duration": 6,
    "start_time": "2023-08-29T14:55:31.673Z"
   },
   {
    "duration": 49,
    "start_time": "2023-08-29T14:55:31.680Z"
   },
   {
    "duration": 19846,
    "start_time": "2023-08-29T14:55:31.731Z"
   },
   {
    "duration": 12,
    "start_time": "2023-08-29T14:55:51.579Z"
   },
   {
    "duration": 31,
    "start_time": "2023-08-29T14:55:51.593Z"
   },
   {
    "duration": 39,
    "start_time": "2023-08-29T14:55:51.626Z"
   },
   {
    "duration": 39,
    "start_time": "2023-08-29T14:55:51.667Z"
   },
   {
    "duration": 60,
    "start_time": "2023-08-29T14:55:51.710Z"
   },
   {
    "duration": 60,
    "start_time": "2023-08-29T14:55:51.772Z"
   },
   {
    "duration": 23,
    "start_time": "2023-08-29T14:55:51.834Z"
   },
   {
    "duration": 24,
    "start_time": "2023-08-29T14:55:51.858Z"
   },
   {
    "duration": 15,
    "start_time": "2023-08-29T14:55:51.884Z"
   },
   {
    "duration": 45,
    "start_time": "2023-08-29T14:55:51.911Z"
   },
   {
    "duration": 25,
    "start_time": "2023-08-29T14:55:51.959Z"
   },
   {
    "duration": 110,
    "start_time": "2023-08-29T14:56:07.392Z"
   },
   {
    "duration": 11,
    "start_time": "2023-08-29T14:57:31.177Z"
   },
   {
    "duration": 9,
    "start_time": "2023-08-29T14:57:34.400Z"
   },
   {
    "duration": 14,
    "start_time": "2023-08-29T14:57:34.788Z"
   },
   {
    "duration": 5,
    "start_time": "2023-08-29T14:58:16.729Z"
   },
   {
    "duration": 9,
    "start_time": "2023-08-29T15:02:18.368Z"
   },
   {
    "duration": 6,
    "start_time": "2023-08-29T15:03:50.845Z"
   },
   {
    "duration": 5,
    "start_time": "2023-08-29T15:05:37.512Z"
   },
   {
    "duration": 6,
    "start_time": "2023-08-29T15:05:57.319Z"
   },
   {
    "duration": 1231,
    "start_time": "2023-08-29T15:18:46.487Z"
   },
   {
    "duration": 54,
    "start_time": "2023-08-29T15:18:47.721Z"
   },
   {
    "duration": 20,
    "start_time": "2023-08-29T15:18:47.777Z"
   },
   {
    "duration": 15,
    "start_time": "2023-08-29T15:18:47.798Z"
   },
   {
    "duration": 3,
    "start_time": "2023-08-29T15:18:47.816Z"
   },
   {
    "duration": 4,
    "start_time": "2023-08-29T15:18:47.856Z"
   },
   {
    "duration": 17,
    "start_time": "2023-08-29T15:18:47.862Z"
   },
   {
    "duration": 18,
    "start_time": "2023-08-29T15:18:47.881Z"
   },
   {
    "duration": 11,
    "start_time": "2023-08-29T15:18:47.900Z"
   },
   {
    "duration": 8,
    "start_time": "2023-08-29T15:18:47.913Z"
   },
   {
    "duration": 5,
    "start_time": "2023-08-29T15:18:47.957Z"
   },
   {
    "duration": 13,
    "start_time": "2023-08-29T15:18:47.964Z"
   },
   {
    "duration": 5,
    "start_time": "2023-08-29T15:18:47.980Z"
   },
   {
    "duration": 45,
    "start_time": "2023-08-29T15:18:47.989Z"
   },
   {
    "duration": 24,
    "start_time": "2023-08-29T15:18:48.036Z"
   },
   {
    "duration": 24,
    "start_time": "2023-08-29T15:18:48.062Z"
   },
   {
    "duration": 27,
    "start_time": "2023-08-29T15:18:48.088Z"
   },
   {
    "duration": 9,
    "start_time": "2023-08-29T15:18:48.117Z"
   },
   {
    "duration": 18,
    "start_time": "2023-08-29T15:18:48.129Z"
   },
   {
    "duration": 11,
    "start_time": "2023-08-29T15:18:48.149Z"
   },
   {
    "duration": 26,
    "start_time": "2023-08-29T15:18:48.161Z"
   },
   {
    "duration": 35,
    "start_time": "2023-08-29T15:18:48.189Z"
   },
   {
    "duration": 8,
    "start_time": "2023-08-29T15:18:48.225Z"
   },
   {
    "duration": 30,
    "start_time": "2023-08-29T15:18:48.235Z"
   },
   {
    "duration": 25,
    "start_time": "2023-08-29T15:18:48.267Z"
   },
   {
    "duration": 8,
    "start_time": "2023-08-29T15:18:48.294Z"
   },
   {
    "duration": 346,
    "start_time": "2023-08-29T15:18:48.306Z"
   },
   {
    "duration": 754,
    "start_time": "2023-08-29T15:18:48.656Z"
   },
   {
    "duration": 563,
    "start_time": "2023-08-29T15:18:49.412Z"
   },
   {
    "duration": 11,
    "start_time": "2023-08-29T15:18:49.976Z"
   },
   {
    "duration": 163,
    "start_time": "2023-08-29T15:18:49.988Z"
   },
   {
    "duration": 6,
    "start_time": "2023-08-29T15:18:50.154Z"
   },
   {
    "duration": 161,
    "start_time": "2023-08-29T15:18:50.162Z"
   },
   {
    "duration": 6,
    "start_time": "2023-08-29T15:18:50.325Z"
   },
   {
    "duration": 42,
    "start_time": "2023-08-29T15:18:50.332Z"
   },
   {
    "duration": 20043,
    "start_time": "2023-08-29T15:18:50.376Z"
   },
   {
    "duration": 12,
    "start_time": "2023-08-29T15:19:10.421Z"
   },
   {
    "duration": 30,
    "start_time": "2023-08-29T15:19:10.434Z"
   },
   {
    "duration": 12,
    "start_time": "2023-08-29T15:19:10.466Z"
   },
   {
    "duration": 31,
    "start_time": "2023-08-29T15:19:10.480Z"
   },
   {
    "duration": 15,
    "start_time": "2023-08-29T15:19:10.516Z"
   },
   {
    "duration": 15,
    "start_time": "2023-08-29T15:19:10.557Z"
   },
   {
    "duration": 14,
    "start_time": "2023-08-29T15:19:10.574Z"
   },
   {
    "duration": 13,
    "start_time": "2023-08-29T15:19:10.591Z"
   },
   {
    "duration": 14,
    "start_time": "2023-08-29T15:19:10.605Z"
   },
   {
    "duration": 10,
    "start_time": "2023-08-29T15:19:10.657Z"
   },
   {
    "duration": 14,
    "start_time": "2023-08-29T15:19:10.669Z"
   },
   {
    "duration": 9,
    "start_time": "2023-08-29T15:19:10.685Z"
   },
   {
    "duration": 9,
    "start_time": "2023-08-29T15:19:10.696Z"
   },
   {
    "duration": 1362,
    "start_time": "2023-08-29T16:50:44.571Z"
   },
   {
    "duration": 178,
    "start_time": "2023-08-29T16:50:45.934Z"
   },
   {
    "duration": 20,
    "start_time": "2023-08-29T16:50:46.114Z"
   },
   {
    "duration": 17,
    "start_time": "2023-08-29T16:50:46.136Z"
   },
   {
    "duration": 2,
    "start_time": "2023-08-29T16:50:46.157Z"
   },
   {
    "duration": 22,
    "start_time": "2023-08-29T16:50:46.161Z"
   },
   {
    "duration": 13,
    "start_time": "2023-08-29T16:50:46.184Z"
   },
   {
    "duration": 20,
    "start_time": "2023-08-29T16:50:46.199Z"
   },
   {
    "duration": 9,
    "start_time": "2023-08-29T16:50:46.221Z"
   },
   {
    "duration": 10,
    "start_time": "2023-08-29T16:50:46.232Z"
   },
   {
    "duration": 35,
    "start_time": "2023-08-29T16:50:46.243Z"
   },
   {
    "duration": 36,
    "start_time": "2023-08-29T16:50:46.280Z"
   },
   {
    "duration": 5,
    "start_time": "2023-08-29T16:50:46.318Z"
   },
   {
    "duration": 7,
    "start_time": "2023-08-29T16:50:46.326Z"
   },
   {
    "duration": 11,
    "start_time": "2023-08-29T16:50:46.334Z"
   },
   {
    "duration": 21,
    "start_time": "2023-08-29T16:50:46.347Z"
   },
   {
    "duration": 8,
    "start_time": "2023-08-29T16:50:46.370Z"
   },
   {
    "duration": 12,
    "start_time": "2023-08-29T16:50:46.379Z"
   },
   {
    "duration": 14,
    "start_time": "2023-08-29T16:50:46.393Z"
   },
   {
    "duration": 20,
    "start_time": "2023-08-29T16:50:46.408Z"
   },
   {
    "duration": 27,
    "start_time": "2023-08-29T16:50:46.430Z"
   },
   {
    "duration": 29,
    "start_time": "2023-08-29T16:50:46.458Z"
   },
   {
    "duration": 5,
    "start_time": "2023-08-29T16:50:46.488Z"
   },
   {
    "duration": 17,
    "start_time": "2023-08-29T16:50:46.495Z"
   },
   {
    "duration": 29,
    "start_time": "2023-08-29T16:50:46.514Z"
   },
   {
    "duration": 13,
    "start_time": "2023-08-29T16:50:46.545Z"
   },
   {
    "duration": 312,
    "start_time": "2023-08-29T16:50:46.559Z"
   },
   {
    "duration": 734,
    "start_time": "2023-08-29T16:50:46.873Z"
   },
   {
    "duration": 595,
    "start_time": "2023-08-29T16:50:47.609Z"
   },
   {
    "duration": 10,
    "start_time": "2023-08-29T16:50:48.206Z"
   },
   {
    "duration": 178,
    "start_time": "2023-08-29T16:50:48.218Z"
   },
   {
    "duration": 5,
    "start_time": "2023-08-29T16:50:48.398Z"
   },
   {
    "duration": 152,
    "start_time": "2023-08-29T16:50:48.404Z"
   },
   {
    "duration": 6,
    "start_time": "2023-08-29T16:50:48.558Z"
   },
   {
    "duration": 40,
    "start_time": "2023-08-29T16:50:48.565Z"
   },
   {
    "duration": 20975,
    "start_time": "2023-08-29T16:50:48.607Z"
   },
   {
    "duration": 12,
    "start_time": "2023-08-29T16:51:09.583Z"
   },
   {
    "duration": 24,
    "start_time": "2023-08-29T16:51:09.596Z"
   },
   {
    "duration": 32,
    "start_time": "2023-08-29T16:51:09.622Z"
   },
   {
    "duration": 17,
    "start_time": "2023-08-29T16:51:09.657Z"
   },
   {
    "duration": 25,
    "start_time": "2023-08-29T16:51:09.677Z"
   },
   {
    "duration": 43,
    "start_time": "2023-08-29T16:51:09.703Z"
   },
   {
    "duration": 25,
    "start_time": "2023-08-29T16:51:09.748Z"
   },
   {
    "duration": 22,
    "start_time": "2023-08-29T16:51:09.775Z"
   },
   {
    "duration": 16,
    "start_time": "2023-08-29T16:51:09.799Z"
   },
   {
    "duration": 31,
    "start_time": "2023-08-29T16:51:09.817Z"
   },
   {
    "duration": 12,
    "start_time": "2023-08-29T16:51:09.850Z"
   },
   {
    "duration": 20,
    "start_time": "2023-08-29T16:51:09.863Z"
   },
   {
    "duration": 7,
    "start_time": "2023-08-29T16:51:09.885Z"
   },
   {
    "duration": 47,
    "start_time": "2023-08-30T06:53:17.103Z"
   },
   {
    "duration": 1359,
    "start_time": "2023-08-30T06:53:20.865Z"
   },
   {
    "duration": 111,
    "start_time": "2023-08-30T06:53:22.226Z"
   },
   {
    "duration": 27,
    "start_time": "2023-08-30T06:53:22.339Z"
   },
   {
    "duration": 19,
    "start_time": "2023-08-30T06:53:22.368Z"
   },
   {
    "duration": 3,
    "start_time": "2023-08-30T06:53:24.190Z"
   },
   {
    "duration": 1651,
    "start_time": "2023-08-30T07:25:11.043Z"
   },
   {
    "duration": 98,
    "start_time": "2023-08-30T07:25:12.696Z"
   },
   {
    "duration": 36,
    "start_time": "2023-08-30T07:25:12.910Z"
   },
   {
    "duration": 16,
    "start_time": "2023-08-30T07:25:12.948Z"
   },
   {
    "duration": 15,
    "start_time": "2023-08-30T07:25:12.968Z"
   },
   {
    "duration": 6,
    "start_time": "2023-08-30T07:25:12.986Z"
   },
   {
    "duration": 24,
    "start_time": "2023-08-30T07:25:12.994Z"
   },
   {
    "duration": 6,
    "start_time": "2023-08-30T07:25:13.020Z"
   },
   {
    "duration": 15,
    "start_time": "2023-08-30T07:25:13.028Z"
   },
   {
    "duration": 8,
    "start_time": "2023-08-30T07:25:13.046Z"
   },
   {
    "duration": 26,
    "start_time": "2023-08-30T07:25:13.057Z"
   },
   {
    "duration": 13,
    "start_time": "2023-08-30T07:25:13.085Z"
   },
   {
    "duration": 18,
    "start_time": "2023-08-30T07:25:13.100Z"
   },
   {
    "duration": 17,
    "start_time": "2023-08-30T07:25:13.121Z"
   },
   {
    "duration": 14,
    "start_time": "2023-08-30T07:25:13.140Z"
   },
   {
    "duration": 19,
    "start_time": "2023-08-30T07:25:13.156Z"
   },
   {
    "duration": 22,
    "start_time": "2023-08-30T07:25:13.181Z"
   },
   {
    "duration": 32,
    "start_time": "2023-08-30T07:25:13.205Z"
   },
   {
    "duration": 8,
    "start_time": "2023-08-30T07:25:13.239Z"
   },
   {
    "duration": 25,
    "start_time": "2023-08-30T07:25:13.251Z"
   },
   {
    "duration": 72,
    "start_time": "2023-08-30T07:25:13.278Z"
   },
   {
    "duration": 9,
    "start_time": "2023-08-30T07:25:13.354Z"
   },
   {
    "duration": 469,
    "start_time": "2023-08-30T07:25:13.369Z"
   },
   {
    "duration": 1124,
    "start_time": "2023-08-30T07:25:13.845Z"
   },
   {
    "duration": 811,
    "start_time": "2023-08-30T07:25:14.972Z"
   },
   {
    "duration": 14,
    "start_time": "2023-08-30T07:25:15.785Z"
   },
   {
    "duration": 174,
    "start_time": "2023-08-30T07:25:15.802Z"
   },
   {
    "duration": 7,
    "start_time": "2023-08-30T07:25:15.978Z"
   },
   {
    "duration": 182,
    "start_time": "2023-08-30T07:25:15.987Z"
   },
   {
    "duration": 6,
    "start_time": "2023-08-30T07:25:16.171Z"
   },
   {
    "duration": 48,
    "start_time": "2023-08-30T07:25:16.179Z"
   },
   {
    "duration": 26138,
    "start_time": "2023-08-30T07:25:16.229Z"
   },
   {
    "duration": 12,
    "start_time": "2023-08-30T07:25:42.369Z"
   },
   {
    "duration": 39,
    "start_time": "2023-08-30T07:25:42.383Z"
   },
   {
    "duration": 27,
    "start_time": "2023-08-30T07:25:42.424Z"
   },
   {
    "duration": 25,
    "start_time": "2023-08-30T07:25:42.453Z"
   },
   {
    "duration": 25,
    "start_time": "2023-08-30T07:25:42.480Z"
   },
   {
    "duration": 14,
    "start_time": "2023-08-30T07:25:42.507Z"
   },
   {
    "duration": 16,
    "start_time": "2023-08-30T07:25:42.526Z"
   },
   {
    "duration": 15,
    "start_time": "2023-08-30T07:25:42.544Z"
   },
   {
    "duration": 15,
    "start_time": "2023-08-30T07:25:42.561Z"
   },
   {
    "duration": 49,
    "start_time": "2023-08-30T07:25:42.578Z"
   },
   {
    "duration": 12,
    "start_time": "2023-08-30T07:25:42.629Z"
   },
   {
    "duration": 17,
    "start_time": "2023-08-30T07:25:42.643Z"
   },
   {
    "duration": 9,
    "start_time": "2023-08-30T07:25:42.665Z"
   },
   {
    "duration": 331,
    "start_time": "2023-08-30T07:27:01.559Z"
   },
   {
    "duration": 202,
    "start_time": "2023-08-30T07:27:18.699Z"
   },
   {
    "duration": 27,
    "start_time": "2023-08-30T07:27:36.667Z"
   },
   {
    "duration": 15,
    "start_time": "2023-08-30T07:27:51.060Z"
   },
   {
    "duration": 13,
    "start_time": "2023-08-30T07:28:38.750Z"
   },
   {
    "duration": 23,
    "start_time": "2023-08-30T07:28:44.701Z"
   },
   {
    "duration": 1880,
    "start_time": "2023-08-30T07:29:25.779Z"
   },
   {
    "duration": 207,
    "start_time": "2023-08-30T07:29:42.636Z"
   },
   {
    "duration": 11,
    "start_time": "2023-08-30T07:31:12.496Z"
   },
   {
    "duration": 7,
    "start_time": "2023-08-30T07:31:16.552Z"
   },
   {
    "duration": 190,
    "start_time": "2023-08-30T07:31:16.677Z"
   },
   {
    "duration": 235,
    "start_time": "2023-08-30T07:31:39.157Z"
   },
   {
    "duration": 218,
    "start_time": "2023-08-30T07:31:52.093Z"
   },
   {
    "duration": 211,
    "start_time": "2023-08-30T07:32:03.286Z"
   },
   {
    "duration": 235,
    "start_time": "2023-08-30T07:32:38.001Z"
   },
   {
    "duration": 196,
    "start_time": "2023-08-30T07:33:06.390Z"
   },
   {
    "duration": 198,
    "start_time": "2023-08-30T07:33:41.741Z"
   },
   {
    "duration": 197,
    "start_time": "2023-08-30T07:33:47.191Z"
   },
   {
    "duration": 227,
    "start_time": "2023-08-30T07:34:06.288Z"
   },
   {
    "duration": 345,
    "start_time": "2023-08-30T07:34:17.252Z"
   },
   {
    "duration": 235,
    "start_time": "2023-08-30T07:34:28.885Z"
   },
   {
    "duration": 307,
    "start_time": "2023-08-30T07:34:41.378Z"
   },
   {
    "duration": 11,
    "start_time": "2023-08-30T07:35:45.962Z"
   },
   {
    "duration": 206,
    "start_time": "2023-08-30T07:36:01.506Z"
   },
   {
    "duration": 16,
    "start_time": "2023-08-30T07:36:12.042Z"
   },
   {
    "duration": 222,
    "start_time": "2023-08-30T07:39:34.556Z"
   },
   {
    "duration": 1245,
    "start_time": "2023-08-30T07:42:25.531Z"
   },
   {
    "duration": 66,
    "start_time": "2023-08-30T07:42:26.778Z"
   },
   {
    "duration": 17,
    "start_time": "2023-08-30T07:42:26.846Z"
   },
   {
    "duration": 14,
    "start_time": "2023-08-30T07:42:26.865Z"
   },
   {
    "duration": 46,
    "start_time": "2023-08-30T07:42:26.881Z"
   },
   {
    "duration": 21,
    "start_time": "2023-08-30T07:42:26.929Z"
   },
   {
    "duration": 22,
    "start_time": "2023-08-30T07:42:26.951Z"
   },
   {
    "duration": 30,
    "start_time": "2023-08-30T07:42:26.975Z"
   },
   {
    "duration": 19,
    "start_time": "2023-08-30T07:42:27.007Z"
   },
   {
    "duration": 10,
    "start_time": "2023-08-30T07:42:27.031Z"
   },
   {
    "duration": 22,
    "start_time": "2023-08-30T07:42:27.043Z"
   },
   {
    "duration": 21,
    "start_time": "2023-08-30T07:42:27.067Z"
   },
   {
    "duration": 9,
    "start_time": "2023-08-30T07:42:27.090Z"
   },
   {
    "duration": 31,
    "start_time": "2023-08-30T07:42:27.101Z"
   },
   {
    "duration": 17,
    "start_time": "2023-08-30T07:42:27.134Z"
   },
   {
    "duration": 36,
    "start_time": "2023-08-30T07:42:27.152Z"
   },
   {
    "duration": 25,
    "start_time": "2023-08-30T07:42:27.190Z"
   },
   {
    "duration": 16,
    "start_time": "2023-08-30T07:42:27.217Z"
   },
   {
    "duration": 19,
    "start_time": "2023-08-30T07:42:27.236Z"
   },
   {
    "duration": 12,
    "start_time": "2023-08-30T07:42:27.257Z"
   },
   {
    "duration": 30,
    "start_time": "2023-08-30T07:42:27.270Z"
   },
   {
    "duration": 22,
    "start_time": "2023-08-30T07:42:27.302Z"
   },
   {
    "duration": 16,
    "start_time": "2023-08-30T07:42:27.327Z"
   },
   {
    "duration": 321,
    "start_time": "2023-08-30T07:42:27.345Z"
   },
   {
    "duration": 8,
    "start_time": "2023-08-30T07:42:27.667Z"
   },
   {
    "duration": 21,
    "start_time": "2023-08-30T07:42:27.676Z"
   },
   {
    "duration": 35,
    "start_time": "2023-08-30T07:42:27.698Z"
   },
   {
    "duration": 8,
    "start_time": "2023-08-30T07:42:27.735Z"
   },
   {
    "duration": 614,
    "start_time": "2023-08-30T07:42:27.745Z"
   },
   {
    "duration": 0,
    "start_time": "2023-08-30T07:42:28.362Z"
   },
   {
    "duration": 0,
    "start_time": "2023-08-30T07:42:28.363Z"
   },
   {
    "duration": 0,
    "start_time": "2023-08-30T07:42:28.365Z"
   },
   {
    "duration": 0,
    "start_time": "2023-08-30T07:42:28.366Z"
   },
   {
    "duration": 0,
    "start_time": "2023-08-30T07:42:28.368Z"
   },
   {
    "duration": 0,
    "start_time": "2023-08-30T07:42:28.369Z"
   },
   {
    "duration": 0,
    "start_time": "2023-08-30T07:42:28.371Z"
   },
   {
    "duration": 0,
    "start_time": "2023-08-30T07:42:28.373Z"
   },
   {
    "duration": 0,
    "start_time": "2023-08-30T07:42:28.374Z"
   },
   {
    "duration": 0,
    "start_time": "2023-08-30T07:42:28.375Z"
   },
   {
    "duration": 0,
    "start_time": "2023-08-30T07:42:28.376Z"
   },
   {
    "duration": 0,
    "start_time": "2023-08-30T07:42:28.377Z"
   },
   {
    "duration": 0,
    "start_time": "2023-08-30T07:42:28.411Z"
   },
   {
    "duration": 0,
    "start_time": "2023-08-30T07:42:28.413Z"
   },
   {
    "duration": 0,
    "start_time": "2023-08-30T07:42:28.414Z"
   },
   {
    "duration": 0,
    "start_time": "2023-08-30T07:42:28.415Z"
   },
   {
    "duration": 0,
    "start_time": "2023-08-30T07:42:28.416Z"
   },
   {
    "duration": 0,
    "start_time": "2023-08-30T07:42:28.417Z"
   },
   {
    "duration": 0,
    "start_time": "2023-08-30T07:42:28.419Z"
   },
   {
    "duration": 0,
    "start_time": "2023-08-30T07:42:28.420Z"
   },
   {
    "duration": 0,
    "start_time": "2023-08-30T07:42:28.421Z"
   },
   {
    "duration": 0,
    "start_time": "2023-08-30T07:42:28.422Z"
   },
   {
    "duration": 179,
    "start_time": "2023-08-30T07:43:23.168Z"
   },
   {
    "duration": 171,
    "start_time": "2023-08-30T07:43:31.233Z"
   },
   {
    "duration": 179,
    "start_time": "2023-08-30T07:43:35.388Z"
   },
   {
    "duration": 245,
    "start_time": "2023-08-30T07:43:39.323Z"
   },
   {
    "duration": 216,
    "start_time": "2023-08-30T07:43:43.268Z"
   },
   {
    "duration": 751,
    "start_time": "2023-08-30T07:43:49.556Z"
   },
   {
    "duration": 226,
    "start_time": "2023-08-30T07:43:56.968Z"
   },
   {
    "duration": 215,
    "start_time": "2023-08-30T07:44:02.035Z"
   },
   {
    "duration": 159954,
    "start_time": "2023-08-30T07:44:19.323Z"
   },
   {
    "duration": 169856,
    "start_time": "2023-08-30T07:47:23.289Z"
   },
   {
    "duration": 194,
    "start_time": "2023-08-30T07:50:13.147Z"
   },
   {
    "duration": 41111,
    "start_time": "2023-08-30T07:50:30.254Z"
   },
   {
    "duration": 220,
    "start_time": "2023-08-30T07:52:11.590Z"
   },
   {
    "duration": 42132,
    "start_time": "2023-08-30T07:55:09.943Z"
   },
   {
    "duration": 890,
    "start_time": "2023-08-30T07:56:30.060Z"
   },
   {
    "duration": 106,
    "start_time": "2023-08-30T07:57:32.570Z"
   },
   {
    "duration": 4129,
    "start_time": "2023-08-30T07:57:46.654Z"
   },
   {
    "duration": 11,
    "start_time": "2023-08-30T07:58:07.597Z"
   },
   {
    "duration": 3061,
    "start_time": "2023-08-30T07:58:50.955Z"
   },
   {
    "duration": 3034,
    "start_time": "2023-08-30T07:59:07.149Z"
   },
   {
    "duration": 4719,
    "start_time": "2023-08-30T07:59:13.034Z"
   },
   {
    "duration": 165,
    "start_time": "2023-08-30T07:59:24.485Z"
   },
   {
    "duration": 174,
    "start_time": "2023-08-30T07:59:36.424Z"
   },
   {
    "duration": 139,
    "start_time": "2023-08-30T07:59:47.501Z"
   },
   {
    "duration": 7,
    "start_time": "2023-08-30T07:59:53.931Z"
   },
   {
    "duration": 140,
    "start_time": "2023-08-30T07:59:54.098Z"
   },
   {
    "duration": 725,
    "start_time": "2023-08-30T08:00:29.167Z"
   },
   {
    "duration": 99,
    "start_time": "2023-08-30T08:04:40.446Z"
   },
   {
    "duration": 9,
    "start_time": "2023-08-30T08:04:51.571Z"
   },
   {
    "duration": 43,
    "start_time": "2023-08-30T08:04:58.592Z"
   },
   {
    "duration": 224,
    "start_time": "2023-08-30T08:05:51.809Z"
   },
   {
    "duration": 1861,
    "start_time": "2023-08-30T08:06:32.074Z"
   },
   {
    "duration": 216,
    "start_time": "2023-08-30T08:06:37.772Z"
   },
   {
    "duration": 230,
    "start_time": "2023-08-30T08:07:09.127Z"
   },
   {
    "duration": 191,
    "start_time": "2023-08-30T08:07:23.072Z"
   },
   {
    "duration": 2568,
    "start_time": "2023-08-30T08:07:48.637Z"
   },
   {
    "duration": 167,
    "start_time": "2023-08-30T08:08:25.857Z"
   },
   {
    "duration": 262,
    "start_time": "2023-08-30T08:08:32.632Z"
   },
   {
    "duration": 236,
    "start_time": "2023-08-30T08:08:38.236Z"
   },
   {
    "duration": 203,
    "start_time": "2023-08-30T08:09:00.773Z"
   },
   {
    "duration": 202,
    "start_time": "2023-08-30T08:09:24.180Z"
   },
   {
    "duration": 32,
    "start_time": "2023-08-30T08:12:40.629Z"
   },
   {
    "duration": 221,
    "start_time": "2023-08-30T08:12:47.041Z"
   },
   {
    "duration": 208,
    "start_time": "2023-08-30T08:13:01.560Z"
   },
   {
    "duration": 280,
    "start_time": "2023-08-30T08:14:05.775Z"
   },
   {
    "duration": 344,
    "start_time": "2023-08-30T08:14:31.695Z"
   },
   {
    "duration": 280,
    "start_time": "2023-08-30T08:15:52.706Z"
   },
   {
    "duration": 197,
    "start_time": "2023-08-30T08:16:47.688Z"
   },
   {
    "duration": 220,
    "start_time": "2023-08-30T08:20:32.792Z"
   },
   {
    "duration": 289,
    "start_time": "2023-08-30T08:21:22.663Z"
   },
   {
    "duration": 195,
    "start_time": "2023-08-30T08:21:31.880Z"
   },
   {
    "duration": 14,
    "start_time": "2023-08-30T08:40:02.215Z"
   },
   {
    "duration": 726,
    "start_time": "2023-08-30T08:42:18.311Z"
   },
   {
    "duration": 14,
    "start_time": "2023-08-30T08:42:45.449Z"
   },
   {
    "duration": 14,
    "start_time": "2023-08-30T08:42:47.681Z"
   },
   {
    "duration": 16,
    "start_time": "2023-08-30T08:43:00.241Z"
   },
   {
    "duration": 27,
    "start_time": "2023-08-30T08:43:00.404Z"
   },
   {
    "duration": 22,
    "start_time": "2023-08-30T08:43:00.598Z"
   },
   {
    "duration": 21,
    "start_time": "2023-08-30T08:43:01.029Z"
   },
   {
    "duration": 276,
    "start_time": "2023-08-30T08:43:01.174Z"
   },
   {
    "duration": 313,
    "start_time": "2023-08-30T08:43:01.505Z"
   },
   {
    "duration": 276,
    "start_time": "2023-08-30T08:43:02.243Z"
   },
   {
    "duration": 340,
    "start_time": "2023-08-30T08:43:02.522Z"
   },
   {
    "duration": 0,
    "start_time": "2023-08-30T08:43:02.867Z"
   },
   {
    "duration": 281,
    "start_time": "2023-08-30T08:43:12.449Z"
   },
   {
    "duration": 257,
    "start_time": "2023-08-30T08:43:19.962Z"
   },
   {
    "duration": 254,
    "start_time": "2023-08-30T08:43:23.363Z"
   },
   {
    "duration": 16,
    "start_time": "2023-08-30T08:43:28.579Z"
   },
   {
    "duration": 14,
    "start_time": "2023-08-30T08:43:44.646Z"
   },
   {
    "duration": 6,
    "start_time": "2023-08-30T08:44:05.478Z"
   },
   {
    "duration": 7,
    "start_time": "2023-08-30T08:48:35.380Z"
   },
   {
    "duration": 11,
    "start_time": "2023-08-30T08:48:41.125Z"
   },
   {
    "duration": 1047,
    "start_time": "2023-08-30T08:50:44.167Z"
   },
   {
    "duration": 11,
    "start_time": "2023-08-30T08:58:17.549Z"
   },
   {
    "duration": 33,
    "start_time": "2023-08-30T08:58:44.277Z"
   },
   {
    "duration": 16,
    "start_time": "2023-08-30T09:02:27.632Z"
   },
   {
    "duration": 10,
    "start_time": "2023-08-30T09:03:23.021Z"
   },
   {
    "duration": 193,
    "start_time": "2023-08-30T09:13:31.532Z"
   },
   {
    "duration": 221,
    "start_time": "2023-08-30T09:13:42.954Z"
   },
   {
    "duration": 193,
    "start_time": "2023-08-30T09:18:03.276Z"
   },
   {
    "duration": 175,
    "start_time": "2023-08-30T09:18:45.456Z"
   },
   {
    "duration": 217,
    "start_time": "2023-08-30T09:19:31.350Z"
   },
   {
    "duration": 297,
    "start_time": "2023-08-30T09:20:02.277Z"
   },
   {
    "duration": 299,
    "start_time": "2023-08-30T09:20:14.870Z"
   },
   {
    "duration": 205,
    "start_time": "2023-08-30T09:20:39.753Z"
   },
   {
    "duration": 666,
    "start_time": "2023-08-30T09:38:32.370Z"
   },
   {
    "duration": 621,
    "start_time": "2023-08-30T09:38:42.639Z"
   },
   {
    "duration": 1802,
    "start_time": "2023-08-30T09:58:28.698Z"
   },
   {
    "duration": 89,
    "start_time": "2023-08-30T09:58:30.502Z"
   },
   {
    "duration": 53,
    "start_time": "2023-08-30T09:58:30.594Z"
   },
   {
    "duration": 35,
    "start_time": "2023-08-30T09:58:30.652Z"
   },
   {
    "duration": 20,
    "start_time": "2023-08-30T09:58:30.690Z"
   },
   {
    "duration": 35,
    "start_time": "2023-08-30T09:58:30.720Z"
   },
   {
    "duration": 43,
    "start_time": "2023-08-30T09:58:30.759Z"
   },
   {
    "duration": 59,
    "start_time": "2023-08-30T09:58:30.803Z"
   },
   {
    "duration": 16,
    "start_time": "2023-08-30T09:58:30.864Z"
   },
   {
    "duration": 67,
    "start_time": "2023-08-30T09:58:30.885Z"
   },
   {
    "duration": 130,
    "start_time": "2023-08-30T09:58:30.954Z"
   },
   {
    "duration": 168,
    "start_time": "2023-08-30T09:58:31.087Z"
   },
   {
    "duration": 196,
    "start_time": "2023-08-30T09:58:31.258Z"
   },
   {
    "duration": 84,
    "start_time": "2023-08-30T09:58:31.457Z"
   },
   {
    "duration": 55,
    "start_time": "2023-08-30T09:58:31.551Z"
   },
   {
    "duration": 52,
    "start_time": "2023-08-30T09:58:31.608Z"
   },
   {
    "duration": 36,
    "start_time": "2023-08-30T09:58:31.662Z"
   },
   {
    "duration": 30,
    "start_time": "2023-08-30T09:58:31.700Z"
   },
   {
    "duration": 45,
    "start_time": "2023-08-30T09:58:31.733Z"
   },
   {
    "duration": 82,
    "start_time": "2023-08-30T09:58:31.780Z"
   },
   {
    "duration": 91,
    "start_time": "2023-08-30T09:58:31.865Z"
   },
   {
    "duration": 81,
    "start_time": "2023-08-30T09:58:31.958Z"
   },
   {
    "duration": 11,
    "start_time": "2023-08-30T09:58:32.042Z"
   },
   {
    "duration": 478,
    "start_time": "2023-08-30T09:58:32.056Z"
   },
   {
    "duration": 14,
    "start_time": "2023-08-30T09:58:32.540Z"
   },
   {
    "duration": 36,
    "start_time": "2023-08-30T09:58:32.557Z"
   },
   {
    "duration": 52,
    "start_time": "2023-08-30T09:58:32.595Z"
   },
   {
    "duration": 11,
    "start_time": "2023-08-30T09:58:32.655Z"
   },
   {
    "duration": 278,
    "start_time": "2023-08-30T09:58:32.669Z"
   },
   {
    "duration": 311,
    "start_time": "2023-08-30T09:58:32.951Z"
   },
   {
    "duration": 310,
    "start_time": "2023-08-30T09:58:33.266Z"
   },
   {
    "duration": 290,
    "start_time": "2023-08-30T09:58:33.578Z"
   },
   {
    "duration": 271,
    "start_time": "2023-08-30T09:58:33.870Z"
   },
   {
    "duration": 8,
    "start_time": "2023-08-30T09:58:34.148Z"
   },
   {
    "duration": 10,
    "start_time": "2023-08-30T09:58:34.158Z"
   },
   {
    "duration": 12,
    "start_time": "2023-08-30T09:58:34.170Z"
   },
   {
    "duration": 258,
    "start_time": "2023-08-30T09:58:34.184Z"
   },
   {
    "duration": 284,
    "start_time": "2023-08-30T09:58:34.449Z"
   },
   {
    "duration": 250,
    "start_time": "2023-08-30T09:58:34.737Z"
   },
   {
    "duration": 241,
    "start_time": "2023-08-30T09:58:34.989Z"
   },
   {
    "duration": 272,
    "start_time": "2023-08-30T09:58:35.239Z"
   },
   {
    "duration": 267,
    "start_time": "2023-08-30T09:58:35.513Z"
   },
   {
    "duration": 217,
    "start_time": "2023-08-30T09:58:35.782Z"
   },
   {
    "duration": 573,
    "start_time": "2023-08-30T09:58:36.001Z"
   },
   {
    "duration": 11,
    "start_time": "2023-08-30T09:58:36.577Z"
   },
   {
    "duration": 206,
    "start_time": "2023-08-30T09:58:36.590Z"
   },
   {
    "duration": 11,
    "start_time": "2023-08-30T09:58:36.799Z"
   },
   {
    "duration": 230,
    "start_time": "2023-08-30T09:58:36.812Z"
   },
   {
    "duration": 8,
    "start_time": "2023-08-30T09:58:37.044Z"
   },
   {
    "duration": 48,
    "start_time": "2023-08-30T09:58:37.054Z"
   },
   {
    "duration": 4388,
    "start_time": "2023-08-30T09:58:37.104Z"
   },
   {
    "duration": 26,
    "start_time": "2023-08-30T09:58:41.494Z"
   },
   {
    "duration": 24,
    "start_time": "2023-08-30T09:58:41.522Z"
   },
   {
    "duration": 19,
    "start_time": "2023-08-30T09:58:41.553Z"
   },
   {
    "duration": 13,
    "start_time": "2023-08-30T09:58:41.574Z"
   },
   {
    "duration": 29,
    "start_time": "2023-08-30T09:58:41.589Z"
   },
   {
    "duration": 34,
    "start_time": "2023-08-30T09:58:41.628Z"
   },
   {
    "duration": 13,
    "start_time": "2023-08-30T09:58:41.665Z"
   },
   {
    "duration": 15,
    "start_time": "2023-08-30T09:58:41.680Z"
   },
   {
    "duration": 50,
    "start_time": "2023-08-30T09:58:41.697Z"
   },
   {
    "duration": 11,
    "start_time": "2023-08-30T09:58:41.749Z"
   },
   {
    "duration": 7,
    "start_time": "2023-08-30T09:58:41.762Z"
   },
   {
    "duration": 8,
    "start_time": "2023-08-30T09:58:41.772Z"
   },
   {
    "duration": 18,
    "start_time": "2023-08-30T09:58:41.782Z"
   },
   {
    "duration": 17,
    "start_time": "2023-08-30T10:51:14.770Z"
   },
   {
    "duration": 379,
    "start_time": "2023-08-30T10:51:14.911Z"
   },
   {
    "duration": 12,
    "start_time": "2023-08-30T10:51:15.296Z"
   },
   {
    "duration": 417,
    "start_time": "2023-08-30T10:51:20.209Z"
   },
   {
    "duration": 2574,
    "start_time": "2023-08-30T10:51:32.439Z"
   },
   {
    "duration": 136,
    "start_time": "2023-08-30T10:51:35.016Z"
   },
   {
    "duration": 31,
    "start_time": "2023-08-30T10:51:35.154Z"
   },
   {
    "duration": 34,
    "start_time": "2023-08-30T10:51:35.196Z"
   },
   {
    "duration": 11,
    "start_time": "2023-08-30T10:51:35.239Z"
   },
   {
    "duration": 22,
    "start_time": "2023-08-30T10:51:35.259Z"
   },
   {
    "duration": 28,
    "start_time": "2023-08-30T10:51:35.292Z"
   },
   {
    "duration": 36,
    "start_time": "2023-08-30T10:51:35.326Z"
   },
   {
    "duration": 26,
    "start_time": "2023-08-30T10:51:35.368Z"
   },
   {
    "duration": 8,
    "start_time": "2023-08-30T10:51:35.401Z"
   },
   {
    "duration": 12,
    "start_time": "2023-08-30T10:51:35.417Z"
   },
   {
    "duration": 17,
    "start_time": "2023-08-30T10:51:35.445Z"
   },
   {
    "duration": 15,
    "start_time": "2023-08-30T10:51:35.469Z"
   },
   {
    "duration": 195,
    "start_time": "2023-08-30T10:51:35.498Z"
   },
   {
    "duration": 0,
    "start_time": "2023-08-30T10:51:35.701Z"
   },
   {
    "duration": 0,
    "start_time": "2023-08-30T10:51:35.707Z"
   },
   {
    "duration": 0,
    "start_time": "2023-08-30T10:51:35.713Z"
   },
   {
    "duration": 0,
    "start_time": "2023-08-30T10:51:35.720Z"
   },
   {
    "duration": 0,
    "start_time": "2023-08-30T10:51:35.726Z"
   },
   {
    "duration": 0,
    "start_time": "2023-08-30T10:51:35.731Z"
   },
   {
    "duration": 1,
    "start_time": "2023-08-30T10:51:35.733Z"
   },
   {
    "duration": 0,
    "start_time": "2023-08-30T10:51:35.742Z"
   },
   {
    "duration": 0,
    "start_time": "2023-08-30T10:51:35.744Z"
   },
   {
    "duration": 0,
    "start_time": "2023-08-30T10:51:35.746Z"
   },
   {
    "duration": 0,
    "start_time": "2023-08-30T10:51:35.747Z"
   },
   {
    "duration": 0,
    "start_time": "2023-08-30T10:51:35.749Z"
   },
   {
    "duration": 0,
    "start_time": "2023-08-30T10:51:35.751Z"
   },
   {
    "duration": 0,
    "start_time": "2023-08-30T10:51:35.759Z"
   },
   {
    "duration": 0,
    "start_time": "2023-08-30T10:51:35.761Z"
   },
   {
    "duration": 0,
    "start_time": "2023-08-30T10:51:35.763Z"
   },
   {
    "duration": 0,
    "start_time": "2023-08-30T10:51:35.764Z"
   },
   {
    "duration": 0,
    "start_time": "2023-08-30T10:51:35.766Z"
   },
   {
    "duration": 0,
    "start_time": "2023-08-30T10:51:35.774Z"
   },
   {
    "duration": 0,
    "start_time": "2023-08-30T10:51:35.776Z"
   },
   {
    "duration": 0,
    "start_time": "2023-08-30T10:51:35.778Z"
   },
   {
    "duration": 0,
    "start_time": "2023-08-30T10:51:35.779Z"
   },
   {
    "duration": 0,
    "start_time": "2023-08-30T10:51:35.781Z"
   },
   {
    "duration": 0,
    "start_time": "2023-08-30T10:51:35.790Z"
   },
   {
    "duration": 0,
    "start_time": "2023-08-30T10:51:35.792Z"
   },
   {
    "duration": 0,
    "start_time": "2023-08-30T10:51:35.794Z"
   },
   {
    "duration": 1,
    "start_time": "2023-08-30T10:51:35.795Z"
   },
   {
    "duration": 0,
    "start_time": "2023-08-30T10:51:35.797Z"
   },
   {
    "duration": 0,
    "start_time": "2023-08-30T10:51:35.799Z"
   },
   {
    "duration": 0,
    "start_time": "2023-08-30T10:51:35.806Z"
   },
   {
    "duration": 0,
    "start_time": "2023-08-30T10:51:35.807Z"
   },
   {
    "duration": 0,
    "start_time": "2023-08-30T10:51:35.809Z"
   },
   {
    "duration": 0,
    "start_time": "2023-08-30T10:51:35.811Z"
   },
   {
    "duration": 0,
    "start_time": "2023-08-30T10:51:35.815Z"
   },
   {
    "duration": 1,
    "start_time": "2023-08-30T10:51:35.817Z"
   },
   {
    "duration": 0,
    "start_time": "2023-08-30T10:51:35.822Z"
   },
   {
    "duration": 0,
    "start_time": "2023-08-30T10:51:35.824Z"
   },
   {
    "duration": 0,
    "start_time": "2023-08-30T10:51:35.831Z"
   },
   {
    "duration": 0,
    "start_time": "2023-08-30T10:51:35.833Z"
   },
   {
    "duration": 0,
    "start_time": "2023-08-30T10:51:35.835Z"
   },
   {
    "duration": 0,
    "start_time": "2023-08-30T10:51:35.837Z"
   },
   {
    "duration": 0,
    "start_time": "2023-08-30T10:51:35.841Z"
   },
   {
    "duration": 0,
    "start_time": "2023-08-30T10:51:35.850Z"
   },
   {
    "duration": 0,
    "start_time": "2023-08-30T10:51:35.852Z"
   },
   {
    "duration": 0,
    "start_time": "2023-08-30T10:51:35.853Z"
   },
   {
    "duration": 0,
    "start_time": "2023-08-30T10:51:35.855Z"
   },
   {
    "duration": 0,
    "start_time": "2023-08-30T10:51:35.857Z"
   },
   {
    "duration": 0,
    "start_time": "2023-08-30T10:51:35.859Z"
   },
   {
    "duration": 10,
    "start_time": "2023-08-30T10:52:01.706Z"
   },
   {
    "duration": 75,
    "start_time": "2023-08-30T10:52:05.858Z"
   },
   {
    "duration": 15,
    "start_time": "2023-08-30T10:52:55.304Z"
   },
   {
    "duration": 9,
    "start_time": "2023-08-30T10:52:59.288Z"
   },
   {
    "duration": 8,
    "start_time": "2023-08-30T10:52:59.988Z"
   },
   {
    "duration": 31,
    "start_time": "2023-08-30T10:53:33.066Z"
   },
   {
    "duration": 20,
    "start_time": "2023-08-30T10:53:33.454Z"
   },
   {
    "duration": 46,
    "start_time": "2023-08-30T10:53:33.712Z"
   },
   {
    "duration": 2054,
    "start_time": "2023-08-30T10:53:45.621Z"
   },
   {
    "duration": 112,
    "start_time": "2023-08-30T10:53:47.677Z"
   },
   {
    "duration": 56,
    "start_time": "2023-08-30T10:53:47.792Z"
   },
   {
    "duration": 45,
    "start_time": "2023-08-30T10:53:47.852Z"
   },
   {
    "duration": 8,
    "start_time": "2023-08-30T10:53:47.905Z"
   },
   {
    "duration": 11,
    "start_time": "2023-08-30T10:53:47.926Z"
   },
   {
    "duration": 29,
    "start_time": "2023-08-30T10:53:47.945Z"
   },
   {
    "duration": 43,
    "start_time": "2023-08-30T10:53:47.980Z"
   },
   {
    "duration": 36,
    "start_time": "2023-08-30T10:53:48.029Z"
   },
   {
    "duration": 16,
    "start_time": "2023-08-30T10:53:48.071Z"
   },
   {
    "duration": 18,
    "start_time": "2023-08-30T10:53:48.093Z"
   },
   {
    "duration": 17,
    "start_time": "2023-08-30T10:53:48.117Z"
   },
   {
    "duration": 18,
    "start_time": "2023-08-30T10:53:48.141Z"
   },
   {
    "duration": 11,
    "start_time": "2023-08-30T10:53:48.167Z"
   },
   {
    "duration": 19,
    "start_time": "2023-08-30T10:53:48.185Z"
   },
   {
    "duration": 14,
    "start_time": "2023-08-30T10:53:48.210Z"
   },
   {
    "duration": 16,
    "start_time": "2023-08-30T10:53:48.234Z"
   },
   {
    "duration": 28,
    "start_time": "2023-08-30T10:53:48.257Z"
   },
   {
    "duration": 32,
    "start_time": "2023-08-30T10:53:48.291Z"
   },
   {
    "duration": 20,
    "start_time": "2023-08-30T10:53:48.329Z"
   },
   {
    "duration": 606,
    "start_time": "2023-08-30T10:53:48.355Z"
   },
   {
    "duration": 18,
    "start_time": "2023-08-30T10:53:48.967Z"
   },
   {
    "duration": 44,
    "start_time": "2023-08-30T10:53:48.992Z"
   },
   {
    "duration": 42,
    "start_time": "2023-08-30T10:53:49.042Z"
   },
   {
    "duration": 18,
    "start_time": "2023-08-30T10:53:49.090Z"
   },
   {
    "duration": 362,
    "start_time": "2023-08-30T10:53:49.114Z"
   },
   {
    "duration": 281,
    "start_time": "2023-08-30T10:53:49.482Z"
   },
   {
    "duration": 296,
    "start_time": "2023-08-30T10:53:49.769Z"
   },
   {
    "duration": 595,
    "start_time": "2023-08-30T10:53:50.071Z"
   },
   {
    "duration": 398,
    "start_time": "2023-08-30T10:53:50.683Z"
   },
   {
    "duration": 10,
    "start_time": "2023-08-30T10:53:51.091Z"
   },
   {
    "duration": 12,
    "start_time": "2023-08-30T10:53:51.114Z"
   },
   {
    "duration": 37,
    "start_time": "2023-08-30T10:53:51.132Z"
   },
   {
    "duration": 333,
    "start_time": "2023-08-30T10:53:51.184Z"
   },
   {
    "duration": 426,
    "start_time": "2023-08-30T10:53:51.531Z"
   },
   {
    "duration": 232,
    "start_time": "2023-08-30T10:53:51.963Z"
   },
   {
    "duration": 312,
    "start_time": "2023-08-30T10:53:52.201Z"
   },
   {
    "duration": 310,
    "start_time": "2023-08-30T10:53:52.520Z"
   },
   {
    "duration": 263,
    "start_time": "2023-08-30T10:53:52.837Z"
   },
   {
    "duration": 285,
    "start_time": "2023-08-30T10:53:53.107Z"
   },
   {
    "duration": 732,
    "start_time": "2023-08-30T10:53:53.406Z"
   },
   {
    "duration": 21,
    "start_time": "2023-08-30T10:53:54.143Z"
   },
   {
    "duration": 239,
    "start_time": "2023-08-30T10:53:54.171Z"
   },
   {
    "duration": 58,
    "start_time": "2023-08-30T10:53:54.416Z"
   },
   {
    "duration": 502,
    "start_time": "2023-08-30T10:53:54.487Z"
   },
   {
    "duration": 23,
    "start_time": "2023-08-30T10:53:55.007Z"
   },
   {
    "duration": 77,
    "start_time": "2023-08-30T10:53:55.032Z"
   },
   {
    "duration": 6162,
    "start_time": "2023-08-30T10:53:55.112Z"
   },
   {
    "duration": 26,
    "start_time": "2023-08-30T10:54:01.287Z"
   },
   {
    "duration": 37,
    "start_time": "2023-08-30T10:54:01.328Z"
   },
   {
    "duration": 55,
    "start_time": "2023-08-30T10:54:01.373Z"
   },
   {
    "duration": 38,
    "start_time": "2023-08-30T10:54:01.440Z"
   },
   {
    "duration": 31,
    "start_time": "2023-08-30T10:54:01.498Z"
   },
   {
    "duration": 64,
    "start_time": "2023-08-30T10:54:01.542Z"
   },
   {
    "duration": 44,
    "start_time": "2023-08-30T10:54:01.622Z"
   },
   {
    "duration": 30,
    "start_time": "2023-08-30T10:54:01.680Z"
   },
   {
    "duration": 75,
    "start_time": "2023-08-30T10:54:01.727Z"
   },
   {
    "duration": 40,
    "start_time": "2023-08-30T10:54:01.809Z"
   },
   {
    "duration": 188,
    "start_time": "2023-08-30T10:54:01.868Z"
   },
   {
    "duration": 86,
    "start_time": "2023-08-30T10:54:02.071Z"
   },
   {
    "duration": 52,
    "start_time": "2023-08-30T10:54:02.185Z"
   },
   {
    "duration": 25,
    "start_time": "2023-08-30T10:56:35.581Z"
   },
   {
    "duration": 295,
    "start_time": "2023-08-30T10:56:55.064Z"
   },
   {
    "duration": 33,
    "start_time": "2023-08-30T10:57:18.493Z"
   },
   {
    "duration": 419,
    "start_time": "2023-08-30T10:57:49.707Z"
   },
   {
    "duration": 15,
    "start_time": "2023-08-30T10:58:11.119Z"
   },
   {
    "duration": 31,
    "start_time": "2023-08-30T10:59:50.251Z"
   },
   {
    "duration": 449,
    "start_time": "2023-08-30T11:00:03.341Z"
   },
   {
    "duration": 28,
    "start_time": "2023-08-30T11:00:18.652Z"
   },
   {
    "duration": 350,
    "start_time": "2023-08-30T11:00:18.799Z"
   },
   {
    "duration": 62,
    "start_time": "2023-08-30T11:01:21.704Z"
   },
   {
    "duration": 35,
    "start_time": "2023-08-30T11:03:00.756Z"
   },
   {
    "duration": 337,
    "start_time": "2023-08-30T11:03:05.211Z"
   },
   {
    "duration": 67,
    "start_time": "2023-08-30T11:03:14.287Z"
   },
   {
    "duration": 60,
    "start_time": "2023-08-30T11:03:43.872Z"
   },
   {
    "duration": 26,
    "start_time": "2023-08-30T11:03:53.407Z"
   },
   {
    "duration": 505,
    "start_time": "2023-08-30T11:03:58.252Z"
   },
   {
    "duration": 19,
    "start_time": "2023-08-30T11:04:32.887Z"
   },
   {
    "duration": 268,
    "start_time": "2023-08-30T11:04:36.181Z"
   },
   {
    "duration": 14,
    "start_time": "2023-08-30T11:04:41.767Z"
   },
   {
    "duration": 19,
    "start_time": "2023-08-30T11:05:19.494Z"
   },
   {
    "duration": 290,
    "start_time": "2023-08-30T11:05:19.656Z"
   },
   {
    "duration": 14,
    "start_time": "2023-08-30T11:05:19.953Z"
   },
   {
    "duration": 231,
    "start_time": "2023-08-30T11:05:39.286Z"
   },
   {
    "duration": 9,
    "start_time": "2023-08-30T11:06:03.635Z"
   },
   {
    "duration": 6157,
    "start_time": "2023-08-30T11:08:53.619Z"
   },
   {
    "duration": 2030,
    "start_time": "2023-08-30T11:11:24.682Z"
   },
   {
    "duration": 166,
    "start_time": "2023-08-30T11:11:26.715Z"
   },
   {
    "duration": 40,
    "start_time": "2023-08-30T11:11:26.891Z"
   },
   {
    "duration": 35,
    "start_time": "2023-08-30T11:11:26.933Z"
   },
   {
    "duration": 14,
    "start_time": "2023-08-30T11:11:26.970Z"
   },
   {
    "duration": 12,
    "start_time": "2023-08-30T11:11:26.989Z"
   },
   {
    "duration": 27,
    "start_time": "2023-08-30T11:11:27.003Z"
   },
   {
    "duration": 45,
    "start_time": "2023-08-30T11:11:27.036Z"
   },
   {
    "duration": 17,
    "start_time": "2023-08-30T11:11:27.086Z"
   },
   {
    "duration": 8,
    "start_time": "2023-08-30T11:11:27.111Z"
   },
   {
    "duration": 8,
    "start_time": "2023-08-30T11:11:27.126Z"
   },
   {
    "duration": 11,
    "start_time": "2023-08-30T11:11:27.141Z"
   },
   {
    "duration": 9,
    "start_time": "2023-08-30T11:11:27.159Z"
   },
   {
    "duration": 6,
    "start_time": "2023-08-30T11:11:27.174Z"
   },
   {
    "duration": 9,
    "start_time": "2023-08-30T11:11:27.187Z"
   },
   {
    "duration": 11,
    "start_time": "2023-08-30T11:11:27.205Z"
   },
   {
    "duration": 7,
    "start_time": "2023-08-30T11:11:27.222Z"
   },
   {
    "duration": 25,
    "start_time": "2023-08-30T11:11:27.236Z"
   },
   {
    "duration": 26,
    "start_time": "2023-08-30T11:11:27.267Z"
   },
   {
    "duration": 13,
    "start_time": "2023-08-30T11:11:27.300Z"
   },
   {
    "duration": 454,
    "start_time": "2023-08-30T11:11:27.319Z"
   },
   {
    "duration": 13,
    "start_time": "2023-08-30T11:11:27.776Z"
   },
   {
    "duration": 59,
    "start_time": "2023-08-30T11:11:27.795Z"
   },
   {
    "duration": 38,
    "start_time": "2023-08-30T11:11:27.867Z"
   },
   {
    "duration": 19,
    "start_time": "2023-08-30T11:11:27.909Z"
   },
   {
    "duration": 284,
    "start_time": "2023-08-30T11:11:27.934Z"
   },
   {
    "duration": 290,
    "start_time": "2023-08-30T11:11:28.224Z"
   },
   {
    "duration": 275,
    "start_time": "2023-08-30T11:11:28.524Z"
   },
   {
    "duration": 304,
    "start_time": "2023-08-30T11:11:28.805Z"
   },
   {
    "duration": 316,
    "start_time": "2023-08-30T11:11:29.115Z"
   },
   {
    "duration": 5,
    "start_time": "2023-08-30T11:11:29.434Z"
   },
   {
    "duration": 19,
    "start_time": "2023-08-30T11:11:29.441Z"
   },
   {
    "duration": 15,
    "start_time": "2023-08-30T11:11:29.463Z"
   },
   {
    "duration": 284,
    "start_time": "2023-08-30T11:11:29.482Z"
   },
   {
    "duration": 444,
    "start_time": "2023-08-30T11:11:29.768Z"
   },
   {
    "duration": 321,
    "start_time": "2023-08-30T11:11:30.215Z"
   },
   {
    "duration": 438,
    "start_time": "2023-08-30T11:11:30.539Z"
   },
   {
    "duration": 421,
    "start_time": "2023-08-30T11:11:30.995Z"
   },
   {
    "duration": 361,
    "start_time": "2023-08-30T11:11:31.418Z"
   },
   {
    "duration": 329,
    "start_time": "2023-08-30T11:11:31.785Z"
   },
   {
    "duration": 642,
    "start_time": "2023-08-30T11:11:32.116Z"
   },
   {
    "duration": 17,
    "start_time": "2023-08-30T11:11:32.760Z"
   },
   {
    "duration": 213,
    "start_time": "2023-08-30T11:11:32.783Z"
   },
   {
    "duration": 22,
    "start_time": "2023-08-30T11:11:33.003Z"
   },
   {
    "duration": 218,
    "start_time": "2023-08-30T11:11:33.030Z"
   },
   {
    "duration": 22,
    "start_time": "2023-08-30T11:11:33.258Z"
   },
   {
    "duration": 52,
    "start_time": "2023-08-30T11:11:33.282Z"
   },
   {
    "duration": 432,
    "start_time": "2023-08-30T11:11:33.336Z"
   },
   {
    "duration": 10,
    "start_time": "2023-08-30T11:11:33.771Z"
   },
   {
    "duration": 456,
    "start_time": "2023-08-30T11:11:33.784Z"
   },
   {
    "duration": 31,
    "start_time": "2023-08-30T11:11:34.254Z"
   },
   {
    "duration": 42,
    "start_time": "2023-08-30T11:11:34.287Z"
   },
   {
    "duration": 408,
    "start_time": "2023-08-30T11:11:34.335Z"
   },
   {
    "duration": 22,
    "start_time": "2023-08-30T11:11:34.755Z"
   },
   {
    "duration": 296,
    "start_time": "2023-08-30T11:11:34.784Z"
   },
   {
    "duration": 43,
    "start_time": "2023-08-30T11:11:35.089Z"
   },
   {
    "duration": 5764,
    "start_time": "2023-08-30T11:11:35.142Z"
   },
   {
    "duration": 43041,
    "start_time": "2023-08-30T11:11:40.908Z"
   },
   {
    "duration": 47,
    "start_time": "2023-08-30T11:12:23.951Z"
   },
   {
    "duration": 41,
    "start_time": "2023-08-30T11:12:24.001Z"
   },
   {
    "duration": 50,
    "start_time": "2023-08-30T11:12:24.053Z"
   },
   {
    "duration": 53,
    "start_time": "2023-08-30T11:12:24.108Z"
   },
   {
    "duration": 29,
    "start_time": "2023-08-30T11:12:24.177Z"
   },
   {
    "duration": 23,
    "start_time": "2023-08-30T11:12:24.208Z"
   },
   {
    "duration": 72,
    "start_time": "2023-08-30T11:12:24.237Z"
   },
   {
    "duration": 45,
    "start_time": "2023-08-30T11:12:24.311Z"
   },
   {
    "duration": 28,
    "start_time": "2023-08-30T11:12:24.360Z"
   },
   {
    "duration": 18,
    "start_time": "2023-08-30T11:12:24.394Z"
   },
   {
    "duration": 90,
    "start_time": "2023-08-30T11:12:24.414Z"
   },
   {
    "duration": 60,
    "start_time": "2023-08-30T11:12:24.513Z"
   },
   {
    "duration": 41,
    "start_time": "2023-08-30T11:12:24.576Z"
   },
   {
    "duration": 26,
    "start_time": "2023-08-30T11:14:09.339Z"
   },
   {
    "duration": 289,
    "start_time": "2023-08-30T11:14:50.607Z"
   },
   {
    "duration": 450,
    "start_time": "2023-08-30T11:15:08.149Z"
   },
   {
    "duration": 191,
    "start_time": "2023-08-30T11:15:47.435Z"
   },
   {
    "duration": 311,
    "start_time": "2023-08-30T11:15:57.095Z"
   },
   {
    "duration": 422,
    "start_time": "2023-08-30T11:16:25.351Z"
   },
   {
    "duration": 826,
    "start_time": "2023-08-30T11:16:34.743Z"
   },
   {
    "duration": 434,
    "start_time": "2023-08-30T11:17:00.351Z"
   },
   {
    "duration": 487,
    "start_time": "2023-08-30T11:17:12.646Z"
   },
   {
    "duration": 517,
    "start_time": "2023-08-30T11:17:20.603Z"
   },
   {
    "duration": 4878,
    "start_time": "2023-08-30T11:17:26.530Z"
   },
   {
    "duration": 491,
    "start_time": "2023-08-30T11:17:31.411Z"
   },
   {
    "duration": 383,
    "start_time": "2023-08-30T11:18:07.489Z"
   },
   {
    "duration": 363,
    "start_time": "2023-08-30T11:18:26.842Z"
   },
   {
    "duration": 365,
    "start_time": "2023-08-30T11:18:37.840Z"
   },
   {
    "duration": 841,
    "start_time": "2023-08-30T11:18:50.718Z"
   },
   {
    "duration": 432,
    "start_time": "2023-08-30T11:22:16.843Z"
   },
   {
    "duration": 9,
    "start_time": "2023-08-30T11:26:08.985Z"
   },
   {
    "duration": 299,
    "start_time": "2023-08-30T11:26:27.934Z"
   },
   {
    "duration": 342,
    "start_time": "2023-08-30T11:28:54.039Z"
   },
   {
    "duration": 341,
    "start_time": "2023-08-30T11:29:04.996Z"
   },
   {
    "duration": 317,
    "start_time": "2023-08-30T11:29:13.930Z"
   },
   {
    "duration": 284,
    "start_time": "2023-08-30T11:29:38.664Z"
   },
   {
    "duration": 317,
    "start_time": "2023-08-30T11:30:29.735Z"
   },
   {
    "duration": 389,
    "start_time": "2023-08-30T11:35:35.327Z"
   },
   {
    "duration": 256,
    "start_time": "2023-08-30T11:35:43.433Z"
   },
   {
    "duration": 276,
    "start_time": "2023-08-30T11:35:52.955Z"
   },
   {
    "duration": 1553,
    "start_time": "2023-08-30T11:43:44.979Z"
   },
   {
    "duration": 70,
    "start_time": "2023-08-30T11:43:46.534Z"
   },
   {
    "duration": 33,
    "start_time": "2023-08-30T11:43:46.610Z"
   },
   {
    "duration": 39,
    "start_time": "2023-08-30T11:43:46.646Z"
   },
   {
    "duration": 4,
    "start_time": "2023-08-30T11:43:46.688Z"
   },
   {
    "duration": 6,
    "start_time": "2023-08-30T11:43:46.695Z"
   },
   {
    "duration": 28,
    "start_time": "2023-08-30T11:43:46.703Z"
   },
   {
    "duration": 28,
    "start_time": "2023-08-30T11:43:46.733Z"
   },
   {
    "duration": 11,
    "start_time": "2023-08-30T11:43:46.765Z"
   },
   {
    "duration": 6,
    "start_time": "2023-08-30T11:43:46.778Z"
   },
   {
    "duration": 32,
    "start_time": "2023-08-30T11:43:46.785Z"
   },
   {
    "duration": 15,
    "start_time": "2023-08-30T11:43:46.819Z"
   },
   {
    "duration": 11,
    "start_time": "2023-08-30T11:43:46.840Z"
   },
   {
    "duration": 11,
    "start_time": "2023-08-30T11:43:46.853Z"
   },
   {
    "duration": 11,
    "start_time": "2023-08-30T11:43:46.866Z"
   },
   {
    "duration": 24,
    "start_time": "2023-08-30T11:43:46.879Z"
   },
   {
    "duration": 6,
    "start_time": "2023-08-30T11:43:46.906Z"
   },
   {
    "duration": 27,
    "start_time": "2023-08-30T11:43:46.914Z"
   },
   {
    "duration": 21,
    "start_time": "2023-08-30T11:43:46.943Z"
   },
   {
    "duration": 8,
    "start_time": "2023-08-30T11:43:46.967Z"
   },
   {
    "duration": 359,
    "start_time": "2023-08-30T11:43:46.976Z"
   },
   {
    "duration": 9,
    "start_time": "2023-08-30T11:43:47.336Z"
   },
   {
    "duration": 17,
    "start_time": "2023-08-30T11:43:47.347Z"
   },
   {
    "duration": 16,
    "start_time": "2023-08-30T11:43:47.366Z"
   },
   {
    "duration": 35,
    "start_time": "2023-08-30T11:43:47.383Z"
   },
   {
    "duration": 239,
    "start_time": "2023-08-30T11:43:47.420Z"
   },
   {
    "duration": 235,
    "start_time": "2023-08-30T11:43:47.664Z"
   },
   {
    "duration": 296,
    "start_time": "2023-08-30T11:43:47.901Z"
   },
   {
    "duration": 328,
    "start_time": "2023-08-30T11:43:48.200Z"
   },
   {
    "duration": 226,
    "start_time": "2023-08-30T11:43:48.530Z"
   },
   {
    "duration": 6,
    "start_time": "2023-08-30T11:43:48.758Z"
   },
   {
    "duration": 65,
    "start_time": "2023-08-30T11:43:48.766Z"
   },
   {
    "duration": 244,
    "start_time": "2023-08-30T11:43:48.835Z"
   },
   {
    "duration": 189,
    "start_time": "2023-08-30T11:43:49.081Z"
   },
   {
    "duration": 320,
    "start_time": "2023-08-30T11:43:49.272Z"
   },
   {
    "duration": 265,
    "start_time": "2023-08-30T11:43:49.596Z"
   },
   {
    "duration": 265,
    "start_time": "2023-08-30T11:43:49.864Z"
   },
   {
    "duration": 209,
    "start_time": "2023-08-30T11:43:50.132Z"
   },
   {
    "duration": 206,
    "start_time": "2023-08-30T11:43:50.343Z"
   },
   {
    "duration": 207,
    "start_time": "2023-08-30T11:43:50.551Z"
   },
   {
    "duration": 490,
    "start_time": "2023-08-30T11:43:50.760Z"
   },
   {
    "duration": 10,
    "start_time": "2023-08-30T11:43:51.251Z"
   },
   {
    "duration": 186,
    "start_time": "2023-08-30T11:43:51.263Z"
   },
   {
    "duration": 8,
    "start_time": "2023-08-30T11:43:51.451Z"
   },
   {
    "duration": 182,
    "start_time": "2023-08-30T11:43:51.461Z"
   },
   {
    "duration": 6,
    "start_time": "2023-08-30T11:43:51.649Z"
   },
   {
    "duration": 26,
    "start_time": "2023-08-30T11:43:51.658Z"
   },
   {
    "duration": 201,
    "start_time": "2023-08-30T11:43:51.687Z"
   },
   {
    "duration": 7,
    "start_time": "2023-08-30T11:43:51.890Z"
   },
   {
    "duration": 401,
    "start_time": "2023-08-30T11:43:51.899Z"
   },
   {
    "duration": 23,
    "start_time": "2023-08-30T11:43:52.317Z"
   },
   {
    "duration": 10,
    "start_time": "2023-08-30T11:43:52.352Z"
   },
   {
    "duration": 229,
    "start_time": "2023-08-30T11:43:52.364Z"
   },
   {
    "duration": 20,
    "start_time": "2023-08-30T11:43:52.595Z"
   },
   {
    "duration": 227,
    "start_time": "2023-08-30T11:43:52.622Z"
   },
   {
    "duration": 8,
    "start_time": "2023-08-30T11:43:52.853Z"
   },
   {
    "duration": 3888,
    "start_time": "2023-08-30T11:43:52.863Z"
   },
   {
    "duration": 284,
    "start_time": "2023-08-30T11:43:56.753Z"
   },
   {
    "duration": 259,
    "start_time": "2023-08-30T11:43:57.039Z"
   },
   {
    "duration": 266,
    "start_time": "2023-08-30T11:43:57.301Z"
   },
   {
    "duration": 11,
    "start_time": "2023-08-30T11:43:57.569Z"
   },
   {
    "duration": 91,
    "start_time": "2023-08-30T11:43:57.582Z"
   },
   {
    "duration": 16,
    "start_time": "2023-08-30T11:43:57.675Z"
   },
   {
    "duration": 18,
    "start_time": "2023-08-30T11:43:57.693Z"
   },
   {
    "duration": 24,
    "start_time": "2023-08-30T11:43:57.717Z"
   },
   {
    "duration": 15,
    "start_time": "2023-08-30T11:43:57.743Z"
   },
   {
    "duration": 11,
    "start_time": "2023-08-30T11:43:57.760Z"
   },
   {
    "duration": 12,
    "start_time": "2023-08-30T11:43:57.773Z"
   },
   {
    "duration": 17,
    "start_time": "2023-08-30T11:43:57.810Z"
   },
   {
    "duration": 17,
    "start_time": "2023-08-30T11:43:57.832Z"
   },
   {
    "duration": 6,
    "start_time": "2023-08-30T11:43:57.852Z"
   },
   {
    "duration": 21,
    "start_time": "2023-08-30T11:43:57.860Z"
   },
   {
    "duration": 12,
    "start_time": "2023-08-30T11:43:57.884Z"
   },
   {
    "duration": 470,
    "start_time": "2023-08-30T11:50:40.159Z"
   },
   {
    "duration": 12,
    "start_time": "2023-08-30T11:51:53.369Z"
   },
   {
    "duration": 16,
    "start_time": "2023-08-30T11:52:04.647Z"
   },
   {
    "duration": 13,
    "start_time": "2023-08-30T11:52:13.444Z"
   },
   {
    "duration": 426,
    "start_time": "2023-08-30T11:52:23.508Z"
   },
   {
    "duration": 142,
    "start_time": "2023-08-30T11:52:54.190Z"
   },
   {
    "duration": 174,
    "start_time": "2023-08-30T11:53:18.798Z"
   },
   {
    "duration": 195,
    "start_time": "2023-08-30T11:53:25.271Z"
   },
   {
    "duration": 260,
    "start_time": "2023-08-30T11:53:49.456Z"
   },
   {
    "duration": 140,
    "start_time": "2023-08-30T11:54:15.539Z"
   },
   {
    "duration": 161,
    "start_time": "2023-08-30T11:54:26.438Z"
   },
   {
    "duration": 166,
    "start_time": "2023-08-30T11:54:42.649Z"
   },
   {
    "duration": 152,
    "start_time": "2023-08-30T11:54:55.256Z"
   },
   {
    "duration": 320,
    "start_time": "2023-08-30T11:55:28.548Z"
   },
   {
    "duration": 286,
    "start_time": "2023-08-30T11:55:53.701Z"
   },
   {
    "duration": 535,
    "start_time": "2023-08-30T11:56:05.836Z"
   },
   {
    "duration": 285,
    "start_time": "2023-08-30T11:56:19.047Z"
   },
   {
    "duration": 250,
    "start_time": "2023-08-30T11:56:26.638Z"
   },
   {
    "duration": 276,
    "start_time": "2023-08-30T11:56:30.806Z"
   },
   {
    "duration": 295,
    "start_time": "2023-08-30T11:56:35.087Z"
   },
   {
    "duration": 389,
    "start_time": "2023-08-30T11:56:41.500Z"
   },
   {
    "duration": 505,
    "start_time": "2023-08-30T11:56:57.234Z"
   },
   {
    "duration": 11,
    "start_time": "2023-08-30T11:57:35.670Z"
   },
   {
    "duration": 12,
    "start_time": "2023-08-30T11:57:36.186Z"
   },
   {
    "duration": 14,
    "start_time": "2023-08-30T11:57:36.568Z"
   },
   {
    "duration": 9,
    "start_time": "2023-08-30T12:02:32.260Z"
   },
   {
    "duration": 20,
    "start_time": "2023-08-30T12:02:32.634Z"
   },
   {
    "duration": 10,
    "start_time": "2023-08-30T12:02:32.843Z"
   },
   {
    "duration": 467,
    "start_time": "2023-08-30T12:02:59.586Z"
   },
   {
    "duration": 178,
    "start_time": "2023-08-30T12:03:15.258Z"
   },
   {
    "duration": 393,
    "start_time": "2023-08-30T12:03:19.865Z"
   },
   {
    "duration": 13,
    "start_time": "2023-08-30T12:04:00.175Z"
   },
   {
    "duration": 19,
    "start_time": "2023-08-30T12:04:00.342Z"
   },
   {
    "duration": 32,
    "start_time": "2023-08-30T12:04:00.505Z"
   },
   {
    "duration": 485,
    "start_time": "2023-08-30T12:04:00.691Z"
   },
   {
    "duration": 22,
    "start_time": "2023-08-30T12:04:09.433Z"
   },
   {
    "duration": 28,
    "start_time": "2023-08-30T12:04:20.404Z"
   },
   {
    "duration": 19,
    "start_time": "2023-08-30T12:04:34.063Z"
   },
   {
    "duration": 330,
    "start_time": "2023-08-30T12:07:07.742Z"
   },
   {
    "duration": 10,
    "start_time": "2023-08-30T12:09:40.903Z"
   },
   {
    "duration": 25,
    "start_time": "2023-08-30T12:09:41.049Z"
   },
   {
    "duration": 53,
    "start_time": "2023-08-30T12:10:01.303Z"
   },
   {
    "duration": 41,
    "start_time": "2023-08-30T12:10:10.655Z"
   },
   {
    "duration": 21,
    "start_time": "2023-08-30T12:10:15.256Z"
   },
   {
    "duration": 10,
    "start_time": "2023-08-30T12:10:20.883Z"
   },
   {
    "duration": 1520,
    "start_time": "2023-08-30T12:10:30.074Z"
   },
   {
    "duration": 101,
    "start_time": "2023-08-30T12:10:31.596Z"
   },
   {
    "duration": 35,
    "start_time": "2023-08-30T12:10:31.699Z"
   },
   {
    "duration": 62,
    "start_time": "2023-08-30T12:10:31.737Z"
   },
   {
    "duration": 73,
    "start_time": "2023-08-30T12:10:31.802Z"
   },
   {
    "duration": 44,
    "start_time": "2023-08-30T12:10:31.879Z"
   },
   {
    "duration": 47,
    "start_time": "2023-08-30T12:10:31.927Z"
   },
   {
    "duration": 70,
    "start_time": "2023-08-30T12:10:31.977Z"
   },
   {
    "duration": 15,
    "start_time": "2023-08-30T12:10:32.050Z"
   },
   {
    "duration": 46,
    "start_time": "2023-08-30T12:10:32.067Z"
   },
   {
    "duration": 50,
    "start_time": "2023-08-30T12:10:32.115Z"
   },
   {
    "duration": 27,
    "start_time": "2023-08-30T12:10:32.168Z"
   },
   {
    "duration": 54,
    "start_time": "2023-08-30T12:10:32.196Z"
   },
   {
    "duration": 8,
    "start_time": "2023-08-30T12:10:32.263Z"
   },
   {
    "duration": 61,
    "start_time": "2023-08-30T12:10:32.274Z"
   },
   {
    "duration": 34,
    "start_time": "2023-08-30T12:10:32.341Z"
   },
   {
    "duration": 9,
    "start_time": "2023-08-30T12:10:32.379Z"
   },
   {
    "duration": 75,
    "start_time": "2023-08-30T12:10:32.390Z"
   },
   {
    "duration": 33,
    "start_time": "2023-08-30T12:10:32.468Z"
   },
   {
    "duration": 29,
    "start_time": "2023-08-30T12:10:32.504Z"
   },
   {
    "duration": 442,
    "start_time": "2023-08-30T12:10:32.543Z"
   },
   {
    "duration": 9,
    "start_time": "2023-08-30T12:10:32.987Z"
   },
   {
    "duration": 62,
    "start_time": "2023-08-30T12:10:32.998Z"
   },
   {
    "duration": 28,
    "start_time": "2023-08-30T12:10:33.062Z"
   },
   {
    "duration": 16,
    "start_time": "2023-08-30T12:10:33.092Z"
   },
   {
    "duration": 315,
    "start_time": "2023-08-30T12:10:33.114Z"
   },
   {
    "duration": 259,
    "start_time": "2023-08-30T12:10:33.433Z"
   },
   {
    "duration": 223,
    "start_time": "2023-08-30T12:10:33.694Z"
   },
   {
    "duration": 262,
    "start_time": "2023-08-30T12:10:33.919Z"
   },
   {
    "duration": 244,
    "start_time": "2023-08-30T12:10:34.184Z"
   },
   {
    "duration": 10,
    "start_time": "2023-08-30T12:10:34.431Z"
   },
   {
    "duration": 29,
    "start_time": "2023-08-30T12:10:34.443Z"
   },
   {
    "duration": 19,
    "start_time": "2023-08-30T12:10:34.474Z"
   },
   {
    "duration": 221,
    "start_time": "2023-08-30T12:10:34.495Z"
   },
   {
    "duration": 285,
    "start_time": "2023-08-30T12:10:34.718Z"
   },
   {
    "duration": 267,
    "start_time": "2023-08-30T12:10:35.005Z"
   },
   {
    "duration": 284,
    "start_time": "2023-08-30T12:10:35.275Z"
   },
   {
    "duration": 286,
    "start_time": "2023-08-30T12:10:35.564Z"
   },
   {
    "duration": 245,
    "start_time": "2023-08-30T12:10:35.855Z"
   },
   {
    "duration": 223,
    "start_time": "2023-08-30T12:10:36.102Z"
   },
   {
    "duration": 550,
    "start_time": "2023-08-30T12:10:36.336Z"
   },
   {
    "duration": 8,
    "start_time": "2023-08-30T12:10:36.888Z"
   },
   {
    "duration": 186,
    "start_time": "2023-08-30T12:10:36.898Z"
   },
   {
    "duration": 6,
    "start_time": "2023-08-30T12:10:37.086Z"
   },
   {
    "duration": 188,
    "start_time": "2023-08-30T12:10:37.093Z"
   },
   {
    "duration": 5,
    "start_time": "2023-08-30T12:10:37.283Z"
   },
   {
    "duration": 30,
    "start_time": "2023-08-30T12:10:37.290Z"
   },
   {
    "duration": 202,
    "start_time": "2023-08-30T12:10:37.321Z"
   },
   {
    "duration": 7,
    "start_time": "2023-08-30T12:10:37.525Z"
   },
   {
    "duration": 333,
    "start_time": "2023-08-30T12:10:37.535Z"
   },
   {
    "duration": 8,
    "start_time": "2023-08-30T12:10:37.870Z"
   },
   {
    "duration": 9,
    "start_time": "2023-08-30T12:10:37.880Z"
   },
   {
    "duration": 200,
    "start_time": "2023-08-30T12:10:37.891Z"
   },
   {
    "duration": 6,
    "start_time": "2023-08-30T12:10:38.093Z"
   },
   {
    "duration": 194,
    "start_time": "2023-08-30T12:10:38.110Z"
   },
   {
    "duration": 30,
    "start_time": "2023-08-30T12:10:38.310Z"
   },
   {
    "duration": 4128,
    "start_time": "2023-08-30T12:10:38.342Z"
   },
   {
    "duration": 324,
    "start_time": "2023-08-30T12:10:42.471Z"
   },
   {
    "duration": 319,
    "start_time": "2023-08-30T12:10:42.797Z"
   },
   {
    "duration": 312,
    "start_time": "2023-08-30T12:10:43.118Z"
   },
   {
    "duration": 19,
    "start_time": "2023-08-30T12:10:43.433Z"
   },
   {
    "duration": 16,
    "start_time": "2023-08-30T12:10:43.458Z"
   },
   {
    "duration": 15,
    "start_time": "2023-08-30T12:10:43.480Z"
   },
   {
    "duration": 396,
    "start_time": "2023-08-30T12:10:43.497Z"
   },
   {
    "duration": 50,
    "start_time": "2023-08-30T12:10:43.897Z"
   },
   {
    "duration": 19,
    "start_time": "2023-08-30T12:10:43.949Z"
   },
   {
    "duration": 11,
    "start_time": "2023-08-30T12:10:43.971Z"
   },
   {
    "duration": 655,
    "start_time": "2023-08-30T12:10:43.983Z"
   },
   {
    "duration": 23,
    "start_time": "2023-08-30T12:10:44.640Z"
   },
   {
    "duration": 19,
    "start_time": "2023-08-30T12:10:44.668Z"
   },
   {
    "duration": 14,
    "start_time": "2023-08-30T12:10:44.689Z"
   },
   {
    "duration": 381,
    "start_time": "2023-08-30T12:10:44.705Z"
   },
   {
    "duration": 6,
    "start_time": "2023-08-30T12:10:45.088Z"
   },
   {
    "duration": 38,
    "start_time": "2023-08-30T12:10:45.095Z"
   },
   {
    "duration": 31,
    "start_time": "2023-08-30T12:10:45.142Z"
   },
   {
    "duration": 7,
    "start_time": "2023-08-30T12:10:45.179Z"
   },
   {
    "duration": 9,
    "start_time": "2023-08-30T12:11:15.878Z"
   },
   {
    "duration": 23,
    "start_time": "2023-08-30T12:11:22.904Z"
   },
   {
    "duration": 8,
    "start_time": "2023-08-30T12:11:26.168Z"
   },
   {
    "duration": 16,
    "start_time": "2023-08-30T12:11:54.226Z"
   },
   {
    "duration": 6,
    "start_time": "2023-08-30T12:12:02.283Z"
   },
   {
    "duration": 12,
    "start_time": "2023-08-30T12:12:18.806Z"
   },
   {
    "duration": 6,
    "start_time": "2023-08-30T12:14:05.098Z"
   },
   {
    "duration": 10,
    "start_time": "2023-08-30T12:14:05.263Z"
   },
   {
    "duration": 1667,
    "start_time": "2023-08-30T12:18:51.035Z"
   },
   {
    "duration": 101,
    "start_time": "2023-08-30T12:18:52.704Z"
   },
   {
    "duration": 44,
    "start_time": "2023-08-30T12:18:52.808Z"
   },
   {
    "duration": 25,
    "start_time": "2023-08-30T12:18:52.860Z"
   },
   {
    "duration": 7,
    "start_time": "2023-08-30T12:18:52.891Z"
   },
   {
    "duration": 30,
    "start_time": "2023-08-30T12:18:52.905Z"
   },
   {
    "duration": 21,
    "start_time": "2023-08-30T12:18:52.937Z"
   },
   {
    "duration": 33,
    "start_time": "2023-08-30T12:18:52.962Z"
   },
   {
    "duration": 14,
    "start_time": "2023-08-30T12:18:52.998Z"
   },
   {
    "duration": 22,
    "start_time": "2023-08-30T12:18:53.014Z"
   },
   {
    "duration": 18,
    "start_time": "2023-08-30T12:18:53.039Z"
   },
   {
    "duration": 11,
    "start_time": "2023-08-30T12:18:53.060Z"
   },
   {
    "duration": 10,
    "start_time": "2023-08-30T12:18:53.075Z"
   },
   {
    "duration": 9,
    "start_time": "2023-08-30T12:18:53.093Z"
   },
   {
    "duration": 12,
    "start_time": "2023-08-30T12:18:53.106Z"
   },
   {
    "duration": 13,
    "start_time": "2023-08-30T12:18:53.124Z"
   },
   {
    "duration": 11,
    "start_time": "2023-08-30T12:18:53.140Z"
   },
   {
    "duration": 28,
    "start_time": "2023-08-30T12:18:53.156Z"
   },
   {
    "duration": 25,
    "start_time": "2023-08-30T12:18:53.189Z"
   },
   {
    "duration": 12,
    "start_time": "2023-08-30T12:18:53.217Z"
   },
   {
    "duration": 469,
    "start_time": "2023-08-30T12:18:53.232Z"
   },
   {
    "duration": 17,
    "start_time": "2023-08-30T12:18:53.705Z"
   },
   {
    "duration": 58,
    "start_time": "2023-08-30T12:18:53.732Z"
   },
   {
    "duration": 41,
    "start_time": "2023-08-30T12:18:53.803Z"
   },
   {
    "duration": 19,
    "start_time": "2023-08-30T12:18:53.854Z"
   },
   {
    "duration": 311,
    "start_time": "2023-08-30T12:18:53.882Z"
   },
   {
    "duration": 285,
    "start_time": "2023-08-30T12:18:54.195Z"
   },
   {
    "duration": 235,
    "start_time": "2023-08-30T12:18:54.482Z"
   },
   {
    "duration": 268,
    "start_time": "2023-08-30T12:18:54.723Z"
   },
   {
    "duration": 236,
    "start_time": "2023-08-30T12:18:54.997Z"
   },
   {
    "duration": 16,
    "start_time": "2023-08-30T12:18:55.238Z"
   },
   {
    "duration": 10,
    "start_time": "2023-08-30T12:18:55.259Z"
   },
   {
    "duration": 16,
    "start_time": "2023-08-30T12:18:55.281Z"
   },
   {
    "duration": 242,
    "start_time": "2023-08-30T12:18:55.302Z"
   },
   {
    "duration": 320,
    "start_time": "2023-08-30T12:18:55.548Z"
   },
   {
    "duration": 229,
    "start_time": "2023-08-30T12:18:55.870Z"
   },
   {
    "duration": 254,
    "start_time": "2023-08-30T12:18:56.102Z"
   },
   {
    "duration": 242,
    "start_time": "2023-08-30T12:18:56.366Z"
   },
   {
    "duration": 250,
    "start_time": "2023-08-30T12:18:56.615Z"
   },
   {
    "duration": 228,
    "start_time": "2023-08-30T12:18:56.866Z"
   },
   {
    "duration": 564,
    "start_time": "2023-08-30T12:18:57.098Z"
   },
   {
    "duration": 9,
    "start_time": "2023-08-30T12:18:57.672Z"
   },
   {
    "duration": 274,
    "start_time": "2023-08-30T12:18:57.691Z"
   },
   {
    "duration": 9,
    "start_time": "2023-08-30T12:18:57.975Z"
   },
   {
    "duration": 233,
    "start_time": "2023-08-30T12:18:57.987Z"
   },
   {
    "duration": 8,
    "start_time": "2023-08-30T12:18:58.222Z"
   },
   {
    "duration": 33,
    "start_time": "2023-08-30T12:18:58.232Z"
   },
   {
    "duration": 269,
    "start_time": "2023-08-30T12:18:58.268Z"
   },
   {
    "duration": 6,
    "start_time": "2023-08-30T12:18:58.538Z"
   },
   {
    "duration": 340,
    "start_time": "2023-08-30T12:18:58.546Z"
   },
   {
    "duration": 7,
    "start_time": "2023-08-30T12:18:58.891Z"
   },
   {
    "duration": 47,
    "start_time": "2023-08-30T12:18:58.900Z"
   },
   {
    "duration": 235,
    "start_time": "2023-08-30T12:18:58.950Z"
   },
   {
    "duration": 14,
    "start_time": "2023-08-30T12:18:59.193Z"
   },
   {
    "duration": 234,
    "start_time": "2023-08-30T12:18:59.210Z"
   },
   {
    "duration": 12,
    "start_time": "2023-08-30T12:18:59.450Z"
   },
   {
    "duration": 4653,
    "start_time": "2023-08-30T12:18:59.468Z"
   },
   {
    "duration": 402,
    "start_time": "2023-08-30T12:19:04.130Z"
   },
   {
    "duration": 364,
    "start_time": "2023-08-30T12:19:04.538Z"
   },
   {
    "duration": 447,
    "start_time": "2023-08-30T12:19:04.905Z"
   },
   {
    "duration": 23,
    "start_time": "2023-08-30T12:19:05.356Z"
   },
   {
    "duration": 20,
    "start_time": "2023-08-30T12:19:05.387Z"
   },
   {
    "duration": 44,
    "start_time": "2023-08-30T12:19:05.409Z"
   },
   {
    "duration": 469,
    "start_time": "2023-08-30T12:19:05.456Z"
   },
   {
    "duration": 15,
    "start_time": "2023-08-30T12:19:05.927Z"
   },
   {
    "duration": 18,
    "start_time": "2023-08-30T12:19:05.944Z"
   },
   {
    "duration": 39,
    "start_time": "2023-08-30T12:19:05.964Z"
   },
   {
    "duration": 732,
    "start_time": "2023-08-30T12:19:06.005Z"
   },
   {
    "duration": 15,
    "start_time": "2023-08-30T12:19:06.739Z"
   },
   {
    "duration": 19,
    "start_time": "2023-08-30T12:19:06.756Z"
   },
   {
    "duration": 24,
    "start_time": "2023-08-30T12:19:06.777Z"
   },
   {
    "duration": 374,
    "start_time": "2023-08-30T12:19:06.803Z"
   },
   {
    "duration": 12,
    "start_time": "2023-08-30T12:19:07.183Z"
   },
   {
    "duration": 17,
    "start_time": "2023-08-30T12:19:07.201Z"
   },
   {
    "duration": 11,
    "start_time": "2023-08-30T12:19:07.222Z"
   },
   {
    "duration": 10,
    "start_time": "2023-08-30T12:19:07.243Z"
   },
   {
    "duration": 1679,
    "start_time": "2023-08-30T12:32:01.763Z"
   },
   {
    "duration": 112,
    "start_time": "2023-08-30T12:32:03.454Z"
   },
   {
    "duration": 45,
    "start_time": "2023-08-30T12:32:03.578Z"
   },
   {
    "duration": 35,
    "start_time": "2023-08-30T12:32:03.625Z"
   },
   {
    "duration": 7,
    "start_time": "2023-08-30T12:32:03.666Z"
   },
   {
    "duration": 12,
    "start_time": "2023-08-30T12:32:03.679Z"
   },
   {
    "duration": 27,
    "start_time": "2023-08-30T12:32:03.693Z"
   },
   {
    "duration": 47,
    "start_time": "2023-08-30T12:32:03.728Z"
   },
   {
    "duration": 23,
    "start_time": "2023-08-30T12:32:03.784Z"
   },
   {
    "duration": 10,
    "start_time": "2023-08-30T12:32:03.818Z"
   },
   {
    "duration": 12,
    "start_time": "2023-08-30T12:32:03.837Z"
   },
   {
    "duration": 27,
    "start_time": "2023-08-30T12:32:03.852Z"
   },
   {
    "duration": 43,
    "start_time": "2023-08-30T12:32:03.882Z"
   },
   {
    "duration": 14,
    "start_time": "2023-08-30T12:32:03.941Z"
   },
   {
    "duration": 11,
    "start_time": "2023-08-30T12:32:03.969Z"
   },
   {
    "duration": 18,
    "start_time": "2023-08-30T12:32:03.984Z"
   },
   {
    "duration": 42,
    "start_time": "2023-08-30T12:32:04.004Z"
   },
   {
    "duration": 26,
    "start_time": "2023-08-30T12:32:04.049Z"
   },
   {
    "duration": 25,
    "start_time": "2023-08-30T12:32:04.077Z"
   },
   {
    "duration": 23,
    "start_time": "2023-08-30T12:32:04.107Z"
   },
   {
    "duration": 514,
    "start_time": "2023-08-30T12:32:04.133Z"
   },
   {
    "duration": 11,
    "start_time": "2023-08-30T12:32:04.649Z"
   },
   {
    "duration": 35,
    "start_time": "2023-08-30T12:32:04.662Z"
   },
   {
    "duration": 45,
    "start_time": "2023-08-30T12:32:04.699Z"
   },
   {
    "duration": 14,
    "start_time": "2023-08-30T12:32:04.758Z"
   },
   {
    "duration": 285,
    "start_time": "2023-08-30T12:32:04.775Z"
   },
   {
    "duration": 302,
    "start_time": "2023-08-30T12:32:05.067Z"
   },
   {
    "duration": 273,
    "start_time": "2023-08-30T12:32:05.373Z"
   },
   {
    "duration": 269,
    "start_time": "2023-08-30T12:32:05.659Z"
   },
   {
    "duration": 315,
    "start_time": "2023-08-30T12:32:05.930Z"
   },
   {
    "duration": 11,
    "start_time": "2023-08-30T12:32:06.251Z"
   },
   {
    "duration": 10,
    "start_time": "2023-08-30T12:32:06.271Z"
   },
   {
    "duration": 25,
    "start_time": "2023-08-30T12:32:06.283Z"
   },
   {
    "duration": 261,
    "start_time": "2023-08-30T12:32:06.313Z"
   },
   {
    "duration": 437,
    "start_time": "2023-08-30T12:32:06.579Z"
   },
   {
    "duration": 220,
    "start_time": "2023-08-30T12:32:07.022Z"
   },
   {
    "duration": 231,
    "start_time": "2023-08-30T12:32:07.249Z"
   },
   {
    "duration": 222,
    "start_time": "2023-08-30T12:32:07.484Z"
   },
   {
    "duration": 249,
    "start_time": "2023-08-30T12:32:07.708Z"
   },
   {
    "duration": 210,
    "start_time": "2023-08-30T12:32:07.959Z"
   },
   {
    "duration": 627,
    "start_time": "2023-08-30T12:32:08.176Z"
   },
   {
    "duration": 17,
    "start_time": "2023-08-30T12:32:08.805Z"
   },
   {
    "duration": 179,
    "start_time": "2023-08-30T12:32:08.824Z"
   },
   {
    "duration": 32,
    "start_time": "2023-08-30T12:32:09.004Z"
   },
   {
    "duration": 179,
    "start_time": "2023-08-30T12:32:09.040Z"
   },
   {
    "duration": 9,
    "start_time": "2023-08-30T12:32:09.225Z"
   },
   {
    "duration": 20,
    "start_time": "2023-08-30T12:32:09.239Z"
   },
   {
    "duration": 240,
    "start_time": "2023-08-30T12:32:09.263Z"
   },
   {
    "duration": 20,
    "start_time": "2023-08-30T12:32:09.505Z"
   },
   {
    "duration": 388,
    "start_time": "2023-08-30T12:32:09.540Z"
   },
   {
    "duration": 10,
    "start_time": "2023-08-30T12:32:09.935Z"
   },
   {
    "duration": 21,
    "start_time": "2023-08-30T12:32:09.951Z"
   },
   {
    "duration": 195,
    "start_time": "2023-08-30T12:32:09.977Z"
   },
   {
    "duration": 8,
    "start_time": "2023-08-30T12:32:10.174Z"
   },
   {
    "duration": 280,
    "start_time": "2023-08-30T12:32:10.184Z"
   },
   {
    "duration": 10,
    "start_time": "2023-08-30T12:32:10.475Z"
   },
   {
    "duration": 4358,
    "start_time": "2023-08-30T12:32:10.487Z"
   },
   {
    "duration": 348,
    "start_time": "2023-08-30T12:32:14.847Z"
   },
   {
    "duration": 326,
    "start_time": "2023-08-30T12:32:15.197Z"
   },
   {
    "duration": 282,
    "start_time": "2023-08-30T12:32:15.532Z"
   },
   {
    "duration": 36,
    "start_time": "2023-08-30T12:32:15.818Z"
   },
   {
    "duration": 14,
    "start_time": "2023-08-30T12:32:15.860Z"
   },
   {
    "duration": 11,
    "start_time": "2023-08-30T12:32:15.877Z"
   },
   {
    "duration": 401,
    "start_time": "2023-08-30T12:32:15.890Z"
   },
   {
    "duration": 22,
    "start_time": "2023-08-30T12:32:16.293Z"
   },
   {
    "duration": 40,
    "start_time": "2023-08-30T12:32:16.320Z"
   },
   {
    "duration": 17,
    "start_time": "2023-08-30T12:32:16.364Z"
   },
   {
    "duration": 748,
    "start_time": "2023-08-30T12:32:16.383Z"
   },
   {
    "duration": 30,
    "start_time": "2023-08-30T12:32:17.133Z"
   },
   {
    "duration": 16,
    "start_time": "2023-08-30T12:32:17.166Z"
   },
   {
    "duration": 55,
    "start_time": "2023-08-30T12:32:17.184Z"
   },
   {
    "duration": 477,
    "start_time": "2023-08-30T12:32:17.244Z"
   },
   {
    "duration": 16,
    "start_time": "2023-08-30T12:32:17.742Z"
   },
   {
    "duration": 18,
    "start_time": "2023-08-30T12:32:17.764Z"
   },
   {
    "duration": 9,
    "start_time": "2023-08-30T12:32:17.791Z"
   },
   {
    "duration": 11,
    "start_time": "2023-08-30T12:32:17.802Z"
   },
   {
    "duration": 1620,
    "start_time": "2023-08-30T12:32:46.555Z"
   },
   {
    "duration": 85,
    "start_time": "2023-08-30T12:32:48.178Z"
   },
   {
    "duration": 27,
    "start_time": "2023-08-30T12:32:48.266Z"
   },
   {
    "duration": 40,
    "start_time": "2023-08-30T12:32:48.295Z"
   },
   {
    "duration": 30,
    "start_time": "2023-08-30T12:32:48.338Z"
   },
   {
    "duration": 13,
    "start_time": "2023-08-30T12:32:48.376Z"
   },
   {
    "duration": 40,
    "start_time": "2023-08-30T12:32:48.391Z"
   },
   {
    "duration": 42,
    "start_time": "2023-08-30T12:32:48.434Z"
   },
   {
    "duration": 15,
    "start_time": "2023-08-30T12:32:48.479Z"
   },
   {
    "duration": 9,
    "start_time": "2023-08-30T12:32:48.496Z"
   },
   {
    "duration": 42,
    "start_time": "2023-08-30T12:32:48.507Z"
   },
   {
    "duration": 13,
    "start_time": "2023-08-30T12:32:48.569Z"
   },
   {
    "duration": 20,
    "start_time": "2023-08-30T12:32:48.585Z"
   },
   {
    "duration": 31,
    "start_time": "2023-08-30T12:32:48.609Z"
   },
   {
    "duration": 26,
    "start_time": "2023-08-30T12:32:48.645Z"
   },
   {
    "duration": 16,
    "start_time": "2023-08-30T12:32:48.678Z"
   },
   {
    "duration": 24,
    "start_time": "2023-08-30T12:32:48.697Z"
   },
   {
    "duration": 32,
    "start_time": "2023-08-30T12:32:48.726Z"
   },
   {
    "duration": 27,
    "start_time": "2023-08-30T12:32:48.760Z"
   },
   {
    "duration": 16,
    "start_time": "2023-08-30T12:32:48.789Z"
   },
   {
    "duration": 457,
    "start_time": "2023-08-30T12:32:48.808Z"
   },
   {
    "duration": 15,
    "start_time": "2023-08-30T12:32:49.267Z"
   },
   {
    "duration": 52,
    "start_time": "2023-08-30T12:32:49.283Z"
   },
   {
    "duration": 23,
    "start_time": "2023-08-30T12:32:49.337Z"
   },
   {
    "duration": 24,
    "start_time": "2023-08-30T12:32:49.362Z"
   },
   {
    "duration": 279,
    "start_time": "2023-08-30T12:32:49.388Z"
   },
   {
    "duration": 318,
    "start_time": "2023-08-30T12:32:49.671Z"
   },
   {
    "duration": 237,
    "start_time": "2023-08-30T12:32:49.991Z"
   },
   {
    "duration": 254,
    "start_time": "2023-08-30T12:32:50.238Z"
   },
   {
    "duration": 322,
    "start_time": "2023-08-30T12:32:50.493Z"
   },
   {
    "duration": 15,
    "start_time": "2023-08-30T12:32:50.827Z"
   },
   {
    "duration": 20,
    "start_time": "2023-08-30T12:32:50.848Z"
   },
   {
    "duration": 7,
    "start_time": "2023-08-30T12:32:50.871Z"
   },
   {
    "duration": 231,
    "start_time": "2023-08-30T12:32:50.881Z"
   },
   {
    "duration": 281,
    "start_time": "2023-08-30T12:32:51.114Z"
   },
   {
    "duration": 199,
    "start_time": "2023-08-30T12:32:51.398Z"
   },
   {
    "duration": 241,
    "start_time": "2023-08-30T12:32:51.599Z"
   },
   {
    "duration": 224,
    "start_time": "2023-08-30T12:32:51.841Z"
   },
   {
    "duration": 223,
    "start_time": "2023-08-30T12:32:52.067Z"
   },
   {
    "duration": 230,
    "start_time": "2023-08-30T12:32:52.292Z"
   },
   {
    "duration": 570,
    "start_time": "2023-08-30T12:32:52.547Z"
   },
   {
    "duration": 12,
    "start_time": "2023-08-30T12:32:53.120Z"
   },
   {
    "duration": 178,
    "start_time": "2023-08-30T12:32:53.143Z"
   },
   {
    "duration": 7,
    "start_time": "2023-08-30T12:32:53.324Z"
   },
   {
    "duration": 184,
    "start_time": "2023-08-30T12:32:53.333Z"
   },
   {
    "duration": 8,
    "start_time": "2023-08-30T12:32:53.527Z"
   },
   {
    "duration": 18,
    "start_time": "2023-08-30T12:32:53.537Z"
   },
   {
    "duration": 194,
    "start_time": "2023-08-30T12:32:53.558Z"
   },
   {
    "duration": 5,
    "start_time": "2023-08-30T12:32:53.754Z"
   },
   {
    "duration": 314,
    "start_time": "2023-08-30T12:32:53.761Z"
   },
   {
    "duration": 6,
    "start_time": "2023-08-30T12:32:54.077Z"
   },
   {
    "duration": 9,
    "start_time": "2023-08-30T12:32:54.085Z"
   },
   {
    "duration": 198,
    "start_time": "2023-08-30T12:32:54.096Z"
   },
   {
    "duration": 6,
    "start_time": "2023-08-30T12:32:54.296Z"
   },
   {
    "duration": 278,
    "start_time": "2023-08-30T12:32:54.313Z"
   },
   {
    "duration": 6,
    "start_time": "2023-08-30T12:32:54.593Z"
   },
   {
    "duration": 4090,
    "start_time": "2023-08-30T12:32:54.611Z"
   },
   {
    "duration": 297,
    "start_time": "2023-08-30T12:32:58.703Z"
   },
   {
    "duration": 291,
    "start_time": "2023-08-30T12:32:59.002Z"
   },
   {
    "duration": 275,
    "start_time": "2023-08-30T12:32:59.295Z"
   },
   {
    "duration": 12,
    "start_time": "2023-08-30T12:32:59.572Z"
   },
   {
    "duration": 34,
    "start_time": "2023-08-30T12:32:59.586Z"
   },
   {
    "duration": 29,
    "start_time": "2023-08-30T12:32:59.621Z"
   },
   {
    "duration": 397,
    "start_time": "2023-08-30T12:32:59.663Z"
   },
   {
    "duration": 16,
    "start_time": "2023-08-30T12:33:00.062Z"
   },
   {
    "duration": 59,
    "start_time": "2023-08-30T12:33:00.080Z"
   },
   {
    "duration": 52,
    "start_time": "2023-08-30T12:33:00.141Z"
   },
   {
    "duration": 723,
    "start_time": "2023-08-30T12:33:00.194Z"
   },
   {
    "duration": 15,
    "start_time": "2023-08-30T12:33:00.919Z"
   },
   {
    "duration": 48,
    "start_time": "2023-08-30T12:33:00.935Z"
   },
   {
    "duration": 72,
    "start_time": "2023-08-30T12:33:00.986Z"
   },
   {
    "duration": 375,
    "start_time": "2023-08-30T12:33:01.063Z"
   },
   {
    "duration": 18,
    "start_time": "2023-08-30T12:33:01.442Z"
   },
   {
    "duration": 53,
    "start_time": "2023-08-30T12:33:01.462Z"
   },
   {
    "duration": 56,
    "start_time": "2023-08-30T12:33:01.517Z"
   },
   {
    "duration": 42,
    "start_time": "2023-08-30T12:33:01.575Z"
   }
  ],
  "kernelspec": {
   "display_name": "Python 3 (ipykernel)",
   "language": "python",
   "name": "python3"
  },
  "language_info": {
   "codemirror_mode": {
    "name": "ipython",
    "version": 3
   },
   "file_extension": ".py",
   "mimetype": "text/x-python",
   "name": "python",
   "nbconvert_exporter": "python",
   "pygments_lexer": "ipython3",
   "version": "3.9.5"
  },
  "toc": {
   "base_numbering": 1,
   "nav_menu": {},
   "number_sections": true,
   "sideBar": true,
   "skip_h1_title": true,
   "title_cell": "Table of Contents",
   "title_sidebar": "Contents",
   "toc_cell": false,
   "toc_position": {},
   "toc_section_display": true,
   "toc_window_display": false
  }
 },
 "nbformat": 4,
 "nbformat_minor": 4
}
