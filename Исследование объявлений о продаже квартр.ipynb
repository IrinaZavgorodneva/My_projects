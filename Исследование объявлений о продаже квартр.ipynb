{
 "cells": [
  {
   "cell_type": "markdown",
   "metadata": {},
   "source": [
    "# Проект \"Исследование объявлений о продаже квартир\""
   ]
  },
  {
   "cell_type": "markdown",
   "metadata": {},
   "source": [
    "## План проекта\n",
    "В нашем распоряжении данные сервиса недвижимости — архив объявлений о продаже квартир в Санкт-Петербурге и соседних населённых пунктов за несколько лет. Нужно научиться определять рыночную стоимость объектов недвижимости. \n",
    "\n",
    "**Задача** — установить параметры. Это позволит построить автоматизированную систему: она отследит аномалии и мошенническую деятельность.\n",
    "\n",
    "По каждой квартире на продажу доступны два вида данных. Первые вписаны пользователем, вторые — получены автоматически на основе картографических данных. Например, расстояние до центра, аэропорта, ближайшего парка и водоёма. \n",
    "\n",
    "**Ход исследования:**\n",
    "- изучение данных\n",
    "- предобработка данных\n",
    "- создание новых столбцов\n",
    "- исследовательский анализ данных"
   ]
  },
  {
   "cell_type": "markdown",
   "metadata": {},
   "source": [
    "## 1. Изучение данных"
   ]
  },
  {
   "cell_type": "code",
   "execution_count": null,
   "metadata": {},
   "outputs": [],
   "source": [
    "import pandas as pd #импортируем библиотеку pandas"
   ]
  },
  {
   "cell_type": "code",
   "execution_count": null,
   "metadata": {},
   "outputs": [],
   "source": [
    "data = pd.read_csv('data.csv', sep=\"\\t\") #загружаем данные из файла в датафрейм"
   ]
  },
  {
   "cell_type": "code",
   "execution_count": null,
   "metadata": {
    "scrolled": true
   },
   "outputs": [],
   "source": [
    "data.info() #изучаем общую информацию о датафрейме"
   ]
  },
  {
   "cell_type": "code",
   "execution_count": null,
   "metadata": {},
   "outputs": [],
   "source": [
    "import matplotlib.pyplot as plt\n",
    "data.hist(figsize=(15, 20)) #строим общую гистограмму для всех числовых столбцов таблицы\n",
    "plt.show()"
   ]
  },
  {
   "cell_type": "markdown",
   "metadata": {},
   "source": [
    "Изучив предложенные данные мы выяснили какие столбцы есть в таблице (**total_images, last_price, total_area, first_day_exposition, rooms, ceiling_height, floors_total, living_area, floor, is_apartment, studio, open_plan, kitchen_area, balcony, locality_name, airports_nearest, cityCenters_nearest, parks_around3000, parks_nearest, ponds_around3000, ponds_nearest, days_exposition**) и построили по ним предварительные гистограммы."
   ]
  },
  {
   "cell_type": "markdown",
   "metadata": {},
   "source": [
    "## 2. Предобработка данных"
   ]
  },
  {
   "cell_type": "markdown",
   "metadata": {},
   "source": [
    "**Пропуски были обнаружены в следующих столбцах:**\n",
    "* ceiling_height (высота потолков (м)) \n",
    "* floors_total (всего этажей в доме) \n",
    "* living_area (жилая площадь в квадратных метрах (м²))\n",
    "* is_apartment (апартаменты (булев тип)) \n",
    "* kitchen_area (площадь кухни в квадратных метрах (м²))\n",
    "* balcony (число балконов)\n",
    "* locality_name (название населённого пункта)\n",
    "* airports_nearest (расстояние до ближайшего аэропорта в метрах (м))\n",
    "* cityCenters_nearest (расстояние до центра города (м))\n",
    "* parks_around3000 (число парков в радиусе 3 км)\n",
    "* parks_nearest (расстояние до ближайшего парка (м))\n",
    "* ponds_around3000 (число водоёмов в радиусе 3 км)\n",
    "* ponds_nearest (расстояние до ближайшего водоёма (м))\n",
    "* days_exposition (сколько дней было размещено объявление (от публикации до снятия))"
   ]
  },
  {
   "cell_type": "code",
   "execution_count": null,
   "metadata": {},
   "outputs": [],
   "source": [
    "for item in data.columns: #находим пропуски в столбцах\n",
    "    if len(data[item].isna().unique()) != 1:\n",
    "        print(f'Количество пропусков данных в столбце {item}: {len(data[data[item].isna() == True])}')\n",
    "        print() "
   ]
  },
  {
   "cell_type": "code",
   "execution_count": null,
   "metadata": {},
   "outputs": [],
   "source": [
    "data['ceiling_height'] = data['ceiling_height'].fillna(data['ceiling_height'].median()) \n",
    "#заменяем пропущенные значения в столбце с высотой потолков на медианное значение"
   ]
  },
  {
   "cell_type": "code",
   "execution_count": null,
   "metadata": {},
   "outputs": [],
   "source": [
    "data = data.dropna(subset=['floors_total']) #удаляем пропущенные данные"
   ]
  },
  {
   "cell_type": "code",
   "execution_count": null,
   "metadata": {},
   "outputs": [],
   "source": [
    "data['living_area'] = data['living_area'].fillna(data['living_area'].median()) #заменяем пропущенные значения в столбце с жилой площадью на медианное значение"
   ]
  },
  {
   "cell_type": "code",
   "execution_count": null,
   "metadata": {},
   "outputs": [],
   "source": [
    "data['kitchen_area'] = data['kitchen_area'].fillna(data['kitchen_area'].median()) \n",
    "#заменяем пропущенные значения в столбце с площадью кухни на медианное значение"
   ]
  },
  {
   "cell_type": "code",
   "execution_count": null,
   "metadata": {},
   "outputs": [],
   "source": [
    "data['balcony'] = data['balcony'].fillna(0)\n",
    "#заменияем пропущенные значения в столбце с количеством балконов на 0"
   ]
  },
  {
   "cell_type": "code",
   "execution_count": null,
   "metadata": {},
   "outputs": [],
   "source": [
    "print(len(data[data['ponds_around3000'].isna()])) #анализируем пропуски в столбцах о парках и водоёмах\n",
    "print(len(data[data['parks_around3000'].isna()]))\n",
    "print(len(data[(data['ponds_around3000'].isna()) & (data['ponds_nearest'].isna()) & (data['parks_nearest'].isna()) & (data['parks_around3000'].isna())]))\n",
    "print(len(data[data['parks_nearest'].isna()]))\n",
    "print(len(data[data['ponds_nearest'].isna()]))"
   ]
  },
  {
   "cell_type": "code",
   "execution_count": null,
   "metadata": {},
   "outputs": [],
   "source": [
    "data['parks_around3000'] = data['parks_around3000'].fillna(0) \n",
    "#заменяем пропущенные значения в столбце с количеством парков в радиусе 3 км на 0"
   ]
  },
  {
   "cell_type": "code",
   "execution_count": null,
   "metadata": {},
   "outputs": [],
   "source": [
    "data['ponds_around3000'] = data['ponds_around3000'].fillna(0) \n",
    "#заменяем пропущенные значения в столбце с количеством водоёмов в радиусе 3 км на 0"
   ]
  },
  {
   "cell_type": "code",
   "execution_count": null,
   "metadata": {},
   "outputs": [],
   "source": [
    "data['days_exposition'] = data['days_exposition'].fillna(0) \n",
    "#заменяем пропущенные значения в столбце с количеством дней с публикации объявления до снятия его с публикации"
   ]
  },
  {
   "cell_type": "markdown",
   "metadata": {},
   "source": [
    "**Возможные причины пропусков в данных:**\n",
    "* Некоторые пропуски (например, в столбцах ceiling_heist, living_area, kitchen_area) вызваны человеческим фактором - данные просто не заполнены по ошибке или по незнанию ответа. \n",
    "* Пропуски в столбце floors_total  имеют неуточнённую природу, их мы удаляем, так как их замена только усложнит задачу и запутает данные.\n",
    "* Пропуски в столбцах airports_nearest и cityCenters_nearest скорее всего также не заполнены по незнанию\n",
    "* Пропуски в столбце balcony предположительно анологичны ответу '0', так как количество таких ответов не аномальное и пропуск в пункте balcony логичен именно при отсутствии балкона.\n",
    "* Причины пропусков в столбце locality name не объяснимы, скорее всего так же замешан человеческий фактор, однако в этом столбце пропусков крайне мало (конверсия около 0.2%), поэтому ими можно пренебречь.\n",
    "* Пропуски в столбцах parks_around3000, parks_nearest, ponds_around3000, ponds_nearest взаимосвязаны. Во всех строках где есть пропуски в столбце parks_around3000, есть пропуски и в столбцах parks_nearest, ponds_around3000, ponds_nearest. Предположительно в этих районах нет парков и водоёмов вблизи, однако в этом случае всё равно ближайшие парки и водоёмы могли бы быть указаны, поэтому эта связь не совсем понятна. Принято решение заменить в столбцах parks_around3000 и ponds_around3000 пропуски на 0, а parks_nearest и ponds_nearest оставить без изменений. Также в столбцах parks_nearest и ponds_nearest есть пропуски, не зависящие от parks_around3000 и ponds_around3000, которые могли быть вызваны недостатком информации у заполняющего.\n",
    "* Пропуски в столбце days_exposition кажутся системной ошибкой, так как их достаточно много (конверсия около 13%) и эта информация скорее всего рассчитывается системой, а не заполняющим. Но также можно предположить что это значит что объявление было выставлено в день выкладки, поэтому пропуски можно заменить на 0.\n"
   ]
  },
  {
   "cell_type": "code",
   "execution_count": null,
   "metadata": {},
   "outputs": [],
   "source": [
    "data.dtypes #проверяем типы данных в столбцах"
   ]
  },
  {
   "cell_type": "markdown",
   "metadata": {},
   "source": [
    "**Столбцы с некорректным типом данных:**\n",
    "* first_day_exposition - тип данных **object**, а так как это дата публикации, тип должен быть **datetime**\n",
    "* floors_total - тип данных **float64**, а так как количество этажей всегда целое число, тип должен быть **int32**\n",
    "* is_apartment - тип данных **object**, а по условию это должно быть значение типа **bool**\n",
    "* balcony - тип данных **float64**, а так как количество балконов всегда целое число, тип должен быть **int32**\n",
    "* parks_around3000 - тип данных **float64**, а так как количество парков всегда целое число, тип должен быть **int32**\n",
    "* ponds_around3000 - тип данных **float64**, а так как количество водоёмов всегда целое число, тип должен быть **int32**\n",
    "* days_exposition - тип данных **float64**, а так как количество дней с момента публикации всегда целое число, тип должен быть **int32**\n",
    "* Оставшиеся столбцы с типом данных **float64** переведём в тип **float32**, а столбцы с типом **int64** переведём в тип **int32**"
   ]
  },
  {
   "cell_type": "code",
   "execution_count": null,
   "metadata": {},
   "outputs": [],
   "source": [
    "for item in ['floors_total', 'balcony', 'parks_around3000', 'ponds_around3000', 'days_exposition', 'total_images', 'rooms', 'floor']:\n",
    "    data[item] = data[item].astype('int32')\n",
    "    #меняем формат данных столбцов floors_total, balcony, parks_around3000, ponds_around3000, days_exposition, total_images, rooms, floor"
   ]
  },
  {
   "cell_type": "code",
   "execution_count": null,
   "metadata": {},
   "outputs": [],
   "source": [
    "for item in ['last_price', 'total_area', 'ceiling_height', 'living_area', 'kitchen_area', 'airports_nearest', 'cityCenters_nearest', 'parks_nearest', 'ponds_nearest']:\n",
    "    data[item] = data[item].astype('float32')\n",
    "    #меняем формат данных столбцов last_price, total_area, ceiling_height, living_area, kitchen_area, airports_nearest, cityCenters_nearest, parks_nearest, ponds_nearest"
   ]
  },
  {
   "cell_type": "code",
   "execution_count": null,
   "metadata": {},
   "outputs": [],
   "source": [
    "data['first_day_exposition'] = pd.to_datetime(data['first_day_exposition'], format='%Y-%m-%dT%H:%M:%S') #меняем формат данных столбца first_day_exposition"
   ]
  },
  {
   "cell_type": "code",
   "execution_count": null,
   "metadata": {},
   "outputs": [],
   "source": [
    "data['is_apartment'] = data['is_apartment'].astype('bool') #меняем формат данных столбца is_apartment"
   ]
  },
  {
   "cell_type": "code",
   "execution_count": null,
   "metadata": {},
   "outputs": [],
   "source": [
    "data.dtypes #проверяем все ли необходимые столбцы сменили тип"
   ]
  },
  {
   "cell_type": "code",
   "execution_count": null,
   "metadata": {
    "scrolled": true
   },
   "outputs": [],
   "source": [
    "data['locality_name'].sort_values().dropna().unique() #изучаем уникальные значения столбца с названиями населённых пунктов"
   ]
  },
  {
   "cell_type": "code",
   "execution_count": null,
   "metadata": {},
   "outputs": [],
   "source": [
    "len(data['locality_name'].unique()) #оцениваем количество уникальных значений этого столбца"
   ]
  },
  {
   "cell_type": "code",
   "execution_count": null,
   "metadata": {},
   "outputs": [],
   "source": [
    "types = sorted(['поселок городского типа', 'посёлок городского типа', 'городской поселок', 'городской посёлок', 'деревня', 'коттеджный поселок', 'коттеджный посёлок', 'посёлок при железнодорожной станции', 'поселок городского типа', 'посёлок городского типа', 'посёлок станции', 'поселок станции', 'садоводческое некоммерческое товарищество', 'садовое товарищество', 'село', 'поселок', 'посёлок'], key=len, reverse=True)\n",
    "\n",
    "for item in data['locality_name'].dropna().unique():\n",
    "    for t in types:\n",
    "        if t in item:\n",
    "            data[data['locality_name'] == item] = data[data['locality_name'] == item].replace(item, item[len(t)+1:])\n",
    "\n",
    "#усредняем формат данных в столбце, приводя всё к названиям городов/посёлков и т.д. кроме случаев с названиями формата 'имени ...', их оставляем без изменений"
   ]
  },
  {
   "cell_type": "code",
   "execution_count": null,
   "metadata": {},
   "outputs": [],
   "source": [
    "data['locality_name'].unique() #оцениваем результат"
   ]
  },
  {
   "cell_type": "code",
   "execution_count": null,
   "metadata": {},
   "outputs": [],
   "source": [
    "len(data['locality_name'].unique()) #проверяем что количество уникальных значений столбца изменилось"
   ]
  },
  {
   "cell_type": "code",
   "execution_count": null,
   "metadata": {},
   "outputs": [],
   "source": [
    "data['total_images'].unique() #оцениваем значения в столбце total_images, 50 фото многовато, но возможно"
   ]
  },
  {
   "cell_type": "code",
   "execution_count": null,
   "metadata": {
    "scrolled": true
   },
   "outputs": [],
   "source": [
    "data['last_price'].unique()\n",
    "#оцениваем значения в столбце last_price, двухкомнатная квартира за 12190? 763000000? дороговато\n",
    "data = data[(data['last_price'] != 12190) & (data['last_price'] != 763000000)] #удаляем редкие выбивающиеся значения"
   ]
  },
  {
   "cell_type": "code",
   "execution_count": null,
   "metadata": {},
   "outputs": [],
   "source": [
    "data['total_area'].unique()\n",
    "#оцениваем значения в столбце total_area, есть странное значение 900, но оно возможно, если мы говорим о квартире в центре Москвы, тем более у нее 12 комнат\n",
    "data = data[data['total_area'] != 900] #удаляем редкое выбивающееся значение. Также минимальные значения странные, но доподлинно не ясно как они появились"
   ]
  },
  {
   "cell_type": "code",
   "execution_count": null,
   "metadata": {},
   "outputs": [],
   "source": [
    "data['rooms'].unique() \n",
    "#оцениваем значения в столбце rooms, странные значения начинаются с 7, но это тоже возможно, если обратить внимание на предыдущее вычисление\n",
    "#квартир, где больше 9 комнат всего 18, что не так значительно для статистики, поэтому ими можно пренебречь\n",
    "#также есть значения равные 0, что странно но этот факт не удаётся ни с чем связать\n",
    "data = data.loc[data['rooms'] < 9]"
   ]
  },
  {
   "cell_type": "code",
   "execution_count": null,
   "metadata": {
    "scrolled": true
   },
   "outputs": [],
   "source": [
    "sorted(data['ceiling_height'].unique()) #оцениваем значения в столбце ceiling_height, значения выше 4 кажутся нереальными, потому что даже в сталинках потолки до 3,6 м, тем не менее стандарт потолков - от 2,5 м, так что можно предположить что значения выше 25 - это значения, внесённые с ошибкой\n",
    "data.loc[data['ceiling_height'] >= 25, 'ceiling_height'] /= 10 #приводим значения выше 25 к более реалистичным, деля на 10"
   ]
  },
  {
   "cell_type": "code",
   "execution_count": null,
   "metadata": {},
   "outputs": [],
   "source": [
    "data['living_area'].unique() #оцениваем значения в столбце living_area, минимальные значения странные, но их природа доподлинно не ясна\n"
   ]
  },
  {
   "cell_type": "code",
   "execution_count": null,
   "metadata": {},
   "outputs": [],
   "source": [
    "data['kitchen_area'].unique() #оцениваем значения в столбце kitchen_area, 100 квадратов для кухни многовато, но если соотносить с общей площадью - это возможно"
   ]
  },
  {
   "cell_type": "code",
   "execution_count": null,
   "metadata": {},
   "outputs": [],
   "source": [
    "data['airports_nearest'].unique() #оцениваем значения в столбце airports_nearest, находим квартиру находящуюся прямо в аэропорту\n",
    "data = data.loc[data['airports_nearest'] != 0] #удаляем это значение"
   ]
  },
  {
   "cell_type": "code",
   "execution_count": null,
   "metadata": {},
   "outputs": [],
   "source": [
    "data['cityCenters_nearest'].unique() #оцениваем значения в столбце cityCenters_nearest, аномалий не обнаружено"
   ]
  },
  {
   "cell_type": "markdown",
   "metadata": {},
   "source": [
    "**Вывод об особенностях данных:**\n",
    "* В столбце **total_images** аномалий не выявлено\n",
    "* В столбце **last_price** было выявлено две аномалии непонятной природы, были удалены как выбивающиеся значения (двухкомнатная квартира за 12190 и квартира стоимостью 763000000)\n",
    "* В столбце **total_area** было удалено краевое, слишком большое значение (квартира площадью 900 кв.м.)\n",
    "* В столбце **rooms** квартир, где больше 9 комнат было всего 18, что не так значительно для статистики, поэтому мы удалили их как краевые значения\n",
    "* В столбце **ceiling_height** большая часть значений кажется нереалистичной но только в части из них можно было логически предположить ошибки. Все значения выше 25 м разделили на 10 чтобы привести к более реалистичным значениям\n",
    "* В столбце **living_area** минимальные значения кажутся нереалистичными но причины возникновения таких значений не ясна\n",
    "* В столбце **kitchen_area** есть подозрительно высокие значения но они логично соотносятся с площадью этих квартир, поэтому значения этого столбца оставлены без изменений\n",
    "* В столбце **airports_nearest** была найдена квартира с расстоянием 0 км до аэропорта, что невозможно, поэтому это значение было удалено\n",
    "* В столбце **cityCenters_nearest** аномалии не обнаружены"
   ]
  },
  {
   "cell_type": "markdown",
   "metadata": {},
   "source": [
    "**Вывод о предобработке данных:**\n",
    "* В ходе предобработки пропуски данных были обнаружены в следующих столбцах: **ceiling_height** (высота потолков (м)) - **9195** пропусков, **floors_total** (всего этажей в доме) - **86** пропусков, **living_area** (жилая площадь в квадратных метрах (м²)) - **1903** пропуска, **is_apartment** (апартаменты (булев тип)) - **20924** пропусков, **kitchen_area** (площадь кухни в квадратных метрах (м²)) - **2278** пропусков, **balcony** (число балконов) - **11519** пропусков, **locality_name** (название населённого пункта) - **49** пропусков, **airports_nearest** (расстояние до ближайшего аэропорта в метрах (м)) - **5542** пропуска, **cityCenters_nearest** (расстояние до центра города (м)) - **5519** пропусков, **parks_around3000** (число парков в радиусе 3 км) - **5518** пропусков, **parks_nearest** (расстояние до ближайшего парка (м)) - **15620** пропусков, **ponds_around3000** (число водоёмов в радиусе 3 км) - **5518** пропусков, **ponds_nearest** (расстояние до ближайшего водоёма (м)) - **14589** пропусков, **days_exposition** (сколько дней было размещено объявление (от публикации до снятия)) - **3181** пропусков.\n",
    "* Некоторые пропуски (например, в столбцах **ceiling_heist, living_area, kitchen_area**) вызваны человеческим фактором - данные просто не заполнены по ошибке или по незнанию ответа. Пропуски в столбце **floors_total**  имеют неуточнённую природу, их мы удаляем, так как их замена только усложнит задачу и запутает данные. Пропуски в столбцах **airports_nearest и cityCenters_nearest** скорее всего также не заполнены по незнанию. Пропуски в столбце **balcony** предположительно анологичны ответу '0', так как количество таких ответов не аномальное и пропуск в пункте **balcony** логичен именно при отсутствии балкона. Причины пропусков в столбце **locality_name** не объяснимы, скорее всего так же замешан человеческий фактор, однако в этом столбце пропусков крайне мало (конверсия около 0.2%), поэтому ими можно пренебречь. Пропуски в столбцах **parks_around3000, parks_nearest, ponds_around3000, ponds_nearest** взаимосвязаны. Во всех строках где есть пропуски в столбце **parks_around3000**, есть пропуски и в столбцах **parks_nearest, ponds_around3000, ponds_nearest**. Предположительно в этих районах нет парков и водоёмов вблизи, однако в этом случае всё равно ближайшие парки и водоёмы могли бы быть указаны, поэтому эта связь не совсем понятна. Принято решение заменить в столбцах **parks_around3000 и ponds_around3000** пропуски на 0, а **parks_nearest и ponds_nearest** оставить без изменений. Также в столбцах **parks_nearest и ponds_nearest** есть пропуски, не зависящие от **parks_around3000 и ponds_around3000**, которые могли быть вызваны недостатком информации у заполняющего. Пропуски в столбце **days_exposition** кажутся системной ошибкой, так как их достаточно много (конверсия около 13%) и эта информация скорее всего рассчитывается системой, а не заполняющим. Но также можно предположить что это значит что объявление было выставлено в день выкладки, поэтому пропуски можно заменить на 0.\n",
    "* Некорректный тип данных был обнаружен в следующих столбцах: **first_day_exposition** - тип данных **object**, а так как это дата публикации, тип должен быть **datetime**, **floors_total** - тип данных **float64**, а так как количество этажей всегда целое число, тип должен быть **int32**, **is_apartment** - тип данных **object**, а по условию это должно быть значение типа **bool**, **balcony** - тип данных **float64**, а так как количество балконов всегда целое число, тип должен быть **int32**, **parks_around3000** - тип данных **float64**, а так как количество парков всегда целое число, тип должен быть **int32**, **ponds_around3000** - тип данных **float64**, а так как количество водоёмов всегда целое число, тип должен быть **int32**, **days_exposition** - тип данных **float64**, а так как количество дней с момента публикации всегда целое число, тип должен быть **int32**, оставшиеся столбцы с типом данных **float64** переведём в тип **float32**, а столбцы с типом **int64** переведём в тип **int32**.\n",
    "* В столбце **last_price** было выявлено две аномалии непонятной природы, были удалены как выбивающиеся значения (двухкомнатная квартира за 12190 и квартира стоимостью 763000000), в столбце **total_area** было удалено краевое, слишком большое значение (квартира площадью 900 кв.м.), в столбце **rooms** квартир, где больше 9 комнат было всего 18, что не так значительно для статистики, поэтому мы удалили их как краевые значения, в столбце **ceiling_height** большая часть значений кажется нереалистичной но только в части из них можно было логически предположить ошибки. Все значения выше 25 м разделили на 10 чтобы привести к более реалистичным значениям. В столбце **living_area** минимальные значения кажутся нереалистичными но причины возникновения таких значений не ясна, в столбце **kitchen_area** есть подозрительно высокие значения но они логично соотносятся с площадью этих квартир, поэтому значения этого столбца оставлены без изменений, в столбце **airports_nearest** была найдена квартира с расстоянием 0 км до аэропорта, что невозможно, поэтому это значение было удалено."
   ]
  },
  {
   "cell_type": "markdown",
   "metadata": {},
   "source": [
    "## 3. Считаем и добавляем в таблицу новые столбцы"
   ]
  },
  {
   "cell_type": "code",
   "execution_count": null,
   "metadata": {},
   "outputs": [],
   "source": [
    "data['cost_per_square_meter'] = data['last_price'] / data['total_area'] #создаём столбец с ценой за квадратный метр"
   ]
  },
  {
   "cell_type": "code",
   "execution_count": null,
   "metadata": {},
   "outputs": [],
   "source": [
    "from datetime import datetime\n",
    "weekday = []\n",
    "for item in data['first_day_exposition']:\n",
    "    weekday.append(datetime.weekday(item))\n",
    "data['weekday'] = weekday #формируем столбец с днями недели выкладки объявления\n"
   ]
  },
  {
   "cell_type": "code",
   "execution_count": null,
   "metadata": {},
   "outputs": [],
   "source": [
    "data['month'] = pd.DatetimeIndex(data['first_day_exposition']).month #добавляем столбец с месяцем выкладки объявления"
   ]
  },
  {
   "cell_type": "code",
   "execution_count": null,
   "metadata": {
    "scrolled": true
   },
   "outputs": [],
   "source": [
    "data['year'] = pd.DatetimeIndex(data['first_day_exposition']).year #добавляем столбец с годом выкладки объявления"
   ]
  },
  {
   "cell_type": "code",
   "execution_count": null,
   "metadata": {},
   "outputs": [],
   "source": [
    "data['floor_type'] = ['другой' for _ in range (len(data))] #создаём столбец с типами этажей\n",
    "data.loc[data['floor'] == data['floors_total'], 'floor_type'] = 'последний' #если этаж и количество этажей в доме совпадает\n",
    "data.loc[data['floor'] == 1, 'floor_type'] = 'первый' #если значение этажа равно 1"
   ]
  },
  {
   "cell_type": "code",
   "execution_count": null,
   "metadata": {},
   "outputs": [],
   "source": [
    "data['city_center_km'] = [0 for i in range (len(data))] #создаём столбец с расстояниями до центра города в километрах\n",
    "for item in data['cityCenters_nearest']:\n",
    "    try:\n",
    "        data.loc[data['cityCenters_nearest'] == item, 'city_center_km'] = round(item / 1000)\n",
    "    except:\n",
    "        continue"
   ]
  },
  {
   "cell_type": "markdown",
   "metadata": {},
   "source": [
    "## 4. Исследовательский анализ данных"
   ]
  },
  {
   "cell_type": "code",
   "execution_count": null,
   "metadata": {
    "scrolled": true
   },
   "outputs": [],
   "source": [
    "data['total_area'].plot(kind='hist', title='total_area', range=(0, 350), bins=10) \n",
    "plt.show()\n",
    "#построение гистограммы по столбцу total_area"
   ]
  },
  {
   "cell_type": "code",
   "execution_count": null,
   "metadata": {},
   "outputs": [],
   "source": [
    "data['living_area'].plot(kind='hist', title='living_area', range=(0, 230), bins=10)\n",
    "plt.show()\n",
    "#построение гистограммы по столбцу living_area"
   ]
  },
  {
   "cell_type": "code",
   "execution_count": null,
   "metadata": {},
   "outputs": [],
   "source": [
    "data['kitchen_area'].plot(kind='hist', title='kitchen_area', range=(0, 60), bins=10)\n",
    "plt.show()\n",
    "#построение гистограммы по столбцу kitchen_area"
   ]
  },
  {
   "cell_type": "code",
   "execution_count": null,
   "metadata": {},
   "outputs": [],
   "source": [
    "data['rooms'].plot(kind='hist', title='rooms', range=(0,10), bins=10) \n",
    "plt.show()\n",
    "#построение гистограммы по столбцу rooms"
   ]
  },
  {
   "cell_type": "code",
   "execution_count": null,
   "metadata": {},
   "outputs": [],
   "source": [
    "data['last_price'].plot(kind='hist', title='last_price', range=(0, 50000000), bins=10) \n",
    "plt.show()\n",
    "#построение гистограммы по столбцу last_price"
   ]
  },
  {
   "cell_type": "code",
   "execution_count": null,
   "metadata": {},
   "outputs": [],
   "source": [
    "data['ceiling_height'].plot(kind='hist', title='ceiling_height', range=(0, 10), bins=10) \n",
    "plt.show()\n",
    "#построение гистограммы по столбцу ceiling_height"
   ]
  },
  {
   "cell_type": "code",
   "execution_count": null,
   "metadata": {},
   "outputs": [],
   "source": [
    "data['floor'].plot(kind='hist', title='floor', range=(0, 50), bins=10) #построение гистограммы по столбцу floor\n",
    "plt.show()"
   ]
  },
  {
   "cell_type": "code",
   "execution_count": null,
   "metadata": {},
   "outputs": [],
   "source": [
    "data['floor_type'].hist(bins=10) #построение гистограммы по столбцу floor_type\n",
    "plt.show()"
   ]
  },
  {
   "cell_type": "code",
   "execution_count": null,
   "metadata": {},
   "outputs": [],
   "source": [
    "data['floors_total'].plot(kind='hist', title='floors_total', range=(0, 50), bins=10) #построение гистограммы по столбцу floor_total\n",
    "plt.show()"
   ]
  },
  {
   "cell_type": "code",
   "execution_count": null,
   "metadata": {},
   "outputs": [],
   "source": [
    "data['cityCenters_nearest'].plot(kind='hist', title='cityCenters_nearest', range=(0, 60000), bins=10) #построение гистограммы по столбцу cityCenters_nearest\n",
    "plt.show()"
   ]
  },
  {
   "cell_type": "code",
   "execution_count": null,
   "metadata": {},
   "outputs": [],
   "source": [
    "data['airports_nearest'].plot(kind='hist', title='airports_nearest', bins=10) #построение гистограммы по столбцу airports_nearest\n",
    "plt.show()"
   ]
  },
  {
   "cell_type": "code",
   "execution_count": null,
   "metadata": {},
   "outputs": [],
   "source": [
    "data['parks_nearest'].plot(kind='hist', title='parks_nearest', bins=10) #построение гистограммы по столбцу parks_nearest\n",
    "plt.show()"
   ]
  },
  {
   "cell_type": "code",
   "execution_count": null,
   "metadata": {},
   "outputs": [],
   "source": [
    "data['weekday'].plot(kind='hist', title='weekday', bins=31) #построение гистограммы по столбцу weekday\n",
    "plt.show()"
   ]
  },
  {
   "cell_type": "code",
   "execution_count": null,
   "metadata": {
    "scrolled": true
   },
   "outputs": [],
   "source": [
    "data['month'].plot(kind='hist', title='month', bins=12) #построение гистограммы по столбцу month\n",
    "plt.show()"
   ]
  },
  {
   "cell_type": "markdown",
   "metadata": {},
   "source": [
    "**Выводы по данным гистограмм:**\n",
    "* Из гистограммы по столбцу **total_area** можно заметить что самая частотная общая площадь - в районе 50 кв.м.\n",
    "* Из гистограммы по столбцу **living_area** можно заметить что у большей части квартир жилая площадь менее 50 кв.м., самая частая площадь - от 25 до 40 кв.м.\n",
    "* Из гистограммы по столбцу **kitchen_area** можно заметить что большая часть кухонь имеет площадь в районе 10 кв.м.\n",
    "* Из гистограммы по столбцу **last_price** можно заметить что большая часть квартир имеет цену ниже 4900000\n",
    "* Из гистограммы по столбцу **ceiling_height** можно заметить что высота потолка зачастую находится в районе 2-3 м\n",
    "* Из гистограммы по столбцу **floor** можно заметить что чаще всего встречаются квартиры до 10 этажа, самые частые - первые 4 этажа\n",
    "* Из гистограммы по столбцу **floor_type** можно заметить что число квартир на верхнем и нижнем этажах почти одинаково, но на последнем - немного больше. Ожидаемо количество остальных этажей больше всего.\n",
    "* Из гистограммы по столбцу **floors_total** можно заметить что чаще всего продавались квартиры в домах с 5-10 этажами, следом за ними - дома с 10-20 этажами, за ними - с 20-30.\n",
    "* Из гистограммы по столбцу **cityCenters_nearest** можно заметить что самое частое расстояние до центра 12000-18000 м\n",
    "* Из гистограммы по столбцу **airports_nearest** можно заметить что самое частое расстояние до аэропорта - 15000-35000 м\n",
    "* Из гистограммы по столбцу **parks_nearest** можно заметить что самое частое расстояние до ближайшего парка - в районе 500 м или меньше\n",
    "* Из гистограммы по столбцу **weekday** можно заметить что самые частые дни для выкладки объявления - вторник и четверг, самые редкие - выходные.\n",
    "* Из гистограммы по столбцу **month** можно заметить что наибольшее число объявлений приходится на период с февраля по апрель, за ним идёт период с сентября по ноябрь. Самые резкие провалы в количестве объявлений приходятся на май и декабрь."
   ]
  },
  {
   "cell_type": "code",
   "execution_count": null,
   "metadata": {},
   "outputs": [],
   "source": [
    "data['days_exposition'].plot(kind='hist', title='days_exposition_under_100', bins=100, range=(0, 100)) \n",
    "plt.show()\n",
    "#построение гистограммы по столбцу days_exposition"
   ]
  },
  {
   "cell_type": "code",
   "execution_count": null,
   "metadata": {},
   "outputs": [],
   "source": [
    "data['days_exposition'].plot(kind='hist', title='days_exposition_under_1300', bins=100, range=(1300, 1600)) \n",
    "plt.show()\n",
    "#построение гистограммы по столбцу days_exposition"
   ]
  },
  {
   "cell_type": "code",
   "execution_count": null,
   "metadata": {
    "scrolled": true
   },
   "outputs": [],
   "source": [
    "data.pivot_table(index='first_day_exposition', values='days_exposition', aggfunc=['mean', 'median'])\n",
    "#построение сводной таблицы по дням размещения объявления"
   ]
  },
  {
   "cell_type": "markdown",
   "metadata": {},
   "source": [
    "**Оценка столбца days_exposition:**\n",
    "По данным столбца можно понять что большая часть продаётся до 200 дней, чаще всего - до 75. Выбросы находятся в районе 1000-1400 дней, это редкие и необычно долгие продажи. Наибольшее число выбросов - в районе 1310, 1350, то есть около 3,5 лет, что неправдоподобно много. Максимальное время продажи - 1580, то есть в районе 4,2 лет. Предполагаю что это объявления, которые продались через другой сервис или через Яндекс Недвижимость но автор объявления забыл его закрыть. Большое количество нулей вызвано тем что ранее мы заменяли пропуски на нули."
   ]
  },
  {
   "cell_type": "code",
   "execution_count": null,
   "metadata": {},
   "outputs": [],
   "source": [
    "data.pivot_table(index='total_area', values='last_price') #создаём свобдную таблицу зависимости цены от общей площади"
   ]
  },
  {
   "cell_type": "code",
   "execution_count": null,
   "metadata": {
    "scrolled": true
   },
   "outputs": [],
   "source": [
    "data.plot(x='total_area', y='last_price', kind='scatter', title='total_area', alpha=0.05) \n",
    "plt.show()\n",
    "#строим график зависимости цены от общей площади"
   ]
  },
  {
   "cell_type": "code",
   "execution_count": null,
   "metadata": {},
   "outputs": [],
   "source": [
    "data.pivot_table(index='living_area', values='last_price') #создаём свобдную таблицу зависимости цены от жилой площади"
   ]
  },
  {
   "cell_type": "code",
   "execution_count": null,
   "metadata": {},
   "outputs": [],
   "source": [
    "data.plot(x='living_area', y='last_price', kind='scatter', title='living_area', alpha=0.08) \n",
    "plt.show()\n",
    "#строим график зависимости цены от жилой площади"
   ]
  },
  {
   "cell_type": "code",
   "execution_count": null,
   "metadata": {},
   "outputs": [],
   "source": [
    "data.pivot_table(index='kitchen_area', values='last_price') #создаём свобдную таблицу зависимости цены от площади кухни"
   ]
  },
  {
   "cell_type": "code",
   "execution_count": null,
   "metadata": {},
   "outputs": [],
   "source": [
    "data.plot(x='kitchen_area', y='last_price', kind='scatter', title='kitchen_area', alpha=0.08) \n",
    "plt.show()\n",
    "#строим график зависимости цены от площади кухни"
   ]
  },
  {
   "cell_type": "code",
   "execution_count": null,
   "metadata": {
    "scrolled": true
   },
   "outputs": [],
   "source": [
    "data.pivot_table(index='rooms', values='last_price') #создаём свобдную таблицу зависимости цены от количества комнат"
   ]
  },
  {
   "cell_type": "code",
   "execution_count": null,
   "metadata": {
    "scrolled": true
   },
   "outputs": [],
   "source": [
    "plt.bar(data['rooms'], data['last_price'])\n",
    "plt.show()"
   ]
  },
  {
   "cell_type": "code",
   "execution_count": null,
   "metadata": {},
   "outputs": [],
   "source": [
    "data.pivot_table(index='floor_type', values='last_price') #создаём свобдную таблицу зависимости цены от типа этажа"
   ]
  },
  {
   "cell_type": "code",
   "execution_count": null,
   "metadata": {},
   "outputs": [],
   "source": [
    "plt.bar(data['floor_type'], data['last_price'])\n",
    "plt.show()\n",
    "#строим график зависимости цены от типа этажа"
   ]
  },
  {
   "cell_type": "code",
   "execution_count": null,
   "metadata": {
    "scrolled": true
   },
   "outputs": [],
   "source": [
    "data.pivot_table(index='weekday', values='last_price') #создаём свобдную таблицу зависимости цены от дня недели"
   ]
  },
  {
   "cell_type": "code",
   "execution_count": null,
   "metadata": {},
   "outputs": [],
   "source": [
    "plt.bar(data['weekday'], data['last_price'])\n",
    "plt.show()\n",
    "#строим график зависимости цены от дня недели"
   ]
  },
  {
   "cell_type": "code",
   "execution_count": null,
   "metadata": {},
   "outputs": [],
   "source": [
    "data.pivot_table(index='month', values='last_price') #создаём свобдную таблицу зависимости цены от месяца"
   ]
  },
  {
   "cell_type": "code",
   "execution_count": null,
   "metadata": {},
   "outputs": [],
   "source": [
    "plt.bar(data['month'], data['last_price'])\n",
    "plt.show() #строим график зависимости цены от месяца"
   ]
  },
  {
   "cell_type": "code",
   "execution_count": null,
   "metadata": {},
   "outputs": [],
   "source": [
    "data.pivot_table(index='year', values='last_price') #создаём свобдную таблицу зависимости цены от года"
   ]
  },
  {
   "cell_type": "code",
   "execution_count": null,
   "metadata": {
    "scrolled": true
   },
   "outputs": [],
   "source": [
    "plt.bar(data['year'], data['last_price'])\n",
    "plt.show() #строим график зависимости цены от года"
   ]
  },
  {
   "cell_type": "markdown",
   "metadata": {},
   "source": [
    "**Зависимости цены от других показателей:**\n",
    "* По графику можно заметить что зависимость цены от общей площади прямая, если не обращать внимания на редкие выбросы. То есть чем больше площадь - тем дороже квартира.\n",
    "* Подобная же ситуация наблюдается с жилой площадью и площадью кухни, так как это взаимосвязанные вещи, однако на этих графиках замечены выбросы на значениях 25 кв.м. для жилой площади и 10 кв.м. для площади кухни.\n",
    "* Связь между числом комнат и ценой также прямая. График выглядит параболически но это скорее всего связно с недостатком данных для квартир где более 5 комнат. \n",
    "* Зависимость цены от этажей такова - самые дешевые квартиры - на первом этаже. Цены последних и остальных этажей примерно одинакова, но по последним этажам меньше данных.\n",
    "* По графику зависимости цены от дня недели можно заметить что самый дорогой день - суббота, а самый дешёвый - воскресенье.\n",
    "* По графику зависимости цены от месяца можно заметить что самый дорогой месяц - февраль, а самый дешёвый - июнь.\n",
    "* По графику зависимости цены от года можно заметить что дешевле всего квартиры продавались в 2014 году, дороже всего - в 2016."
   ]
  },
  {
   "cell_type": "code",
   "execution_count": null,
   "metadata": {},
   "outputs": [],
   "source": [
    "data.pivot_table(index='locality_name', values='cost_per_square_meter') #строим сводную таблицу по стоимости квадратного метра в каждом населённом пункте"
   ]
  },
  {
   "cell_type": "code",
   "execution_count": null,
   "metadata": {},
   "outputs": [],
   "source": [
    "data.groupby('locality_name')['total_images'].count().sort_values(ascending=False).head(10) #находим 10 населённых пунктов с наибольшим числом объявлений"
   ]
  },
  {
   "cell_type": "code",
   "execution_count": null,
   "metadata": {
    "scrolled": true
   },
   "outputs": [],
   "source": [
    "special_cities = [\"Санкт-Петербург\", \"Мурино\", \"Кудрово\", \"Шушары\", \"Всеволожск\", \"Пушкин\", \"Колпино\", \"Парголово\", \"Выборг\"]\n",
    "special_cities_data = data.query('locality_name in @special_cities')\n",
    "special_cities_data.groupby('locality_name').agg({'cost_per_square_meter':['mean']}) #считаем среднюю цену одного квадратного метра в 10 населённых пунктах с наибольшим числом объявлений"
   ]
  },
  {
   "cell_type": "markdown",
   "metadata": {},
   "source": [
    "Минимальная средняя цена за квадратный метр в **Выборге - 58141.909153**, максимальная - в **Санкт-Петербурге - 114725.667939**"
   ]
  },
  {
   "cell_type": "code",
   "execution_count": null,
   "metadata": {},
   "outputs": [],
   "source": [
    "d = data.pivot_table(index='city_center_km', values='last_price', aggfunc='mean') #считаем среднюю цену для каждого километра от центра"
   ]
  },
  {
   "cell_type": "code",
   "execution_count": null,
   "metadata": {},
   "outputs": [],
   "source": [
    "d.plot(y='last_price', style='o-', figsize=(25, 5))\n",
    "plt.show()"
   ]
  },
  {
   "cell_type": "markdown",
   "metadata": {},
   "source": [
    "Зависимость цены от расстояния до центра города **обратная** - чем меньше расстояние до центра, тем дороже квартира, однако зависимость не сильная, коэффициент корреляции -23%. Есть пиковые значения - самые дорогие квартиры - в километре от центра, самые дешёвые - в 60 км. Есть неожиданный спад на уровне 3 км от центра, эти квартиры дешевле чем те, от которых 7-8 км до центра. Также выбросы есть на уровне 44 км и 55 км. "
   ]
  },
  {
   "cell_type": "markdown",
   "metadata": {},
   "source": [
    "### Общий вывод"
   ]
  },
  {
   "cell_type": "markdown",
   "metadata": {},
   "source": [
    "**В ходе исследования были сделаны следующие выводы:**\n",
    "* В процессе предобработки были найдены пропуски в следующих столбцах: **ceiling_height** (высота потолков (м)) - **9195 пропусков**, **floors_total** (всего этажей в доме) - **86 пропусков**, **living_area** (жилая площадь в квадратных метрах (м²)) - **1903 пропуска**, **is_apartment** (апартаменты (булев тип)) - **20924 пропуска**, **kitchen_area** (площадь кухни в квадратных метрах (м²)) - **2278 пропусков**, **balcony** (число балконов) - **11519 пропусков**, **locality_name** (название населённого пункта) - **49 пропусков**, **airports_nearest** (расстояние до ближайшего аэропорта в метрах (м)) - **5542 пропуска**, **cityCenters_nearest** (расстояние до центра города (м)) - **5519 пропусков**, **parks_around3000** (число парков в радиусе 3 км) - **5518 пропусков**, **parks_nearest** (расстояние до ближайшего парка (м)) - **15620 пропусков**, **ponds_around3000** (число водоёмов в радиусе 3 км) - **5518 пропусков**, **ponds_nearest** (расстояние до ближайшего водоёма (м)) - **14589 пропусков**, **days_exposition** (сколько дней было размещено объявление (от публикации до снятия)) - **3181 пропуск**.\n",
    "* Некоторые пропуски (например, в столбцах **ceiling_heist, floors_total, living_area, kitchen_area**) вызваны человеческим фактором - данные просто не заполнены по ошибке или по незнанию ответа. Пропуски в столбцах **airports_nearest** и **cityCenters_nearest** скорее всего также не заполнены по незнанию. Пропуски в столбце **balcony** предположительно анологичны ответу '0', так как количество таких ответов не аномальное и пропуск в пункте balcony логичен именно при отсутствии балкона. Причины пропусков в столбце **locality name** не объяснимы, скорее всего так же замешан человеческий фактор, однако в этом столбце пропусков крайне мало (конверсия около 0.2%), поэтому ими можно пренебречь. Пропуски в столбцах **parks_around3000, parks_nearest, ponds_around3000, ponds_nearest** взаимосвязаны. Во всех строках где есть пропуски в столбце **parks_around3000**, есть пропуски и в столбцах **parks_nearest, ponds_around3000, ponds_nearest**. Предположительно в этих районах нет парков и водоёмов вблизи, однако в этом случае всё равно ближайшие парки и водоёмы могли бы быть указаны, поэтому эта связь не совсем понятна. Принято решение заменить в столбцах **parks_around3000** и **ponds_around3000** пропуски на 0, а **parks_nearest** и **ponds_nearest** оставить без изменений. Также в столбцах **parks_nearest** и **ponds_nearest** есть пропуски, не зависящие от **parks_around3000** и **ponds_around3000**, которые могли быть вызваны недостатком информации у заполняющего. Пропуски в столбце **days_exposition** кажутся системной ошибкой, так как их достаточно много (конверсия около 13%) и эта информация скорее всего рассчитывается системой, а не заполняющим. Но также можно предположить что это значит что объявление было выставлено в день выкладки, поэтому пропуски можно заменить на 0.\n",
    "* Были также обнаружены столбцы с некорректными типами данных - **first_day_exposition** - тип данных **object**, а так как это дата публикации, тип должен быть **datetime**, **floors_total** - тип данных **float64**, а так как количество этажей всегда целое число, тип должен быть **int**, **is_apartment** - тип данных **object**, а по условию это должно быть значение типа **bool**, **balcony** - тип данных **float64**, а так как количество балконов всегда целое число, тип должен быть **int**, **parks_around3000** - тип данных **float64**, а так как количество парков всегда целое число, тип должен быть **int**, **ponds_around3000** - тип данных **float64**, а так как количество водоёмов всегда целое число, тип должен быть **int**, **days_exposition** - тип данных **float64**, а так как количество дней с момента публикации всегда целое число, тип должен быть **int**. Типы данных были заменены на корректные.\n",
    "* В столбце с названиями населённых пунктов были обнаружены неявные дубликаты, например, «поселок Рябово» и «поселок городского типа Рябово», «поселок Тельмана» и «посёлок Тельмана» — это обозначения одних и тех же населённых пунктов. Такие дубликаты были устранены.\n",
    "* Столбцы были изучены на аномалии и вот что было выявлено: в столбце **total_images** аномалий не выявлено; в столбце **last_price** было выявлено две аномалии непонятной природы, были удалены как выбивающиеся значения (двухкомнатная квартира за 12190 и квартира стоимостью 763000000); в столбце **total_area** было удалено краевое, слишком большое значение (квартира площадью 900 кв.м.); в столбце **rooms** квартир, где больше 9 комнат было всего 18, что не так значительно для статистики, поэтому мы удалили их как краевые значения; в столбце **ceiling_height** большая часть значений кажется нереалистичной но только в части из них можно было логически предположить ошибки. Все значения выше 25 м разделили на 10 чтобы привести к более реалистичным значениям; в столбце **living_area** минимальные значения кажутся нереалистичными но причины возникновения таких значений не ясна; в столбце **kitchen_area** есть подозрительно высокие значения но они логично соотносятся с площадью этих квартир, поэтому значения этого столбца оставлены без изменений; в столбце **airports_nearest** была найдена квартира с расстоянием 0 км до аэропорта, что невозможно, поэтому это значение было удалено; в столбце **cityCenters_nearest** аномалии не обнаружены.\n",
    "* В таблицу были добавлены следующие столбцы: **cost_per_square_meter** - цена одного квадратного метра, **weekday** - день недели публикации объявления (0 — понедельник, 1 — вторник и так далее), **month** - месяц публикации объявления, **year** - год публикации объявления, **floor_type** - тип этажа квартиры (значения — «первый», «последний», «другой»), **city_center_km** - расстояние до центра города в километрах (переведите из м в км и округлите до целых значений).\n",
    "* На этапе проведения исследовательского анализа данных были изучены следующие параметры объектов - общая площадь, жилая площадь, площадь кухни, цена объекта, количество комнат, высота потолков, этаж квартиры, тип этажа квартиры («первый», «последний», «другой»), общее количество этажей в доме, расстояние до центра города в метрах, расстояние до ближайшего аэропорта, расстояние до ближайшего парка, день и месяц публикации объявления. Были построены гистограммы для каждого параметра и сделаны следующие выводы: из гистограммы по столбцу **total_area** можно заметить что самая частотная общая площадь - в районе 50 кв.м.; из гистограммы по столбцу **living_area** можно заметить что у большей части квартир жилая площадь менее 50 кв.м., самая частая площадь - от 25 до 40 кв.м.; из гистограммы по столбцу **kitchen_area** можно заметить что большая часть кухонь имеет площадь в районе 10 кв.м.; из гистограммы по столбцу **last_price** можно заметить что большая часть квартир имеет цену ниже 4900000; из гистограммы по столбцу **ceiling_height** можно заметить что высота потолка зачастую находится в районе 2-3 м; из гистограммы по столбцу **floor** можно заметить что чаще всего встречаются квартиры до 10 этажа, самые частые - первые 4 этажа; из гистограммы по столбцу **floor_type** можно заметить что число квартир на верхнем и нижнем этажах почти одинаково, но на последнем - немного больше. Ожидаемо количество остальных этажей больше всего.; из гистограммы по столбцу **floors_total** можно заметить что чаще всего продавались квартиры в домах с 5-10 этажами, следом за ними - дома с 10-20 этажами, за ними - с 20-30.; из гистограммы по столбцу **cityCenters_nearest** можно заметить что самое частое расстояние до центра 12000-18000 м; из гистограммы по столбцу **airports_nearest** можно заметить что самое частое расстояние до аэропорта - 15000-35000 м; из гистограммы по столбцу **parks_nearest** можно заметить что самое частое расстояние до ближайшего парка - в районе 500 м или меньше; из гистограммы по столбцу **weekday** можно заметить что самые частые дни для выкладки объявления - вторник и четверг, самые редкие - выходные.; из гистограммы по столбцу **month** можно заметить что наибольшее число объявлений приходится на период с февраля по апрель, за ним идёт период с сентября по ноябрь. Самые резкие провалы в количестве объявлений приходятся на май и декабрь.\n",
    "* По данным столбца **days_exposition** можно понять что большая часть объектов продаётся до 200 дней, чаще всего - до 75. Выбросы находятся в районе 1000-1400 дней, это редкие и необычно долгие продажи.\n",
    "* Была изучена зависимость цены объекта от разных факторов и вот к каким выводам удалось прийти: по графику можно заметить что зависимость цены от общей площади прямая, если не обращать внимания на редкие выбросы. То есть чем больше площадь - тем дороже квартира. Подобная же ситуация наблюдается с жилой площадью и площадью кухни, так как это взаимосвязанные вещи, однако на этих графиках замечены выбросы на значениях 25 кв.м. для жилой площади и 10 кв.м. для площади кухни. Связь между числом комнат и ценой также прямая. График выглядит параболически но это скорее всего связно с недостатком данных для квартир где более 5 комнат. Зависимость цены от этажей такова - самые дешевые квартиры - на первом этаже. Цены последних и остальных этажей примерно одинакова, но по последним этажам меньше данных. По графику зависимости цены от дня недели можно заметить что самый дорогой день - суббота, а самый дешёвый - воскресенье. По графику зависимости цены от месяца можно заметить что самый дорогой месяц - февраль, а самый дешёвый - июнь. По графику зависимости цены от года можно заметить что дешевле всего квартиры продавались в 2014 году, дороже всего - в 2016.\n",
    "* Были выявлены 10 городов с наибольшим числом объявлений - **Санкт-Петербург, Мурино, Кудрово, Шушары, Всеволожск, Пушкин, Колпино, Парголово, Выборг** и высчитана средняя цена квадратного метра в этих городах. Минимальная средняя цена за квадратный метр в **Выборге - 58141.909153**, максимальная - в **Санкт-Петербурге - 114725.667939**\n",
    "* Была изучена зависимость стоимости квартиры в Санкт-Петербурге от расстояния от квартиры до центра и построен график. Зависимость цены от расстояния до центра города **обратная** - чем меньше расстояние до центра, тем дороже квартира, однако зависимость не сильная, коэффициент корреляции -23%. Есть пиковые значения - самые дорогие квартиры - в километре от центра, самые дешёвые - в 60 км. Есть неожиданный спад на уровне 3 км от центра, эти квартиры дешевле чем те, от которых 7-8 км до центра. Также выбросы есть на уровне 44 км и 55 км. \n"
   ]
  }
 ],
 "metadata": {
  "ExecuteTimeLog": [
   {
    "duration": 630,
    "start_time": "2023-08-03T07:48:53.656Z"
   },
   {
    "duration": 92,
    "start_time": "2023-08-03T07:50:34.492Z"
   },
   {
    "duration": 16,
    "start_time": "2023-08-03T07:51:17.783Z"
   },
   {
    "duration": 18,
    "start_time": "2023-08-03T07:53:03.880Z"
   },
   {
    "duration": 68,
    "start_time": "2023-08-03T07:53:20.778Z"
   },
   {
    "duration": 89,
    "start_time": "2023-08-03T07:53:55.228Z"
   },
   {
    "duration": 11,
    "start_time": "2023-08-03T07:53:56.354Z"
   },
   {
    "duration": 14,
    "start_time": "2023-08-03T07:54:09.367Z"
   },
   {
    "duration": 1074,
    "start_time": "2023-08-03T07:54:54.398Z"
   },
   {
    "duration": 87,
    "start_time": "2023-08-03T07:55:55.819Z"
   },
   {
    "duration": 2,
    "start_time": "2023-08-03T07:56:11.175Z"
   },
   {
    "duration": 88,
    "start_time": "2023-08-03T07:56:11.740Z"
   },
   {
    "duration": 2,
    "start_time": "2023-08-03T07:56:12.816Z"
   },
   {
    "duration": 14,
    "start_time": "2023-08-03T07:56:22.560Z"
   },
   {
    "duration": 14,
    "start_time": "2023-08-03T07:56:46.924Z"
   },
   {
    "duration": 167,
    "start_time": "2023-08-03T07:59:19.376Z"
   },
   {
    "duration": 7,
    "start_time": "2023-08-03T07:59:30.040Z"
   },
   {
    "duration": 73,
    "start_time": "2023-08-03T07:59:36.529Z"
   },
   {
    "duration": 84,
    "start_time": "2023-08-03T08:00:44.220Z"
   },
   {
    "duration": 8,
    "start_time": "2023-08-03T08:00:46.141Z"
   },
   {
    "duration": 91,
    "start_time": "2023-08-03T08:01:44.544Z"
   },
   {
    "duration": 7,
    "start_time": "2023-08-03T08:01:45.612Z"
   },
   {
    "duration": 463,
    "start_time": "2023-08-03T08:02:10.167Z"
   },
   {
    "duration": 88,
    "start_time": "2023-08-03T08:02:10.632Z"
   },
   {
    "duration": 14,
    "start_time": "2023-08-03T08:02:10.722Z"
   },
   {
    "duration": 105,
    "start_time": "2023-08-03T08:02:30.170Z"
   },
   {
    "duration": 29,
    "start_time": "2023-08-03T08:02:30.574Z"
   },
   {
    "duration": 18,
    "start_time": "2023-08-03T08:04:16.275Z"
   },
   {
    "duration": 2559,
    "start_time": "2023-08-03T08:04:48.627Z"
   },
   {
    "duration": 78,
    "start_time": "2023-08-03T08:07:11.312Z"
   },
   {
    "duration": 20,
    "start_time": "2023-08-03T08:07:19.328Z"
   },
   {
    "duration": 6,
    "start_time": "2023-08-03T08:07:35.883Z"
   },
   {
    "duration": 5,
    "start_time": "2023-08-03T08:07:46.099Z"
   },
   {
    "duration": 6,
    "start_time": "2023-08-03T08:07:52.909Z"
   },
   {
    "duration": 6,
    "start_time": "2023-08-03T08:08:04.960Z"
   },
   {
    "duration": 6,
    "start_time": "2023-08-03T08:08:08.322Z"
   },
   {
    "duration": 1336,
    "start_time": "2023-08-03T08:08:25.109Z"
   },
   {
    "duration": 5,
    "start_time": "2023-08-03T08:08:35.100Z"
   },
   {
    "duration": 6,
    "start_time": "2023-08-03T08:08:48.094Z"
   },
   {
    "duration": 2152,
    "start_time": "2023-08-03T08:09:20.041Z"
   },
   {
    "duration": 1352,
    "start_time": "2023-08-03T08:14:46.898Z"
   },
   {
    "duration": 13,
    "start_time": "2023-08-03T08:14:57.594Z"
   },
   {
    "duration": 35,
    "start_time": "2023-08-03T08:15:05.226Z"
   },
   {
    "duration": 35,
    "start_time": "2023-08-03T08:15:56.406Z"
   },
   {
    "duration": 55,
    "start_time": "2023-08-03T08:16:43.910Z"
   },
   {
    "duration": 7,
    "start_time": "2023-08-03T08:21:47.783Z"
   },
   {
    "duration": 18,
    "start_time": "2023-08-03T08:22:16.877Z"
   },
   {
    "duration": 17,
    "start_time": "2023-08-03T08:22:27.747Z"
   },
   {
    "duration": 19,
    "start_time": "2023-08-03T08:22:48.242Z"
   },
   {
    "duration": 26,
    "start_time": "2023-08-03T08:24:46.506Z"
   },
   {
    "duration": 39,
    "start_time": "2023-08-03T08:26:30.389Z"
   },
   {
    "duration": 75,
    "start_time": "2023-08-03T08:33:49.588Z"
   },
   {
    "duration": 84,
    "start_time": "2023-08-03T08:33:56.674Z"
   },
   {
    "duration": 16,
    "start_time": "2023-08-03T08:34:01.734Z"
   },
   {
    "duration": 9,
    "start_time": "2023-08-03T08:34:45.994Z"
   },
   {
    "duration": 15,
    "start_time": "2023-08-03T08:35:24.839Z"
   },
   {
    "duration": 15,
    "start_time": "2023-08-03T08:35:37.798Z"
   },
   {
    "duration": 395,
    "start_time": "2023-08-03T08:42:51.908Z"
   },
   {
    "duration": 108,
    "start_time": "2023-08-03T08:42:52.306Z"
   },
   {
    "duration": 18,
    "start_time": "2023-08-03T08:42:52.415Z"
   },
   {
    "duration": 2460,
    "start_time": "2023-08-03T08:42:52.435Z"
   },
   {
    "duration": 44,
    "start_time": "2023-08-03T08:42:54.897Z"
   },
   {
    "duration": 432,
    "start_time": "2023-08-03T09:19:30.751Z"
   },
   {
    "duration": 97,
    "start_time": "2023-08-03T09:19:31.185Z"
   },
   {
    "duration": 19,
    "start_time": "2023-08-03T09:19:31.284Z"
   },
   {
    "duration": 2496,
    "start_time": "2023-08-03T09:19:31.305Z"
   },
   {
    "duration": 38,
    "start_time": "2023-08-03T09:19:33.803Z"
   },
   {
    "duration": 1239,
    "start_time": "2023-08-03T09:19:33.842Z"
   },
   {
    "duration": 1451,
    "start_time": "2023-08-03T09:20:00.224Z"
   },
   {
    "duration": 1942,
    "start_time": "2023-08-03T09:20:28.851Z"
   },
   {
    "duration": 0,
    "start_time": "2023-08-03T09:23:10.269Z"
   },
   {
    "duration": 8,
    "start_time": "2023-08-03T09:23:14.513Z"
   },
   {
    "duration": 423,
    "start_time": "2023-08-03T09:23:25.802Z"
   },
   {
    "duration": 102,
    "start_time": "2023-08-03T09:23:26.227Z"
   },
   {
    "duration": 17,
    "start_time": "2023-08-03T09:23:26.330Z"
   },
   {
    "duration": 2728,
    "start_time": "2023-08-03T09:23:26.350Z"
   },
   {
    "duration": 42,
    "start_time": "2023-08-03T09:23:29.080Z"
   },
   {
    "duration": 1335,
    "start_time": "2023-08-03T09:23:29.124Z"
   },
   {
    "duration": 1439,
    "start_time": "2023-08-03T09:24:05.276Z"
   },
   {
    "duration": 5,
    "start_time": "2023-08-03T09:24:22.143Z"
   },
   {
    "duration": 8,
    "start_time": "2023-08-03T09:24:35.161Z"
   },
   {
    "duration": 7,
    "start_time": "2023-08-03T09:25:22.226Z"
   },
   {
    "duration": 10,
    "start_time": "2023-08-03T09:25:33.057Z"
   },
   {
    "duration": 6,
    "start_time": "2023-08-03T09:25:40.186Z"
   },
   {
    "duration": 5,
    "start_time": "2023-08-03T09:27:50.738Z"
   },
   {
    "duration": 17,
    "start_time": "2023-08-03T09:29:08.662Z"
   },
   {
    "duration": 182,
    "start_time": "2023-08-03T09:29:16.241Z"
   },
   {
    "duration": 8,
    "start_time": "2023-08-03T09:29:27.546Z"
   },
   {
    "duration": 9,
    "start_time": "2023-08-03T09:29:40.398Z"
   },
   {
    "duration": 7,
    "start_time": "2023-08-03T09:29:46.096Z"
   },
   {
    "duration": 6,
    "start_time": "2023-08-03T09:29:51.466Z"
   },
   {
    "duration": 618,
    "start_time": "2023-08-03T09:30:03.975Z"
   },
   {
    "duration": 8,
    "start_time": "2023-08-03T09:30:10.165Z"
   },
   {
    "duration": 4,
    "start_time": "2023-08-03T09:30:19.220Z"
   },
   {
    "duration": 9,
    "start_time": "2023-08-03T09:30:23.261Z"
   },
   {
    "duration": 6,
    "start_time": "2023-08-03T09:30:28.757Z"
   },
   {
    "duration": 7,
    "start_time": "2023-08-03T09:30:41.159Z"
   },
   {
    "duration": 6,
    "start_time": "2023-08-03T09:31:36.987Z"
   },
   {
    "duration": 9,
    "start_time": "2023-08-03T09:31:49.679Z"
   },
   {
    "duration": 11,
    "start_time": "2023-08-03T09:32:04.034Z"
   },
   {
    "duration": 5,
    "start_time": "2023-08-03T09:32:08.278Z"
   },
   {
    "duration": 5,
    "start_time": "2023-08-03T09:32:37.620Z"
   },
   {
    "duration": 9,
    "start_time": "2023-08-03T09:32:46.177Z"
   },
   {
    "duration": 8,
    "start_time": "2023-08-03T09:32:56.879Z"
   },
   {
    "duration": 5,
    "start_time": "2023-08-03T09:33:26.945Z"
   },
   {
    "duration": 50,
    "start_time": "2023-08-03T09:34:29.689Z"
   },
   {
    "duration": 49,
    "start_time": "2023-08-03T09:34:48.975Z"
   },
   {
    "duration": 44,
    "start_time": "2023-08-03T09:35:13.310Z"
   },
   {
    "duration": 57,
    "start_time": "2023-08-03T09:35:16.342Z"
   },
   {
    "duration": 45,
    "start_time": "2023-08-03T09:35:20.229Z"
   },
   {
    "duration": 24,
    "start_time": "2023-08-03T09:35:23.573Z"
   },
   {
    "duration": 47,
    "start_time": "2023-08-03T09:35:29.332Z"
   },
   {
    "duration": 64,
    "start_time": "2023-08-03T09:35:38.537Z"
   },
   {
    "duration": 52,
    "start_time": "2023-08-03T09:39:59.289Z"
   },
   {
    "duration": 39,
    "start_time": "2023-08-03T09:40:20.633Z"
   },
   {
    "duration": 79,
    "start_time": "2023-08-03T09:40:53.799Z"
   },
   {
    "duration": 85,
    "start_time": "2023-08-03T09:40:59.645Z"
   },
   {
    "duration": 16,
    "start_time": "2023-08-03T09:47:58.558Z"
   },
   {
    "duration": 15,
    "start_time": "2023-08-03T09:50:48.576Z"
   },
   {
    "duration": 32,
    "start_time": "2023-08-03T09:55:03.599Z"
   },
   {
    "duration": 28,
    "start_time": "2023-08-03T09:59:24.346Z"
   },
   {
    "duration": 91,
    "start_time": "2023-08-03T10:02:20.270Z"
   },
   {
    "duration": 82,
    "start_time": "2023-08-03T10:03:18.695Z"
   },
   {
    "duration": 73,
    "start_time": "2023-08-03T10:04:11.360Z"
   },
   {
    "duration": 202,
    "start_time": "2023-08-03T10:04:18.195Z"
   },
   {
    "duration": 186,
    "start_time": "2023-08-03T10:04:40.364Z"
   },
   {
    "duration": 230,
    "start_time": "2023-08-03T10:05:27.685Z"
   },
   {
    "duration": 209,
    "start_time": "2023-08-03T10:05:36.592Z"
   },
   {
    "duration": 205,
    "start_time": "2023-08-03T10:05:54.493Z"
   },
   {
    "duration": 1244,
    "start_time": "2023-08-03T10:05:59.931Z"
   },
   {
    "duration": 1251,
    "start_time": "2023-08-03T10:25:43.557Z"
   },
   {
    "duration": 8,
    "start_time": "2023-08-03T10:25:54.372Z"
   },
   {
    "duration": 8,
    "start_time": "2023-08-03T10:26:10.154Z"
   },
   {
    "duration": 61,
    "start_time": "2023-08-03T10:28:33.108Z"
   },
   {
    "duration": 7,
    "start_time": "2023-08-03T10:28:37.157Z"
   },
   {
    "duration": 9,
    "start_time": "2023-08-03T10:31:01.698Z"
   },
   {
    "duration": 15,
    "start_time": "2023-08-03T10:33:33.470Z"
   },
   {
    "duration": 9,
    "start_time": "2023-08-03T10:33:41.137Z"
   },
   {
    "duration": 11,
    "start_time": "2023-08-03T10:33:52.396Z"
   },
   {
    "duration": 47,
    "start_time": "2023-08-03T10:34:55.914Z"
   },
   {
    "duration": 148,
    "start_time": "2023-08-03T10:36:15.274Z"
   },
   {
    "duration": 71,
    "start_time": "2023-08-03T10:36:20.674Z"
   },
   {
    "duration": 11,
    "start_time": "2023-08-03T10:36:32.449Z"
   },
   {
    "duration": 12,
    "start_time": "2023-08-03T10:37:04.506Z"
   },
   {
    "duration": 1236,
    "start_time": "2023-08-03T10:42:21.854Z"
   },
   {
    "duration": 14,
    "start_time": "2023-08-03T10:42:40.019Z"
   },
   {
    "duration": 6,
    "start_time": "2023-08-03T10:43:46.621Z"
   },
   {
    "duration": 6,
    "start_time": "2023-08-03T10:44:10.332Z"
   },
   {
    "duration": 93,
    "start_time": "2023-08-03T10:44:24.141Z"
   },
   {
    "duration": 14,
    "start_time": "2023-08-03T10:44:28.930Z"
   },
   {
    "duration": 501,
    "start_time": "2023-08-03T10:53:41.472Z"
   },
   {
    "duration": 107,
    "start_time": "2023-08-03T10:53:41.976Z"
   },
   {
    "duration": 18,
    "start_time": "2023-08-03T10:53:42.085Z"
   },
   {
    "duration": 2680,
    "start_time": "2023-08-03T10:53:42.105Z"
   },
   {
    "duration": 48,
    "start_time": "2023-08-03T10:53:44.788Z"
   },
   {
    "duration": 6,
    "start_time": "2023-08-03T10:53:44.839Z"
   },
   {
    "duration": 148,
    "start_time": "2023-08-03T10:53:44.848Z"
   },
   {
    "duration": 102,
    "start_time": "2023-08-03T10:53:44.998Z"
   },
   {
    "duration": 17,
    "start_time": "2023-08-03T10:53:45.102Z"
   },
   {
    "duration": 52,
    "start_time": "2023-08-03T10:53:45.121Z"
   },
   {
    "duration": 19,
    "start_time": "2023-08-03T10:54:08.073Z"
   },
   {
    "duration": 15,
    "start_time": "2023-08-03T10:54:22.704Z"
   },
   {
    "duration": 16,
    "start_time": "2023-08-03T10:55:04.126Z"
   },
   {
    "duration": 8,
    "start_time": "2023-08-03T10:56:43.634Z"
   },
   {
    "duration": 8,
    "start_time": "2023-08-03T10:56:55.932Z"
   },
   {
    "duration": 436,
    "start_time": "2023-08-03T10:59:12.735Z"
   },
   {
    "duration": 119,
    "start_time": "2023-08-03T10:59:13.173Z"
   },
   {
    "duration": 17,
    "start_time": "2023-08-03T10:59:13.294Z"
   },
   {
    "duration": 2540,
    "start_time": "2023-08-03T10:59:13.313Z"
   },
   {
    "duration": 42,
    "start_time": "2023-08-03T10:59:15.856Z"
   },
   {
    "duration": 5,
    "start_time": "2023-08-03T10:59:15.900Z"
   },
   {
    "duration": 20,
    "start_time": "2023-08-03T10:59:15.907Z"
   },
   {
    "duration": 23,
    "start_time": "2023-08-03T10:59:15.930Z"
   },
   {
    "duration": 23,
    "start_time": "2023-08-03T10:59:15.955Z"
   },
   {
    "duration": 38,
    "start_time": "2023-08-03T10:59:15.980Z"
   },
   {
    "duration": 43,
    "start_time": "2023-08-03T11:01:30.477Z"
   },
   {
    "duration": 22,
    "start_time": "2023-08-03T11:04:43.549Z"
   },
   {
    "duration": 19,
    "start_time": "2023-08-03T11:04:54.237Z"
   },
   {
    "duration": 7,
    "start_time": "2023-08-03T11:05:04.315Z"
   },
   {
    "duration": 6,
    "start_time": "2023-08-03T11:05:16.482Z"
   },
   {
    "duration": 52,
    "start_time": "2023-08-03T11:05:52.687Z"
   },
   {
    "duration": 414,
    "start_time": "2023-08-03T11:06:20.626Z"
   },
   {
    "duration": 129,
    "start_time": "2023-08-03T11:06:22.503Z"
   },
   {
    "duration": 17,
    "start_time": "2023-08-03T11:06:23.410Z"
   },
   {
    "duration": 2433,
    "start_time": "2023-08-03T11:06:24.284Z"
   },
   {
    "duration": 62,
    "start_time": "2023-08-03T11:06:30.411Z"
   },
   {
    "duration": 47,
    "start_time": "2023-08-03T11:08:58.480Z"
   },
   {
    "duration": 21,
    "start_time": "2023-08-03T11:09:41.054Z"
   },
   {
    "duration": 46,
    "start_time": "2023-08-03T11:10:01.395Z"
   },
   {
    "duration": 382,
    "start_time": "2023-08-03T11:10:36.747Z"
   },
   {
    "duration": 45,
    "start_time": "2023-08-03T11:10:43.467Z"
   },
   {
    "duration": 8,
    "start_time": "2023-08-03T11:12:26.059Z"
   },
   {
    "duration": 7,
    "start_time": "2023-08-03T11:12:28.431Z"
   },
   {
    "duration": 30,
    "start_time": "2023-08-03T11:15:54.552Z"
   },
   {
    "duration": 458,
    "start_time": "2023-08-03T11:16:12.150Z"
   },
   {
    "duration": 118,
    "start_time": "2023-08-03T11:16:12.611Z"
   },
   {
    "duration": 34,
    "start_time": "2023-08-03T11:16:12.733Z"
   },
   {
    "duration": 2684,
    "start_time": "2023-08-03T11:16:12.770Z"
   },
   {
    "duration": 49,
    "start_time": "2023-08-03T11:16:15.456Z"
   },
   {
    "duration": 5,
    "start_time": "2023-08-03T11:16:15.508Z"
   },
   {
    "duration": 7,
    "start_time": "2023-08-03T11:16:15.515Z"
   },
   {
    "duration": 10,
    "start_time": "2023-08-03T11:16:15.524Z"
   },
   {
    "duration": 33,
    "start_time": "2023-08-03T11:16:15.535Z"
   },
   {
    "duration": 37,
    "start_time": "2023-08-03T11:16:15.570Z"
   },
   {
    "duration": 32,
    "start_time": "2023-08-03T11:16:15.609Z"
   },
   {
    "duration": 32,
    "start_time": "2023-08-03T11:16:15.642Z"
   },
   {
    "duration": 7,
    "start_time": "2023-08-03T11:28:49.153Z"
   },
   {
    "duration": 6,
    "start_time": "2023-08-03T11:29:02.963Z"
   },
   {
    "duration": 30,
    "start_time": "2023-08-03T12:35:05.815Z"
   },
   {
    "duration": 29,
    "start_time": "2023-08-03T12:35:41.729Z"
   },
   {
    "duration": 80,
    "start_time": "2023-08-03T12:36:31.759Z"
   },
   {
    "duration": 1314,
    "start_time": "2023-08-03T12:36:37.837Z"
   },
   {
    "duration": 14,
    "start_time": "2023-08-03T12:36:46.021Z"
   },
   {
    "duration": 8,
    "start_time": "2023-08-03T12:37:07.550Z"
   },
   {
    "duration": 36,
    "start_time": "2023-08-03T12:37:14.958Z"
   },
   {
    "duration": 12,
    "start_time": "2023-08-03T12:37:29.994Z"
   },
   {
    "duration": 6,
    "start_time": "2023-08-03T12:38:54.032Z"
   },
   {
    "duration": 494,
    "start_time": "2023-08-03T12:46:35.435Z"
   },
   {
    "duration": 118,
    "start_time": "2023-08-03T12:46:35.932Z"
   },
   {
    "duration": 22,
    "start_time": "2023-08-03T12:46:36.052Z"
   },
   {
    "duration": 2665,
    "start_time": "2023-08-03T12:46:36.076Z"
   },
   {
    "duration": 55,
    "start_time": "2023-08-03T12:46:38.744Z"
   },
   {
    "duration": 7,
    "start_time": "2023-08-03T12:46:38.801Z"
   },
   {
    "duration": 77,
    "start_time": "2023-08-03T12:46:38.810Z"
   },
   {
    "duration": 37,
    "start_time": "2023-08-03T12:46:38.889Z"
   },
   {
    "duration": 7,
    "start_time": "2023-08-03T12:46:38.929Z"
   },
   {
    "duration": 5,
    "start_time": "2023-08-03T12:46:38.938Z"
   },
   {
    "duration": 28,
    "start_time": "2023-08-03T12:46:38.945Z"
   },
   {
    "duration": 8,
    "start_time": "2023-08-03T12:46:38.975Z"
   },
   {
    "duration": 40,
    "start_time": "2023-08-03T12:46:38.985Z"
   },
   {
    "duration": 9,
    "start_time": "2023-08-03T12:46:39.028Z"
   },
   {
    "duration": 34,
    "start_time": "2023-08-03T12:46:39.040Z"
   },
   {
    "duration": 381,
    "start_time": "2023-08-03T12:48:34.904Z"
   },
   {
    "duration": 110,
    "start_time": "2023-08-03T12:48:35.287Z"
   },
   {
    "duration": 16,
    "start_time": "2023-08-03T12:48:35.399Z"
   },
   {
    "duration": 2444,
    "start_time": "2023-08-03T12:48:35.417Z"
   },
   {
    "duration": 57,
    "start_time": "2023-08-03T12:48:37.864Z"
   },
   {
    "duration": 6,
    "start_time": "2023-08-03T12:48:37.923Z"
   },
   {
    "duration": 17,
    "start_time": "2023-08-03T12:48:37.930Z"
   },
   {
    "duration": 17,
    "start_time": "2023-08-03T12:48:37.949Z"
   },
   {
    "duration": 9,
    "start_time": "2023-08-03T12:48:37.968Z"
   },
   {
    "duration": 23,
    "start_time": "2023-08-03T12:48:37.978Z"
   },
   {
    "duration": 31,
    "start_time": "2023-08-03T12:48:38.004Z"
   },
   {
    "duration": 6,
    "start_time": "2023-08-03T12:48:38.038Z"
   },
   {
    "duration": 16,
    "start_time": "2023-08-03T12:48:38.046Z"
   },
   {
    "duration": 14,
    "start_time": "2023-08-03T12:48:38.066Z"
   },
   {
    "duration": 14,
    "start_time": "2023-08-03T12:48:38.082Z"
   },
   {
    "duration": 12,
    "start_time": "2023-08-03T12:48:38.099Z"
   },
   {
    "duration": 95,
    "start_time": "2023-08-03T12:48:38.113Z"
   },
   {
    "duration": 0,
    "start_time": "2023-08-03T12:48:38.210Z"
   },
   {
    "duration": 0,
    "start_time": "2023-08-03T12:48:38.212Z"
   },
   {
    "duration": 128,
    "start_time": "2023-08-03T12:49:38.017Z"
   },
   {
    "duration": 85,
    "start_time": "2023-08-03T12:49:57.860Z"
   },
   {
    "duration": 5,
    "start_time": "2023-08-03T12:51:44.247Z"
   },
   {
    "duration": 4,
    "start_time": "2023-08-03T12:56:24.810Z"
   },
   {
    "duration": 15,
    "start_time": "2023-08-03T12:56:29.002Z"
   },
   {
    "duration": 5,
    "start_time": "2023-08-03T12:56:59.547Z"
   },
   {
    "duration": 12,
    "start_time": "2023-08-03T12:57:10.525Z"
   },
   {
    "duration": 15,
    "start_time": "2023-08-03T12:57:20.900Z"
   },
   {
    "duration": 67,
    "start_time": "2023-08-03T13:01:58.398Z"
   },
   {
    "duration": 5,
    "start_time": "2023-08-03T13:02:05.344Z"
   },
   {
    "duration": 5,
    "start_time": "2023-08-03T13:02:50.092Z"
   },
   {
    "duration": 5,
    "start_time": "2023-08-03T13:02:50.558Z"
   },
   {
    "duration": 8,
    "start_time": "2023-08-03T13:02:51.815Z"
   },
   {
    "duration": 6,
    "start_time": "2023-08-03T13:02:58.843Z"
   },
   {
    "duration": 4,
    "start_time": "2023-08-03T13:02:59.341Z"
   },
   {
    "duration": 4,
    "start_time": "2023-08-03T13:02:59.837Z"
   },
   {
    "duration": 7,
    "start_time": "2023-08-03T13:03:00.343Z"
   },
   {
    "duration": 18,
    "start_time": "2023-08-03T13:04:22.239Z"
   },
   {
    "duration": 7,
    "start_time": "2023-08-03T13:05:35.089Z"
   },
   {
    "duration": 9,
    "start_time": "2023-08-03T13:05:38.028Z"
   },
   {
    "duration": 367,
    "start_time": "2023-08-03T13:06:00.217Z"
   },
   {
    "duration": 4,
    "start_time": "2023-08-03T13:06:40.859Z"
   },
   {
    "duration": 6,
    "start_time": "2023-08-03T13:06:43.509Z"
   },
   {
    "duration": 6,
    "start_time": "2023-08-03T13:14:42.822Z"
   },
   {
    "duration": 6,
    "start_time": "2023-08-03T13:14:44.266Z"
   },
   {
    "duration": 6,
    "start_time": "2023-08-03T13:14:44.693Z"
   },
   {
    "duration": 10,
    "start_time": "2023-08-03T13:14:45.397Z"
   },
   {
    "duration": 17,
    "start_time": "2023-08-03T13:15:04.177Z"
   },
   {
    "duration": 9,
    "start_time": "2023-08-03T13:15:08.671Z"
   },
   {
    "duration": 8,
    "start_time": "2023-08-03T13:15:20.513Z"
   },
   {
    "duration": 10,
    "start_time": "2023-08-03T13:15:30.942Z"
   },
   {
    "duration": 383,
    "start_time": "2023-08-03T13:15:38.624Z"
   },
   {
    "duration": 6,
    "start_time": "2023-08-03T13:35:46.186Z"
   },
   {
    "duration": 6,
    "start_time": "2023-08-03T13:35:57.026Z"
   },
   {
    "duration": 5,
    "start_time": "2023-08-03T13:36:17.442Z"
   },
   {
    "duration": 5,
    "start_time": "2023-08-03T13:36:19.194Z"
   },
   {
    "duration": 5,
    "start_time": "2023-08-03T13:36:19.625Z"
   },
   {
    "duration": 304,
    "start_time": "2023-08-03T13:36:20.958Z"
   },
   {
    "duration": 293,
    "start_time": "2023-08-03T13:36:32.278Z"
   },
   {
    "duration": 5,
    "start_time": "2023-08-03T13:37:14.943Z"
   },
   {
    "duration": 22,
    "start_time": "2023-08-03T13:37:57.428Z"
   },
   {
    "duration": 5,
    "start_time": "2023-08-03T13:38:19.976Z"
   },
   {
    "duration": 7,
    "start_time": "2023-08-03T13:38:22.601Z"
   },
   {
    "duration": 16,
    "start_time": "2023-08-03T13:38:36.257Z"
   },
   {
    "duration": 11,
    "start_time": "2023-08-03T13:42:30.648Z"
   },
   {
    "duration": 327,
    "start_time": "2023-08-03T13:42:41.702Z"
   },
   {
    "duration": 8,
    "start_time": "2023-08-03T13:42:58.848Z"
   },
   {
    "duration": 415,
    "start_time": "2023-08-03T13:43:02.057Z"
   },
   {
    "duration": 378,
    "start_time": "2023-08-03T13:45:26.051Z"
   },
   {
    "duration": 438,
    "start_time": "2023-08-03T13:45:39.308Z"
   },
   {
    "duration": 123,
    "start_time": "2023-08-03T13:45:39.749Z"
   },
   {
    "duration": 25,
    "start_time": "2023-08-03T13:45:39.874Z"
   },
   {
    "duration": 2877,
    "start_time": "2023-08-03T13:45:39.901Z"
   },
   {
    "duration": 73,
    "start_time": "2023-08-03T13:45:42.782Z"
   },
   {
    "duration": 14,
    "start_time": "2023-08-03T13:45:42.858Z"
   },
   {
    "duration": 17,
    "start_time": "2023-08-03T13:45:42.875Z"
   },
   {
    "duration": 6,
    "start_time": "2023-08-03T13:45:42.896Z"
   },
   {
    "duration": 7,
    "start_time": "2023-08-03T13:45:42.904Z"
   },
   {
    "duration": 10,
    "start_time": "2023-08-03T13:45:42.913Z"
   },
   {
    "duration": 43,
    "start_time": "2023-08-03T13:45:42.925Z"
   },
   {
    "duration": 7,
    "start_time": "2023-08-03T13:45:42.972Z"
   },
   {
    "duration": 14,
    "start_time": "2023-08-03T13:45:42.982Z"
   },
   {
    "duration": 7,
    "start_time": "2023-08-03T13:45:42.999Z"
   },
   {
    "duration": 6,
    "start_time": "2023-08-03T13:45:43.009Z"
   },
   {
    "duration": 9,
    "start_time": "2023-08-03T13:45:43.017Z"
   },
   {
    "duration": 155,
    "start_time": "2023-08-03T13:45:43.028Z"
   },
   {
    "duration": 0,
    "start_time": "2023-08-03T13:45:43.185Z"
   },
   {
    "duration": 0,
    "start_time": "2023-08-03T13:45:43.187Z"
   },
   {
    "duration": 0,
    "start_time": "2023-08-03T13:45:43.188Z"
   },
   {
    "duration": 46,
    "start_time": "2023-08-03T13:48:27.644Z"
   },
   {
    "duration": 31,
    "start_time": "2023-08-03T13:49:34.649Z"
   },
   {
    "duration": 22,
    "start_time": "2023-08-03T13:51:18.221Z"
   },
   {
    "duration": 5,
    "start_time": "2023-08-03T13:51:44.491Z"
   },
   {
    "duration": 9,
    "start_time": "2023-08-03T13:52:47.462Z"
   },
   {
    "duration": 6,
    "start_time": "2023-08-03T13:52:56.925Z"
   },
   {
    "duration": 8,
    "start_time": "2023-08-03T13:53:20.962Z"
   },
   {
    "duration": 19,
    "start_time": "2023-08-03T13:53:38.047Z"
   },
   {
    "duration": 6,
    "start_time": "2023-08-03T13:54:13.793Z"
   },
   {
    "duration": 8,
    "start_time": "2023-08-03T13:55:27.871Z"
   },
   {
    "duration": 30,
    "start_time": "2023-08-03T13:56:29.751Z"
   },
   {
    "duration": 445,
    "start_time": "2023-08-03T13:59:17.898Z"
   },
   {
    "duration": 143,
    "start_time": "2023-08-03T13:59:18.349Z"
   },
   {
    "duration": 24,
    "start_time": "2023-08-03T13:59:18.495Z"
   },
   {
    "duration": 2909,
    "start_time": "2023-08-03T13:59:18.521Z"
   },
   {
    "duration": 64,
    "start_time": "2023-08-03T13:59:21.435Z"
   },
   {
    "duration": 6,
    "start_time": "2023-08-03T13:59:21.501Z"
   },
   {
    "duration": 6,
    "start_time": "2023-08-03T13:59:21.509Z"
   },
   {
    "duration": 6,
    "start_time": "2023-08-03T13:59:21.517Z"
   },
   {
    "duration": 13,
    "start_time": "2023-08-03T13:59:21.525Z"
   },
   {
    "duration": 30,
    "start_time": "2023-08-03T13:59:21.540Z"
   },
   {
    "duration": 36,
    "start_time": "2023-08-03T13:59:21.573Z"
   },
   {
    "duration": 23,
    "start_time": "2023-08-03T13:59:21.612Z"
   },
   {
    "duration": 15,
    "start_time": "2023-08-03T13:59:21.638Z"
   },
   {
    "duration": 10,
    "start_time": "2023-08-03T13:59:21.658Z"
   },
   {
    "duration": 22,
    "start_time": "2023-08-03T13:59:21.670Z"
   },
   {
    "duration": 9,
    "start_time": "2023-08-03T13:59:21.696Z"
   },
   {
    "duration": 9,
    "start_time": "2023-08-03T13:59:21.707Z"
   },
   {
    "duration": 7,
    "start_time": "2023-08-03T13:59:21.719Z"
   },
   {
    "duration": 10,
    "start_time": "2023-08-03T13:59:21.729Z"
   },
   {
    "duration": 26,
    "start_time": "2023-08-03T13:59:21.742Z"
   },
   {
    "duration": 10,
    "start_time": "2023-08-03T13:59:21.774Z"
   },
   {
    "duration": 7,
    "start_time": "2023-08-03T13:59:21.791Z"
   },
   {
    "duration": 12,
    "start_time": "2023-08-03T13:59:21.800Z"
   },
   {
    "duration": 8,
    "start_time": "2023-08-03T14:00:07.193Z"
   },
   {
    "duration": 7,
    "start_time": "2023-08-03T14:02:25.188Z"
   },
   {
    "duration": 1161,
    "start_time": "2023-08-03T14:20:54.378Z"
   },
   {
    "duration": 1078,
    "start_time": "2023-08-03T14:21:18.087Z"
   },
   {
    "duration": 1132,
    "start_time": "2023-08-03T14:21:46.845Z"
   },
   {
    "duration": 1241,
    "start_time": "2023-08-03T14:22:02.293Z"
   },
   {
    "duration": 1166,
    "start_time": "2023-08-03T14:22:19.754Z"
   },
   {
    "duration": 56,
    "start_time": "2023-08-03T14:25:14.738Z"
   },
   {
    "duration": 16,
    "start_time": "2023-08-03T14:25:36.618Z"
   },
   {
    "duration": 3503,
    "start_time": "2023-08-03T14:25:53.822Z"
   },
   {
    "duration": 3921,
    "start_time": "2023-08-03T14:26:11.358Z"
   },
   {
    "duration": 89,
    "start_time": "2023-08-03T14:26:27.697Z"
   },
   {
    "duration": 20,
    "start_time": "2023-08-03T14:26:35.058Z"
   },
   {
    "duration": 15,
    "start_time": "2023-08-03T14:26:55.168Z"
   },
   {
    "duration": 22,
    "start_time": "2023-08-03T14:27:31.271Z"
   },
   {
    "duration": 1313,
    "start_time": "2023-08-03T14:28:35.616Z"
   },
   {
    "duration": 658,
    "start_time": "2023-08-03T14:28:50.639Z"
   },
   {
    "duration": 10,
    "start_time": "2023-08-03T14:29:16.819Z"
   },
   {
    "duration": 647,
    "start_time": "2023-08-03T14:29:27.030Z"
   },
   {
    "duration": 223,
    "start_time": "2023-08-03T14:30:02.724Z"
   },
   {
    "duration": 21,
    "start_time": "2023-08-03T14:30:41.136Z"
   },
   {
    "duration": 20,
    "start_time": "2023-08-03T14:31:19.120Z"
   },
   {
    "duration": 14,
    "start_time": "2023-08-03T14:33:02.974Z"
   },
   {
    "duration": 14,
    "start_time": "2023-08-03T14:33:19.188Z"
   },
   {
    "duration": 16,
    "start_time": "2023-08-03T14:33:32.918Z"
   },
   {
    "duration": 15,
    "start_time": "2023-08-03T14:33:37.634Z"
   },
   {
    "duration": 26,
    "start_time": "2023-08-03T14:34:38.107Z"
   },
   {
    "duration": 13,
    "start_time": "2023-08-03T14:34:47.199Z"
   },
   {
    "duration": 13,
    "start_time": "2023-08-03T14:34:54.500Z"
   },
   {
    "duration": 34,
    "start_time": "2023-08-03T14:34:58.355Z"
   },
   {
    "duration": 15,
    "start_time": "2023-08-03T14:35:32.818Z"
   },
   {
    "duration": 27,
    "start_time": "2023-08-03T14:35:38.051Z"
   },
   {
    "duration": 11,
    "start_time": "2023-08-03T14:37:14.482Z"
   },
   {
    "duration": 14,
    "start_time": "2023-08-03T14:37:25.067Z"
   },
   {
    "duration": 17,
    "start_time": "2023-08-03T14:38:57.086Z"
   },
   {
    "duration": 6,
    "start_time": "2023-08-03T14:39:55.308Z"
   },
   {
    "duration": 12,
    "start_time": "2023-08-03T14:40:03.576Z"
   },
   {
    "duration": 10,
    "start_time": "2023-08-03T14:40:12.184Z"
   },
   {
    "duration": 6,
    "start_time": "2023-08-03T14:40:37.335Z"
   },
   {
    "duration": 8,
    "start_time": "2023-08-03T14:40:58.725Z"
   },
   {
    "duration": 14,
    "start_time": "2023-08-03T14:42:45.391Z"
   },
   {
    "duration": 34,
    "start_time": "2023-08-03T14:42:58.065Z"
   },
   {
    "duration": 529,
    "start_time": "2023-08-03T14:43:33.354Z"
   },
   {
    "duration": 506,
    "start_time": "2023-08-03T14:43:47.936Z"
   },
   {
    "duration": 528,
    "start_time": "2023-08-03T14:43:59.117Z"
   },
   {
    "duration": 1131,
    "start_time": "2023-08-03T14:46:14.928Z"
   },
   {
    "duration": 1270,
    "start_time": "2023-08-03T14:48:24.086Z"
   },
   {
    "duration": 16,
    "start_time": "2023-08-03T14:48:47.088Z"
   },
   {
    "duration": 1044,
    "start_time": "2023-08-03T14:48:52.303Z"
   },
   {
    "duration": 10,
    "start_time": "2023-08-03T14:49:20.389Z"
   },
   {
    "duration": 21,
    "start_time": "2023-08-03T14:49:28.566Z"
   },
   {
    "duration": 27,
    "start_time": "2023-08-03T14:51:18.335Z"
   },
   {
    "duration": 289,
    "start_time": "2023-08-03T14:51:30.167Z"
   },
   {
    "duration": 4,
    "start_time": "2023-08-03T14:53:54.401Z"
   },
   {
    "duration": 10,
    "start_time": "2023-08-03T14:53:59.582Z"
   },
   {
    "duration": 11,
    "start_time": "2023-08-03T14:54:05.305Z"
   },
   {
    "duration": 16,
    "start_time": "2023-08-03T14:54:09.682Z"
   },
   {
    "duration": 444,
    "start_time": "2023-08-03T14:54:23.610Z"
   },
   {
    "duration": 151,
    "start_time": "2023-08-03T14:54:24.058Z"
   },
   {
    "duration": 24,
    "start_time": "2023-08-03T14:54:24.212Z"
   },
   {
    "duration": 2536,
    "start_time": "2023-08-03T14:54:24.238Z"
   },
   {
    "duration": 55,
    "start_time": "2023-08-03T14:54:26.776Z"
   },
   {
    "duration": 6,
    "start_time": "2023-08-03T14:54:26.832Z"
   },
   {
    "duration": 26,
    "start_time": "2023-08-03T14:54:26.841Z"
   },
   {
    "duration": 6,
    "start_time": "2023-08-03T14:54:26.871Z"
   },
   {
    "duration": 6,
    "start_time": "2023-08-03T14:54:26.880Z"
   },
   {
    "duration": 13,
    "start_time": "2023-08-03T14:54:26.888Z"
   },
   {
    "duration": 35,
    "start_time": "2023-08-03T14:54:26.904Z"
   },
   {
    "duration": 25,
    "start_time": "2023-08-03T14:54:26.942Z"
   },
   {
    "duration": 6,
    "start_time": "2023-08-03T14:54:26.970Z"
   },
   {
    "duration": 5,
    "start_time": "2023-08-03T14:54:26.980Z"
   },
   {
    "duration": 21,
    "start_time": "2023-08-03T14:54:26.988Z"
   },
   {
    "duration": 20,
    "start_time": "2023-08-03T14:54:27.011Z"
   },
   {
    "duration": 9,
    "start_time": "2023-08-03T14:54:27.033Z"
   },
   {
    "duration": 11,
    "start_time": "2023-08-03T14:54:27.043Z"
   },
   {
    "duration": 8,
    "start_time": "2023-08-03T14:54:27.066Z"
   },
   {
    "duration": 30,
    "start_time": "2023-08-03T14:54:27.076Z"
   },
   {
    "duration": 14,
    "start_time": "2023-08-03T14:54:27.108Z"
   },
   {
    "duration": 24,
    "start_time": "2023-08-03T14:54:27.124Z"
   },
   {
    "duration": 27,
    "start_time": "2023-08-03T14:54:27.150Z"
   },
   {
    "duration": 36,
    "start_time": "2023-08-03T14:54:27.179Z"
   },
   {
    "duration": 32,
    "start_time": "2023-08-03T14:54:27.217Z"
   },
   {
    "duration": 4426,
    "start_time": "2023-08-03T14:58:02.634Z"
   },
   {
    "duration": 88,
    "start_time": "2023-08-03T15:03:35.095Z"
   },
   {
    "duration": 39,
    "start_time": "2023-08-03T15:05:44.898Z"
   },
   {
    "duration": 42,
    "start_time": "2023-08-03T15:06:44.586Z"
   },
   {
    "duration": 431,
    "start_time": "2023-08-03T15:06:51.934Z"
   },
   {
    "duration": 133,
    "start_time": "2023-08-03T15:06:52.368Z"
   },
   {
    "duration": 16,
    "start_time": "2023-08-03T15:06:52.503Z"
   },
   {
    "duration": 2920,
    "start_time": "2023-08-03T15:06:52.521Z"
   },
   {
    "duration": 63,
    "start_time": "2023-08-03T15:06:55.445Z"
   },
   {
    "duration": 6,
    "start_time": "2023-08-03T15:06:55.510Z"
   },
   {
    "duration": 9,
    "start_time": "2023-08-03T15:06:55.518Z"
   },
   {
    "duration": 10,
    "start_time": "2023-08-03T15:06:55.529Z"
   },
   {
    "duration": 8,
    "start_time": "2023-08-03T15:06:55.541Z"
   },
   {
    "duration": 29,
    "start_time": "2023-08-03T15:06:55.551Z"
   },
   {
    "duration": 24,
    "start_time": "2023-08-03T15:06:55.585Z"
   },
   {
    "duration": 4,
    "start_time": "2023-08-03T15:06:55.611Z"
   },
   {
    "duration": 20,
    "start_time": "2023-08-03T15:06:55.617Z"
   },
   {
    "duration": 13,
    "start_time": "2023-08-03T15:06:55.641Z"
   },
   {
    "duration": 41,
    "start_time": "2023-08-03T15:06:55.656Z"
   },
   {
    "duration": 27,
    "start_time": "2023-08-03T15:06:55.699Z"
   },
   {
    "duration": 14,
    "start_time": "2023-08-03T15:06:55.729Z"
   },
   {
    "duration": 6,
    "start_time": "2023-08-03T15:06:55.745Z"
   },
   {
    "duration": 29,
    "start_time": "2023-08-03T15:06:55.753Z"
   },
   {
    "duration": 10,
    "start_time": "2023-08-03T15:06:55.784Z"
   },
   {
    "duration": 25,
    "start_time": "2023-08-03T15:06:55.798Z"
   },
   {
    "duration": 25,
    "start_time": "2023-08-03T15:06:55.825Z"
   },
   {
    "duration": 20,
    "start_time": "2023-08-03T15:06:55.852Z"
   },
   {
    "duration": 28,
    "start_time": "2023-08-03T15:06:55.874Z"
   },
   {
    "duration": 4184,
    "start_time": "2023-08-03T15:06:55.904Z"
   },
   {
    "duration": 247,
    "start_time": "2023-08-03T15:07:23.100Z"
   },
   {
    "duration": 472,
    "start_time": "2023-08-03T15:07:34.985Z"
   },
   {
    "duration": 129,
    "start_time": "2023-08-03T15:07:35.459Z"
   },
   {
    "duration": 19,
    "start_time": "2023-08-03T15:07:35.590Z"
   },
   {
    "duration": 2701,
    "start_time": "2023-08-03T15:07:35.612Z"
   },
   {
    "duration": 42,
    "start_time": "2023-08-03T15:07:38.316Z"
   },
   {
    "duration": 19,
    "start_time": "2023-08-03T15:07:38.360Z"
   },
   {
    "duration": 6,
    "start_time": "2023-08-03T15:07:38.392Z"
   },
   {
    "duration": 23,
    "start_time": "2023-08-03T15:07:38.400Z"
   },
   {
    "duration": 6,
    "start_time": "2023-08-03T15:07:38.425Z"
   },
   {
    "duration": 5,
    "start_time": "2023-08-03T15:07:38.433Z"
   },
   {
    "duration": 16,
    "start_time": "2023-08-03T15:07:38.439Z"
   },
   {
    "duration": 4,
    "start_time": "2023-08-03T15:07:38.456Z"
   },
   {
    "duration": 17,
    "start_time": "2023-08-03T15:07:38.461Z"
   },
   {
    "duration": 14,
    "start_time": "2023-08-03T15:07:38.483Z"
   },
   {
    "duration": 8,
    "start_time": "2023-08-03T15:07:38.499Z"
   },
   {
    "duration": 15,
    "start_time": "2023-08-03T15:07:38.509Z"
   },
   {
    "duration": 27,
    "start_time": "2023-08-03T15:07:38.526Z"
   },
   {
    "duration": 62,
    "start_time": "2023-08-03T15:07:38.555Z"
   },
   {
    "duration": 13,
    "start_time": "2023-08-03T15:07:38.618Z"
   },
   {
    "duration": 5,
    "start_time": "2023-08-03T15:07:38.634Z"
   },
   {
    "duration": 16,
    "start_time": "2023-08-03T15:07:38.641Z"
   },
   {
    "duration": 21,
    "start_time": "2023-08-03T15:07:38.660Z"
   },
   {
    "duration": 13,
    "start_time": "2023-08-03T15:07:38.683Z"
   },
   {
    "duration": 28,
    "start_time": "2023-08-03T15:07:38.700Z"
   },
   {
    "duration": 4197,
    "start_time": "2023-08-03T15:07:38.730Z"
   },
   {
    "duration": 96,
    "start_time": "2023-08-03T15:10:54.883Z"
   },
   {
    "duration": 21,
    "start_time": "2023-08-03T15:12:44.146Z"
   },
   {
    "duration": 495,
    "start_time": "2023-08-03T15:12:59.290Z"
   },
   {
    "duration": 159,
    "start_time": "2023-08-03T15:12:59.790Z"
   },
   {
    "duration": 30,
    "start_time": "2023-08-03T15:12:59.952Z"
   },
   {
    "duration": 2889,
    "start_time": "2023-08-03T15:12:59.985Z"
   },
   {
    "duration": 64,
    "start_time": "2023-08-03T15:13:02.879Z"
   },
   {
    "duration": 6,
    "start_time": "2023-08-03T15:13:02.945Z"
   },
   {
    "duration": 11,
    "start_time": "2023-08-03T15:13:02.953Z"
   },
   {
    "duration": 7,
    "start_time": "2023-08-03T15:13:02.972Z"
   },
   {
    "duration": 16,
    "start_time": "2023-08-03T15:13:02.982Z"
   },
   {
    "duration": 6,
    "start_time": "2023-08-03T15:13:03.001Z"
   },
   {
    "duration": 22,
    "start_time": "2023-08-03T15:13:03.009Z"
   },
   {
    "duration": 4,
    "start_time": "2023-08-03T15:13:03.034Z"
   },
   {
    "duration": 34,
    "start_time": "2023-08-03T15:13:03.040Z"
   },
   {
    "duration": 4,
    "start_time": "2023-08-03T15:13:03.079Z"
   },
   {
    "duration": 28,
    "start_time": "2023-08-03T15:13:03.086Z"
   },
   {
    "duration": 36,
    "start_time": "2023-08-03T15:13:03.117Z"
   },
   {
    "duration": 11,
    "start_time": "2023-08-03T15:13:03.156Z"
   },
   {
    "duration": 9,
    "start_time": "2023-08-03T15:13:03.175Z"
   },
   {
    "duration": 16,
    "start_time": "2023-08-03T15:13:03.186Z"
   },
   {
    "duration": 6,
    "start_time": "2023-08-03T15:13:03.205Z"
   },
   {
    "duration": 23,
    "start_time": "2023-08-03T15:13:03.214Z"
   },
   {
    "duration": 11,
    "start_time": "2023-08-03T15:13:03.239Z"
   },
   {
    "duration": 35,
    "start_time": "2023-08-03T15:13:03.253Z"
   },
   {
    "duration": 17,
    "start_time": "2023-08-03T15:13:03.293Z"
   },
   {
    "duration": 25,
    "start_time": "2023-08-03T15:13:03.312Z"
   },
   {
    "duration": 103,
    "start_time": "2023-08-03T15:13:29.514Z"
   },
   {
    "duration": 14,
    "start_time": "2023-08-03T15:13:45.311Z"
   },
   {
    "duration": 46,
    "start_time": "2023-08-03T17:22:50.822Z"
   },
   {
    "duration": 381,
    "start_time": "2023-08-03T17:22:56.399Z"
   },
   {
    "duration": 303,
    "start_time": "2023-08-03T17:22:56.782Z"
   },
   {
    "duration": 14,
    "start_time": "2023-08-03T17:22:57.086Z"
   },
   {
    "duration": 1997,
    "start_time": "2023-08-03T17:22:57.102Z"
   },
   {
    "duration": 37,
    "start_time": "2023-08-03T17:22:59.101Z"
   },
   {
    "duration": 5,
    "start_time": "2023-08-03T17:22:59.139Z"
   },
   {
    "duration": 8,
    "start_time": "2023-08-03T17:22:59.145Z"
   },
   {
    "duration": 9,
    "start_time": "2023-08-03T17:22:59.155Z"
   },
   {
    "duration": 9,
    "start_time": "2023-08-03T17:22:59.166Z"
   },
   {
    "duration": 5,
    "start_time": "2023-08-03T17:22:59.178Z"
   },
   {
    "duration": 21,
    "start_time": "2023-08-03T17:22:59.185Z"
   },
   {
    "duration": 3,
    "start_time": "2023-08-03T17:22:59.207Z"
   },
   {
    "duration": 10,
    "start_time": "2023-08-03T17:22:59.211Z"
   },
   {
    "duration": 4,
    "start_time": "2023-08-03T17:22:59.223Z"
   },
   {
    "duration": 7,
    "start_time": "2023-08-03T17:22:59.228Z"
   },
   {
    "duration": 10,
    "start_time": "2023-08-03T17:22:59.237Z"
   },
   {
    "duration": 5,
    "start_time": "2023-08-03T17:22:59.248Z"
   },
   {
    "duration": 10,
    "start_time": "2023-08-03T17:22:59.255Z"
   },
   {
    "duration": 8,
    "start_time": "2023-08-03T17:22:59.267Z"
   },
   {
    "duration": 5,
    "start_time": "2023-08-03T17:22:59.276Z"
   },
   {
    "duration": 10,
    "start_time": "2023-08-03T17:22:59.282Z"
   },
   {
    "duration": 5,
    "start_time": "2023-08-03T17:22:59.294Z"
   },
   {
    "duration": 8,
    "start_time": "2023-08-03T17:22:59.300Z"
   },
   {
    "duration": 9,
    "start_time": "2023-08-03T17:22:59.319Z"
   },
   {
    "duration": 72,
    "start_time": "2023-08-03T17:22:59.330Z"
   },
   {
    "duration": 11,
    "start_time": "2023-08-03T17:24:44.665Z"
   },
   {
    "duration": 11,
    "start_time": "2023-08-03T17:25:16.515Z"
   },
   {
    "duration": 7,
    "start_time": "2023-08-03T17:25:43.564Z"
   },
   {
    "duration": 14,
    "start_time": "2023-08-03T17:25:56.747Z"
   },
   {
    "duration": 16,
    "start_time": "2023-08-03T17:26:19.400Z"
   },
   {
    "duration": 396,
    "start_time": "2023-08-03T17:26:26.396Z"
   },
   {
    "duration": 84,
    "start_time": "2023-08-03T17:26:26.794Z"
   },
   {
    "duration": 13,
    "start_time": "2023-08-03T17:26:26.879Z"
   },
   {
    "duration": 1793,
    "start_time": "2023-08-03T17:26:26.893Z"
   },
   {
    "duration": 35,
    "start_time": "2023-08-03T17:26:28.688Z"
   },
   {
    "duration": 4,
    "start_time": "2023-08-03T17:26:28.725Z"
   },
   {
    "duration": 9,
    "start_time": "2023-08-03T17:26:28.731Z"
   },
   {
    "duration": 22,
    "start_time": "2023-08-03T17:26:28.741Z"
   },
   {
    "duration": 11,
    "start_time": "2023-08-03T17:26:28.764Z"
   },
   {
    "duration": 11,
    "start_time": "2023-08-03T17:26:28.776Z"
   },
   {
    "duration": 17,
    "start_time": "2023-08-03T17:26:28.788Z"
   },
   {
    "duration": 15,
    "start_time": "2023-08-03T17:26:28.807Z"
   },
   {
    "duration": 10,
    "start_time": "2023-08-03T17:26:28.823Z"
   },
   {
    "duration": 5,
    "start_time": "2023-08-03T17:26:28.835Z"
   },
   {
    "duration": 11,
    "start_time": "2023-08-03T17:26:28.841Z"
   },
   {
    "duration": 13,
    "start_time": "2023-08-03T17:26:28.853Z"
   },
   {
    "duration": 11,
    "start_time": "2023-08-03T17:26:28.868Z"
   },
   {
    "duration": 12,
    "start_time": "2023-08-03T17:26:28.880Z"
   },
   {
    "duration": 27,
    "start_time": "2023-08-03T17:26:28.893Z"
   },
   {
    "duration": 17,
    "start_time": "2023-08-03T17:26:28.921Z"
   },
   {
    "duration": 14,
    "start_time": "2023-08-03T17:26:28.939Z"
   },
   {
    "duration": 9,
    "start_time": "2023-08-03T17:26:28.955Z"
   },
   {
    "duration": 21,
    "start_time": "2023-08-03T17:26:28.965Z"
   },
   {
    "duration": 15,
    "start_time": "2023-08-03T17:26:28.987Z"
   },
   {
    "duration": 14,
    "start_time": "2023-08-03T17:26:29.004Z"
   },
   {
    "duration": 14,
    "start_time": "2023-08-03T17:26:52.042Z"
   },
   {
    "duration": 339,
    "start_time": "2023-08-03T17:26:56.564Z"
   },
   {
    "duration": 83,
    "start_time": "2023-08-03T17:26:56.905Z"
   },
   {
    "duration": 14,
    "start_time": "2023-08-03T17:26:56.989Z"
   },
   {
    "duration": 1778,
    "start_time": "2023-08-03T17:26:57.004Z"
   },
   {
    "duration": 33,
    "start_time": "2023-08-03T17:26:58.784Z"
   },
   {
    "duration": 4,
    "start_time": "2023-08-03T17:26:58.818Z"
   },
   {
    "duration": 6,
    "start_time": "2023-08-03T17:26:58.823Z"
   },
   {
    "duration": 6,
    "start_time": "2023-08-03T17:26:58.830Z"
   },
   {
    "duration": 4,
    "start_time": "2023-08-03T17:26:58.837Z"
   },
   {
    "duration": 5,
    "start_time": "2023-08-03T17:26:58.842Z"
   },
   {
    "duration": 13,
    "start_time": "2023-08-03T17:26:58.848Z"
   },
   {
    "duration": 3,
    "start_time": "2023-08-03T17:26:58.862Z"
   },
   {
    "duration": 5,
    "start_time": "2023-08-03T17:26:58.866Z"
   },
   {
    "duration": 3,
    "start_time": "2023-08-03T17:26:58.873Z"
   },
   {
    "duration": 8,
    "start_time": "2023-08-03T17:26:58.877Z"
   },
   {
    "duration": 12,
    "start_time": "2023-08-03T17:26:58.886Z"
   },
   {
    "duration": 23,
    "start_time": "2023-08-03T17:26:58.899Z"
   },
   {
    "duration": 7,
    "start_time": "2023-08-03T17:26:58.923Z"
   },
   {
    "duration": 11,
    "start_time": "2023-08-03T17:26:58.931Z"
   },
   {
    "duration": 4,
    "start_time": "2023-08-03T17:26:58.943Z"
   },
   {
    "duration": 5,
    "start_time": "2023-08-03T17:26:58.948Z"
   },
   {
    "duration": 14,
    "start_time": "2023-08-03T17:26:58.954Z"
   },
   {
    "duration": 12,
    "start_time": "2023-08-03T17:26:58.970Z"
   },
   {
    "duration": 10,
    "start_time": "2023-08-03T17:26:58.983Z"
   },
   {
    "duration": 14,
    "start_time": "2023-08-03T17:26:58.994Z"
   },
   {
    "duration": 388,
    "start_time": "2023-08-03T17:28:54.597Z"
   },
   {
    "duration": 366,
    "start_time": "2023-08-03T17:29:04.522Z"
   },
   {
    "duration": 82,
    "start_time": "2023-08-03T17:29:04.890Z"
   },
   {
    "duration": 12,
    "start_time": "2023-08-03T17:29:04.973Z"
   },
   {
    "duration": 1805,
    "start_time": "2023-08-03T17:29:04.986Z"
   },
   {
    "duration": 33,
    "start_time": "2023-08-03T17:29:06.792Z"
   },
   {
    "duration": 4,
    "start_time": "2023-08-03T17:29:06.827Z"
   },
   {
    "duration": 16,
    "start_time": "2023-08-03T17:29:06.832Z"
   },
   {
    "duration": 26,
    "start_time": "2023-08-03T17:29:06.849Z"
   },
   {
    "duration": 9,
    "start_time": "2023-08-03T17:29:06.876Z"
   },
   {
    "duration": 14,
    "start_time": "2023-08-03T17:29:06.887Z"
   },
   {
    "duration": 17,
    "start_time": "2023-08-03T17:29:06.902Z"
   },
   {
    "duration": 3,
    "start_time": "2023-08-03T17:29:06.921Z"
   },
   {
    "duration": 8,
    "start_time": "2023-08-03T17:29:06.925Z"
   },
   {
    "duration": 5,
    "start_time": "2023-08-03T17:29:06.935Z"
   },
   {
    "duration": 23,
    "start_time": "2023-08-03T17:29:06.941Z"
   },
   {
    "duration": 14,
    "start_time": "2023-08-03T17:29:06.965Z"
   },
   {
    "duration": 8,
    "start_time": "2023-08-03T17:29:06.980Z"
   },
   {
    "duration": 9,
    "start_time": "2023-08-03T17:29:06.990Z"
   },
   {
    "duration": 172,
    "start_time": "2023-08-03T17:29:07.000Z"
   },
   {
    "duration": 15,
    "start_time": "2023-08-03T17:29:07.174Z"
   },
   {
    "duration": 46,
    "start_time": "2023-08-03T17:29:07.190Z"
   },
   {
    "duration": 64,
    "start_time": "2023-08-03T17:29:07.237Z"
   },
   {
    "duration": 25,
    "start_time": "2023-08-03T17:29:07.303Z"
   },
   {
    "duration": 14,
    "start_time": "2023-08-03T17:29:07.330Z"
   },
   {
    "duration": 366,
    "start_time": "2023-08-03T17:29:07.345Z"
   },
   {
    "duration": 1704,
    "start_time": "2023-08-03T17:29:41.365Z"
   },
   {
    "duration": 74,
    "start_time": "2023-08-03T17:30:36.344Z"
   },
   {
    "duration": 14,
    "start_time": "2023-08-03T17:31:16.704Z"
   },
   {
    "duration": 20,
    "start_time": "2023-08-03T17:31:21.901Z"
   },
   {
    "duration": 14,
    "start_time": "2023-08-03T17:32:05.460Z"
   },
   {
    "duration": 15,
    "start_time": "2023-08-03T17:32:28.424Z"
   },
   {
    "duration": 368,
    "start_time": "2023-08-03T17:32:40.234Z"
   },
   {
    "duration": 84,
    "start_time": "2023-08-03T17:32:40.604Z"
   },
   {
    "duration": 12,
    "start_time": "2023-08-03T17:32:40.689Z"
   },
   {
    "duration": 1791,
    "start_time": "2023-08-03T17:32:40.703Z"
   },
   {
    "duration": 33,
    "start_time": "2023-08-03T17:32:42.496Z"
   },
   {
    "duration": 3,
    "start_time": "2023-08-03T17:32:42.531Z"
   },
   {
    "duration": 11,
    "start_time": "2023-08-03T17:32:42.535Z"
   },
   {
    "duration": 10,
    "start_time": "2023-08-03T17:32:42.547Z"
   },
   {
    "duration": 4,
    "start_time": "2023-08-03T17:32:42.558Z"
   },
   {
    "duration": 20,
    "start_time": "2023-08-03T17:32:42.564Z"
   },
   {
    "duration": 12,
    "start_time": "2023-08-03T17:32:42.585Z"
   },
   {
    "duration": 2,
    "start_time": "2023-08-03T17:32:42.598Z"
   },
   {
    "duration": 4,
    "start_time": "2023-08-03T17:32:42.602Z"
   },
   {
    "duration": 7,
    "start_time": "2023-08-03T17:32:42.607Z"
   },
   {
    "duration": 13,
    "start_time": "2023-08-03T17:32:42.615Z"
   },
   {
    "duration": 9,
    "start_time": "2023-08-03T17:32:42.629Z"
   },
   {
    "duration": 8,
    "start_time": "2023-08-03T17:32:42.639Z"
   },
   {
    "duration": 6,
    "start_time": "2023-08-03T17:32:42.649Z"
   },
   {
    "duration": 6,
    "start_time": "2023-08-03T17:32:42.656Z"
   },
   {
    "duration": 5,
    "start_time": "2023-08-03T17:32:42.663Z"
   },
   {
    "duration": 4,
    "start_time": "2023-08-03T17:32:42.669Z"
   },
   {
    "duration": 7,
    "start_time": "2023-08-03T17:32:42.674Z"
   },
   {
    "duration": 16,
    "start_time": "2023-08-03T17:32:42.683Z"
   },
   {
    "duration": 18,
    "start_time": "2023-08-03T17:32:42.701Z"
   },
   {
    "duration": 117,
    "start_time": "2023-08-03T17:32:42.721Z"
   },
   {
    "duration": 17,
    "start_time": "2023-08-03T17:33:28.124Z"
   },
   {
    "duration": 14,
    "start_time": "2023-08-03T17:33:32.296Z"
   },
   {
    "duration": 1527,
    "start_time": "2023-08-03T17:38:20.700Z"
   },
   {
    "duration": 25,
    "start_time": "2023-08-03T17:38:41.412Z"
   },
   {
    "duration": 21,
    "start_time": "2023-08-03T17:39:15.745Z"
   },
   {
    "duration": 4281,
    "start_time": "2023-08-03T17:39:32.753Z"
   },
   {
    "duration": 56,
    "start_time": "2023-08-03T17:40:18.096Z"
   },
   {
    "duration": 4759,
    "start_time": "2023-08-03T17:42:05.331Z"
   },
   {
    "duration": 14,
    "start_time": "2023-08-03T17:42:18.228Z"
   },
   {
    "duration": 18,
    "start_time": "2023-08-03T17:42:23.031Z"
   },
   {
    "duration": 408,
    "start_time": "2023-08-03T17:42:30.533Z"
   },
   {
    "duration": 89,
    "start_time": "2023-08-03T17:42:30.943Z"
   },
   {
    "duration": 14,
    "start_time": "2023-08-03T17:42:31.034Z"
   },
   {
    "duration": 1930,
    "start_time": "2023-08-03T17:42:31.049Z"
   },
   {
    "duration": 52,
    "start_time": "2023-08-03T17:42:32.983Z"
   },
   {
    "duration": 4,
    "start_time": "2023-08-03T17:42:33.037Z"
   },
   {
    "duration": 9,
    "start_time": "2023-08-03T17:42:33.042Z"
   },
   {
    "duration": 21,
    "start_time": "2023-08-03T17:42:33.052Z"
   },
   {
    "duration": 35,
    "start_time": "2023-08-03T17:42:33.075Z"
   },
   {
    "duration": 4,
    "start_time": "2023-08-03T17:42:33.111Z"
   },
   {
    "duration": 19,
    "start_time": "2023-08-03T17:42:33.116Z"
   },
   {
    "duration": 3,
    "start_time": "2023-08-03T17:42:33.136Z"
   },
   {
    "duration": 8,
    "start_time": "2023-08-03T17:42:33.141Z"
   },
   {
    "duration": 3,
    "start_time": "2023-08-03T17:42:33.152Z"
   },
   {
    "duration": 11,
    "start_time": "2023-08-03T17:42:33.157Z"
   },
   {
    "duration": 12,
    "start_time": "2023-08-03T17:42:33.170Z"
   },
   {
    "duration": 5,
    "start_time": "2023-08-03T17:42:33.184Z"
   },
   {
    "duration": 6,
    "start_time": "2023-08-03T17:42:33.190Z"
   },
   {
    "duration": 18,
    "start_time": "2023-08-03T17:42:33.197Z"
   },
   {
    "duration": 6,
    "start_time": "2023-08-03T17:42:33.216Z"
   },
   {
    "duration": 12,
    "start_time": "2023-08-03T17:42:33.223Z"
   },
   {
    "duration": 4,
    "start_time": "2023-08-03T17:42:33.237Z"
   },
   {
    "duration": 7,
    "start_time": "2023-08-03T17:42:33.242Z"
   },
   {
    "duration": 13,
    "start_time": "2023-08-03T17:42:33.250Z"
   },
   {
    "duration": 403,
    "start_time": "2023-08-03T17:43:04.602Z"
   },
   {
    "duration": 85,
    "start_time": "2023-08-03T17:43:05.008Z"
   },
   {
    "duration": 15,
    "start_time": "2023-08-03T17:43:05.094Z"
   },
   {
    "duration": 1844,
    "start_time": "2023-08-03T17:43:05.110Z"
   },
   {
    "duration": 32,
    "start_time": "2023-08-03T17:43:06.957Z"
   },
   {
    "duration": 4,
    "start_time": "2023-08-03T17:43:06.991Z"
   },
   {
    "duration": 14,
    "start_time": "2023-08-03T17:43:06.996Z"
   },
   {
    "duration": 9,
    "start_time": "2023-08-03T17:43:07.012Z"
   },
   {
    "duration": 6,
    "start_time": "2023-08-03T17:43:07.022Z"
   },
   {
    "duration": 20,
    "start_time": "2023-08-03T17:43:07.030Z"
   },
   {
    "duration": 21,
    "start_time": "2023-08-03T17:43:07.052Z"
   },
   {
    "duration": 3,
    "start_time": "2023-08-03T17:43:07.075Z"
   },
   {
    "duration": 5,
    "start_time": "2023-08-03T17:43:07.079Z"
   },
   {
    "duration": 8,
    "start_time": "2023-08-03T17:43:07.086Z"
   },
   {
    "duration": 10,
    "start_time": "2023-08-03T17:43:07.095Z"
   },
   {
    "duration": 9,
    "start_time": "2023-08-03T17:43:07.106Z"
   },
   {
    "duration": 8,
    "start_time": "2023-08-03T17:43:07.116Z"
   },
   {
    "duration": 7,
    "start_time": "2023-08-03T17:43:07.126Z"
   },
   {
    "duration": 7,
    "start_time": "2023-08-03T17:43:07.134Z"
   },
   {
    "duration": 5,
    "start_time": "2023-08-03T17:43:07.142Z"
   },
   {
    "duration": 4,
    "start_time": "2023-08-03T17:43:07.150Z"
   },
   {
    "duration": 8,
    "start_time": "2023-08-03T17:43:07.156Z"
   },
   {
    "duration": 20,
    "start_time": "2023-08-03T17:43:07.165Z"
   },
   {
    "duration": 19,
    "start_time": "2023-08-03T17:43:07.187Z"
   },
   {
    "duration": 6187,
    "start_time": "2023-08-03T17:43:07.208Z"
   },
   {
    "duration": 361,
    "start_time": "2023-08-03T17:43:34.601Z"
   },
   {
    "duration": 13,
    "start_time": "2023-08-03T17:44:33.525Z"
   },
   {
    "duration": 13,
    "start_time": "2023-08-03T17:44:41.521Z"
   },
   {
    "duration": 14,
    "start_time": "2023-08-03T17:47:37.649Z"
   },
   {
    "duration": 328,
    "start_time": "2023-08-03T17:47:44.258Z"
   },
   {
    "duration": 86,
    "start_time": "2023-08-03T17:47:44.588Z"
   },
   {
    "duration": 13,
    "start_time": "2023-08-03T17:47:44.675Z"
   },
   {
    "duration": 1926,
    "start_time": "2023-08-03T17:47:44.689Z"
   },
   {
    "duration": 33,
    "start_time": "2023-08-03T17:47:46.617Z"
   },
   {
    "duration": 5,
    "start_time": "2023-08-03T17:47:46.651Z"
   },
   {
    "duration": 4,
    "start_time": "2023-08-03T17:47:46.658Z"
   },
   {
    "duration": 5,
    "start_time": "2023-08-03T17:47:46.664Z"
   },
   {
    "duration": 4,
    "start_time": "2023-08-03T17:47:46.671Z"
   },
   {
    "duration": 4,
    "start_time": "2023-08-03T17:47:46.677Z"
   },
   {
    "duration": 41,
    "start_time": "2023-08-03T17:47:46.683Z"
   },
   {
    "duration": 3,
    "start_time": "2023-08-03T17:47:46.726Z"
   },
   {
    "duration": 6,
    "start_time": "2023-08-03T17:47:46.730Z"
   },
   {
    "duration": 9,
    "start_time": "2023-08-03T17:47:46.739Z"
   },
   {
    "duration": 9,
    "start_time": "2023-08-03T17:47:46.749Z"
   },
   {
    "duration": 16,
    "start_time": "2023-08-03T17:47:46.759Z"
   },
   {
    "duration": 4,
    "start_time": "2023-08-03T17:47:46.776Z"
   },
   {
    "duration": 5,
    "start_time": "2023-08-03T17:47:46.782Z"
   },
   {
    "duration": 7,
    "start_time": "2023-08-03T17:47:46.789Z"
   },
   {
    "duration": 5,
    "start_time": "2023-08-03T17:47:46.798Z"
   },
   {
    "duration": 16,
    "start_time": "2023-08-03T17:47:46.804Z"
   },
   {
    "duration": 4,
    "start_time": "2023-08-03T17:47:46.821Z"
   },
   {
    "duration": 8,
    "start_time": "2023-08-03T17:47:46.827Z"
   },
   {
    "duration": 11,
    "start_time": "2023-08-03T17:47:46.837Z"
   },
   {
    "duration": 3741,
    "start_time": "2023-08-03T17:47:46.849Z"
   },
   {
    "duration": 371,
    "start_time": "2023-08-03T17:48:17.348Z"
   },
   {
    "duration": 83,
    "start_time": "2023-08-03T17:48:17.721Z"
   },
   {
    "duration": 13,
    "start_time": "2023-08-03T17:48:17.806Z"
   },
   {
    "duration": 2006,
    "start_time": "2023-08-03T17:48:17.821Z"
   },
   {
    "duration": 34,
    "start_time": "2023-08-03T17:48:19.829Z"
   },
   {
    "duration": 6,
    "start_time": "2023-08-03T17:48:19.864Z"
   },
   {
    "duration": 5,
    "start_time": "2023-08-03T17:48:19.872Z"
   },
   {
    "duration": 5,
    "start_time": "2023-08-03T17:48:19.879Z"
   },
   {
    "duration": 6,
    "start_time": "2023-08-03T17:48:19.886Z"
   },
   {
    "duration": 26,
    "start_time": "2023-08-03T17:48:19.894Z"
   },
   {
    "duration": 17,
    "start_time": "2023-08-03T17:48:19.922Z"
   },
   {
    "duration": 3,
    "start_time": "2023-08-03T17:48:19.941Z"
   },
   {
    "duration": 8,
    "start_time": "2023-08-03T17:48:19.945Z"
   },
   {
    "duration": 3,
    "start_time": "2023-08-03T17:48:19.955Z"
   },
   {
    "duration": 23,
    "start_time": "2023-08-03T17:48:19.960Z"
   },
   {
    "duration": 29,
    "start_time": "2023-08-03T17:48:19.984Z"
   },
   {
    "duration": 37,
    "start_time": "2023-08-03T17:48:20.014Z"
   },
   {
    "duration": 16,
    "start_time": "2023-08-03T17:48:20.052Z"
   },
   {
    "duration": 28,
    "start_time": "2023-08-03T17:48:20.070Z"
   },
   {
    "duration": 15,
    "start_time": "2023-08-03T17:48:20.100Z"
   },
   {
    "duration": 30,
    "start_time": "2023-08-03T17:48:20.116Z"
   },
   {
    "duration": 22,
    "start_time": "2023-08-03T17:48:20.148Z"
   },
   {
    "duration": 21,
    "start_time": "2023-08-03T17:48:20.171Z"
   },
   {
    "duration": 27,
    "start_time": "2023-08-03T17:48:20.194Z"
   },
   {
    "duration": 4298,
    "start_time": "2023-08-03T17:48:20.223Z"
   },
   {
    "duration": 31,
    "start_time": "2023-08-03T17:48:41.364Z"
   },
   {
    "duration": 13,
    "start_time": "2023-08-03T17:48:51.601Z"
   },
   {
    "duration": 384,
    "start_time": "2023-08-03T17:48:57.611Z"
   },
   {
    "duration": 87,
    "start_time": "2023-08-03T17:48:57.997Z"
   },
   {
    "duration": 17,
    "start_time": "2023-08-03T17:48:58.086Z"
   },
   {
    "duration": 1850,
    "start_time": "2023-08-03T17:48:58.105Z"
   },
   {
    "duration": 33,
    "start_time": "2023-08-03T17:48:59.957Z"
   },
   {
    "duration": 4,
    "start_time": "2023-08-03T17:48:59.992Z"
   },
   {
    "duration": 19,
    "start_time": "2023-08-03T17:48:59.997Z"
   },
   {
    "duration": 44,
    "start_time": "2023-08-03T17:49:00.018Z"
   },
   {
    "duration": 48,
    "start_time": "2023-08-03T17:49:00.064Z"
   },
   {
    "duration": 36,
    "start_time": "2023-08-03T17:49:00.114Z"
   },
   {
    "duration": 32,
    "start_time": "2023-08-03T17:49:00.152Z"
   },
   {
    "duration": 75,
    "start_time": "2023-08-03T17:49:00.186Z"
   },
   {
    "duration": 39,
    "start_time": "2023-08-03T17:49:00.262Z"
   },
   {
    "duration": 38,
    "start_time": "2023-08-03T17:49:00.303Z"
   },
   {
    "duration": 35,
    "start_time": "2023-08-03T17:49:00.342Z"
   },
   {
    "duration": 37,
    "start_time": "2023-08-03T17:49:00.379Z"
   },
   {
    "duration": 50,
    "start_time": "2023-08-03T17:49:00.417Z"
   },
   {
    "duration": 29,
    "start_time": "2023-08-03T17:49:00.472Z"
   },
   {
    "duration": 41,
    "start_time": "2023-08-03T17:49:00.503Z"
   },
   {
    "duration": 23,
    "start_time": "2023-08-03T17:49:00.546Z"
   },
   {
    "duration": 31,
    "start_time": "2023-08-03T17:49:00.570Z"
   },
   {
    "duration": 32,
    "start_time": "2023-08-03T17:49:00.603Z"
   },
   {
    "duration": 27,
    "start_time": "2023-08-03T17:49:00.637Z"
   },
   {
    "duration": 34,
    "start_time": "2023-08-03T17:49:00.666Z"
   },
   {
    "duration": 3801,
    "start_time": "2023-08-03T17:49:00.702Z"
   },
   {
    "duration": 24,
    "start_time": "2023-08-03T17:50:01.801Z"
   },
   {
    "duration": 353,
    "start_time": "2023-08-03T17:50:10.471Z"
   },
   {
    "duration": 84,
    "start_time": "2023-08-03T17:50:10.826Z"
   },
   {
    "duration": 13,
    "start_time": "2023-08-03T17:50:10.912Z"
   },
   {
    "duration": 2008,
    "start_time": "2023-08-03T17:50:10.926Z"
   },
   {
    "duration": 36,
    "start_time": "2023-08-03T17:50:12.936Z"
   },
   {
    "duration": 4,
    "start_time": "2023-08-03T17:50:12.973Z"
   },
   {
    "duration": 5,
    "start_time": "2023-08-03T17:50:12.979Z"
   },
   {
    "duration": 5,
    "start_time": "2023-08-03T17:50:12.986Z"
   },
   {
    "duration": 4,
    "start_time": "2023-08-03T17:50:12.992Z"
   },
   {
    "duration": 23,
    "start_time": "2023-08-03T17:50:12.998Z"
   },
   {
    "duration": 12,
    "start_time": "2023-08-03T17:50:13.022Z"
   },
   {
    "duration": 55,
    "start_time": "2023-08-03T17:50:13.036Z"
   },
   {
    "duration": 9,
    "start_time": "2023-08-03T17:50:13.093Z"
   },
   {
    "duration": 9,
    "start_time": "2023-08-03T17:50:13.105Z"
   },
   {
    "duration": 18,
    "start_time": "2023-08-03T17:50:13.116Z"
   },
   {
    "duration": 10,
    "start_time": "2023-08-03T17:50:13.135Z"
   },
   {
    "duration": 9,
    "start_time": "2023-08-03T17:50:13.147Z"
   },
   {
    "duration": 14,
    "start_time": "2023-08-03T17:50:13.158Z"
   },
   {
    "duration": 11,
    "start_time": "2023-08-03T17:50:13.173Z"
   },
   {
    "duration": 6,
    "start_time": "2023-08-03T17:50:13.186Z"
   },
   {
    "duration": 7,
    "start_time": "2023-08-03T17:50:13.193Z"
   },
   {
    "duration": 19,
    "start_time": "2023-08-03T17:50:13.202Z"
   },
   {
    "duration": 16,
    "start_time": "2023-08-03T17:50:13.222Z"
   },
   {
    "duration": 16,
    "start_time": "2023-08-03T17:50:13.239Z"
   },
   {
    "duration": 4409,
    "start_time": "2023-08-03T17:50:13.257Z"
   },
   {
    "duration": 34,
    "start_time": "2023-08-03T17:50:34.926Z"
   },
   {
    "duration": 16,
    "start_time": "2023-08-03T17:50:43.606Z"
   },
   {
    "duration": 1306,
    "start_time": "2023-08-03T17:51:03.109Z"
   },
   {
    "duration": 1234,
    "start_time": "2023-08-03T17:51:08.633Z"
   },
   {
    "duration": 15,
    "start_time": "2023-08-03T17:51:17.321Z"
   },
   {
    "duration": 8,
    "start_time": "2023-08-03T17:51:24.533Z"
   },
   {
    "duration": 347,
    "start_time": "2023-08-03T17:51:37.154Z"
   },
   {
    "duration": 85,
    "start_time": "2023-08-03T17:51:37.503Z"
   },
   {
    "duration": 14,
    "start_time": "2023-08-03T17:51:37.590Z"
   },
   {
    "duration": 1845,
    "start_time": "2023-08-03T17:51:37.606Z"
   },
   {
    "duration": 36,
    "start_time": "2023-08-03T17:51:39.454Z"
   },
   {
    "duration": 5,
    "start_time": "2023-08-03T17:51:39.492Z"
   },
   {
    "duration": 7,
    "start_time": "2023-08-03T17:51:39.499Z"
   },
   {
    "duration": 6,
    "start_time": "2023-08-03T17:51:39.508Z"
   },
   {
    "duration": 6,
    "start_time": "2023-08-03T17:51:39.515Z"
   },
   {
    "duration": 3,
    "start_time": "2023-08-03T17:51:39.525Z"
   },
   {
    "duration": 14,
    "start_time": "2023-08-03T17:51:39.529Z"
   },
   {
    "duration": 3,
    "start_time": "2023-08-03T17:51:39.545Z"
   },
   {
    "duration": 9,
    "start_time": "2023-08-03T17:51:39.549Z"
   },
   {
    "duration": 15,
    "start_time": "2023-08-03T17:51:39.559Z"
   },
   {
    "duration": 13,
    "start_time": "2023-08-03T17:51:39.575Z"
   },
   {
    "duration": 20,
    "start_time": "2023-08-03T17:51:39.590Z"
   },
   {
    "duration": 14,
    "start_time": "2023-08-03T17:51:39.612Z"
   },
   {
    "duration": 17,
    "start_time": "2023-08-03T17:51:39.628Z"
   },
   {
    "duration": 8,
    "start_time": "2023-08-03T17:51:39.647Z"
   },
   {
    "duration": 11,
    "start_time": "2023-08-03T17:51:39.657Z"
   },
   {
    "duration": 11,
    "start_time": "2023-08-03T17:51:39.670Z"
   },
   {
    "duration": 9,
    "start_time": "2023-08-03T17:51:39.682Z"
   },
   {
    "duration": 13,
    "start_time": "2023-08-03T17:51:39.693Z"
   },
   {
    "duration": 11,
    "start_time": "2023-08-03T17:51:39.707Z"
   },
   {
    "duration": 4150,
    "start_time": "2023-08-03T17:51:39.720Z"
   },
   {
    "duration": 365,
    "start_time": "2023-08-03T17:55:11.548Z"
   },
   {
    "duration": 85,
    "start_time": "2023-08-03T17:55:11.915Z"
   },
   {
    "duration": 13,
    "start_time": "2023-08-03T17:55:12.001Z"
   },
   {
    "duration": 1816,
    "start_time": "2023-08-03T17:55:12.015Z"
   },
   {
    "duration": 36,
    "start_time": "2023-08-03T17:55:13.833Z"
   },
   {
    "duration": 4,
    "start_time": "2023-08-03T17:55:13.871Z"
   },
   {
    "duration": 11,
    "start_time": "2023-08-03T17:55:13.877Z"
   },
   {
    "duration": 7,
    "start_time": "2023-08-03T17:55:13.890Z"
   },
   {
    "duration": 22,
    "start_time": "2023-08-03T17:55:13.899Z"
   },
   {
    "duration": 3,
    "start_time": "2023-08-03T17:55:13.923Z"
   },
   {
    "duration": 14,
    "start_time": "2023-08-03T17:55:13.927Z"
   },
   {
    "duration": 3,
    "start_time": "2023-08-03T17:55:13.943Z"
   },
   {
    "duration": 10,
    "start_time": "2023-08-03T17:55:13.948Z"
   },
   {
    "duration": 6,
    "start_time": "2023-08-03T17:55:13.960Z"
   },
   {
    "duration": 7,
    "start_time": "2023-08-03T17:55:13.968Z"
   },
   {
    "duration": 9,
    "start_time": "2023-08-03T17:55:13.976Z"
   },
   {
    "duration": 9,
    "start_time": "2023-08-03T17:55:13.986Z"
   },
   {
    "duration": 24,
    "start_time": "2023-08-03T17:55:13.996Z"
   },
   {
    "duration": 7,
    "start_time": "2023-08-03T17:55:14.022Z"
   },
   {
    "duration": 5,
    "start_time": "2023-08-03T17:55:14.030Z"
   },
   {
    "duration": 10,
    "start_time": "2023-08-03T17:55:14.036Z"
   },
   {
    "duration": 5,
    "start_time": "2023-08-03T17:55:14.048Z"
   },
   {
    "duration": 8,
    "start_time": "2023-08-03T17:55:14.055Z"
   },
   {
    "duration": 11,
    "start_time": "2023-08-03T17:55:14.065Z"
   },
   {
    "duration": 4,
    "start_time": "2023-08-03T17:55:14.078Z"
   },
   {
    "duration": 4402,
    "start_time": "2023-08-03T17:55:14.084Z"
   },
   {
    "duration": 344,
    "start_time": "2023-08-03T17:57:06.848Z"
   },
   {
    "duration": 86,
    "start_time": "2023-08-03T17:57:07.194Z"
   },
   {
    "duration": 14,
    "start_time": "2023-08-03T17:57:07.281Z"
   },
   {
    "duration": 1806,
    "start_time": "2023-08-03T17:57:07.297Z"
   },
   {
    "duration": 34,
    "start_time": "2023-08-03T17:57:09.104Z"
   },
   {
    "duration": 5,
    "start_time": "2023-08-03T17:57:09.139Z"
   },
   {
    "duration": 6,
    "start_time": "2023-08-03T17:57:09.145Z"
   },
   {
    "duration": 12,
    "start_time": "2023-08-03T17:57:09.152Z"
   },
   {
    "duration": 10,
    "start_time": "2023-08-03T17:57:09.166Z"
   },
   {
    "duration": 15,
    "start_time": "2023-08-03T17:57:09.177Z"
   },
   {
    "duration": 28,
    "start_time": "2023-08-03T17:57:09.194Z"
   },
   {
    "duration": 4,
    "start_time": "2023-08-03T17:57:09.223Z"
   },
   {
    "duration": 10,
    "start_time": "2023-08-03T17:57:09.229Z"
   },
   {
    "duration": 8,
    "start_time": "2023-08-03T17:57:09.242Z"
   },
   {
    "duration": 9,
    "start_time": "2023-08-03T17:57:09.251Z"
   },
   {
    "duration": 9,
    "start_time": "2023-08-03T17:57:09.261Z"
   },
   {
    "duration": 9,
    "start_time": "2023-08-03T17:57:09.271Z"
   },
   {
    "duration": 4,
    "start_time": "2023-08-03T17:57:09.282Z"
   },
   {
    "duration": 8,
    "start_time": "2023-08-03T17:57:09.288Z"
   },
   {
    "duration": 6,
    "start_time": "2023-08-03T17:57:09.297Z"
   },
   {
    "duration": 20,
    "start_time": "2023-08-03T17:57:09.304Z"
   },
   {
    "duration": 7,
    "start_time": "2023-08-03T17:57:09.326Z"
   },
   {
    "duration": 12,
    "start_time": "2023-08-03T17:57:09.334Z"
   },
   {
    "duration": 12,
    "start_time": "2023-08-03T17:57:09.348Z"
   },
   {
    "duration": 6,
    "start_time": "2023-08-03T17:57:09.361Z"
   },
   {
    "duration": 4063,
    "start_time": "2023-08-03T17:57:09.368Z"
   },
   {
    "duration": 6,
    "start_time": "2023-08-03T17:57:13.432Z"
   },
   {
    "duration": 9,
    "start_time": "2023-08-03T17:57:13.439Z"
   },
   {
    "duration": 5,
    "start_time": "2023-08-03T17:58:18.650Z"
   },
   {
    "duration": 4,
    "start_time": "2023-08-03T17:59:10.259Z"
   },
   {
    "duration": 4,
    "start_time": "2023-08-03T17:59:24.929Z"
   },
   {
    "duration": 107,
    "start_time": "2023-08-03T17:59:40.949Z"
   },
   {
    "duration": 112,
    "start_time": "2023-08-03T17:59:51.044Z"
   },
   {
    "duration": 6,
    "start_time": "2023-08-03T18:00:00.202Z"
   },
   {
    "duration": 5,
    "start_time": "2023-08-03T18:00:26.337Z"
   },
   {
    "duration": 25,
    "start_time": "2023-08-03T18:00:39.256Z"
   },
   {
    "duration": 24,
    "start_time": "2023-08-03T18:01:00.233Z"
   },
   {
    "duration": 5,
    "start_time": "2023-08-03T18:02:25.628Z"
   },
   {
    "duration": 4,
    "start_time": "2023-08-03T18:02:39.129Z"
   },
   {
    "duration": 33,
    "start_time": "2023-08-03T18:02:58.759Z"
   },
   {
    "duration": 35,
    "start_time": "2023-08-03T18:03:13.212Z"
   },
   {
    "duration": 5,
    "start_time": "2023-08-03T18:03:26.958Z"
   },
   {
    "duration": 4,
    "start_time": "2023-08-03T18:03:49.860Z"
   },
   {
    "duration": 1365,
    "start_time": "2023-08-03T18:04:50.268Z"
   },
   {
    "duration": 4,
    "start_time": "2023-08-03T18:04:56.697Z"
   },
   {
    "duration": 4,
    "start_time": "2023-08-03T18:06:03.947Z"
   },
   {
    "duration": 5,
    "start_time": "2023-08-03T18:07:02.707Z"
   },
   {
    "duration": 23,
    "start_time": "2023-08-03T18:07:12.641Z"
   },
   {
    "duration": 14,
    "start_time": "2023-08-03T18:07:27.642Z"
   },
   {
    "duration": 5,
    "start_time": "2023-08-03T18:07:44.878Z"
   },
   {
    "duration": 5,
    "start_time": "2023-08-03T18:08:12.364Z"
   },
   {
    "duration": 4,
    "start_time": "2023-08-03T18:08:37.601Z"
   },
   {
    "duration": 4,
    "start_time": "2023-08-03T18:08:43.700Z"
   },
   {
    "duration": 5,
    "start_time": "2023-08-03T18:09:07.092Z"
   },
   {
    "duration": 5,
    "start_time": "2023-08-03T18:09:35.412Z"
   },
   {
    "duration": 10,
    "start_time": "2023-08-03T18:09:57.167Z"
   },
   {
    "duration": 5,
    "start_time": "2023-08-03T18:10:47.029Z"
   },
   {
    "duration": 6,
    "start_time": "2023-08-03T18:11:11.696Z"
   },
   {
    "duration": 6,
    "start_time": "2023-08-03T18:11:43.193Z"
   },
   {
    "duration": 5,
    "start_time": "2023-08-03T18:12:07.904Z"
   },
   {
    "duration": 5,
    "start_time": "2023-08-03T18:12:43.726Z"
   },
   {
    "duration": 10,
    "start_time": "2023-08-03T18:13:03.459Z"
   },
   {
    "duration": 4,
    "start_time": "2023-08-03T18:13:21.752Z"
   },
   {
    "duration": 5,
    "start_time": "2023-08-03T18:13:37.035Z"
   },
   {
    "duration": 5,
    "start_time": "2023-08-03T18:14:03.708Z"
   },
   {
    "duration": 15,
    "start_time": "2023-08-03T18:15:25.416Z"
   },
   {
    "duration": 13,
    "start_time": "2023-08-03T18:15:47.892Z"
   },
   {
    "duration": 21,
    "start_time": "2023-08-03T18:16:46.017Z"
   },
   {
    "duration": 13,
    "start_time": "2023-08-03T18:18:29.219Z"
   },
   {
    "duration": 15,
    "start_time": "2023-08-03T18:19:51.840Z"
   },
   {
    "duration": 16,
    "start_time": "2023-08-03T18:20:23.004Z"
   },
   {
    "duration": 16,
    "start_time": "2023-08-03T18:20:37.232Z"
   },
   {
    "duration": 23,
    "start_time": "2023-08-03T18:21:25.162Z"
   },
   {
    "duration": 17,
    "start_time": "2023-08-03T18:21:35.316Z"
   },
   {
    "duration": 392,
    "start_time": "2023-08-03T18:21:53.096Z"
   },
   {
    "duration": 86,
    "start_time": "2023-08-03T18:21:53.490Z"
   },
   {
    "duration": 14,
    "start_time": "2023-08-03T18:21:53.578Z"
   },
   {
    "duration": 1869,
    "start_time": "2023-08-03T18:21:53.594Z"
   },
   {
    "duration": 33,
    "start_time": "2023-08-03T18:21:55.466Z"
   },
   {
    "duration": 4,
    "start_time": "2023-08-03T18:21:55.501Z"
   },
   {
    "duration": 13,
    "start_time": "2023-08-03T18:21:55.507Z"
   },
   {
    "duration": 15,
    "start_time": "2023-08-03T18:21:55.522Z"
   },
   {
    "duration": 14,
    "start_time": "2023-08-03T18:21:55.539Z"
   },
   {
    "duration": 10,
    "start_time": "2023-08-03T18:21:55.554Z"
   },
   {
    "duration": 22,
    "start_time": "2023-08-03T18:21:55.565Z"
   },
   {
    "duration": 7,
    "start_time": "2023-08-03T18:21:55.589Z"
   },
   {
    "duration": 7,
    "start_time": "2023-08-03T18:21:55.598Z"
   },
   {
    "duration": 12,
    "start_time": "2023-08-03T18:21:55.608Z"
   },
   {
    "duration": 22,
    "start_time": "2023-08-03T18:21:55.622Z"
   },
   {
    "duration": 14,
    "start_time": "2023-08-03T18:21:55.646Z"
   },
   {
    "duration": 13,
    "start_time": "2023-08-03T18:21:55.661Z"
   },
   {
    "duration": 14,
    "start_time": "2023-08-03T18:21:55.676Z"
   },
   {
    "duration": 8,
    "start_time": "2023-08-03T18:21:55.692Z"
   },
   {
    "duration": 6,
    "start_time": "2023-08-03T18:21:55.701Z"
   },
   {
    "duration": 11,
    "start_time": "2023-08-03T18:21:55.709Z"
   },
   {
    "duration": 6,
    "start_time": "2023-08-03T18:21:55.722Z"
   },
   {
    "duration": 8,
    "start_time": "2023-08-03T18:21:55.730Z"
   },
   {
    "duration": 16,
    "start_time": "2023-08-03T18:21:55.740Z"
   },
   {
    "duration": 6,
    "start_time": "2023-08-03T18:21:55.758Z"
   },
   {
    "duration": 4125,
    "start_time": "2023-08-03T18:21:55.766Z"
   },
   {
    "duration": 5,
    "start_time": "2023-08-03T18:21:59.892Z"
   },
   {
    "duration": 30,
    "start_time": "2023-08-03T18:21:59.899Z"
   },
   {
    "duration": 20,
    "start_time": "2023-08-03T18:21:59.930Z"
   },
   {
    "duration": 48,
    "start_time": "2023-08-03T18:21:59.951Z"
   },
   {
    "duration": 35,
    "start_time": "2023-08-03T18:22:00.001Z"
   },
   {
    "duration": 306,
    "start_time": "2023-08-03T18:22:00.038Z"
   },
   {
    "duration": 282,
    "start_time": "2023-08-03T18:22:00.346Z"
   },
   {
    "duration": 42,
    "start_time": "2023-08-03T18:22:00.630Z"
   },
   {
    "duration": 41,
    "start_time": "2023-08-03T18:22:00.674Z"
   },
   {
    "duration": 39,
    "start_time": "2023-08-03T18:22:00.716Z"
   },
   {
    "duration": 17,
    "start_time": "2023-08-03T18:22:00.756Z"
   },
   {
    "duration": 50,
    "start_time": "2023-08-04T07:58:10.528Z"
   },
   {
    "duration": 421,
    "start_time": "2023-08-04T07:58:16.043Z"
   },
   {
    "duration": 344,
    "start_time": "2023-08-04T07:58:16.466Z"
   },
   {
    "duration": 19,
    "start_time": "2023-08-04T07:58:16.812Z"
   },
   {
    "duration": 2409,
    "start_time": "2023-08-04T07:58:16.833Z"
   },
   {
    "duration": 42,
    "start_time": "2023-08-04T07:58:19.245Z"
   },
   {
    "duration": 5,
    "start_time": "2023-08-04T07:58:19.288Z"
   },
   {
    "duration": 45,
    "start_time": "2023-08-04T07:58:19.294Z"
   },
   {
    "duration": 13,
    "start_time": "2023-08-04T07:58:19.341Z"
   },
   {
    "duration": 33,
    "start_time": "2023-08-04T07:58:19.356Z"
   },
   {
    "duration": 20,
    "start_time": "2023-08-04T07:58:19.391Z"
   },
   {
    "duration": 27,
    "start_time": "2023-08-04T07:58:19.413Z"
   },
   {
    "duration": 13,
    "start_time": "2023-08-04T07:58:19.442Z"
   },
   {
    "duration": 28,
    "start_time": "2023-08-04T07:58:19.457Z"
   },
   {
    "duration": 52,
    "start_time": "2023-08-04T07:58:19.490Z"
   },
   {
    "duration": 41,
    "start_time": "2023-08-04T07:58:19.543Z"
   },
   {
    "duration": 37,
    "start_time": "2023-08-04T07:58:19.586Z"
   },
   {
    "duration": 15,
    "start_time": "2023-08-04T07:58:19.625Z"
   },
   {
    "duration": 17,
    "start_time": "2023-08-04T07:58:19.643Z"
   },
   {
    "duration": 39,
    "start_time": "2023-08-04T07:58:19.662Z"
   },
   {
    "duration": 13,
    "start_time": "2023-08-04T07:58:19.702Z"
   },
   {
    "duration": 17,
    "start_time": "2023-08-04T07:58:19.717Z"
   },
   {
    "duration": 44,
    "start_time": "2023-08-04T07:58:19.736Z"
   },
   {
    "duration": 21,
    "start_time": "2023-08-04T07:58:19.782Z"
   },
   {
    "duration": 27,
    "start_time": "2023-08-04T07:58:19.805Z"
   },
   {
    "duration": 10,
    "start_time": "2023-08-04T07:58:19.834Z"
   },
   {
    "duration": 5087,
    "start_time": "2023-08-04T07:58:19.846Z"
   },
   {
    "duration": 9,
    "start_time": "2023-08-04T07:58:24.935Z"
   },
   {
    "duration": 69,
    "start_time": "2023-08-04T07:58:24.945Z"
   },
   {
    "duration": 139,
    "start_time": "2023-08-04T07:58:25.017Z"
   },
   {
    "duration": 127,
    "start_time": "2023-08-04T07:58:25.157Z"
   },
   {
    "duration": 34,
    "start_time": "2023-08-04T07:58:25.287Z"
   },
   {
    "duration": 35,
    "start_time": "2023-08-04T07:58:25.322Z"
   },
   {
    "duration": 27,
    "start_time": "2023-08-04T07:58:25.358Z"
   },
   {
    "duration": 17,
    "start_time": "2023-08-04T07:58:25.387Z"
   },
   {
    "duration": 109,
    "start_time": "2023-08-04T07:58:25.406Z"
   },
   {
    "duration": 28,
    "start_time": "2023-08-04T07:58:25.517Z"
   },
   {
    "duration": 33,
    "start_time": "2023-08-04T07:58:25.547Z"
   },
   {
    "duration": 5,
    "start_time": "2023-08-04T07:59:51.609Z"
   },
   {
    "duration": 25,
    "start_time": "2023-08-04T08:00:40.157Z"
   },
   {
    "duration": 25,
    "start_time": "2023-08-04T08:01:57.323Z"
   },
   {
    "duration": 24,
    "start_time": "2023-08-04T08:08:58.306Z"
   },
   {
    "duration": 26,
    "start_time": "2023-08-04T08:11:02.547Z"
   },
   {
    "duration": 431,
    "start_time": "2023-08-04T08:12:15.191Z"
   },
   {
    "duration": 92,
    "start_time": "2023-08-04T08:12:15.624Z"
   },
   {
    "duration": 16,
    "start_time": "2023-08-04T08:12:15.718Z"
   },
   {
    "duration": 2415,
    "start_time": "2023-08-04T08:12:15.736Z"
   },
   {
    "duration": 41,
    "start_time": "2023-08-04T08:12:18.152Z"
   },
   {
    "duration": 150,
    "start_time": "2023-08-04T08:12:18.195Z"
   },
   {
    "duration": 52,
    "start_time": "2023-08-04T08:12:18.346Z"
   },
   {
    "duration": 95,
    "start_time": "2023-08-04T08:12:18.400Z"
   },
   {
    "duration": 71,
    "start_time": "2023-08-04T08:12:18.497Z"
   },
   {
    "duration": 118,
    "start_time": "2023-08-04T08:12:18.571Z"
   },
   {
    "duration": 136,
    "start_time": "2023-08-04T08:12:18.690Z"
   },
   {
    "duration": 68,
    "start_time": "2023-08-04T08:12:18.828Z"
   },
   {
    "duration": 163,
    "start_time": "2023-08-04T08:12:18.897Z"
   },
   {
    "duration": 105,
    "start_time": "2023-08-04T08:12:19.061Z"
   },
   {
    "duration": 62,
    "start_time": "2023-08-04T08:12:19.167Z"
   },
   {
    "duration": 91,
    "start_time": "2023-08-04T08:12:19.231Z"
   },
   {
    "duration": 48,
    "start_time": "2023-08-04T08:12:19.324Z"
   },
   {
    "duration": 83,
    "start_time": "2023-08-04T08:12:19.374Z"
   },
   {
    "duration": 63,
    "start_time": "2023-08-04T08:12:19.460Z"
   },
   {
    "duration": 25,
    "start_time": "2023-08-04T08:12:19.524Z"
   },
   {
    "duration": 33,
    "start_time": "2023-08-04T08:12:19.551Z"
   },
   {
    "duration": 30,
    "start_time": "2023-08-04T08:12:19.586Z"
   },
   {
    "duration": 56,
    "start_time": "2023-08-04T08:12:19.618Z"
   },
   {
    "duration": 48,
    "start_time": "2023-08-04T08:12:19.676Z"
   },
   {
    "duration": 109,
    "start_time": "2023-08-04T08:12:19.725Z"
   },
   {
    "duration": 5316,
    "start_time": "2023-08-04T08:12:19.837Z"
   },
   {
    "duration": 7,
    "start_time": "2023-08-04T08:12:25.155Z"
   },
   {
    "duration": 40,
    "start_time": "2023-08-04T08:12:25.166Z"
   },
   {
    "duration": 71,
    "start_time": "2023-08-04T08:12:25.208Z"
   },
   {
    "duration": 50,
    "start_time": "2023-08-04T08:12:25.281Z"
   },
   {
    "duration": 80,
    "start_time": "2023-08-04T08:12:25.334Z"
   },
   {
    "duration": 89,
    "start_time": "2023-08-04T08:12:25.416Z"
   },
   {
    "duration": 82,
    "start_time": "2023-08-04T08:12:25.507Z"
   },
   {
    "duration": 79,
    "start_time": "2023-08-04T08:12:25.591Z"
   },
   {
    "duration": 79,
    "start_time": "2023-08-04T08:12:25.672Z"
   },
   {
    "duration": 40,
    "start_time": "2023-08-04T08:12:25.753Z"
   },
   {
    "duration": 51,
    "start_time": "2023-08-04T08:12:25.795Z"
   },
   {
    "duration": 26,
    "start_time": "2023-08-04T08:12:33.021Z"
   },
   {
    "duration": 7,
    "start_time": "2023-08-04T08:15:54.602Z"
   },
   {
    "duration": 85,
    "start_time": "2023-08-04T08:20:06.887Z"
   },
   {
    "duration": 7,
    "start_time": "2023-08-04T08:24:24.891Z"
   },
   {
    "duration": 10,
    "start_time": "2023-08-04T08:24:32.679Z"
   },
   {
    "duration": 6,
    "start_time": "2023-08-04T08:25:20.278Z"
   },
   {
    "duration": 11,
    "start_time": "2023-08-04T08:25:23.798Z"
   },
   {
    "duration": 16,
    "start_time": "2023-08-04T08:26:40.298Z"
   },
   {
    "duration": 24,
    "start_time": "2023-08-04T08:35:07.730Z"
   },
   {
    "duration": 38,
    "start_time": "2023-08-04T08:38:07.040Z"
   },
   {
    "duration": 26,
    "start_time": "2023-08-04T08:45:21.302Z"
   },
   {
    "duration": 23,
    "start_time": "2023-08-04T08:47:25.352Z"
   },
   {
    "duration": 11,
    "start_time": "2023-08-04T08:55:08.467Z"
   },
   {
    "duration": 90,
    "start_time": "2023-08-04T08:55:21.794Z"
   },
   {
    "duration": 221,
    "start_time": "2023-08-04T08:55:36.123Z"
   },
   {
    "duration": 116,
    "start_time": "2023-08-04T08:55:42.494Z"
   },
   {
    "duration": 11,
    "start_time": "2023-08-04T08:56:16.274Z"
   },
   {
    "duration": 83,
    "start_time": "2023-08-04T08:57:22.561Z"
   },
   {
    "duration": 84,
    "start_time": "2023-08-04T08:57:32.699Z"
   },
   {
    "duration": 389,
    "start_time": "2023-08-04T08:57:50.635Z"
   },
   {
    "duration": 92,
    "start_time": "2023-08-04T08:57:51.026Z"
   },
   {
    "duration": 15,
    "start_time": "2023-08-04T08:57:51.120Z"
   },
   {
    "duration": 2418,
    "start_time": "2023-08-04T08:57:51.137Z"
   },
   {
    "duration": 43,
    "start_time": "2023-08-04T08:57:53.557Z"
   },
   {
    "duration": 18,
    "start_time": "2023-08-04T08:57:53.602Z"
   },
   {
    "duration": 101,
    "start_time": "2023-08-04T08:57:53.622Z"
   },
   {
    "duration": 57,
    "start_time": "2023-08-04T08:57:53.725Z"
   },
   {
    "duration": 18,
    "start_time": "2023-08-04T08:57:53.784Z"
   },
   {
    "duration": 28,
    "start_time": "2023-08-04T08:57:53.805Z"
   },
   {
    "duration": 46,
    "start_time": "2023-08-04T08:57:53.836Z"
   },
   {
    "duration": 20,
    "start_time": "2023-08-04T08:57:53.884Z"
   },
   {
    "duration": 60,
    "start_time": "2023-08-04T08:57:53.906Z"
   },
   {
    "duration": 27,
    "start_time": "2023-08-04T08:57:53.967Z"
   },
   {
    "duration": 16,
    "start_time": "2023-08-04T08:57:53.996Z"
   },
   {
    "duration": 28,
    "start_time": "2023-08-04T08:57:54.014Z"
   },
   {
    "duration": 50,
    "start_time": "2023-08-04T08:57:54.044Z"
   },
   {
    "duration": 35,
    "start_time": "2023-08-04T08:57:54.096Z"
   },
   {
    "duration": 109,
    "start_time": "2023-08-04T08:57:54.133Z"
   },
   {
    "duration": 34,
    "start_time": "2023-08-04T08:57:54.244Z"
   },
   {
    "duration": 49,
    "start_time": "2023-08-04T08:57:54.280Z"
   },
   {
    "duration": 50,
    "start_time": "2023-08-04T08:57:54.331Z"
   },
   {
    "duration": 22,
    "start_time": "2023-08-04T08:57:54.382Z"
   },
   {
    "duration": 33,
    "start_time": "2023-08-04T08:57:54.405Z"
   },
   {
    "duration": 21,
    "start_time": "2023-08-04T08:57:54.440Z"
   },
   {
    "duration": 5263,
    "start_time": "2023-08-04T08:57:54.463Z"
   },
   {
    "duration": 6,
    "start_time": "2023-08-04T08:57:59.728Z"
   },
   {
    "duration": 21,
    "start_time": "2023-08-04T08:57:59.738Z"
   },
   {
    "duration": 10,
    "start_time": "2023-08-04T08:57:59.761Z"
   },
   {
    "duration": 105,
    "start_time": "2023-08-04T08:57:59.773Z"
   },
   {
    "duration": 5,
    "start_time": "2023-08-04T08:57:59.880Z"
   },
   {
    "duration": 21,
    "start_time": "2023-08-04T08:57:59.887Z"
   },
   {
    "duration": 20,
    "start_time": "2023-08-04T08:57:59.910Z"
   },
   {
    "duration": 59,
    "start_time": "2023-08-04T08:57:59.932Z"
   },
   {
    "duration": 16,
    "start_time": "2023-08-04T08:57:59.992Z"
   },
   {
    "duration": 35,
    "start_time": "2023-08-04T08:58:00.011Z"
   },
   {
    "duration": 37,
    "start_time": "2023-08-04T08:58:00.048Z"
   },
   {
    "duration": 13,
    "start_time": "2023-08-04T08:58:40.845Z"
   },
   {
    "duration": 4,
    "start_time": "2023-08-04T08:58:41.584Z"
   },
   {
    "duration": 4,
    "start_time": "2023-08-04T08:58:42.146Z"
   },
   {
    "duration": 14,
    "start_time": "2023-08-04T08:58:43.632Z"
   },
   {
    "duration": 6,
    "start_time": "2023-08-04T08:58:56.546Z"
   },
   {
    "duration": 6,
    "start_time": "2023-08-04T08:58:58.563Z"
   },
   {
    "duration": 388,
    "start_time": "2023-08-04T08:59:04.944Z"
   },
   {
    "duration": 93,
    "start_time": "2023-08-04T08:59:05.334Z"
   },
   {
    "duration": 15,
    "start_time": "2023-08-04T08:59:05.429Z"
   },
   {
    "duration": 2737,
    "start_time": "2023-08-04T08:59:05.446Z"
   },
   {
    "duration": 41,
    "start_time": "2023-08-04T08:59:08.186Z"
   },
   {
    "duration": 5,
    "start_time": "2023-08-04T08:59:08.229Z"
   },
   {
    "duration": 30,
    "start_time": "2023-08-04T08:59:08.235Z"
   },
   {
    "duration": 24,
    "start_time": "2023-08-04T08:59:08.267Z"
   },
   {
    "duration": 14,
    "start_time": "2023-08-04T08:59:08.292Z"
   },
   {
    "duration": 11,
    "start_time": "2023-08-04T08:59:08.308Z"
   },
   {
    "duration": 30,
    "start_time": "2023-08-04T08:59:08.321Z"
   },
   {
    "duration": 3,
    "start_time": "2023-08-04T08:59:08.353Z"
   },
   {
    "duration": 20,
    "start_time": "2023-08-04T08:59:08.358Z"
   },
   {
    "duration": 38,
    "start_time": "2023-08-04T08:59:08.381Z"
   },
   {
    "duration": 9,
    "start_time": "2023-08-04T08:59:08.421Z"
   },
   {
    "duration": 16,
    "start_time": "2023-08-04T08:59:08.432Z"
   },
   {
    "duration": 10,
    "start_time": "2023-08-04T08:59:08.449Z"
   },
   {
    "duration": 10,
    "start_time": "2023-08-04T08:59:08.461Z"
   },
   {
    "duration": 16,
    "start_time": "2023-08-04T08:59:08.472Z"
   },
   {
    "duration": 7,
    "start_time": "2023-08-04T08:59:08.490Z"
   },
   {
    "duration": 9,
    "start_time": "2023-08-04T08:59:08.499Z"
   },
   {
    "duration": 9,
    "start_time": "2023-08-04T08:59:08.510Z"
   },
   {
    "duration": 10,
    "start_time": "2023-08-04T08:59:08.521Z"
   },
   {
    "duration": 21,
    "start_time": "2023-08-04T08:59:08.533Z"
   },
   {
    "duration": 28,
    "start_time": "2023-08-04T08:59:08.556Z"
   },
   {
    "duration": 5255,
    "start_time": "2023-08-04T08:59:08.586Z"
   },
   {
    "duration": 6,
    "start_time": "2023-08-04T08:59:13.843Z"
   },
   {
    "duration": 31,
    "start_time": "2023-08-04T08:59:13.851Z"
   },
   {
    "duration": 29,
    "start_time": "2023-08-04T08:59:13.884Z"
   },
   {
    "duration": 10,
    "start_time": "2023-08-04T08:59:13.915Z"
   },
   {
    "duration": 23,
    "start_time": "2023-08-04T08:59:13.927Z"
   },
   {
    "duration": 14,
    "start_time": "2023-08-04T08:59:13.951Z"
   },
   {
    "duration": 12,
    "start_time": "2023-08-04T08:59:13.967Z"
   },
   {
    "duration": 51,
    "start_time": "2023-08-04T08:59:13.980Z"
   },
   {
    "duration": 12,
    "start_time": "2023-08-04T08:59:14.032Z"
   },
   {
    "duration": 12,
    "start_time": "2023-08-04T08:59:14.046Z"
   },
   {
    "duration": 33,
    "start_time": "2023-08-04T08:59:14.060Z"
   },
   {
    "duration": 13929,
    "start_time": "2023-08-04T09:06:41.949Z"
   },
   {
    "duration": 8,
    "start_time": "2023-08-04T09:07:07.517Z"
   },
   {
    "duration": 13,
    "start_time": "2023-08-04T09:07:11.886Z"
   },
   {
    "duration": 23,
    "start_time": "2023-08-04T09:07:28.449Z"
   },
   {
    "duration": 15,
    "start_time": "2023-08-04T09:08:46.612Z"
   },
   {
    "duration": 7,
    "start_time": "2023-08-04T09:09:25.579Z"
   },
   {
    "duration": 7,
    "start_time": "2023-08-04T09:10:14.218Z"
   },
   {
    "duration": 23,
    "start_time": "2023-08-04T09:10:37.829Z"
   },
   {
    "duration": 8,
    "start_time": "2023-08-04T09:13:57.074Z"
   },
   {
    "duration": 8,
    "start_time": "2023-08-04T09:14:01.335Z"
   },
   {
    "duration": 9,
    "start_time": "2023-08-04T09:14:06.744Z"
   },
   {
    "duration": 47,
    "start_time": "2023-08-04T09:16:17.250Z"
   },
   {
    "duration": 13,
    "start_time": "2023-08-04T09:16:27.169Z"
   },
   {
    "duration": 13,
    "start_time": "2023-08-04T09:16:35.093Z"
   },
   {
    "duration": 11,
    "start_time": "2023-08-04T09:16:46.278Z"
   },
   {
    "duration": 15,
    "start_time": "2023-08-04T09:17:35.714Z"
   },
   {
    "duration": 15,
    "start_time": "2023-08-04T09:18:01.736Z"
   },
   {
    "duration": 20,
    "start_time": "2023-08-04T09:18:57.403Z"
   },
   {
    "duration": 31,
    "start_time": "2023-08-04T09:19:05.727Z"
   },
   {
    "duration": 36,
    "start_time": "2023-08-04T09:19:39.577Z"
   },
   {
    "duration": 31,
    "start_time": "2023-08-04T09:19:43.980Z"
   },
   {
    "duration": 51,
    "start_time": "2023-08-04T09:19:48.406Z"
   },
   {
    "duration": 10,
    "start_time": "2023-08-04T09:21:21.224Z"
   },
   {
    "duration": 18,
    "start_time": "2023-08-04T09:21:47.637Z"
   },
   {
    "duration": 361,
    "start_time": "2023-08-04T09:47:46.853Z"
   },
   {
    "duration": 98,
    "start_time": "2023-08-04T09:47:47.216Z"
   },
   {
    "duration": 17,
    "start_time": "2023-08-04T09:47:47.315Z"
   },
   {
    "duration": 2365,
    "start_time": "2023-08-04T09:47:47.334Z"
   },
   {
    "duration": 41,
    "start_time": "2023-08-04T09:47:49.700Z"
   },
   {
    "duration": 5,
    "start_time": "2023-08-04T09:47:49.743Z"
   },
   {
    "duration": 24,
    "start_time": "2023-08-04T09:47:49.749Z"
   },
   {
    "duration": 32,
    "start_time": "2023-08-04T09:47:49.775Z"
   },
   {
    "duration": 12,
    "start_time": "2023-08-04T09:47:49.809Z"
   },
   {
    "duration": 19,
    "start_time": "2023-08-04T09:47:49.824Z"
   },
   {
    "duration": 31,
    "start_time": "2023-08-04T09:47:49.844Z"
   },
   {
    "duration": 4,
    "start_time": "2023-08-04T09:47:49.877Z"
   },
   {
    "duration": 29,
    "start_time": "2023-08-04T09:47:49.882Z"
   },
   {
    "duration": 49,
    "start_time": "2023-08-04T09:47:49.913Z"
   },
   {
    "duration": 31,
    "start_time": "2023-08-04T09:47:49.964Z"
   },
   {
    "duration": 21,
    "start_time": "2023-08-04T09:47:49.997Z"
   },
   {
    "duration": 26,
    "start_time": "2023-08-04T09:47:50.020Z"
   },
   {
    "duration": 57,
    "start_time": "2023-08-04T09:47:50.047Z"
   },
   {
    "duration": 121,
    "start_time": "2023-08-04T09:47:50.107Z"
   },
   {
    "duration": 37,
    "start_time": "2023-08-04T09:47:50.229Z"
   },
   {
    "duration": 11,
    "start_time": "2023-08-04T09:47:50.268Z"
   },
   {
    "duration": 17,
    "start_time": "2023-08-04T09:47:50.280Z"
   },
   {
    "duration": 31,
    "start_time": "2023-08-04T09:47:50.299Z"
   },
   {
    "duration": 21,
    "start_time": "2023-08-04T09:47:50.333Z"
   },
   {
    "duration": 6,
    "start_time": "2023-08-04T09:47:50.356Z"
   },
   {
    "duration": 5113,
    "start_time": "2023-08-04T09:47:50.363Z"
   },
   {
    "duration": 6,
    "start_time": "2023-08-04T09:47:55.477Z"
   },
   {
    "duration": 21,
    "start_time": "2023-08-04T09:47:55.486Z"
   },
   {
    "duration": 21,
    "start_time": "2023-08-04T09:47:55.509Z"
   },
   {
    "duration": 19,
    "start_time": "2023-08-04T09:47:55.531Z"
   },
   {
    "duration": 10,
    "start_time": "2023-08-04T09:47:55.552Z"
   },
   {
    "duration": 14,
    "start_time": "2023-08-04T09:47:55.564Z"
   },
   {
    "duration": 9,
    "start_time": "2023-08-04T09:47:55.580Z"
   },
   {
    "duration": 12,
    "start_time": "2023-08-04T09:47:55.590Z"
   },
   {
    "duration": 42,
    "start_time": "2023-08-04T09:47:55.603Z"
   },
   {
    "duration": 27,
    "start_time": "2023-08-04T09:47:55.647Z"
   },
   {
    "duration": 6,
    "start_time": "2023-08-04T09:47:55.676Z"
   },
   {
    "duration": 5,
    "start_time": "2023-08-04T09:49:56.785Z"
   },
   {
    "duration": 8,
    "start_time": "2023-08-04T09:50:03.670Z"
   },
   {
    "duration": 70,
    "start_time": "2023-08-04T09:52:17.605Z"
   },
   {
    "duration": 8,
    "start_time": "2023-08-04T09:52:30.629Z"
   },
   {
    "duration": 8,
    "start_time": "2023-08-04T09:52:40.533Z"
   },
   {
    "duration": 10,
    "start_time": "2023-08-04T09:52:58.619Z"
   },
   {
    "duration": 9,
    "start_time": "2023-08-04T09:53:17.327Z"
   },
   {
    "duration": 455,
    "start_time": "2023-08-04T09:55:14.162Z"
   },
   {
    "duration": 18,
    "start_time": "2023-08-04T09:55:25.371Z"
   },
   {
    "duration": 14,
    "start_time": "2023-08-04T09:55:33.308Z"
   },
   {
    "duration": 8,
    "start_time": "2023-08-04T09:56:51.890Z"
   },
   {
    "duration": 8,
    "start_time": "2023-08-04T09:57:08.902Z"
   },
   {
    "duration": 21,
    "start_time": "2023-08-04T09:58:19.398Z"
   },
   {
    "duration": 28,
    "start_time": "2023-08-04T09:58:48.221Z"
   },
   {
    "duration": 122,
    "start_time": "2023-08-04T09:58:57.555Z"
   },
   {
    "duration": 51,
    "start_time": "2023-08-04T09:59:31.983Z"
   },
   {
    "duration": 29,
    "start_time": "2023-08-04T10:00:34.397Z"
   },
   {
    "duration": 6,
    "start_time": "2023-08-04T10:01:47.699Z"
   },
   {
    "duration": 9,
    "start_time": "2023-08-04T10:01:53.302Z"
   },
   {
    "duration": 27,
    "start_time": "2023-08-04T10:02:03.390Z"
   },
   {
    "duration": 6,
    "start_time": "2023-08-04T10:03:09.779Z"
   },
   {
    "duration": 28,
    "start_time": "2023-08-04T10:03:17.118Z"
   },
   {
    "duration": 3822,
    "start_time": "2023-08-04T10:08:35.854Z"
   },
   {
    "duration": 9,
    "start_time": "2023-08-04T10:09:33.225Z"
   },
   {
    "duration": 2510,
    "start_time": "2023-08-04T10:09:42.429Z"
   },
   {
    "duration": 2915,
    "start_time": "2023-08-04T10:10:13.223Z"
   },
   {
    "duration": 3187,
    "start_time": "2023-08-04T10:10:30.120Z"
   },
   {
    "duration": 3400,
    "start_time": "2023-08-04T10:11:22.477Z"
   },
   {
    "duration": 2185,
    "start_time": "2023-08-04T10:15:45.634Z"
   },
   {
    "duration": 2105,
    "start_time": "2023-08-04T10:15:55.376Z"
   },
   {
    "duration": 9,
    "start_time": "2023-08-04T10:16:30.482Z"
   },
   {
    "duration": 10,
    "start_time": "2023-08-04T10:16:47.586Z"
   },
   {
    "duration": 16,
    "start_time": "2023-08-04T10:16:55.053Z"
   },
   {
    "duration": 37,
    "start_time": "2023-08-04T10:17:01.723Z"
   },
   {
    "duration": 31,
    "start_time": "2023-08-04T10:17:09.041Z"
   },
   {
    "duration": 52,
    "start_time": "2023-08-04T10:17:17.757Z"
   },
   {
    "duration": 8,
    "start_time": "2023-08-04T10:20:36.243Z"
   },
   {
    "duration": 13,
    "start_time": "2023-08-04T10:26:56.044Z"
   },
   {
    "duration": 10,
    "start_time": "2023-08-04T10:29:33.743Z"
   },
   {
    "duration": 15,
    "start_time": "2023-08-04T10:29:50.456Z"
   },
   {
    "duration": 10,
    "start_time": "2023-08-04T10:29:59.806Z"
   },
   {
    "duration": 112,
    "start_time": "2023-08-04T10:33:15.193Z"
   },
   {
    "duration": 12,
    "start_time": "2023-08-04T10:33:23.153Z"
   },
   {
    "duration": 11,
    "start_time": "2023-08-04T10:33:47.622Z"
   },
   {
    "duration": 11,
    "start_time": "2023-08-04T10:33:59.095Z"
   },
   {
    "duration": 12,
    "start_time": "2023-08-04T10:34:03.273Z"
   },
   {
    "duration": 12,
    "start_time": "2023-08-04T10:34:14.658Z"
   },
   {
    "duration": 11,
    "start_time": "2023-08-04T10:34:35.531Z"
   },
   {
    "duration": 11,
    "start_time": "2023-08-04T10:34:49.757Z"
   },
   {
    "duration": 212,
    "start_time": "2023-08-04T10:35:48.807Z"
   },
   {
    "duration": 11,
    "start_time": "2023-08-04T10:36:54.221Z"
   },
   {
    "duration": 11,
    "start_time": "2023-08-04T10:37:18.459Z"
   },
   {
    "duration": 11,
    "start_time": "2023-08-04T10:37:28.988Z"
   },
   {
    "duration": 15,
    "start_time": "2023-08-04T10:37:36.520Z"
   },
   {
    "duration": 21,
    "start_time": "2023-08-04T10:37:56.139Z"
   },
   {
    "duration": 23,
    "start_time": "2023-08-04T10:38:03.377Z"
   },
   {
    "duration": 18,
    "start_time": "2023-08-04T10:38:29.796Z"
   },
   {
    "duration": 1090,
    "start_time": "2023-08-04T10:38:52.361Z"
   },
   {
    "duration": 1106,
    "start_time": "2023-08-04T10:39:14.593Z"
   },
   {
    "duration": 391,
    "start_time": "2023-08-04T11:05:03.131Z"
   },
   {
    "duration": 94,
    "start_time": "2023-08-04T11:05:03.524Z"
   },
   {
    "duration": 15,
    "start_time": "2023-08-04T11:05:03.619Z"
   },
   {
    "duration": 2831,
    "start_time": "2023-08-04T11:05:03.636Z"
   },
   {
    "duration": 50,
    "start_time": "2023-08-04T11:05:06.469Z"
   },
   {
    "duration": 6,
    "start_time": "2023-08-04T11:05:06.521Z"
   },
   {
    "duration": 7,
    "start_time": "2023-08-04T11:05:06.528Z"
   },
   {
    "duration": 10,
    "start_time": "2023-08-04T11:05:06.536Z"
   },
   {
    "duration": 16,
    "start_time": "2023-08-04T11:05:06.548Z"
   },
   {
    "duration": 7,
    "start_time": "2023-08-04T11:05:06.567Z"
   },
   {
    "duration": 21,
    "start_time": "2023-08-04T11:05:06.576Z"
   },
   {
    "duration": 4,
    "start_time": "2023-08-04T11:05:06.609Z"
   },
   {
    "duration": 30,
    "start_time": "2023-08-04T11:05:06.615Z"
   },
   {
    "duration": 21,
    "start_time": "2023-08-04T11:05:06.647Z"
   },
   {
    "duration": 18,
    "start_time": "2023-08-04T11:05:06.670Z"
   },
   {
    "duration": 12,
    "start_time": "2023-08-04T11:05:06.689Z"
   },
   {
    "duration": 20,
    "start_time": "2023-08-04T11:05:06.703Z"
   },
   {
    "duration": 5,
    "start_time": "2023-08-04T11:05:06.725Z"
   },
   {
    "duration": 18,
    "start_time": "2023-08-04T11:05:06.731Z"
   },
   {
    "duration": 8,
    "start_time": "2023-08-04T11:05:06.751Z"
   },
   {
    "duration": 7,
    "start_time": "2023-08-04T11:05:06.761Z"
   },
   {
    "duration": 10,
    "start_time": "2023-08-04T11:05:06.770Z"
   },
   {
    "duration": 13,
    "start_time": "2023-08-04T11:05:06.782Z"
   },
   {
    "duration": 28,
    "start_time": "2023-08-04T11:05:06.796Z"
   },
   {
    "duration": 19,
    "start_time": "2023-08-04T11:05:06.826Z"
   },
   {
    "duration": 5421,
    "start_time": "2023-08-04T11:05:06.847Z"
   },
   {
    "duration": 6,
    "start_time": "2023-08-04T11:05:12.270Z"
   },
   {
    "duration": 11,
    "start_time": "2023-08-04T11:05:12.279Z"
   },
   {
    "duration": 18,
    "start_time": "2023-08-04T11:05:12.292Z"
   },
   {
    "duration": 16,
    "start_time": "2023-08-04T11:05:12.312Z"
   },
   {
    "duration": 12,
    "start_time": "2023-08-04T11:05:12.330Z"
   },
   {
    "duration": 20,
    "start_time": "2023-08-04T11:05:12.344Z"
   },
   {
    "duration": 9,
    "start_time": "2023-08-04T11:05:12.366Z"
   },
   {
    "duration": 14,
    "start_time": "2023-08-04T11:05:12.377Z"
   },
   {
    "duration": 11,
    "start_time": "2023-08-04T11:05:12.393Z"
   },
   {
    "duration": 6,
    "start_time": "2023-08-04T11:05:12.408Z"
   },
   {
    "duration": 10,
    "start_time": "2023-08-04T11:05:12.416Z"
   },
   {
    "duration": 14,
    "start_time": "2023-08-04T11:05:12.428Z"
   },
   {
    "duration": 43,
    "start_time": "2023-08-04T11:05:12.444Z"
   },
   {
    "duration": 5,
    "start_time": "2023-08-04T11:05:12.489Z"
   },
   {
    "duration": 21,
    "start_time": "2023-08-04T11:05:12.496Z"
   },
   {
    "duration": 29,
    "start_time": "2023-08-04T11:05:12.519Z"
   },
   {
    "duration": 1091,
    "start_time": "2023-08-04T11:05:12.550Z"
   },
   {
    "duration": 3129,
    "start_time": "2023-08-04T11:09:54.450Z"
   },
   {
    "duration": 11821,
    "start_time": "2023-08-04T11:10:10.839Z"
   },
   {
    "duration": 11433,
    "start_time": "2023-08-04T11:10:55.910Z"
   },
   {
    "duration": 14206,
    "start_time": "2023-08-04T11:13:16.911Z"
   },
   {
    "duration": 14255,
    "start_time": "2023-08-04T11:13:39.520Z"
   },
   {
    "duration": 11620,
    "start_time": "2023-08-04T11:14:10.134Z"
   },
   {
    "duration": 11831,
    "start_time": "2023-08-04T11:14:45.526Z"
   },
   {
    "duration": 12551,
    "start_time": "2023-08-04T11:15:23.600Z"
   },
   {
    "duration": 146,
    "start_time": "2023-08-04T11:20:16.456Z"
   },
   {
    "duration": 142,
    "start_time": "2023-08-04T11:20:34.324Z"
   },
   {
    "duration": 359,
    "start_time": "2023-08-04T11:20:39.804Z"
   },
   {
    "duration": 144,
    "start_time": "2023-08-04T11:20:46.593Z"
   },
   {
    "duration": 153,
    "start_time": "2023-08-04T11:21:28.043Z"
   },
   {
    "duration": 151,
    "start_time": "2023-08-04T11:22:16.270Z"
   },
   {
    "duration": 152,
    "start_time": "2023-08-04T11:23:31.096Z"
   },
   {
    "duration": 133,
    "start_time": "2023-08-04T11:23:53.112Z"
   },
   {
    "duration": 157,
    "start_time": "2023-08-04T11:23:57.446Z"
   },
   {
    "duration": 154,
    "start_time": "2023-08-04T11:24:01.017Z"
   },
   {
    "duration": 129,
    "start_time": "2023-08-04T11:24:04.091Z"
   },
   {
    "duration": 126,
    "start_time": "2023-08-04T11:24:20.551Z"
   },
   {
    "duration": 244,
    "start_time": "2023-08-04T11:24:51.959Z"
   },
   {
    "duration": 156,
    "start_time": "2023-08-04T11:24:57.970Z"
   },
   {
    "duration": 139,
    "start_time": "2023-08-04T11:25:07.256Z"
   },
   {
    "duration": 179,
    "start_time": "2023-08-04T11:26:25.811Z"
   },
   {
    "duration": 143,
    "start_time": "2023-08-04T11:26:31.803Z"
   },
   {
    "duration": 119,
    "start_time": "2023-08-04T11:26:54.235Z"
   },
   {
    "duration": 141,
    "start_time": "2023-08-04T11:26:59.753Z"
   },
   {
    "duration": 243,
    "start_time": "2023-08-04T11:27:02.972Z"
   },
   {
    "duration": 215,
    "start_time": "2023-08-04T11:27:07.000Z"
   },
   {
    "duration": 407,
    "start_time": "2023-08-04T13:13:20.621Z"
   },
   {
    "duration": 331,
    "start_time": "2023-08-04T13:13:21.030Z"
   },
   {
    "duration": 15,
    "start_time": "2023-08-04T13:13:21.363Z"
   },
   {
    "duration": 2486,
    "start_time": "2023-08-04T13:13:21.381Z"
   },
   {
    "duration": 43,
    "start_time": "2023-08-04T13:13:23.870Z"
   },
   {
    "duration": 6,
    "start_time": "2023-08-04T13:13:23.915Z"
   },
   {
    "duration": 22,
    "start_time": "2023-08-04T13:13:23.923Z"
   },
   {
    "duration": 26,
    "start_time": "2023-08-04T13:13:23.946Z"
   },
   {
    "duration": 6,
    "start_time": "2023-08-04T13:13:23.975Z"
   },
   {
    "duration": 14,
    "start_time": "2023-08-04T13:13:23.983Z"
   },
   {
    "duration": 27,
    "start_time": "2023-08-04T13:13:23.999Z"
   },
   {
    "duration": 3,
    "start_time": "2023-08-04T13:13:24.028Z"
   },
   {
    "duration": 12,
    "start_time": "2023-08-04T13:13:24.032Z"
   },
   {
    "duration": 11,
    "start_time": "2023-08-04T13:13:24.046Z"
   },
   {
    "duration": 11,
    "start_time": "2023-08-04T13:13:24.059Z"
   },
   {
    "duration": 28,
    "start_time": "2023-08-04T13:13:24.071Z"
   },
   {
    "duration": 34,
    "start_time": "2023-08-04T13:13:24.101Z"
   },
   {
    "duration": 15,
    "start_time": "2023-08-04T13:13:24.137Z"
   },
   {
    "duration": 15,
    "start_time": "2023-08-04T13:13:24.154Z"
   },
   {
    "duration": 9,
    "start_time": "2023-08-04T13:13:24.171Z"
   },
   {
    "duration": 15,
    "start_time": "2023-08-04T13:13:24.181Z"
   },
   {
    "duration": 9,
    "start_time": "2023-08-04T13:13:24.198Z"
   },
   {
    "duration": 14,
    "start_time": "2023-08-04T13:13:24.208Z"
   },
   {
    "duration": 15,
    "start_time": "2023-08-04T13:13:24.223Z"
   },
   {
    "duration": 7,
    "start_time": "2023-08-04T13:13:24.240Z"
   },
   {
    "duration": 5316,
    "start_time": "2023-08-04T13:13:24.249Z"
   },
   {
    "duration": 6,
    "start_time": "2023-08-04T13:13:29.567Z"
   },
   {
    "duration": 11,
    "start_time": "2023-08-04T13:13:29.575Z"
   },
   {
    "duration": 21,
    "start_time": "2023-08-04T13:13:29.589Z"
   },
   {
    "duration": 25,
    "start_time": "2023-08-04T13:13:29.612Z"
   },
   {
    "duration": 7,
    "start_time": "2023-08-04T13:13:29.639Z"
   },
   {
    "duration": 6,
    "start_time": "2023-08-04T13:13:29.648Z"
   },
   {
    "duration": 6,
    "start_time": "2023-08-04T13:13:29.656Z"
   },
   {
    "duration": 9,
    "start_time": "2023-08-04T13:13:29.663Z"
   },
   {
    "duration": 16,
    "start_time": "2023-08-04T13:13:29.673Z"
   },
   {
    "duration": 18,
    "start_time": "2023-08-04T13:13:29.691Z"
   },
   {
    "duration": 30,
    "start_time": "2023-08-04T13:13:29.711Z"
   },
   {
    "duration": 13,
    "start_time": "2023-08-04T13:13:29.743Z"
   },
   {
    "duration": 34,
    "start_time": "2023-08-04T13:13:29.757Z"
   },
   {
    "duration": 6,
    "start_time": "2023-08-04T13:13:29.793Z"
   },
   {
    "duration": 23,
    "start_time": "2023-08-04T13:13:29.802Z"
   },
   {
    "duration": 17,
    "start_time": "2023-08-04T13:13:29.826Z"
   },
   {
    "duration": 11466,
    "start_time": "2023-08-04T13:13:29.845Z"
   },
   {
    "duration": 159,
    "start_time": "2023-08-04T13:13:41.313Z"
   },
   {
    "duration": 141,
    "start_time": "2023-08-04T13:13:41.473Z"
   },
   {
    "duration": 245,
    "start_time": "2023-08-04T13:13:41.617Z"
   },
   {
    "duration": 238,
    "start_time": "2023-08-04T13:13:41.864Z"
   },
   {
    "duration": 146,
    "start_time": "2023-08-04T13:13:55.521Z"
   },
   {
    "duration": 196,
    "start_time": "2023-08-04T13:14:05.692Z"
   },
   {
    "duration": 231,
    "start_time": "2023-08-04T13:14:30.290Z"
   },
   {
    "duration": 141,
    "start_time": "2023-08-04T13:14:42.250Z"
   },
   {
    "duration": 152,
    "start_time": "2023-08-04T13:14:46.311Z"
   },
   {
    "duration": 145,
    "start_time": "2023-08-04T13:15:05.338Z"
   },
   {
    "duration": 173,
    "start_time": "2023-08-04T13:15:11.405Z"
   },
   {
    "duration": 169,
    "start_time": "2023-08-04T13:15:15.910Z"
   },
   {
    "duration": 315,
    "start_time": "2023-08-04T13:15:51.713Z"
   },
   {
    "duration": 5,
    "start_time": "2023-08-04T13:16:03.455Z"
   },
   {
    "duration": 152,
    "start_time": "2023-08-04T13:16:10.797Z"
   },
   {
    "duration": 8,
    "start_time": "2023-08-04T13:16:44.883Z"
   },
   {
    "duration": 4,
    "start_time": "2023-08-04T13:16:51.082Z"
   },
   {
    "duration": 6,
    "start_time": "2023-08-04T13:17:03.558Z"
   },
   {
    "duration": 6,
    "start_time": "2023-08-04T13:17:09.395Z"
   },
   {
    "duration": 119,
    "start_time": "2023-08-04T13:17:36.593Z"
   },
   {
    "duration": 124,
    "start_time": "2023-08-04T13:17:47.264Z"
   },
   {
    "duration": 130,
    "start_time": "2023-08-04T13:17:52.301Z"
   },
   {
    "duration": 1137,
    "start_time": "2023-08-04T13:20:23.284Z"
   },
   {
    "duration": 174,
    "start_time": "2023-08-04T13:20:47.880Z"
   },
   {
    "duration": 150,
    "start_time": "2023-08-04T13:21:35.044Z"
   },
   {
    "duration": 516,
    "start_time": "2023-08-04T13:21:45.233Z"
   },
   {
    "duration": 1636,
    "start_time": "2023-08-04T13:22:05.103Z"
   },
   {
    "duration": 1498,
    "start_time": "2023-08-04T13:22:52.877Z"
   },
   {
    "duration": 1700,
    "start_time": "2023-08-04T13:23:25.510Z"
   },
   {
    "duration": 1730,
    "start_time": "2023-08-04T13:25:58.034Z"
   },
   {
    "duration": 157,
    "start_time": "2023-08-04T13:26:03.702Z"
   },
   {
    "duration": 145,
    "start_time": "2023-08-04T13:26:08.458Z"
   },
   {
    "duration": 135,
    "start_time": "2023-08-04T13:26:30.664Z"
   },
   {
    "duration": 128,
    "start_time": "2023-08-04T13:26:37.620Z"
   },
   {
    "duration": 193,
    "start_time": "2023-08-04T13:26:45.983Z"
   },
   {
    "duration": 206,
    "start_time": "2023-08-04T13:27:32.034Z"
   },
   {
    "duration": 170,
    "start_time": "2023-08-04T13:27:37.965Z"
   },
   {
    "duration": 163,
    "start_time": "2023-08-04T13:27:43.505Z"
   },
   {
    "duration": 174,
    "start_time": "2023-08-04T13:27:47.648Z"
   },
   {
    "duration": 176,
    "start_time": "2023-08-04T13:31:31.547Z"
   },
   {
    "duration": 469,
    "start_time": "2023-08-04T13:31:37.346Z"
   },
   {
    "duration": 194,
    "start_time": "2023-08-04T13:31:49.407Z"
   },
   {
    "duration": 178,
    "start_time": "2023-08-04T13:32:05.403Z"
   },
   {
    "duration": 166,
    "start_time": "2023-08-04T13:32:29.267Z"
   },
   {
    "duration": 51,
    "start_time": "2023-08-04T13:34:58.528Z"
   },
   {
    "duration": 19,
    "start_time": "2023-08-04T13:35:05.356Z"
   },
   {
    "duration": 12,
    "start_time": "2023-08-04T13:35:10.222Z"
   },
   {
    "duration": 10,
    "start_time": "2023-08-04T13:35:21.486Z"
   },
   {
    "duration": 14,
    "start_time": "2023-08-04T13:35:31.298Z"
   },
   {
    "duration": 12,
    "start_time": "2023-08-04T13:35:47.845Z"
   },
   {
    "duration": 11,
    "start_time": "2023-08-04T13:35:55.073Z"
   },
   {
    "duration": 135,
    "start_time": "2023-08-04T13:37:12.323Z"
   },
   {
    "duration": 254,
    "start_time": "2023-08-04T13:37:16.896Z"
   },
   {
    "duration": 147,
    "start_time": "2023-08-04T13:37:45.288Z"
   },
   {
    "duration": 134,
    "start_time": "2023-08-04T13:37:58.750Z"
   },
   {
    "duration": 120,
    "start_time": "2023-08-04T13:38:03.320Z"
   },
   {
    "duration": 116,
    "start_time": "2023-08-04T13:38:07.647Z"
   },
   {
    "duration": 141,
    "start_time": "2023-08-04T13:38:20.906Z"
   },
   {
    "duration": 142,
    "start_time": "2023-08-04T13:38:29.245Z"
   },
   {
    "duration": 147,
    "start_time": "2023-08-04T13:39:10.055Z"
   },
   {
    "duration": 138,
    "start_time": "2023-08-04T13:39:18.801Z"
   },
   {
    "duration": 120,
    "start_time": "2023-08-04T13:40:03.800Z"
   },
   {
    "duration": 134,
    "start_time": "2023-08-04T13:40:12.128Z"
   },
   {
    "duration": 128,
    "start_time": "2023-08-04T13:40:38.582Z"
   },
   {
    "duration": 128,
    "start_time": "2023-08-04T13:40:50.620Z"
   },
   {
    "duration": 134,
    "start_time": "2023-08-04T13:44:11.746Z"
   },
   {
    "duration": 95,
    "start_time": "2023-08-04T13:44:27.304Z"
   },
   {
    "duration": 139,
    "start_time": "2023-08-04T13:44:31.115Z"
   },
   {
    "duration": 146,
    "start_time": "2023-08-04T13:44:37.447Z"
   },
   {
    "duration": 136,
    "start_time": "2023-08-04T13:44:42.535Z"
   },
   {
    "duration": 156,
    "start_time": "2023-08-04T13:45:11.325Z"
   },
   {
    "duration": 152,
    "start_time": "2023-08-04T13:46:16.439Z"
   },
   {
    "duration": 88,
    "start_time": "2023-08-04T13:51:05.006Z"
   },
   {
    "duration": 15,
    "start_time": "2023-08-04T13:51:23.511Z"
   },
   {
    "duration": 13,
    "start_time": "2023-08-04T13:53:47.218Z"
   },
   {
    "duration": 3,
    "start_time": "2023-08-04T13:53:55.667Z"
   },
   {
    "duration": 12,
    "start_time": "2023-08-04T13:54:06.546Z"
   },
   {
    "duration": 6,
    "start_time": "2023-08-04T13:56:24.455Z"
   },
   {
    "duration": 9,
    "start_time": "2023-08-04T13:56:33.313Z"
   },
   {
    "duration": 23,
    "start_time": "2023-08-04T13:56:47.454Z"
   },
   {
    "duration": 10,
    "start_time": "2023-08-04T13:57:45.496Z"
   },
   {
    "duration": 10,
    "start_time": "2023-08-04T13:58:27.134Z"
   },
   {
    "duration": 10,
    "start_time": "2023-08-04T13:58:30.859Z"
   },
   {
    "duration": 224,
    "start_time": "2023-08-04T14:00:10.481Z"
   },
   {
    "duration": 177,
    "start_time": "2023-08-04T14:00:33.787Z"
   },
   {
    "duration": 800,
    "start_time": "2023-08-04T14:00:52.038Z"
   },
   {
    "duration": 90,
    "start_time": "2023-08-04T14:02:02.792Z"
   },
   {
    "duration": 82,
    "start_time": "2023-08-04T14:02:15.460Z"
   },
   {
    "duration": 1359,
    "start_time": "2023-08-04T14:02:46.363Z"
   },
   {
    "duration": 12,
    "start_time": "2023-08-04T14:04:13.298Z"
   },
   {
    "duration": 11,
    "start_time": "2023-08-04T14:04:40.884Z"
   },
   {
    "duration": 15,
    "start_time": "2023-08-04T14:05:48.549Z"
   },
   {
    "duration": 13,
    "start_time": "2023-08-04T14:05:52.266Z"
   },
   {
    "duration": 17,
    "start_time": "2023-08-04T14:05:57.330Z"
   },
   {
    "duration": 726,
    "start_time": "2023-08-04T14:07:15.701Z"
   },
   {
    "duration": 10,
    "start_time": "2023-08-04T14:09:28.594Z"
   },
   {
    "duration": 14,
    "start_time": "2023-08-04T14:10:48.263Z"
   },
   {
    "duration": 782,
    "start_time": "2023-08-04T14:11:03.522Z"
   },
   {
    "duration": 763,
    "start_time": "2023-08-04T14:11:18.400Z"
   },
   {
    "duration": 162,
    "start_time": "2023-08-04T14:11:40.098Z"
   },
   {
    "duration": 165,
    "start_time": "2023-08-04T14:11:49.998Z"
   },
   {
    "duration": 11,
    "start_time": "2023-08-04T14:14:06.632Z"
   },
   {
    "duration": 13,
    "start_time": "2023-08-04T14:17:35.727Z"
   },
   {
    "duration": 103,
    "start_time": "2023-08-04T14:17:45.383Z"
   },
   {
    "duration": 302,
    "start_time": "2023-08-04T14:18:00.254Z"
   },
   {
    "duration": 4802,
    "start_time": "2023-08-04T14:19:02.158Z"
   },
   {
    "duration": 4943,
    "start_time": "2023-08-04T14:19:18.351Z"
   },
   {
    "duration": 6486,
    "start_time": "2023-08-04T14:19:33.535Z"
   },
   {
    "duration": 353,
    "start_time": "2023-08-04T14:20:41.596Z"
   },
   {
    "duration": 1555,
    "start_time": "2023-08-04T14:21:19.230Z"
   },
   {
    "duration": 1567,
    "start_time": "2023-08-04T14:21:30.324Z"
   },
   {
    "duration": 140,
    "start_time": "2023-08-04T14:22:16.721Z"
   },
   {
    "duration": 173,
    "start_time": "2023-08-04T14:25:52.367Z"
   },
   {
    "duration": 167,
    "start_time": "2023-08-04T14:25:58.984Z"
   },
   {
    "duration": 157,
    "start_time": "2023-08-04T14:26:04.443Z"
   },
   {
    "duration": 174,
    "start_time": "2023-08-04T14:26:07.887Z"
   },
   {
    "duration": 292,
    "start_time": "2023-08-04T14:33:20.295Z"
   },
   {
    "duration": 137,
    "start_time": "2023-08-04T14:33:28.570Z"
   },
   {
    "duration": 159,
    "start_time": "2023-08-04T14:37:36.787Z"
   },
   {
    "duration": 150,
    "start_time": "2023-08-04T14:37:49.340Z"
   },
   {
    "duration": 141,
    "start_time": "2023-08-04T14:38:23.339Z"
   },
   {
    "duration": 151,
    "start_time": "2023-08-04T14:38:32.952Z"
   },
   {
    "duration": 193,
    "start_time": "2023-08-04T14:39:06.226Z"
   },
   {
    "duration": 201,
    "start_time": "2023-08-04T14:39:14.510Z"
   },
   {
    "duration": 222,
    "start_time": "2023-08-04T14:39:19.635Z"
   },
   {
    "duration": 294,
    "start_time": "2023-08-04T14:39:24.025Z"
   },
   {
    "duration": 253,
    "start_time": "2023-08-04T14:39:29.907Z"
   },
   {
    "duration": 203,
    "start_time": "2023-08-04T14:39:47.926Z"
   },
   {
    "duration": 196,
    "start_time": "2023-08-04T14:39:52.807Z"
   },
   {
    "duration": 150,
    "start_time": "2023-08-04T14:40:10.647Z"
   },
   {
    "duration": 185,
    "start_time": "2023-08-04T14:40:27.679Z"
   },
   {
    "duration": 227,
    "start_time": "2023-08-04T14:52:34.469Z"
   },
   {
    "duration": 191,
    "start_time": "2023-08-04T14:53:36.806Z"
   },
   {
    "duration": 254,
    "start_time": "2023-08-04T15:00:59.860Z"
   },
   {
    "duration": 385,
    "start_time": "2023-08-04T15:01:04.756Z"
   },
   {
    "duration": 278,
    "start_time": "2023-08-04T15:01:09.098Z"
   },
   {
    "duration": 273,
    "start_time": "2023-08-04T15:01:12.255Z"
   },
   {
    "duration": 394,
    "start_time": "2023-08-04T15:01:57.431Z"
   },
   {
    "duration": 379,
    "start_time": "2023-08-04T15:02:02.580Z"
   },
   {
    "duration": 290,
    "start_time": "2023-08-04T15:02:08.198Z"
   },
   {
    "duration": 23,
    "start_time": "2023-08-04T15:05:10.280Z"
   },
   {
    "duration": 37,
    "start_time": "2023-08-04T15:08:09.138Z"
   },
   {
    "duration": 37,
    "start_time": "2023-08-04T15:08:21.006Z"
   },
   {
    "duration": 24,
    "start_time": "2023-08-04T15:09:16.483Z"
   },
   {
    "duration": 71,
    "start_time": "2023-08-04T15:09:23.146Z"
   },
   {
    "duration": 47,
    "start_time": "2023-08-05T08:42:14.197Z"
   },
   {
    "duration": 433,
    "start_time": "2023-08-05T08:42:26.286Z"
   },
   {
    "duration": 189,
    "start_time": "2023-08-05T08:42:26.721Z"
   },
   {
    "duration": 15,
    "start_time": "2023-08-05T08:42:26.912Z"
   },
   {
    "duration": 3065,
    "start_time": "2023-08-05T08:42:26.929Z"
   },
   {
    "duration": 48,
    "start_time": "2023-08-05T08:42:29.999Z"
   },
   {
    "duration": 4,
    "start_time": "2023-08-05T08:42:30.049Z"
   },
   {
    "duration": 66,
    "start_time": "2023-08-05T08:42:30.055Z"
   },
   {
    "duration": 24,
    "start_time": "2023-08-05T08:42:30.123Z"
   },
   {
    "duration": 49,
    "start_time": "2023-08-05T08:42:30.149Z"
   },
   {
    "duration": 26,
    "start_time": "2023-08-05T08:42:30.200Z"
   },
   {
    "duration": 63,
    "start_time": "2023-08-05T08:42:30.228Z"
   },
   {
    "duration": 28,
    "start_time": "2023-08-05T08:42:30.299Z"
   },
   {
    "duration": 44,
    "start_time": "2023-08-05T08:42:30.329Z"
   },
   {
    "duration": 25,
    "start_time": "2023-08-05T08:42:30.383Z"
   },
   {
    "duration": 39,
    "start_time": "2023-08-05T08:42:30.410Z"
   },
   {
    "duration": 87,
    "start_time": "2023-08-05T08:42:30.451Z"
   },
   {
    "duration": 56,
    "start_time": "2023-08-05T08:42:30.540Z"
   },
   {
    "duration": 35,
    "start_time": "2023-08-05T08:42:30.599Z"
   },
   {
    "duration": 51,
    "start_time": "2023-08-05T08:42:30.637Z"
   },
   {
    "duration": 17,
    "start_time": "2023-08-05T08:42:30.691Z"
   },
   {
    "duration": 32,
    "start_time": "2023-08-05T08:42:30.709Z"
   },
   {
    "duration": 50,
    "start_time": "2023-08-05T08:42:30.743Z"
   },
   {
    "duration": 41,
    "start_time": "2023-08-05T08:42:30.795Z"
   },
   {
    "duration": 50,
    "start_time": "2023-08-05T08:42:30.838Z"
   },
   {
    "duration": 8,
    "start_time": "2023-08-05T08:42:30.892Z"
   },
   {
    "duration": 6424,
    "start_time": "2023-08-05T08:42:30.902Z"
   },
   {
    "duration": 6,
    "start_time": "2023-08-05T08:42:37.328Z"
   },
   {
    "duration": 29,
    "start_time": "2023-08-05T08:42:37.336Z"
   },
   {
    "duration": 31,
    "start_time": "2023-08-05T08:42:37.368Z"
   },
   {
    "duration": 9,
    "start_time": "2023-08-05T08:42:37.402Z"
   },
   {
    "duration": 16,
    "start_time": "2023-08-05T08:42:37.413Z"
   },
   {
    "duration": 7,
    "start_time": "2023-08-05T08:42:37.431Z"
   },
   {
    "duration": 24,
    "start_time": "2023-08-05T08:42:37.440Z"
   },
   {
    "duration": 15,
    "start_time": "2023-08-05T08:42:37.468Z"
   },
   {
    "duration": 13,
    "start_time": "2023-08-05T08:42:37.490Z"
   },
   {
    "duration": 14,
    "start_time": "2023-08-05T08:42:37.505Z"
   },
   {
    "duration": 19,
    "start_time": "2023-08-05T08:42:37.521Z"
   },
   {
    "duration": 14,
    "start_time": "2023-08-05T08:42:37.541Z"
   },
   {
    "duration": 47,
    "start_time": "2023-08-05T08:42:37.563Z"
   },
   {
    "duration": 5,
    "start_time": "2023-08-05T08:42:37.612Z"
   },
   {
    "duration": 13,
    "start_time": "2023-08-05T08:42:37.621Z"
   },
   {
    "duration": 8,
    "start_time": "2023-08-05T08:42:37.636Z"
   },
   {
    "duration": 13988,
    "start_time": "2023-08-05T08:42:37.645Z"
   },
   {
    "duration": 177,
    "start_time": "2023-08-05T08:42:51.635Z"
   },
   {
    "duration": 209,
    "start_time": "2023-08-05T08:42:51.814Z"
   },
   {
    "duration": 279,
    "start_time": "2023-08-05T08:42:52.025Z"
   },
   {
    "duration": 179,
    "start_time": "2023-08-05T08:42:52.306Z"
   },
   {
    "duration": 165,
    "start_time": "2023-08-05T08:42:52.488Z"
   },
   {
    "duration": 173,
    "start_time": "2023-08-05T08:42:52.656Z"
   },
   {
    "duration": 177,
    "start_time": "2023-08-05T08:42:52.831Z"
   },
   {
    "duration": 169,
    "start_time": "2023-08-05T08:42:53.010Z"
   },
   {
    "duration": 178,
    "start_time": "2023-08-05T08:42:53.181Z"
   },
   {
    "duration": 175,
    "start_time": "2023-08-05T08:42:53.367Z"
   },
   {
    "duration": 189,
    "start_time": "2023-08-05T08:42:53.544Z"
   },
   {
    "duration": 177,
    "start_time": "2023-08-05T08:42:53.735Z"
   },
   {
    "duration": 194,
    "start_time": "2023-08-05T08:42:53.914Z"
   },
   {
    "duration": 174,
    "start_time": "2023-08-05T08:42:54.109Z"
   },
   {
    "duration": 298,
    "start_time": "2023-08-05T08:42:54.285Z"
   },
   {
    "duration": 35,
    "start_time": "2023-08-05T08:42:54.591Z"
   },
   {
    "duration": 27,
    "start_time": "2023-08-05T08:43:26.899Z"
   },
   {
    "duration": 31,
    "start_time": "2023-08-05T08:43:46.294Z"
   },
   {
    "duration": 23,
    "start_time": "2023-08-05T08:43:56.015Z"
   },
   {
    "duration": 32,
    "start_time": "2023-08-05T08:44:40.597Z"
   },
   {
    "duration": 132,
    "start_time": "2023-08-05T08:44:48.456Z"
   },
   {
    "duration": 42,
    "start_time": "2023-08-05T08:44:52.992Z"
   },
   {
    "duration": 42,
    "start_time": "2023-08-05T08:50:56.980Z"
   },
   {
    "duration": 16,
    "start_time": "2023-08-05T08:52:29.285Z"
   },
   {
    "duration": 335,
    "start_time": "2023-08-05T08:54:52.691Z"
   },
   {
    "duration": 19,
    "start_time": "2023-08-05T08:55:10.172Z"
   },
   {
    "duration": 300,
    "start_time": "2023-08-05T08:55:21.281Z"
   },
   {
    "duration": 197,
    "start_time": "2023-08-05T08:55:45.992Z"
   },
   {
    "duration": 15,
    "start_time": "2023-08-05T08:56:06.146Z"
   },
   {
    "duration": 20,
    "start_time": "2023-08-05T08:56:09.408Z"
   },
   {
    "duration": 261,
    "start_time": "2023-08-05T08:56:18.380Z"
   },
   {
    "duration": 219,
    "start_time": "2023-08-05T08:56:38.389Z"
   },
   {
    "duration": 226,
    "start_time": "2023-08-05T08:56:44.296Z"
   },
   {
    "duration": 206,
    "start_time": "2023-08-05T08:56:50.219Z"
   },
   {
    "duration": 28,
    "start_time": "2023-08-05T09:05:05.095Z"
   },
   {
    "duration": 259,
    "start_time": "2023-08-05T09:05:32.589Z"
   },
   {
    "duration": 236,
    "start_time": "2023-08-05T09:05:40.373Z"
   },
   {
    "duration": 23,
    "start_time": "2023-08-05T09:06:24.203Z"
   },
   {
    "duration": 263,
    "start_time": "2023-08-05T09:06:50.508Z"
   },
   {
    "duration": 35,
    "start_time": "2023-08-05T09:07:35.653Z"
   },
   {
    "duration": 249,
    "start_time": "2023-08-05T09:08:05.378Z"
   },
   {
    "duration": 234,
    "start_time": "2023-08-05T09:08:20.000Z"
   },
   {
    "duration": 371,
    "start_time": "2023-08-05T09:08:28.426Z"
   },
   {
    "duration": 19,
    "start_time": "2023-08-05T09:09:11.215Z"
   },
   {
    "duration": 256,
    "start_time": "2023-08-05T09:09:46.331Z"
   },
   {
    "duration": 263,
    "start_time": "2023-08-05T09:09:53.865Z"
   },
   {
    "duration": 27,
    "start_time": "2023-08-05T09:11:49.780Z"
   },
   {
    "duration": 285,
    "start_time": "2023-08-05T09:12:28.094Z"
   },
   {
    "duration": 34,
    "start_time": "2023-08-05T09:13:07.457Z"
   },
   {
    "duration": 279,
    "start_time": "2023-08-05T09:13:31.755Z"
   },
   {
    "duration": 20,
    "start_time": "2023-08-05T09:14:00.230Z"
   },
   {
    "duration": 332,
    "start_time": "2023-08-05T09:14:28.756Z"
   },
   {
    "duration": 292,
    "start_time": "2023-08-05T09:14:52.018Z"
   },
   {
    "duration": 399,
    "start_time": "2023-08-05T09:15:02.993Z"
   },
   {
    "duration": 6,
    "start_time": "2023-08-05T09:26:49.582Z"
   },
   {
    "duration": 911,
    "start_time": "2023-08-05T09:26:58.590Z"
   },
   {
    "duration": 55,
    "start_time": "2023-08-05T09:27:13.689Z"
   },
   {
    "duration": 37,
    "start_time": "2023-08-05T09:29:14.862Z"
   },
   {
    "duration": 6,
    "start_time": "2023-08-05T09:33:06.096Z"
   },
   {
    "duration": 38,
    "start_time": "2023-08-05T09:33:46.836Z"
   },
   {
    "duration": 69,
    "start_time": "2023-08-05T09:33:57.037Z"
   },
   {
    "duration": 26,
    "start_time": "2023-08-05T09:34:07.788Z"
   },
   {
    "duration": 20,
    "start_time": "2023-08-05T09:34:24.475Z"
   },
   {
    "duration": 30,
    "start_time": "2023-08-05T09:34:32.197Z"
   },
   {
    "duration": 23,
    "start_time": "2023-08-05T09:35:35.281Z"
   },
   {
    "duration": 26,
    "start_time": "2023-08-05T09:35:39.885Z"
   },
   {
    "duration": 11,
    "start_time": "2023-08-05T09:36:43.513Z"
   },
   {
    "duration": 19,
    "start_time": "2023-08-05T09:36:55.281Z"
   },
   {
    "duration": 11,
    "start_time": "2023-08-05T09:37:02.085Z"
   },
   {
    "duration": 44,
    "start_time": "2023-08-05T09:37:34.330Z"
   },
   {
    "duration": 40,
    "start_time": "2023-08-05T09:37:44.481Z"
   },
   {
    "duration": 36,
    "start_time": "2023-08-05T09:37:50.385Z"
   },
   {
    "duration": 95,
    "start_time": "2023-08-05T09:38:31.561Z"
   },
   {
    "duration": 38,
    "start_time": "2023-08-05T09:38:48.555Z"
   },
   {
    "duration": 27,
    "start_time": "2023-08-05T09:38:52.995Z"
   },
   {
    "duration": 12,
    "start_time": "2023-08-05T09:42:16.484Z"
   },
   {
    "duration": 19,
    "start_time": "2023-08-05T09:42:30.482Z"
   },
   {
    "duration": 12,
    "start_time": "2023-08-05T09:42:47.095Z"
   },
   {
    "duration": 12,
    "start_time": "2023-08-05T09:42:58.499Z"
   },
   {
    "duration": 11,
    "start_time": "2023-08-05T09:43:03.013Z"
   },
   {
    "duration": 15,
    "start_time": "2023-08-05T09:46:42.715Z"
   },
   {
    "duration": 86,
    "start_time": "2023-08-05T09:46:55.631Z"
   },
   {
    "duration": 13,
    "start_time": "2023-08-05T09:49:00.821Z"
   },
   {
    "duration": 53,
    "start_time": "2023-08-05T09:53:04.780Z"
   },
   {
    "duration": 79,
    "start_time": "2023-08-05T09:53:21.228Z"
   },
   {
    "duration": 84,
    "start_time": "2023-08-05T09:54:24.866Z"
   },
   {
    "duration": 31,
    "start_time": "2023-08-05T09:55:15.486Z"
   },
   {
    "duration": 93,
    "start_time": "2023-08-05T09:56:46.687Z"
   },
   {
    "duration": 17,
    "start_time": "2023-08-05T09:57:34.002Z"
   },
   {
    "duration": 30,
    "start_time": "2023-08-05T09:57:38.361Z"
   },
   {
    "duration": 21,
    "start_time": "2023-08-05T09:57:47.682Z"
   },
   {
    "duration": 61,
    "start_time": "2023-08-05T09:59:13.221Z"
   },
   {
    "duration": 28,
    "start_time": "2023-08-05T09:59:19.513Z"
   },
   {
    "duration": 33,
    "start_time": "2023-08-05T09:59:24.698Z"
   },
   {
    "duration": 47,
    "start_time": "2023-08-05T09:59:31.688Z"
   },
   {
    "duration": 37,
    "start_time": "2023-08-05T09:59:44.488Z"
   },
   {
    "duration": 86,
    "start_time": "2023-08-05T10:00:23.521Z"
   },
   {
    "duration": 77,
    "start_time": "2023-08-05T10:01:05.912Z"
   },
   {
    "duration": 57,
    "start_time": "2023-08-05T10:01:26.839Z"
   },
   {
    "duration": 13,
    "start_time": "2023-08-05T10:01:50.310Z"
   },
   {
    "duration": 50,
    "start_time": "2023-08-05T10:03:13.683Z"
   },
   {
    "duration": 14,
    "start_time": "2023-08-05T10:04:28.317Z"
   },
   {
    "duration": 19,
    "start_time": "2023-08-05T10:04:35.636Z"
   },
   {
    "duration": 16,
    "start_time": "2023-08-05T10:04:45.380Z"
   },
   {
    "duration": 18,
    "start_time": "2023-08-05T10:04:51.026Z"
   },
   {
    "duration": 30,
    "start_time": "2023-08-05T10:05:35.169Z"
   },
   {
    "duration": 29,
    "start_time": "2023-08-05T10:05:45.635Z"
   },
   {
    "duration": 20,
    "start_time": "2023-08-05T10:06:51.493Z"
   },
   {
    "duration": 22,
    "start_time": "2023-08-05T10:07:02.499Z"
   },
   {
    "duration": 57,
    "start_time": "2023-08-05T10:09:34.247Z"
   },
   {
    "duration": 1629,
    "start_time": "2023-08-05T10:15:25.077Z"
   },
   {
    "duration": 26,
    "start_time": "2023-08-05T10:15:33.644Z"
   },
   {
    "duration": 50,
    "start_time": "2023-08-05T10:15:43.249Z"
   },
   {
    "duration": 27,
    "start_time": "2023-08-05T10:16:02.028Z"
   },
   {
    "duration": 17,
    "start_time": "2023-08-05T10:17:01.197Z"
   },
   {
    "duration": 13,
    "start_time": "2023-08-05T10:17:32.087Z"
   },
   {
    "duration": 28,
    "start_time": "2023-08-05T10:20:05.151Z"
   },
   {
    "duration": 235,
    "start_time": "2023-08-05T10:20:09.689Z"
   },
   {
    "duration": 248,
    "start_time": "2023-08-05T10:20:19.081Z"
   },
   {
    "duration": 6,
    "start_time": "2023-08-05T10:22:36.386Z"
   },
   {
    "duration": 424,
    "start_time": "2023-08-05T10:56:52.819Z"
   },
   {
    "duration": 136,
    "start_time": "2023-08-05T10:56:53.246Z"
   },
   {
    "duration": 22,
    "start_time": "2023-08-05T10:56:53.387Z"
   },
   {
    "duration": 2931,
    "start_time": "2023-08-05T10:56:53.410Z"
   },
   {
    "duration": 61,
    "start_time": "2023-08-05T10:56:56.343Z"
   },
   {
    "duration": 5,
    "start_time": "2023-08-05T10:56:56.406Z"
   },
   {
    "duration": 6,
    "start_time": "2023-08-05T10:56:56.413Z"
   },
   {
    "duration": 7,
    "start_time": "2023-08-05T10:56:56.420Z"
   },
   {
    "duration": 5,
    "start_time": "2023-08-05T10:56:56.428Z"
   },
   {
    "duration": 33,
    "start_time": "2023-08-05T10:56:56.434Z"
   },
   {
    "duration": 34,
    "start_time": "2023-08-05T10:56:56.470Z"
   },
   {
    "duration": 5,
    "start_time": "2023-08-05T10:56:56.506Z"
   },
   {
    "duration": 8,
    "start_time": "2023-08-05T10:56:56.512Z"
   },
   {
    "duration": 3,
    "start_time": "2023-08-05T10:56:56.524Z"
   },
   {
    "duration": 7,
    "start_time": "2023-08-05T10:56:56.529Z"
   },
   {
    "duration": 33,
    "start_time": "2023-08-05T10:56:56.538Z"
   },
   {
    "duration": 17,
    "start_time": "2023-08-05T10:56:56.574Z"
   },
   {
    "duration": 6,
    "start_time": "2023-08-05T10:56:56.594Z"
   },
   {
    "duration": 10,
    "start_time": "2023-08-05T10:56:56.602Z"
   },
   {
    "duration": 5,
    "start_time": "2023-08-05T10:56:56.614Z"
   },
   {
    "duration": 10,
    "start_time": "2023-08-05T10:56:56.621Z"
   },
   {
    "duration": 6,
    "start_time": "2023-08-05T10:56:56.633Z"
   },
   {
    "duration": 34,
    "start_time": "2023-08-05T10:56:56.641Z"
   },
   {
    "duration": 35,
    "start_time": "2023-08-05T10:56:56.678Z"
   },
   {
    "duration": 7,
    "start_time": "2023-08-05T10:56:56.715Z"
   },
   {
    "duration": 6610,
    "start_time": "2023-08-05T10:56:56.724Z"
   },
   {
    "duration": 6,
    "start_time": "2023-08-05T10:57:03.336Z"
   },
   {
    "duration": 32,
    "start_time": "2023-08-05T10:57:03.344Z"
   },
   {
    "duration": 15,
    "start_time": "2023-08-05T10:57:03.389Z"
   },
   {
    "duration": 11,
    "start_time": "2023-08-05T10:57:03.408Z"
   },
   {
    "duration": 8,
    "start_time": "2023-08-05T10:57:03.420Z"
   },
   {
    "duration": 13,
    "start_time": "2023-08-05T10:57:03.430Z"
   },
   {
    "duration": 37,
    "start_time": "2023-08-05T10:57:03.446Z"
   },
   {
    "duration": 8,
    "start_time": "2023-08-05T10:57:03.493Z"
   },
   {
    "duration": 16,
    "start_time": "2023-08-05T10:57:03.502Z"
   },
   {
    "duration": 7,
    "start_time": "2023-08-05T10:57:03.520Z"
   },
   {
    "duration": 8,
    "start_time": "2023-08-05T10:57:03.528Z"
   },
   {
    "duration": 14,
    "start_time": "2023-08-05T10:57:03.538Z"
   },
   {
    "duration": 69,
    "start_time": "2023-08-05T10:57:03.554Z"
   },
   {
    "duration": 5,
    "start_time": "2023-08-05T10:57:03.625Z"
   },
   {
    "duration": 17,
    "start_time": "2023-08-05T10:57:03.634Z"
   },
   {
    "duration": 31,
    "start_time": "2023-08-05T10:57:03.653Z"
   },
   {
    "duration": 13570,
    "start_time": "2023-08-05T10:57:03.685Z"
   },
   {
    "duration": 205,
    "start_time": "2023-08-05T10:57:17.268Z"
   },
   {
    "duration": 150,
    "start_time": "2023-08-05T10:57:17.475Z"
   },
   {
    "duration": 179,
    "start_time": "2023-08-05T10:57:17.627Z"
   },
   {
    "duration": 275,
    "start_time": "2023-08-05T10:57:17.808Z"
   },
   {
    "duration": 168,
    "start_time": "2023-08-05T10:57:18.085Z"
   },
   {
    "duration": 166,
    "start_time": "2023-08-05T10:57:18.256Z"
   },
   {
    "duration": 178,
    "start_time": "2023-08-05T10:57:18.424Z"
   },
   {
    "duration": 179,
    "start_time": "2023-08-05T10:57:18.604Z"
   },
   {
    "duration": 195,
    "start_time": "2023-08-05T10:57:18.790Z"
   },
   {
    "duration": 226,
    "start_time": "2023-08-05T10:57:18.998Z"
   },
   {
    "duration": 219,
    "start_time": "2023-08-05T10:57:19.226Z"
   },
   {
    "duration": 175,
    "start_time": "2023-08-05T10:57:19.447Z"
   },
   {
    "duration": 182,
    "start_time": "2023-08-05T10:57:19.624Z"
   },
   {
    "duration": 154,
    "start_time": "2023-08-05T10:57:19.807Z"
   },
   {
    "duration": 182,
    "start_time": "2023-08-05T10:57:19.964Z"
   },
   {
    "duration": 184,
    "start_time": "2023-08-05T10:57:20.148Z"
   },
   {
    "duration": 38,
    "start_time": "2023-08-05T10:57:20.334Z"
   },
   {
    "duration": 250,
    "start_time": "2023-08-05T10:57:20.377Z"
   },
   {
    "duration": 16,
    "start_time": "2023-08-05T10:57:20.629Z"
   },
   {
    "duration": 259,
    "start_time": "2023-08-05T10:57:20.657Z"
   },
   {
    "duration": 17,
    "start_time": "2023-08-05T10:57:20.918Z"
   },
   {
    "duration": 264,
    "start_time": "2023-08-05T10:57:20.937Z"
   },
   {
    "duration": 16,
    "start_time": "2023-08-05T10:57:21.203Z"
   },
   {
    "duration": 257,
    "start_time": "2023-08-05T10:57:21.221Z"
   },
   {
    "duration": 20,
    "start_time": "2023-08-05T10:57:21.479Z"
   },
   {
    "duration": 226,
    "start_time": "2023-08-05T10:57:21.501Z"
   },
   {
    "duration": 13,
    "start_time": "2023-08-05T10:57:21.729Z"
   },
   {
    "duration": 258,
    "start_time": "2023-08-05T10:57:21.743Z"
   },
   {
    "duration": 14,
    "start_time": "2023-08-05T10:57:22.003Z"
   },
   {
    "duration": 249,
    "start_time": "2023-08-05T10:57:22.019Z"
   },
   {
    "duration": 25,
    "start_time": "2023-08-05T10:57:22.275Z"
   },
   {
    "duration": 224,
    "start_time": "2023-08-05T10:57:22.304Z"
   },
   {
    "duration": 18,
    "start_time": "2023-08-05T10:57:22.530Z"
   },
   {
    "duration": 19,
    "start_time": "2023-08-05T10:57:22.565Z"
   },
   {
    "duration": 25,
    "start_time": "2023-08-05T10:57:22.588Z"
   },
   {
    "duration": 26,
    "start_time": "2023-08-05T10:57:22.615Z"
   },
   {
    "duration": 263,
    "start_time": "2023-08-05T10:57:22.642Z"
   },
   {
    "duration": 8,
    "start_time": "2023-08-05T10:57:22.906Z"
   },
   {
    "duration": 54,
    "start_time": "2023-08-07T05:23:55.417Z"
   },
   {
    "duration": 453,
    "start_time": "2023-08-07T05:24:03.290Z"
   },
   {
    "duration": 227,
    "start_time": "2023-08-07T05:24:03.744Z"
   },
   {
    "duration": 23,
    "start_time": "2023-08-07T05:24:03.973Z"
   },
   {
    "duration": 2921,
    "start_time": "2023-08-07T05:24:03.998Z"
   },
   {
    "duration": 0,
    "start_time": "2023-08-07T05:24:06.923Z"
   },
   {
    "duration": 0,
    "start_time": "2023-08-07T05:24:06.924Z"
   },
   {
    "duration": 0,
    "start_time": "2023-08-07T05:24:06.925Z"
   },
   {
    "duration": 0,
    "start_time": "2023-08-07T05:24:06.926Z"
   },
   {
    "duration": 0,
    "start_time": "2023-08-07T05:24:06.928Z"
   },
   {
    "duration": 0,
    "start_time": "2023-08-07T05:24:06.929Z"
   },
   {
    "duration": 0,
    "start_time": "2023-08-07T05:24:06.931Z"
   },
   {
    "duration": 0,
    "start_time": "2023-08-07T05:24:06.932Z"
   },
   {
    "duration": 0,
    "start_time": "2023-08-07T05:24:06.933Z"
   },
   {
    "duration": 0,
    "start_time": "2023-08-07T05:24:06.934Z"
   },
   {
    "duration": 0,
    "start_time": "2023-08-07T05:24:06.935Z"
   },
   {
    "duration": 0,
    "start_time": "2023-08-07T05:24:06.937Z"
   },
   {
    "duration": 0,
    "start_time": "2023-08-07T05:24:06.938Z"
   },
   {
    "duration": 0,
    "start_time": "2023-08-07T05:24:06.939Z"
   },
   {
    "duration": 0,
    "start_time": "2023-08-07T05:24:06.940Z"
   },
   {
    "duration": 0,
    "start_time": "2023-08-07T05:24:06.941Z"
   },
   {
    "duration": 0,
    "start_time": "2023-08-07T05:24:06.942Z"
   },
   {
    "duration": 0,
    "start_time": "2023-08-07T05:24:06.943Z"
   },
   {
    "duration": 0,
    "start_time": "2023-08-07T05:24:06.944Z"
   },
   {
    "duration": 0,
    "start_time": "2023-08-07T05:24:06.945Z"
   },
   {
    "duration": 0,
    "start_time": "2023-08-07T05:24:06.946Z"
   },
   {
    "duration": 0,
    "start_time": "2023-08-07T05:24:06.947Z"
   },
   {
    "duration": 0,
    "start_time": "2023-08-07T05:24:06.949Z"
   },
   {
    "duration": 0,
    "start_time": "2023-08-07T05:24:06.950Z"
   },
   {
    "duration": 0,
    "start_time": "2023-08-07T05:24:06.951Z"
   },
   {
    "duration": 0,
    "start_time": "2023-08-07T05:24:06.952Z"
   },
   {
    "duration": 0,
    "start_time": "2023-08-07T05:24:06.974Z"
   },
   {
    "duration": 0,
    "start_time": "2023-08-07T05:24:06.978Z"
   },
   {
    "duration": 0,
    "start_time": "2023-08-07T05:24:06.978Z"
   },
   {
    "duration": 0,
    "start_time": "2023-08-07T05:24:06.979Z"
   },
   {
    "duration": 0,
    "start_time": "2023-08-07T05:24:06.980Z"
   },
   {
    "duration": 0,
    "start_time": "2023-08-07T05:24:06.980Z"
   },
   {
    "duration": 0,
    "start_time": "2023-08-07T05:24:06.981Z"
   },
   {
    "duration": 0,
    "start_time": "2023-08-07T05:24:06.983Z"
   },
   {
    "duration": 0,
    "start_time": "2023-08-07T05:24:06.983Z"
   },
   {
    "duration": 0,
    "start_time": "2023-08-07T05:24:06.984Z"
   },
   {
    "duration": 0,
    "start_time": "2023-08-07T05:24:06.985Z"
   },
   {
    "duration": 0,
    "start_time": "2023-08-07T05:24:06.988Z"
   },
   {
    "duration": 0,
    "start_time": "2023-08-07T05:24:06.988Z"
   },
   {
    "duration": 0,
    "start_time": "2023-08-07T05:24:06.989Z"
   },
   {
    "duration": 0,
    "start_time": "2023-08-07T05:24:06.990Z"
   },
   {
    "duration": 0,
    "start_time": "2023-08-07T05:24:06.990Z"
   },
   {
    "duration": 0,
    "start_time": "2023-08-07T05:24:06.991Z"
   },
   {
    "duration": 0,
    "start_time": "2023-08-07T05:24:06.992Z"
   },
   {
    "duration": 0,
    "start_time": "2023-08-07T05:24:06.992Z"
   },
   {
    "duration": 0,
    "start_time": "2023-08-07T05:24:06.993Z"
   },
   {
    "duration": 0,
    "start_time": "2023-08-07T05:24:06.993Z"
   },
   {
    "duration": 0,
    "start_time": "2023-08-07T05:24:06.994Z"
   },
   {
    "duration": 0,
    "start_time": "2023-08-07T05:24:06.995Z"
   },
   {
    "duration": 0,
    "start_time": "2023-08-07T05:24:06.995Z"
   },
   {
    "duration": 0,
    "start_time": "2023-08-07T05:24:06.996Z"
   },
   {
    "duration": 0,
    "start_time": "2023-08-07T05:24:06.996Z"
   },
   {
    "duration": 0,
    "start_time": "2023-08-07T05:24:06.997Z"
   },
   {
    "duration": 0,
    "start_time": "2023-08-07T05:24:06.998Z"
   },
   {
    "duration": 0,
    "start_time": "2023-08-07T05:24:07.001Z"
   },
   {
    "duration": 0,
    "start_time": "2023-08-07T05:24:07.002Z"
   },
   {
    "duration": 0,
    "start_time": "2023-08-07T05:24:07.003Z"
   },
   {
    "duration": 0,
    "start_time": "2023-08-07T05:24:07.005Z"
   },
   {
    "duration": 0,
    "start_time": "2023-08-07T05:24:07.007Z"
   },
   {
    "duration": 0,
    "start_time": "2023-08-07T05:24:07.008Z"
   },
   {
    "duration": 0,
    "start_time": "2023-08-07T05:24:07.010Z"
   },
   {
    "duration": 1,
    "start_time": "2023-08-07T05:24:07.011Z"
   },
   {
    "duration": 0,
    "start_time": "2023-08-07T05:24:07.014Z"
   },
   {
    "duration": 0,
    "start_time": "2023-08-07T05:24:07.015Z"
   },
   {
    "duration": 0,
    "start_time": "2023-08-07T05:24:07.016Z"
   },
   {
    "duration": 0,
    "start_time": "2023-08-07T05:24:07.017Z"
   },
   {
    "duration": 0,
    "start_time": "2023-08-07T05:24:07.078Z"
   },
   {
    "duration": 0,
    "start_time": "2023-08-07T05:24:07.078Z"
   },
   {
    "duration": 0,
    "start_time": "2023-08-07T05:24:07.079Z"
   },
   {
    "duration": 0,
    "start_time": "2023-08-07T05:24:07.080Z"
   },
   {
    "duration": 0,
    "start_time": "2023-08-07T05:24:07.080Z"
   },
   {
    "duration": 0,
    "start_time": "2023-08-07T05:24:07.081Z"
   },
   {
    "duration": 0,
    "start_time": "2023-08-07T05:24:07.082Z"
   },
   {
    "duration": 0,
    "start_time": "2023-08-07T05:24:07.082Z"
   },
   {
    "duration": 0,
    "start_time": "2023-08-07T05:24:07.083Z"
   },
   {
    "duration": 0,
    "start_time": "2023-08-07T05:24:07.083Z"
   },
   {
    "duration": 0,
    "start_time": "2023-08-07T05:24:07.084Z"
   },
   {
    "duration": 11,
    "start_time": "2023-08-07T05:25:04.790Z"
   },
   {
    "duration": 2220,
    "start_time": "2023-08-07T05:25:18.219Z"
   },
   {
    "duration": 2093,
    "start_time": "2023-08-07T05:25:25.891Z"
   },
   {
    "duration": 2164,
    "start_time": "2023-08-07T05:25:57.562Z"
   },
   {
    "duration": 3603,
    "start_time": "2023-08-07T05:26:23.219Z"
   },
   {
    "duration": 3807,
    "start_time": "2023-08-07T05:26:49.166Z"
   },
   {
    "duration": 74,
    "start_time": "2023-08-07T05:28:15.449Z"
   },
   {
    "duration": 2348,
    "start_time": "2023-08-07T05:29:07.592Z"
   },
   {
    "duration": 2206,
    "start_time": "2023-08-07T05:29:14.449Z"
   },
   {
    "duration": 2237,
    "start_time": "2023-08-07T05:29:20.823Z"
   },
   {
    "duration": 64,
    "start_time": "2023-08-07T05:35:11.335Z"
   },
   {
    "duration": 101,
    "start_time": "2023-08-07T05:36:11.908Z"
   },
   {
    "duration": 9,
    "start_time": "2023-08-07T05:37:25.246Z"
   },
   {
    "duration": 18,
    "start_time": "2023-08-07T05:38:32.602Z"
   },
   {
    "duration": 490,
    "start_time": "2023-08-07T05:39:16.376Z"
   },
   {
    "duration": 141,
    "start_time": "2023-08-07T05:39:16.868Z"
   },
   {
    "duration": 29,
    "start_time": "2023-08-07T05:39:17.014Z"
   },
   {
    "duration": 2668,
    "start_time": "2023-08-07T05:39:17.050Z"
   },
   {
    "duration": 65,
    "start_time": "2023-08-07T05:39:19.722Z"
   },
   {
    "duration": 90,
    "start_time": "2023-08-07T05:39:19.789Z"
   },
   {
    "duration": 0,
    "start_time": "2023-08-07T05:39:19.884Z"
   },
   {
    "duration": 0,
    "start_time": "2023-08-07T05:39:19.886Z"
   },
   {
    "duration": 0,
    "start_time": "2023-08-07T05:39:19.887Z"
   },
   {
    "duration": 0,
    "start_time": "2023-08-07T05:39:19.888Z"
   },
   {
    "duration": 0,
    "start_time": "2023-08-07T05:39:19.889Z"
   },
   {
    "duration": 0,
    "start_time": "2023-08-07T05:39:19.890Z"
   },
   {
    "duration": 0,
    "start_time": "2023-08-07T05:39:19.891Z"
   },
   {
    "duration": 0,
    "start_time": "2023-08-07T05:39:19.892Z"
   },
   {
    "duration": 0,
    "start_time": "2023-08-07T05:39:19.893Z"
   },
   {
    "duration": 0,
    "start_time": "2023-08-07T05:39:19.894Z"
   },
   {
    "duration": 0,
    "start_time": "2023-08-07T05:39:19.894Z"
   },
   {
    "duration": 0,
    "start_time": "2023-08-07T05:39:19.895Z"
   },
   {
    "duration": 0,
    "start_time": "2023-08-07T05:39:19.896Z"
   },
   {
    "duration": 0,
    "start_time": "2023-08-07T05:39:19.898Z"
   },
   {
    "duration": 0,
    "start_time": "2023-08-07T05:39:19.901Z"
   },
   {
    "duration": 0,
    "start_time": "2023-08-07T05:39:19.902Z"
   },
   {
    "duration": 0,
    "start_time": "2023-08-07T05:39:19.903Z"
   },
   {
    "duration": 0,
    "start_time": "2023-08-07T05:39:19.904Z"
   },
   {
    "duration": 0,
    "start_time": "2023-08-07T05:39:19.905Z"
   },
   {
    "duration": 0,
    "start_time": "2023-08-07T05:39:19.906Z"
   },
   {
    "duration": 0,
    "start_time": "2023-08-07T05:39:19.907Z"
   },
   {
    "duration": 0,
    "start_time": "2023-08-07T05:39:19.908Z"
   },
   {
    "duration": 0,
    "start_time": "2023-08-07T05:39:19.909Z"
   },
   {
    "duration": 0,
    "start_time": "2023-08-07T05:39:19.911Z"
   },
   {
    "duration": 0,
    "start_time": "2023-08-07T05:39:19.912Z"
   },
   {
    "duration": 0,
    "start_time": "2023-08-07T05:39:19.913Z"
   },
   {
    "duration": 0,
    "start_time": "2023-08-07T05:39:19.914Z"
   },
   {
    "duration": 0,
    "start_time": "2023-08-07T05:39:19.915Z"
   },
   {
    "duration": 0,
    "start_time": "2023-08-07T05:39:19.916Z"
   },
   {
    "duration": 0,
    "start_time": "2023-08-07T05:39:19.917Z"
   },
   {
    "duration": 0,
    "start_time": "2023-08-07T05:39:19.918Z"
   },
   {
    "duration": 0,
    "start_time": "2023-08-07T05:39:19.919Z"
   },
   {
    "duration": 0,
    "start_time": "2023-08-07T05:39:19.920Z"
   },
   {
    "duration": 0,
    "start_time": "2023-08-07T05:39:19.921Z"
   },
   {
    "duration": 0,
    "start_time": "2023-08-07T05:39:19.922Z"
   },
   {
    "duration": 0,
    "start_time": "2023-08-07T05:39:19.923Z"
   },
   {
    "duration": 0,
    "start_time": "2023-08-07T05:39:19.924Z"
   },
   {
    "duration": 0,
    "start_time": "2023-08-07T05:39:19.925Z"
   },
   {
    "duration": 0,
    "start_time": "2023-08-07T05:39:19.926Z"
   },
   {
    "duration": 0,
    "start_time": "2023-08-07T05:39:19.927Z"
   },
   {
    "duration": 0,
    "start_time": "2023-08-07T05:39:19.928Z"
   },
   {
    "duration": 0,
    "start_time": "2023-08-07T05:39:19.929Z"
   },
   {
    "duration": 0,
    "start_time": "2023-08-07T05:39:19.930Z"
   },
   {
    "duration": 0,
    "start_time": "2023-08-07T05:39:19.931Z"
   },
   {
    "duration": 0,
    "start_time": "2023-08-07T05:39:19.933Z"
   },
   {
    "duration": 0,
    "start_time": "2023-08-07T05:39:19.934Z"
   },
   {
    "duration": 0,
    "start_time": "2023-08-07T05:39:19.935Z"
   },
   {
    "duration": 0,
    "start_time": "2023-08-07T05:39:19.936Z"
   },
   {
    "duration": 0,
    "start_time": "2023-08-07T05:39:19.937Z"
   },
   {
    "duration": 0,
    "start_time": "2023-08-07T05:39:19.939Z"
   },
   {
    "duration": 0,
    "start_time": "2023-08-07T05:39:19.973Z"
   },
   {
    "duration": 0,
    "start_time": "2023-08-07T05:39:19.975Z"
   },
   {
    "duration": 0,
    "start_time": "2023-08-07T05:39:19.976Z"
   },
   {
    "duration": 0,
    "start_time": "2023-08-07T05:39:19.978Z"
   },
   {
    "duration": 0,
    "start_time": "2023-08-07T05:39:19.979Z"
   },
   {
    "duration": 0,
    "start_time": "2023-08-07T05:39:19.980Z"
   },
   {
    "duration": 0,
    "start_time": "2023-08-07T05:39:19.982Z"
   },
   {
    "duration": 0,
    "start_time": "2023-08-07T05:39:19.983Z"
   },
   {
    "duration": 0,
    "start_time": "2023-08-07T05:39:19.984Z"
   },
   {
    "duration": 1,
    "start_time": "2023-08-07T05:39:19.985Z"
   },
   {
    "duration": 0,
    "start_time": "2023-08-07T05:39:19.987Z"
   },
   {
    "duration": 0,
    "start_time": "2023-08-07T05:39:19.988Z"
   },
   {
    "duration": 0,
    "start_time": "2023-08-07T05:39:19.990Z"
   },
   {
    "duration": 0,
    "start_time": "2023-08-07T05:39:19.991Z"
   },
   {
    "duration": 0,
    "start_time": "2023-08-07T05:39:19.992Z"
   },
   {
    "duration": 0,
    "start_time": "2023-08-07T05:39:19.994Z"
   },
   {
    "duration": 0,
    "start_time": "2023-08-07T05:39:19.995Z"
   },
   {
    "duration": 0,
    "start_time": "2023-08-07T05:39:19.996Z"
   },
   {
    "duration": 0,
    "start_time": "2023-08-07T05:39:19.998Z"
   },
   {
    "duration": 0,
    "start_time": "2023-08-07T05:39:19.999Z"
   },
   {
    "duration": 0,
    "start_time": "2023-08-07T05:39:20.000Z"
   },
   {
    "duration": 0,
    "start_time": "2023-08-07T05:39:20.002Z"
   },
   {
    "duration": 0,
    "start_time": "2023-08-07T05:39:20.003Z"
   },
   {
    "duration": 0,
    "start_time": "2023-08-07T05:39:20.005Z"
   },
   {
    "duration": 0,
    "start_time": "2023-08-07T05:39:20.006Z"
   },
   {
    "duration": 0,
    "start_time": "2023-08-07T05:39:20.008Z"
   },
   {
    "duration": 23,
    "start_time": "2023-08-07T05:39:40.312Z"
   },
   {
    "duration": 23,
    "start_time": "2023-08-07T05:40:42.123Z"
   },
   {
    "duration": 22,
    "start_time": "2023-08-07T05:44:11.893Z"
   },
   {
    "duration": 466,
    "start_time": "2023-08-07T05:44:27.659Z"
   },
   {
    "duration": 117,
    "start_time": "2023-08-07T05:44:28.128Z"
   },
   {
    "duration": 46,
    "start_time": "2023-08-07T05:44:28.251Z"
   },
   {
    "duration": 2658,
    "start_time": "2023-08-07T05:44:28.305Z"
   },
   {
    "duration": 61,
    "start_time": "2023-08-07T05:44:30.964Z"
   },
   {
    "duration": 7,
    "start_time": "2023-08-07T05:44:31.027Z"
   },
   {
    "duration": 53,
    "start_time": "2023-08-07T05:44:31.036Z"
   },
   {
    "duration": 36,
    "start_time": "2023-08-07T05:44:31.099Z"
   },
   {
    "duration": 44,
    "start_time": "2023-08-07T05:44:31.140Z"
   },
   {
    "duration": 45,
    "start_time": "2023-08-07T05:44:31.187Z"
   },
   {
    "duration": 62,
    "start_time": "2023-08-07T05:44:31.233Z"
   },
   {
    "duration": 32,
    "start_time": "2023-08-07T05:44:31.297Z"
   },
   {
    "duration": 40,
    "start_time": "2023-08-07T05:44:31.331Z"
   },
   {
    "duration": 54,
    "start_time": "2023-08-07T05:44:31.373Z"
   },
   {
    "duration": 76,
    "start_time": "2023-08-07T05:44:31.429Z"
   },
   {
    "duration": 48,
    "start_time": "2023-08-07T05:44:31.509Z"
   },
   {
    "duration": 133,
    "start_time": "2023-08-07T05:44:31.558Z"
   },
   {
    "duration": 0,
    "start_time": "2023-08-07T05:44:31.695Z"
   },
   {
    "duration": 0,
    "start_time": "2023-08-07T05:44:31.697Z"
   },
   {
    "duration": 0,
    "start_time": "2023-08-07T05:44:31.698Z"
   },
   {
    "duration": 1,
    "start_time": "2023-08-07T05:44:31.699Z"
   },
   {
    "duration": 0,
    "start_time": "2023-08-07T05:44:31.701Z"
   },
   {
    "duration": 0,
    "start_time": "2023-08-07T05:44:31.702Z"
   },
   {
    "duration": 0,
    "start_time": "2023-08-07T05:44:31.704Z"
   },
   {
    "duration": 0,
    "start_time": "2023-08-07T05:44:31.705Z"
   },
   {
    "duration": 0,
    "start_time": "2023-08-07T05:44:31.706Z"
   },
   {
    "duration": 0,
    "start_time": "2023-08-07T05:44:31.707Z"
   },
   {
    "duration": 0,
    "start_time": "2023-08-07T05:44:31.709Z"
   },
   {
    "duration": 0,
    "start_time": "2023-08-07T05:44:31.710Z"
   },
   {
    "duration": 0,
    "start_time": "2023-08-07T05:44:31.711Z"
   },
   {
    "duration": 0,
    "start_time": "2023-08-07T05:44:31.712Z"
   },
   {
    "duration": 0,
    "start_time": "2023-08-07T05:44:31.714Z"
   },
   {
    "duration": 0,
    "start_time": "2023-08-07T05:44:31.715Z"
   },
   {
    "duration": 0,
    "start_time": "2023-08-07T05:44:31.715Z"
   },
   {
    "duration": 0,
    "start_time": "2023-08-07T05:44:31.716Z"
   },
   {
    "duration": 0,
    "start_time": "2023-08-07T05:44:31.716Z"
   },
   {
    "duration": 0,
    "start_time": "2023-08-07T05:44:31.718Z"
   },
   {
    "duration": 0,
    "start_time": "2023-08-07T05:44:31.719Z"
   },
   {
    "duration": 0,
    "start_time": "2023-08-07T05:44:31.721Z"
   },
   {
    "duration": 0,
    "start_time": "2023-08-07T05:44:31.722Z"
   },
   {
    "duration": 0,
    "start_time": "2023-08-07T05:44:31.723Z"
   },
   {
    "duration": 0,
    "start_time": "2023-08-07T05:44:31.724Z"
   },
   {
    "duration": 0,
    "start_time": "2023-08-07T05:44:31.725Z"
   },
   {
    "duration": 0,
    "start_time": "2023-08-07T05:44:31.726Z"
   },
   {
    "duration": 0,
    "start_time": "2023-08-07T05:44:31.727Z"
   },
   {
    "duration": 0,
    "start_time": "2023-08-07T05:44:31.729Z"
   },
   {
    "duration": 0,
    "start_time": "2023-08-07T05:44:31.730Z"
   },
   {
    "duration": 0,
    "start_time": "2023-08-07T05:44:31.731Z"
   },
   {
    "duration": 0,
    "start_time": "2023-08-07T05:44:31.732Z"
   },
   {
    "duration": 0,
    "start_time": "2023-08-07T05:44:31.733Z"
   },
   {
    "duration": 0,
    "start_time": "2023-08-07T05:44:31.735Z"
   },
   {
    "duration": 0,
    "start_time": "2023-08-07T05:44:31.736Z"
   },
   {
    "duration": 0,
    "start_time": "2023-08-07T05:44:31.737Z"
   },
   {
    "duration": 0,
    "start_time": "2023-08-07T05:44:31.738Z"
   },
   {
    "duration": 0,
    "start_time": "2023-08-07T05:44:31.774Z"
   },
   {
    "duration": 0,
    "start_time": "2023-08-07T05:44:31.775Z"
   },
   {
    "duration": 0,
    "start_time": "2023-08-07T05:44:31.776Z"
   },
   {
    "duration": 0,
    "start_time": "2023-08-07T05:44:31.777Z"
   },
   {
    "duration": 0,
    "start_time": "2023-08-07T05:44:31.778Z"
   },
   {
    "duration": 0,
    "start_time": "2023-08-07T05:44:31.780Z"
   },
   {
    "duration": 0,
    "start_time": "2023-08-07T05:44:31.781Z"
   },
   {
    "duration": 0,
    "start_time": "2023-08-07T05:44:31.782Z"
   },
   {
    "duration": 0,
    "start_time": "2023-08-07T05:44:31.782Z"
   },
   {
    "duration": 0,
    "start_time": "2023-08-07T05:44:31.783Z"
   },
   {
    "duration": 0,
    "start_time": "2023-08-07T05:44:31.784Z"
   },
   {
    "duration": 0,
    "start_time": "2023-08-07T05:44:31.785Z"
   },
   {
    "duration": 0,
    "start_time": "2023-08-07T05:44:31.786Z"
   },
   {
    "duration": 0,
    "start_time": "2023-08-07T05:44:31.787Z"
   },
   {
    "duration": 0,
    "start_time": "2023-08-07T05:44:31.788Z"
   },
   {
    "duration": 0,
    "start_time": "2023-08-07T05:44:31.789Z"
   },
   {
    "duration": 0,
    "start_time": "2023-08-07T05:44:31.790Z"
   },
   {
    "duration": 0,
    "start_time": "2023-08-07T05:44:31.790Z"
   },
   {
    "duration": 0,
    "start_time": "2023-08-07T05:44:31.792Z"
   },
   {
    "duration": 0,
    "start_time": "2023-08-07T05:44:31.793Z"
   },
   {
    "duration": 1,
    "start_time": "2023-08-07T05:44:31.793Z"
   },
   {
    "duration": 0,
    "start_time": "2023-08-07T05:44:31.794Z"
   },
   {
    "duration": 0,
    "start_time": "2023-08-07T05:44:31.796Z"
   },
   {
    "duration": 0,
    "start_time": "2023-08-07T05:44:31.797Z"
   },
   {
    "duration": 0,
    "start_time": "2023-08-07T05:44:31.798Z"
   },
   {
    "duration": 0,
    "start_time": "2023-08-07T05:44:31.799Z"
   },
   {
    "duration": 0,
    "start_time": "2023-08-07T05:44:31.799Z"
   },
   {
    "duration": 12,
    "start_time": "2023-08-07T05:44:38.349Z"
   },
   {
    "duration": 13,
    "start_time": "2023-08-07T05:45:28.950Z"
   },
   {
    "duration": 22,
    "start_time": "2023-08-07T05:45:31.065Z"
   },
   {
    "duration": 24,
    "start_time": "2023-08-07T05:47:02.599Z"
   },
   {
    "duration": 15,
    "start_time": "2023-08-07T05:47:19.116Z"
   },
   {
    "duration": 17,
    "start_time": "2023-08-07T05:47:42.152Z"
   },
   {
    "duration": 9,
    "start_time": "2023-08-07T05:48:57.335Z"
   },
   {
    "duration": 4,
    "start_time": "2023-08-07T05:49:02.910Z"
   },
   {
    "duration": 1193,
    "start_time": "2023-08-07T05:49:25.642Z"
   },
   {
    "duration": 452,
    "start_time": "2023-08-07T05:49:37.267Z"
   },
   {
    "duration": 113,
    "start_time": "2023-08-07T05:49:37.722Z"
   },
   {
    "duration": 36,
    "start_time": "2023-08-07T05:49:37.841Z"
   },
   {
    "duration": 2672,
    "start_time": "2023-08-07T05:49:37.879Z"
   },
   {
    "duration": 90,
    "start_time": "2023-08-07T05:49:40.554Z"
   },
   {
    "duration": 6,
    "start_time": "2023-08-07T05:49:40.646Z"
   },
   {
    "duration": 18,
    "start_time": "2023-08-07T05:49:40.654Z"
   },
   {
    "duration": 1082,
    "start_time": "2023-08-07T05:49:40.676Z"
   },
   {
    "duration": 0,
    "start_time": "2023-08-07T05:49:41.764Z"
   },
   {
    "duration": 0,
    "start_time": "2023-08-07T05:49:41.766Z"
   },
   {
    "duration": 0,
    "start_time": "2023-08-07T05:49:41.768Z"
   },
   {
    "duration": 0,
    "start_time": "2023-08-07T05:49:41.770Z"
   },
   {
    "duration": 0,
    "start_time": "2023-08-07T05:49:41.772Z"
   },
   {
    "duration": 0,
    "start_time": "2023-08-07T05:49:41.773Z"
   },
   {
    "duration": 0,
    "start_time": "2023-08-07T05:49:41.774Z"
   },
   {
    "duration": 0,
    "start_time": "2023-08-07T05:49:41.775Z"
   },
   {
    "duration": 0,
    "start_time": "2023-08-07T05:49:41.775Z"
   },
   {
    "duration": 0,
    "start_time": "2023-08-07T05:49:41.777Z"
   },
   {
    "duration": 0,
    "start_time": "2023-08-07T05:49:41.777Z"
   },
   {
    "duration": 0,
    "start_time": "2023-08-07T05:49:41.778Z"
   },
   {
    "duration": 0,
    "start_time": "2023-08-07T05:49:41.779Z"
   },
   {
    "duration": 0,
    "start_time": "2023-08-07T05:49:41.779Z"
   },
   {
    "duration": 0,
    "start_time": "2023-08-07T05:49:41.780Z"
   },
   {
    "duration": 1,
    "start_time": "2023-08-07T05:49:41.780Z"
   },
   {
    "duration": 0,
    "start_time": "2023-08-07T05:49:41.783Z"
   },
   {
    "duration": 0,
    "start_time": "2023-08-07T05:49:41.785Z"
   },
   {
    "duration": 0,
    "start_time": "2023-08-07T05:49:41.788Z"
   },
   {
    "duration": 0,
    "start_time": "2023-08-07T05:49:41.792Z"
   },
   {
    "duration": 0,
    "start_time": "2023-08-07T05:49:41.793Z"
   },
   {
    "duration": 0,
    "start_time": "2023-08-07T05:49:41.795Z"
   },
   {
    "duration": 0,
    "start_time": "2023-08-07T05:49:41.796Z"
   },
   {
    "duration": 0,
    "start_time": "2023-08-07T05:49:41.798Z"
   },
   {
    "duration": 0,
    "start_time": "2023-08-07T05:49:41.799Z"
   },
   {
    "duration": 0,
    "start_time": "2023-08-07T05:49:41.801Z"
   },
   {
    "duration": 0,
    "start_time": "2023-08-07T05:49:41.810Z"
   },
   {
    "duration": 0,
    "start_time": "2023-08-07T05:49:41.815Z"
   },
   {
    "duration": 0,
    "start_time": "2023-08-07T05:49:41.816Z"
   },
   {
    "duration": 0,
    "start_time": "2023-08-07T05:49:41.817Z"
   },
   {
    "duration": 0,
    "start_time": "2023-08-07T05:49:41.818Z"
   },
   {
    "duration": 0,
    "start_time": "2023-08-07T05:49:41.822Z"
   },
   {
    "duration": 0,
    "start_time": "2023-08-07T05:49:41.823Z"
   },
   {
    "duration": 0,
    "start_time": "2023-08-07T05:49:41.824Z"
   },
   {
    "duration": 0,
    "start_time": "2023-08-07T05:49:41.825Z"
   },
   {
    "duration": 0,
    "start_time": "2023-08-07T05:49:41.826Z"
   },
   {
    "duration": 0,
    "start_time": "2023-08-07T05:49:41.828Z"
   },
   {
    "duration": 0,
    "start_time": "2023-08-07T05:49:41.829Z"
   },
   {
    "duration": 0,
    "start_time": "2023-08-07T05:49:41.830Z"
   },
   {
    "duration": 0,
    "start_time": "2023-08-07T05:49:41.874Z"
   },
   {
    "duration": 0,
    "start_time": "2023-08-07T05:49:41.876Z"
   },
   {
    "duration": 0,
    "start_time": "2023-08-07T05:49:41.877Z"
   },
   {
    "duration": 0,
    "start_time": "2023-08-07T05:49:41.878Z"
   },
   {
    "duration": 0,
    "start_time": "2023-08-07T05:49:41.879Z"
   },
   {
    "duration": 0,
    "start_time": "2023-08-07T05:49:41.880Z"
   },
   {
    "duration": 0,
    "start_time": "2023-08-07T05:49:41.881Z"
   },
   {
    "duration": 0,
    "start_time": "2023-08-07T05:49:41.882Z"
   },
   {
    "duration": 0,
    "start_time": "2023-08-07T05:49:41.883Z"
   },
   {
    "duration": 0,
    "start_time": "2023-08-07T05:49:41.884Z"
   },
   {
    "duration": 0,
    "start_time": "2023-08-07T05:49:41.885Z"
   },
   {
    "duration": 0,
    "start_time": "2023-08-07T05:49:41.886Z"
   },
   {
    "duration": 0,
    "start_time": "2023-08-07T05:49:41.887Z"
   },
   {
    "duration": 0,
    "start_time": "2023-08-07T05:49:41.888Z"
   },
   {
    "duration": 0,
    "start_time": "2023-08-07T05:49:41.889Z"
   },
   {
    "duration": 0,
    "start_time": "2023-08-07T05:49:41.890Z"
   },
   {
    "duration": 0,
    "start_time": "2023-08-07T05:49:41.891Z"
   },
   {
    "duration": 0,
    "start_time": "2023-08-07T05:49:41.892Z"
   },
   {
    "duration": 0,
    "start_time": "2023-08-07T05:49:41.893Z"
   },
   {
    "duration": 0,
    "start_time": "2023-08-07T05:49:41.894Z"
   },
   {
    "duration": 0,
    "start_time": "2023-08-07T05:49:41.895Z"
   },
   {
    "duration": 0,
    "start_time": "2023-08-07T05:49:41.896Z"
   },
   {
    "duration": 0,
    "start_time": "2023-08-07T05:49:41.897Z"
   },
   {
    "duration": 0,
    "start_time": "2023-08-07T05:49:41.898Z"
   },
   {
    "duration": 0,
    "start_time": "2023-08-07T05:49:41.899Z"
   },
   {
    "duration": 0,
    "start_time": "2023-08-07T05:49:41.900Z"
   },
   {
    "duration": 0,
    "start_time": "2023-08-07T05:49:41.901Z"
   },
   {
    "duration": 0,
    "start_time": "2023-08-07T05:49:41.902Z"
   },
   {
    "duration": 0,
    "start_time": "2023-08-07T05:49:41.903Z"
   },
   {
    "duration": 0,
    "start_time": "2023-08-07T05:49:41.904Z"
   },
   {
    "duration": 0,
    "start_time": "2023-08-07T05:49:41.906Z"
   },
   {
    "duration": 0,
    "start_time": "2023-08-07T05:49:41.907Z"
   },
   {
    "duration": 0,
    "start_time": "2023-08-07T05:49:41.908Z"
   },
   {
    "duration": 0,
    "start_time": "2023-08-07T05:49:41.909Z"
   },
   {
    "duration": 1289,
    "start_time": "2023-08-07T05:50:15.410Z"
   },
   {
    "duration": 498,
    "start_time": "2023-08-07T05:50:23.068Z"
   },
   {
    "duration": 157,
    "start_time": "2023-08-07T05:50:23.569Z"
   },
   {
    "duration": 18,
    "start_time": "2023-08-07T05:50:23.728Z"
   },
   {
    "duration": 3081,
    "start_time": "2023-08-07T05:50:23.750Z"
   },
   {
    "duration": 73,
    "start_time": "2023-08-07T05:50:26.834Z"
   },
   {
    "duration": 11,
    "start_time": "2023-08-07T05:50:26.910Z"
   },
   {
    "duration": 6,
    "start_time": "2023-08-07T05:50:26.924Z"
   },
   {
    "duration": 1272,
    "start_time": "2023-08-07T05:50:26.933Z"
   },
   {
    "duration": 0,
    "start_time": "2023-08-07T05:50:28.215Z"
   },
   {
    "duration": 0,
    "start_time": "2023-08-07T05:50:28.216Z"
   },
   {
    "duration": 0,
    "start_time": "2023-08-07T05:50:28.217Z"
   },
   {
    "duration": 0,
    "start_time": "2023-08-07T05:50:28.221Z"
   },
   {
    "duration": 0,
    "start_time": "2023-08-07T05:50:28.223Z"
   },
   {
    "duration": 0,
    "start_time": "2023-08-07T05:50:28.224Z"
   },
   {
    "duration": 0,
    "start_time": "2023-08-07T05:50:28.226Z"
   },
   {
    "duration": 0,
    "start_time": "2023-08-07T05:50:28.228Z"
   },
   {
    "duration": 0,
    "start_time": "2023-08-07T05:50:28.230Z"
   },
   {
    "duration": 0,
    "start_time": "2023-08-07T05:50:28.231Z"
   },
   {
    "duration": 0,
    "start_time": "2023-08-07T05:50:28.233Z"
   },
   {
    "duration": 0,
    "start_time": "2023-08-07T05:50:28.235Z"
   },
   {
    "duration": 0,
    "start_time": "2023-08-07T05:50:28.236Z"
   },
   {
    "duration": 0,
    "start_time": "2023-08-07T05:50:28.238Z"
   },
   {
    "duration": 0,
    "start_time": "2023-08-07T05:50:28.240Z"
   },
   {
    "duration": 0,
    "start_time": "2023-08-07T05:50:28.241Z"
   },
   {
    "duration": 0,
    "start_time": "2023-08-07T05:50:28.242Z"
   },
   {
    "duration": 0,
    "start_time": "2023-08-07T05:50:28.244Z"
   },
   {
    "duration": 0,
    "start_time": "2023-08-07T05:50:28.246Z"
   },
   {
    "duration": 0,
    "start_time": "2023-08-07T05:50:28.248Z"
   },
   {
    "duration": 0,
    "start_time": "2023-08-07T05:50:28.249Z"
   },
   {
    "duration": 0,
    "start_time": "2023-08-07T05:50:28.252Z"
   },
   {
    "duration": 0,
    "start_time": "2023-08-07T05:50:28.253Z"
   },
   {
    "duration": 0,
    "start_time": "2023-08-07T05:50:28.254Z"
   },
   {
    "duration": 0,
    "start_time": "2023-08-07T05:50:28.255Z"
   },
   {
    "duration": 0,
    "start_time": "2023-08-07T05:50:28.256Z"
   },
   {
    "duration": 0,
    "start_time": "2023-08-07T05:50:28.281Z"
   },
   {
    "duration": 0,
    "start_time": "2023-08-07T05:50:28.282Z"
   },
   {
    "duration": 0,
    "start_time": "2023-08-07T05:50:28.283Z"
   },
   {
    "duration": 0,
    "start_time": "2023-08-07T05:50:28.284Z"
   },
   {
    "duration": 0,
    "start_time": "2023-08-07T05:50:28.285Z"
   },
   {
    "duration": 0,
    "start_time": "2023-08-07T05:50:28.287Z"
   },
   {
    "duration": 0,
    "start_time": "2023-08-07T05:50:28.290Z"
   },
   {
    "duration": 0,
    "start_time": "2023-08-07T05:50:28.291Z"
   },
   {
    "duration": 0,
    "start_time": "2023-08-07T05:50:28.293Z"
   },
   {
    "duration": 0,
    "start_time": "2023-08-07T05:50:28.294Z"
   },
   {
    "duration": 0,
    "start_time": "2023-08-07T05:50:28.296Z"
   },
   {
    "duration": 0,
    "start_time": "2023-08-07T05:50:28.297Z"
   },
   {
    "duration": 0,
    "start_time": "2023-08-07T05:50:28.303Z"
   },
   {
    "duration": 0,
    "start_time": "2023-08-07T05:50:28.304Z"
   },
   {
    "duration": 0,
    "start_time": "2023-08-07T05:50:28.305Z"
   },
   {
    "duration": 0,
    "start_time": "2023-08-07T05:50:28.307Z"
   },
   {
    "duration": 0,
    "start_time": "2023-08-07T05:50:28.308Z"
   },
   {
    "duration": 0,
    "start_time": "2023-08-07T05:50:28.309Z"
   },
   {
    "duration": 0,
    "start_time": "2023-08-07T05:50:28.311Z"
   },
   {
    "duration": 0,
    "start_time": "2023-08-07T05:50:28.312Z"
   },
   {
    "duration": 0,
    "start_time": "2023-08-07T05:50:28.313Z"
   },
   {
    "duration": 0,
    "start_time": "2023-08-07T05:50:28.315Z"
   },
   {
    "duration": 0,
    "start_time": "2023-08-07T05:50:28.316Z"
   },
   {
    "duration": 0,
    "start_time": "2023-08-07T05:50:28.321Z"
   },
   {
    "duration": 0,
    "start_time": "2023-08-07T05:50:28.323Z"
   },
   {
    "duration": 0,
    "start_time": "2023-08-07T05:50:28.324Z"
   },
   {
    "duration": 0,
    "start_time": "2023-08-07T05:50:28.325Z"
   },
   {
    "duration": 0,
    "start_time": "2023-08-07T05:50:28.327Z"
   },
   {
    "duration": 0,
    "start_time": "2023-08-07T05:50:28.328Z"
   },
   {
    "duration": 0,
    "start_time": "2023-08-07T05:50:28.329Z"
   },
   {
    "duration": 0,
    "start_time": "2023-08-07T05:50:28.374Z"
   },
   {
    "duration": 0,
    "start_time": "2023-08-07T05:50:28.376Z"
   },
   {
    "duration": 0,
    "start_time": "2023-08-07T05:50:28.377Z"
   },
   {
    "duration": 0,
    "start_time": "2023-08-07T05:50:28.378Z"
   },
   {
    "duration": 0,
    "start_time": "2023-08-07T05:50:28.379Z"
   },
   {
    "duration": 0,
    "start_time": "2023-08-07T05:50:28.381Z"
   },
   {
    "duration": 0,
    "start_time": "2023-08-07T05:50:28.382Z"
   },
   {
    "duration": 0,
    "start_time": "2023-08-07T05:50:28.384Z"
   },
   {
    "duration": 0,
    "start_time": "2023-08-07T05:50:28.385Z"
   },
   {
    "duration": 0,
    "start_time": "2023-08-07T05:50:28.386Z"
   },
   {
    "duration": 0,
    "start_time": "2023-08-07T05:50:28.387Z"
   },
   {
    "duration": 0,
    "start_time": "2023-08-07T05:50:28.389Z"
   },
   {
    "duration": 0,
    "start_time": "2023-08-07T05:50:28.390Z"
   },
   {
    "duration": 0,
    "start_time": "2023-08-07T05:50:28.391Z"
   },
   {
    "duration": 0,
    "start_time": "2023-08-07T05:50:28.392Z"
   },
   {
    "duration": 0,
    "start_time": "2023-08-07T05:50:28.393Z"
   },
   {
    "duration": 0,
    "start_time": "2023-08-07T05:50:28.395Z"
   },
   {
    "duration": 13,
    "start_time": "2023-08-07T05:51:16.054Z"
   },
   {
    "duration": 1235,
    "start_time": "2023-08-07T05:51:31.189Z"
   },
   {
    "duration": 1105,
    "start_time": "2023-08-07T05:51:55.658Z"
   },
   {
    "duration": 14,
    "start_time": "2023-08-07T05:52:45.142Z"
   },
   {
    "duration": 13,
    "start_time": "2023-08-07T05:52:55.005Z"
   },
   {
    "duration": 14,
    "start_time": "2023-08-07T05:53:02.453Z"
   },
   {
    "duration": 1162,
    "start_time": "2023-08-07T05:53:22.144Z"
   },
   {
    "duration": 27,
    "start_time": "2023-08-07T05:53:48.987Z"
   },
   {
    "duration": 16,
    "start_time": "2023-08-07T05:54:01.991Z"
   },
   {
    "duration": 16,
    "start_time": "2023-08-07T05:54:07.334Z"
   },
   {
    "duration": 9,
    "start_time": "2023-08-07T05:54:40.054Z"
   },
   {
    "duration": 13,
    "start_time": "2023-08-07T05:55:03.028Z"
   },
   {
    "duration": 3,
    "start_time": "2023-08-07T05:55:08.039Z"
   },
   {
    "duration": 143,
    "start_time": "2023-08-07T05:55:08.620Z"
   },
   {
    "duration": 19,
    "start_time": "2023-08-07T05:55:09.128Z"
   },
   {
    "duration": 2927,
    "start_time": "2023-08-07T05:55:09.967Z"
   },
   {
    "duration": 69,
    "start_time": "2023-08-07T05:55:17.817Z"
   },
   {
    "duration": 6,
    "start_time": "2023-08-07T05:55:21.259Z"
   },
   {
    "duration": 9,
    "start_time": "2023-08-07T05:55:23.732Z"
   },
   {
    "duration": 36,
    "start_time": "2023-08-07T05:55:31.571Z"
   },
   {
    "duration": 4,
    "start_time": "2023-08-07T05:55:38.722Z"
   },
   {
    "duration": 6,
    "start_time": "2023-08-07T05:55:59.153Z"
   },
   {
    "duration": 5,
    "start_time": "2023-08-07T05:55:59.806Z"
   },
   {
    "duration": 17,
    "start_time": "2023-08-07T05:56:04.751Z"
   },
   {
    "duration": 4,
    "start_time": "2023-08-07T05:56:09.125Z"
   },
   {
    "duration": 5,
    "start_time": "2023-08-07T05:56:09.515Z"
   },
   {
    "duration": 6,
    "start_time": "2023-08-07T05:56:09.754Z"
   },
   {
    "duration": 7,
    "start_time": "2023-08-07T05:56:12.849Z"
   },
   {
    "duration": 15,
    "start_time": "2023-08-07T05:56:41.054Z"
   },
   {
    "duration": 9,
    "start_time": "2023-08-07T05:56:44.896Z"
   },
   {
    "duration": 5,
    "start_time": "2023-08-07T05:56:47.444Z"
   },
   {
    "duration": 4,
    "start_time": "2023-08-07T05:56:48.925Z"
   },
   {
    "duration": 9,
    "start_time": "2023-08-07T05:56:49.373Z"
   },
   {
    "duration": 5,
    "start_time": "2023-08-07T05:56:49.822Z"
   },
   {
    "duration": 15,
    "start_time": "2023-08-07T05:56:50.270Z"
   },
   {
    "duration": 7,
    "start_time": "2023-08-07T05:56:53.321Z"
   },
   {
    "duration": 16,
    "start_time": "2023-08-07T05:58:55.474Z"
   },
   {
    "duration": 7,
    "start_time": "2023-08-07T05:59:38.901Z"
   },
   {
    "duration": 12,
    "start_time": "2023-08-07T05:59:39.330Z"
   },
   {
    "duration": 4,
    "start_time": "2023-08-07T05:59:39.758Z"
   },
   {
    "duration": 11,
    "start_time": "2023-08-07T05:59:40.968Z"
   },
   {
    "duration": 1430,
    "start_time": "2023-08-07T06:08:49.924Z"
   },
   {
    "duration": 14,
    "start_time": "2023-08-07T06:09:05.515Z"
   },
   {
    "duration": 11,
    "start_time": "2023-08-07T06:10:05.695Z"
   },
   {
    "duration": 7,
    "start_time": "2023-08-07T06:11:50.581Z"
   },
   {
    "duration": 6,
    "start_time": "2023-08-07T06:11:51.035Z"
   },
   {
    "duration": 11,
    "start_time": "2023-08-07T06:11:51.443Z"
   },
   {
    "duration": 3,
    "start_time": "2023-08-07T06:11:51.842Z"
   },
   {
    "duration": 8,
    "start_time": "2023-08-07T06:11:52.947Z"
   },
   {
    "duration": 5,
    "start_time": "2023-08-07T06:12:48.634Z"
   },
   {
    "duration": 12,
    "start_time": "2023-08-07T06:12:49.657Z"
   },
   {
    "duration": 38,
    "start_time": "2023-08-07T06:13:14.062Z"
   },
   {
    "duration": 6,
    "start_time": "2023-08-07T06:13:42.838Z"
   },
   {
    "duration": 5614,
    "start_time": "2023-08-07T06:13:46.220Z"
   },
   {
    "duration": 6,
    "start_time": "2023-08-07T06:13:51.836Z"
   },
   {
    "duration": 15,
    "start_time": "2023-08-07T06:13:51.844Z"
   },
   {
    "duration": 15,
    "start_time": "2023-08-07T06:13:51.879Z"
   },
   {
    "duration": 27,
    "start_time": "2023-08-07T06:13:51.897Z"
   },
   {
    "duration": 24,
    "start_time": "2023-08-07T06:13:51.927Z"
   },
   {
    "duration": 13,
    "start_time": "2023-08-07T06:13:51.954Z"
   },
   {
    "duration": 19,
    "start_time": "2023-08-07T06:13:51.969Z"
   },
   {
    "duration": 8,
    "start_time": "2023-08-07T06:13:57.397Z"
   },
   {
    "duration": 18,
    "start_time": "2023-08-07T06:13:57.694Z"
   },
   {
    "duration": 16,
    "start_time": "2023-08-07T06:13:58.199Z"
   },
   {
    "duration": 21,
    "start_time": "2023-08-07T06:14:02.371Z"
   },
   {
    "duration": 467,
    "start_time": "2023-08-07T06:34:44.119Z"
   },
   {
    "duration": 120,
    "start_time": "2023-08-07T06:34:44.588Z"
   },
   {
    "duration": 19,
    "start_time": "2023-08-07T06:34:44.711Z"
   },
   {
    "duration": 2504,
    "start_time": "2023-08-07T06:34:44.731Z"
   },
   {
    "duration": 72,
    "start_time": "2023-08-07T06:34:47.238Z"
   },
   {
    "duration": 5,
    "start_time": "2023-08-07T06:34:47.315Z"
   },
   {
    "duration": 10,
    "start_time": "2023-08-07T06:34:47.322Z"
   },
   {
    "duration": 8,
    "start_time": "2023-08-07T06:34:47.334Z"
   },
   {
    "duration": 18,
    "start_time": "2023-08-07T06:34:47.343Z"
   },
   {
    "duration": 14,
    "start_time": "2023-08-07T06:34:47.362Z"
   },
   {
    "duration": 41,
    "start_time": "2023-08-07T06:34:47.377Z"
   },
   {
    "duration": 9,
    "start_time": "2023-08-07T06:34:47.420Z"
   },
   {
    "duration": 33,
    "start_time": "2023-08-07T06:34:47.431Z"
   },
   {
    "duration": 15,
    "start_time": "2023-08-07T06:34:47.468Z"
   },
   {
    "duration": 9,
    "start_time": "2023-08-07T06:34:47.495Z"
   },
   {
    "duration": 17,
    "start_time": "2023-08-07T06:34:47.506Z"
   },
   {
    "duration": 10,
    "start_time": "2023-08-07T06:34:47.526Z"
   },
   {
    "duration": 9,
    "start_time": "2023-08-07T06:34:47.538Z"
   },
   {
    "duration": 8,
    "start_time": "2023-08-07T06:34:47.548Z"
   },
   {
    "duration": 85,
    "start_time": "2023-08-07T06:34:47.558Z"
   },
   {
    "duration": 0,
    "start_time": "2023-08-07T06:34:47.647Z"
   },
   {
    "duration": 0,
    "start_time": "2023-08-07T06:34:47.648Z"
   },
   {
    "duration": 1,
    "start_time": "2023-08-07T06:34:47.649Z"
   },
   {
    "duration": 0,
    "start_time": "2023-08-07T06:34:47.651Z"
   },
   {
    "duration": 0,
    "start_time": "2023-08-07T06:34:47.652Z"
   },
   {
    "duration": 0,
    "start_time": "2023-08-07T06:34:47.652Z"
   },
   {
    "duration": 0,
    "start_time": "2023-08-07T06:34:47.653Z"
   },
   {
    "duration": 0,
    "start_time": "2023-08-07T06:34:47.654Z"
   },
   {
    "duration": 0,
    "start_time": "2023-08-07T06:34:47.656Z"
   },
   {
    "duration": 0,
    "start_time": "2023-08-07T06:34:47.657Z"
   },
   {
    "duration": 0,
    "start_time": "2023-08-07T06:34:47.658Z"
   },
   {
    "duration": 0,
    "start_time": "2023-08-07T06:34:47.659Z"
   },
   {
    "duration": 0,
    "start_time": "2023-08-07T06:34:47.661Z"
   },
   {
    "duration": 0,
    "start_time": "2023-08-07T06:34:47.662Z"
   },
   {
    "duration": 0,
    "start_time": "2023-08-07T06:34:47.664Z"
   },
   {
    "duration": 0,
    "start_time": "2023-08-07T06:34:47.665Z"
   },
   {
    "duration": 0,
    "start_time": "2023-08-07T06:34:47.666Z"
   },
   {
    "duration": 1,
    "start_time": "2023-08-07T06:34:47.667Z"
   },
   {
    "duration": 0,
    "start_time": "2023-08-07T06:34:47.668Z"
   },
   {
    "duration": 0,
    "start_time": "2023-08-07T06:34:47.669Z"
   },
   {
    "duration": 0,
    "start_time": "2023-08-07T06:34:47.671Z"
   },
   {
    "duration": 0,
    "start_time": "2023-08-07T06:34:47.672Z"
   },
   {
    "duration": 0,
    "start_time": "2023-08-07T06:34:47.673Z"
   },
   {
    "duration": 0,
    "start_time": "2023-08-07T06:34:47.678Z"
   },
   {
    "duration": 1,
    "start_time": "2023-08-07T06:34:47.678Z"
   },
   {
    "duration": 0,
    "start_time": "2023-08-07T06:34:47.679Z"
   },
   {
    "duration": 0,
    "start_time": "2023-08-07T06:34:47.680Z"
   },
   {
    "duration": 0,
    "start_time": "2023-08-07T06:34:47.682Z"
   },
   {
    "duration": 0,
    "start_time": "2023-08-07T06:34:47.683Z"
   },
   {
    "duration": 0,
    "start_time": "2023-08-07T06:34:47.685Z"
   },
   {
    "duration": 0,
    "start_time": "2023-08-07T06:34:47.689Z"
   },
   {
    "duration": 0,
    "start_time": "2023-08-07T06:34:47.690Z"
   },
   {
    "duration": 0,
    "start_time": "2023-08-07T06:34:47.692Z"
   },
   {
    "duration": 0,
    "start_time": "2023-08-07T06:34:47.693Z"
   },
   {
    "duration": 0,
    "start_time": "2023-08-07T06:34:47.695Z"
   },
   {
    "duration": 0,
    "start_time": "2023-08-07T06:34:47.696Z"
   },
   {
    "duration": 0,
    "start_time": "2023-08-07T06:34:47.697Z"
   },
   {
    "duration": 0,
    "start_time": "2023-08-07T06:34:47.699Z"
   },
   {
    "duration": 0,
    "start_time": "2023-08-07T06:34:47.701Z"
   },
   {
    "duration": 0,
    "start_time": "2023-08-07T06:34:47.702Z"
   },
   {
    "duration": 0,
    "start_time": "2023-08-07T06:34:47.704Z"
   },
   {
    "duration": 0,
    "start_time": "2023-08-07T06:34:47.705Z"
   },
   {
    "duration": 0,
    "start_time": "2023-08-07T06:34:47.707Z"
   },
   {
    "duration": 0,
    "start_time": "2023-08-07T06:34:47.709Z"
   },
   {
    "duration": 0,
    "start_time": "2023-08-07T06:34:47.710Z"
   },
   {
    "duration": 0,
    "start_time": "2023-08-07T06:34:47.712Z"
   },
   {
    "duration": 0,
    "start_time": "2023-08-07T06:34:47.713Z"
   },
   {
    "duration": 0,
    "start_time": "2023-08-07T06:34:47.715Z"
   },
   {
    "duration": 0,
    "start_time": "2023-08-07T06:34:47.716Z"
   },
   {
    "duration": 0,
    "start_time": "2023-08-07T06:34:47.718Z"
   },
   {
    "duration": 0,
    "start_time": "2023-08-07T06:34:47.719Z"
   },
   {
    "duration": 0,
    "start_time": "2023-08-07T06:34:47.721Z"
   },
   {
    "duration": 0,
    "start_time": "2023-08-07T06:34:47.722Z"
   },
   {
    "duration": 0,
    "start_time": "2023-08-07T06:34:47.724Z"
   },
   {
    "duration": 0,
    "start_time": "2023-08-07T06:34:47.726Z"
   },
   {
    "duration": 0,
    "start_time": "2023-08-07T06:34:47.727Z"
   },
   {
    "duration": 0,
    "start_time": "2023-08-07T06:34:47.730Z"
   },
   {
    "duration": 0,
    "start_time": "2023-08-07T06:34:47.775Z"
   },
   {
    "duration": 0,
    "start_time": "2023-08-07T06:34:47.777Z"
   },
   {
    "duration": 5,
    "start_time": "2023-08-07T06:35:40.862Z"
   },
   {
    "duration": 60,
    "start_time": "2023-08-07T06:35:41.360Z"
   },
   {
    "duration": 6,
    "start_time": "2023-08-07T06:35:41.723Z"
   },
   {
    "duration": 6,
    "start_time": "2023-08-07T06:35:43.467Z"
   },
   {
    "duration": 10,
    "start_time": "2023-08-07T06:35:43.715Z"
   },
   {
    "duration": 12840,
    "start_time": "2023-08-07T06:35:43.926Z"
   },
   {
    "duration": 169,
    "start_time": "2023-08-07T06:35:56.768Z"
   },
   {
    "duration": 160,
    "start_time": "2023-08-07T06:35:56.939Z"
   },
   {
    "duration": 255,
    "start_time": "2023-08-07T06:36:20.809Z"
   },
   {
    "duration": 112,
    "start_time": "2023-08-07T06:36:33.867Z"
   },
   {
    "duration": 280,
    "start_time": "2023-08-07T06:36:38.915Z"
   },
   {
    "duration": 290,
    "start_time": "2023-08-07T06:38:11.406Z"
   },
   {
    "duration": 170,
    "start_time": "2023-08-07T06:38:23.766Z"
   },
   {
    "duration": 159,
    "start_time": "2023-08-07T06:38:33.254Z"
   },
   {
    "duration": 163,
    "start_time": "2023-08-07T06:38:50.896Z"
   },
   {
    "duration": 168,
    "start_time": "2023-08-07T06:39:53.674Z"
   },
   {
    "duration": 150,
    "start_time": "2023-08-07T06:40:39.702Z"
   },
   {
    "duration": 154,
    "start_time": "2023-08-07T06:41:09.357Z"
   },
   {
    "duration": 189,
    "start_time": "2023-08-07T06:41:20.196Z"
   },
   {
    "duration": 136,
    "start_time": "2023-08-07T06:41:55.602Z"
   },
   {
    "duration": 149,
    "start_time": "2023-08-07T06:42:06.403Z"
   },
   {
    "duration": 247,
    "start_time": "2023-08-07T06:42:15.043Z"
   },
   {
    "duration": 148,
    "start_time": "2023-08-07T06:42:48.307Z"
   },
   {
    "duration": 145,
    "start_time": "2023-08-07T06:43:21.507Z"
   },
   {
    "duration": 136,
    "start_time": "2023-08-07T06:44:04.646Z"
   },
   {
    "duration": 145,
    "start_time": "2023-08-07T06:44:05.108Z"
   },
   {
    "duration": 162,
    "start_time": "2023-08-07T06:44:14.057Z"
   },
   {
    "duration": 138,
    "start_time": "2023-08-07T06:44:20.016Z"
   },
   {
    "duration": 149,
    "start_time": "2023-08-07T06:44:23.373Z"
   },
   {
    "duration": 172,
    "start_time": "2023-08-07T06:44:27.960Z"
   },
   {
    "duration": 150,
    "start_time": "2023-08-07T06:44:31.962Z"
   },
   {
    "duration": 144,
    "start_time": "2023-08-07T06:44:35.596Z"
   },
   {
    "duration": 288,
    "start_time": "2023-08-07T06:44:50.830Z"
   },
   {
    "duration": 133,
    "start_time": "2023-08-07T06:46:21.198Z"
   },
   {
    "duration": 146,
    "start_time": "2023-08-07T06:46:28.314Z"
   },
   {
    "duration": 136,
    "start_time": "2023-08-07T06:47:17.500Z"
   },
   {
    "duration": 23,
    "start_time": "2023-08-07T06:47:50.968Z"
   },
   {
    "duration": 150,
    "start_time": "2023-08-07T06:48:06.848Z"
   },
   {
    "duration": 141,
    "start_time": "2023-08-07T06:48:31.547Z"
   },
   {
    "duration": 146,
    "start_time": "2023-08-07T06:49:05.572Z"
   },
   {
    "duration": 147,
    "start_time": "2023-08-07T06:49:32.747Z"
   },
   {
    "duration": 144,
    "start_time": "2023-08-07T06:49:50.755Z"
   },
   {
    "duration": 171,
    "start_time": "2023-08-07T06:50:16.947Z"
   },
   {
    "duration": 151,
    "start_time": "2023-08-07T06:50:40.539Z"
   },
   {
    "duration": 263,
    "start_time": "2023-08-07T06:52:54.537Z"
   },
   {
    "duration": 188,
    "start_time": "2023-08-07T06:53:11.624Z"
   },
   {
    "duration": 260,
    "start_time": "2023-08-07T06:53:21.018Z"
   },
   {
    "duration": 295,
    "start_time": "2023-08-07T06:54:53.792Z"
   },
   {
    "duration": 246,
    "start_time": "2023-08-07T06:55:05.090Z"
   },
   {
    "duration": 37,
    "start_time": "2023-08-07T06:55:36.031Z"
   },
   {
    "duration": 345,
    "start_time": "2023-08-07T06:55:56.049Z"
   },
   {
    "duration": 455,
    "start_time": "2023-08-07T06:56:07.576Z"
   },
   {
    "duration": 320,
    "start_time": "2023-08-07T06:56:17.399Z"
   },
   {
    "duration": 290,
    "start_time": "2023-08-07T06:56:44.265Z"
   },
   {
    "duration": 244,
    "start_time": "2023-08-07T06:56:56.291Z"
   },
   {
    "duration": 278,
    "start_time": "2023-08-07T06:57:13.989Z"
   },
   {
    "duration": 275,
    "start_time": "2023-08-07T06:57:48.043Z"
   },
   {
    "duration": 379,
    "start_time": "2023-08-07T07:00:27.290Z"
   },
   {
    "duration": 259,
    "start_time": "2023-08-07T07:00:33.267Z"
   },
   {
    "duration": 19,
    "start_time": "2023-08-07T07:01:28.897Z"
   },
   {
    "duration": 220,
    "start_time": "2023-08-07T07:01:30.048Z"
   },
   {
    "duration": 193,
    "start_time": "2023-08-07T07:01:46.502Z"
   },
   {
    "duration": 10,
    "start_time": "2023-08-07T07:01:54.638Z"
   },
   {
    "duration": 17,
    "start_time": "2023-08-07T07:02:00.924Z"
   },
   {
    "duration": 230,
    "start_time": "2023-08-07T07:02:09.854Z"
   },
   {
    "duration": 207,
    "start_time": "2023-08-07T07:02:23.101Z"
   },
   {
    "duration": 16,
    "start_time": "2023-08-07T07:02:28.743Z"
   },
   {
    "duration": 206,
    "start_time": "2023-08-07T07:02:31.020Z"
   },
   {
    "duration": 178,
    "start_time": "2023-08-07T07:02:42.602Z"
   },
   {
    "duration": 13,
    "start_time": "2023-08-07T07:03:11.708Z"
   },
   {
    "duration": 211,
    "start_time": "2023-08-07T07:03:21.316Z"
   },
   {
    "duration": 303,
    "start_time": "2023-08-07T07:03:50.620Z"
   },
   {
    "duration": 265,
    "start_time": "2023-08-07T07:04:07.318Z"
   },
   {
    "duration": 214,
    "start_time": "2023-08-07T07:04:24.306Z"
   },
   {
    "duration": 191,
    "start_time": "2023-08-07T07:04:37.846Z"
   },
   {
    "duration": 227,
    "start_time": "2023-08-07T07:04:42.972Z"
   },
   {
    "duration": 15,
    "start_time": "2023-08-07T07:04:47.324Z"
   },
   {
    "duration": 236,
    "start_time": "2023-08-07T07:05:01.360Z"
   },
   {
    "duration": 204,
    "start_time": "2023-08-07T07:05:08.527Z"
   },
   {
    "duration": 35,
    "start_time": "2023-08-07T07:05:14.680Z"
   },
   {
    "duration": 212,
    "start_time": "2023-08-07T07:05:30.022Z"
   },
   {
    "duration": 444,
    "start_time": "2023-08-07T07:06:34.421Z"
   },
   {
    "duration": 139,
    "start_time": "2023-08-07T07:06:34.867Z"
   },
   {
    "duration": 21,
    "start_time": "2023-08-07T07:06:35.007Z"
   },
   {
    "duration": 2621,
    "start_time": "2023-08-07T07:06:35.030Z"
   },
   {
    "duration": 61,
    "start_time": "2023-08-07T07:06:37.653Z"
   },
   {
    "duration": 6,
    "start_time": "2023-08-07T07:06:37.719Z"
   },
   {
    "duration": 28,
    "start_time": "2023-08-07T07:06:37.726Z"
   },
   {
    "duration": 39,
    "start_time": "2023-08-07T07:06:37.756Z"
   },
   {
    "duration": 20,
    "start_time": "2023-08-07T07:06:37.800Z"
   },
   {
    "duration": 10,
    "start_time": "2023-08-07T07:06:37.823Z"
   },
   {
    "duration": 24,
    "start_time": "2023-08-07T07:06:37.835Z"
   },
   {
    "duration": 3,
    "start_time": "2023-08-07T07:06:37.860Z"
   },
   {
    "duration": 4,
    "start_time": "2023-08-07T07:06:37.865Z"
   },
   {
    "duration": 17,
    "start_time": "2023-08-07T07:06:37.871Z"
   },
   {
    "duration": 13,
    "start_time": "2023-08-07T07:06:37.891Z"
   },
   {
    "duration": 13,
    "start_time": "2023-08-07T07:06:37.911Z"
   },
   {
    "duration": 12,
    "start_time": "2023-08-07T07:06:37.926Z"
   },
   {
    "duration": 9,
    "start_time": "2023-08-07T07:06:37.939Z"
   },
   {
    "duration": 8,
    "start_time": "2023-08-07T07:06:37.950Z"
   },
   {
    "duration": 81,
    "start_time": "2023-08-07T07:06:37.960Z"
   },
   {
    "duration": 0,
    "start_time": "2023-08-07T07:06:38.047Z"
   },
   {
    "duration": 0,
    "start_time": "2023-08-07T07:06:38.048Z"
   },
   {
    "duration": 0,
    "start_time": "2023-08-07T07:06:38.050Z"
   },
   {
    "duration": 0,
    "start_time": "2023-08-07T07:06:38.052Z"
   },
   {
    "duration": 0,
    "start_time": "2023-08-07T07:06:38.053Z"
   },
   {
    "duration": 0,
    "start_time": "2023-08-07T07:06:38.055Z"
   },
   {
    "duration": 0,
    "start_time": "2023-08-07T07:06:38.056Z"
   },
   {
    "duration": 0,
    "start_time": "2023-08-07T07:06:38.058Z"
   },
   {
    "duration": 0,
    "start_time": "2023-08-07T07:06:38.059Z"
   },
   {
    "duration": 0,
    "start_time": "2023-08-07T07:06:38.061Z"
   },
   {
    "duration": 0,
    "start_time": "2023-08-07T07:06:38.063Z"
   },
   {
    "duration": 0,
    "start_time": "2023-08-07T07:06:38.064Z"
   },
   {
    "duration": 0,
    "start_time": "2023-08-07T07:06:38.065Z"
   },
   {
    "duration": 0,
    "start_time": "2023-08-07T07:06:38.067Z"
   },
   {
    "duration": 0,
    "start_time": "2023-08-07T07:06:38.068Z"
   },
   {
    "duration": 0,
    "start_time": "2023-08-07T07:06:38.070Z"
   },
   {
    "duration": 0,
    "start_time": "2023-08-07T07:06:38.071Z"
   },
   {
    "duration": 0,
    "start_time": "2023-08-07T07:06:38.073Z"
   },
   {
    "duration": 0,
    "start_time": "2023-08-07T07:06:38.077Z"
   },
   {
    "duration": 0,
    "start_time": "2023-08-07T07:06:38.078Z"
   },
   {
    "duration": 0,
    "start_time": "2023-08-07T07:06:38.081Z"
   },
   {
    "duration": 0,
    "start_time": "2023-08-07T07:06:38.082Z"
   },
   {
    "duration": 0,
    "start_time": "2023-08-07T07:06:38.082Z"
   },
   {
    "duration": 0,
    "start_time": "2023-08-07T07:06:38.083Z"
   },
   {
    "duration": 0,
    "start_time": "2023-08-07T07:06:38.084Z"
   },
   {
    "duration": 0,
    "start_time": "2023-08-07T07:06:38.085Z"
   },
   {
    "duration": 0,
    "start_time": "2023-08-07T07:06:38.086Z"
   },
   {
    "duration": 0,
    "start_time": "2023-08-07T07:06:38.087Z"
   },
   {
    "duration": 0,
    "start_time": "2023-08-07T07:06:38.088Z"
   },
   {
    "duration": 0,
    "start_time": "2023-08-07T07:06:38.092Z"
   },
   {
    "duration": 0,
    "start_time": "2023-08-07T07:06:38.094Z"
   },
   {
    "duration": 0,
    "start_time": "2023-08-07T07:06:38.095Z"
   },
   {
    "duration": 0,
    "start_time": "2023-08-07T07:06:38.096Z"
   },
   {
    "duration": 0,
    "start_time": "2023-08-07T07:06:38.097Z"
   },
   {
    "duration": 0,
    "start_time": "2023-08-07T07:06:38.098Z"
   },
   {
    "duration": 0,
    "start_time": "2023-08-07T07:06:38.099Z"
   },
   {
    "duration": 0,
    "start_time": "2023-08-07T07:06:38.100Z"
   },
   {
    "duration": 0,
    "start_time": "2023-08-07T07:06:38.101Z"
   },
   {
    "duration": 0,
    "start_time": "2023-08-07T07:06:38.102Z"
   },
   {
    "duration": 0,
    "start_time": "2023-08-07T07:06:38.110Z"
   },
   {
    "duration": 0,
    "start_time": "2023-08-07T07:06:38.111Z"
   },
   {
    "duration": 0,
    "start_time": "2023-08-07T07:06:38.117Z"
   },
   {
    "duration": 0,
    "start_time": "2023-08-07T07:06:38.118Z"
   },
   {
    "duration": 0,
    "start_time": "2023-08-07T07:06:38.125Z"
   },
   {
    "duration": 0,
    "start_time": "2023-08-07T07:06:38.126Z"
   },
   {
    "duration": 0,
    "start_time": "2023-08-07T07:06:38.133Z"
   },
   {
    "duration": 0,
    "start_time": "2023-08-07T07:06:38.134Z"
   },
   {
    "duration": 0,
    "start_time": "2023-08-07T07:06:38.135Z"
   },
   {
    "duration": 1,
    "start_time": "2023-08-07T07:06:38.136Z"
   },
   {
    "duration": 0,
    "start_time": "2023-08-07T07:06:38.138Z"
   },
   {
    "duration": 0,
    "start_time": "2023-08-07T07:06:38.178Z"
   },
   {
    "duration": 0,
    "start_time": "2023-08-07T07:06:38.180Z"
   },
   {
    "duration": 0,
    "start_time": "2023-08-07T07:06:38.183Z"
   },
   {
    "duration": 0,
    "start_time": "2023-08-07T07:06:38.184Z"
   },
   {
    "duration": 0,
    "start_time": "2023-08-07T07:06:38.185Z"
   },
   {
    "duration": 0,
    "start_time": "2023-08-07T07:06:38.187Z"
   },
   {
    "duration": 0,
    "start_time": "2023-08-07T07:06:38.190Z"
   },
   {
    "duration": 0,
    "start_time": "2023-08-07T07:06:38.191Z"
   },
   {
    "duration": 0,
    "start_time": "2023-08-07T07:06:38.193Z"
   },
   {
    "duration": 0,
    "start_time": "2023-08-07T07:06:38.194Z"
   },
   {
    "duration": 87,
    "start_time": "2023-08-07T07:07:07.022Z"
   },
   {
    "duration": 8,
    "start_time": "2023-08-07T07:08:10.961Z"
   },
   {
    "duration": 22,
    "start_time": "2023-08-07T07:08:11.415Z"
   },
   {
    "duration": 527,
    "start_time": "2023-08-07T07:08:21.829Z"
   },
   {
    "duration": 138,
    "start_time": "2023-08-07T07:08:22.358Z"
   },
   {
    "duration": 27,
    "start_time": "2023-08-07T07:08:22.498Z"
   },
   {
    "duration": 2917,
    "start_time": "2023-08-07T07:08:22.528Z"
   },
   {
    "duration": 51,
    "start_time": "2023-08-07T07:08:25.448Z"
   },
   {
    "duration": 5,
    "start_time": "2023-08-07T07:08:25.502Z"
   },
   {
    "duration": 30,
    "start_time": "2023-08-07T07:08:25.509Z"
   },
   {
    "duration": 11,
    "start_time": "2023-08-07T07:08:25.542Z"
   },
   {
    "duration": 6,
    "start_time": "2023-08-07T07:08:25.555Z"
   },
   {
    "duration": 11,
    "start_time": "2023-08-07T07:08:25.562Z"
   },
   {
    "duration": 33,
    "start_time": "2023-08-07T07:08:25.578Z"
   },
   {
    "duration": 4,
    "start_time": "2023-08-07T07:08:25.613Z"
   },
   {
    "duration": 18,
    "start_time": "2023-08-07T07:08:25.619Z"
   },
   {
    "duration": 7,
    "start_time": "2023-08-07T07:08:25.641Z"
   },
   {
    "duration": 12,
    "start_time": "2023-08-07T07:08:25.649Z"
   },
   {
    "duration": 10,
    "start_time": "2023-08-07T07:08:25.663Z"
   },
   {
    "duration": 16,
    "start_time": "2023-08-07T07:08:25.688Z"
   },
   {
    "duration": 33,
    "start_time": "2023-08-07T07:08:25.708Z"
   },
   {
    "duration": 27,
    "start_time": "2023-08-07T07:08:25.743Z"
   },
   {
    "duration": 35,
    "start_time": "2023-08-07T07:08:25.772Z"
   },
   {
    "duration": 63,
    "start_time": "2023-08-07T07:08:25.814Z"
   },
   {
    "duration": 15,
    "start_time": "2023-08-07T07:08:25.879Z"
   },
   {
    "duration": 6453,
    "start_time": "2023-08-07T07:08:25.896Z"
   },
   {
    "duration": 7,
    "start_time": "2023-08-07T07:08:32.351Z"
   },
   {
    "duration": 18,
    "start_time": "2023-08-07T07:08:32.360Z"
   },
   {
    "duration": 29,
    "start_time": "2023-08-07T07:08:32.380Z"
   },
   {
    "duration": 18,
    "start_time": "2023-08-07T07:08:32.411Z"
   },
   {
    "duration": 23,
    "start_time": "2023-08-07T07:08:32.434Z"
   },
   {
    "duration": 25,
    "start_time": "2023-08-07T07:08:32.459Z"
   },
   {
    "duration": 20,
    "start_time": "2023-08-07T07:08:32.490Z"
   },
   {
    "duration": 14,
    "start_time": "2023-08-07T07:08:32.512Z"
   },
   {
    "duration": 23,
    "start_time": "2023-08-07T07:08:32.528Z"
   },
   {
    "duration": 13,
    "start_time": "2023-08-07T07:08:32.553Z"
   },
   {
    "duration": 34,
    "start_time": "2023-08-07T07:08:32.568Z"
   },
   {
    "duration": 22,
    "start_time": "2023-08-07T07:08:32.605Z"
   },
   {
    "duration": 33,
    "start_time": "2023-08-07T07:08:32.629Z"
   },
   {
    "duration": 34,
    "start_time": "2023-08-07T07:08:32.664Z"
   },
   {
    "duration": 15,
    "start_time": "2023-08-07T07:08:32.706Z"
   },
   {
    "duration": 8,
    "start_time": "2023-08-07T07:08:32.724Z"
   },
   {
    "duration": 12239,
    "start_time": "2023-08-07T07:08:32.734Z"
   },
   {
    "duration": 233,
    "start_time": "2023-08-07T07:08:44.980Z"
   },
   {
    "duration": 150,
    "start_time": "2023-08-07T07:08:45.215Z"
   },
   {
    "duration": 284,
    "start_time": "2023-08-07T07:08:45.367Z"
   },
   {
    "duration": 175,
    "start_time": "2023-08-07T07:08:45.653Z"
   },
   {
    "duration": 177,
    "start_time": "2023-08-07T07:08:45.830Z"
   },
   {
    "duration": 166,
    "start_time": "2023-08-07T07:08:46.013Z"
   },
   {
    "duration": 154,
    "start_time": "2023-08-07T07:08:46.188Z"
   },
   {
    "duration": 156,
    "start_time": "2023-08-07T07:08:46.343Z"
   },
   {
    "duration": 146,
    "start_time": "2023-08-07T07:08:46.500Z"
   },
   {
    "duration": 175,
    "start_time": "2023-08-07T07:08:46.648Z"
   },
   {
    "duration": 172,
    "start_time": "2023-08-07T07:08:46.825Z"
   },
   {
    "duration": 155,
    "start_time": "2023-08-07T07:08:47.004Z"
   },
   {
    "duration": 191,
    "start_time": "2023-08-07T07:08:47.161Z"
   },
   {
    "duration": 234,
    "start_time": "2023-08-07T07:08:47.354Z"
   },
   {
    "duration": 261,
    "start_time": "2023-08-07T07:08:47.600Z"
   },
   {
    "duration": 276,
    "start_time": "2023-08-07T07:08:47.863Z"
   },
   {
    "duration": 61,
    "start_time": "2023-08-07T07:08:48.141Z"
   },
   {
    "duration": 31,
    "start_time": "2023-08-07T07:08:48.204Z"
   },
   {
    "duration": 268,
    "start_time": "2023-08-07T07:08:48.238Z"
   },
   {
    "duration": 17,
    "start_time": "2023-08-07T07:08:48.509Z"
   },
   {
    "duration": 201,
    "start_time": "2023-08-07T07:08:48.528Z"
   },
   {
    "duration": 14,
    "start_time": "2023-08-07T07:08:48.731Z"
   },
   {
    "duration": 221,
    "start_time": "2023-08-07T07:08:48.747Z"
   },
   {
    "duration": 17,
    "start_time": "2023-08-07T07:08:48.969Z"
   },
   {
    "duration": 423,
    "start_time": "2023-08-07T07:11:43.919Z"
   },
   {
    "duration": 113,
    "start_time": "2023-08-07T07:11:44.344Z"
   },
   {
    "duration": 26,
    "start_time": "2023-08-07T07:11:44.459Z"
   },
   {
    "duration": 2606,
    "start_time": "2023-08-07T07:11:44.490Z"
   },
   {
    "duration": 71,
    "start_time": "2023-08-07T07:11:47.102Z"
   },
   {
    "duration": 12,
    "start_time": "2023-08-07T07:11:47.177Z"
   },
   {
    "duration": 17,
    "start_time": "2023-08-07T07:11:47.197Z"
   },
   {
    "duration": 10,
    "start_time": "2023-08-07T07:11:47.216Z"
   },
   {
    "duration": 10,
    "start_time": "2023-08-07T07:11:47.228Z"
   },
   {
    "duration": 12,
    "start_time": "2023-08-07T07:11:47.241Z"
   },
   {
    "duration": 18,
    "start_time": "2023-08-07T07:11:47.255Z"
   },
   {
    "duration": 16,
    "start_time": "2023-08-07T07:11:47.282Z"
   },
   {
    "duration": 4,
    "start_time": "2023-08-07T07:11:47.315Z"
   },
   {
    "duration": 11,
    "start_time": "2023-08-07T07:11:47.321Z"
   },
   {
    "duration": 10,
    "start_time": "2023-08-07T07:11:47.334Z"
   },
   {
    "duration": 24,
    "start_time": "2023-08-07T07:11:47.345Z"
   },
   {
    "duration": 23,
    "start_time": "2023-08-07T07:11:47.371Z"
   },
   {
    "duration": 17,
    "start_time": "2023-08-07T07:11:47.396Z"
   },
   {
    "duration": 6,
    "start_time": "2023-08-07T07:11:47.423Z"
   },
   {
    "duration": 12,
    "start_time": "2023-08-07T07:11:47.431Z"
   },
   {
    "duration": 72,
    "start_time": "2023-08-07T07:11:47.445Z"
   },
   {
    "duration": 6,
    "start_time": "2023-08-07T07:11:47.523Z"
   },
   {
    "duration": 5758,
    "start_time": "2023-08-07T07:11:47.531Z"
   },
   {
    "duration": 16,
    "start_time": "2023-08-07T07:11:53.297Z"
   },
   {
    "duration": 14,
    "start_time": "2023-08-07T07:11:53.315Z"
   },
   {
    "duration": 20,
    "start_time": "2023-08-07T07:11:53.331Z"
   },
   {
    "duration": 35,
    "start_time": "2023-08-07T07:11:53.353Z"
   },
   {
    "duration": 9,
    "start_time": "2023-08-07T07:11:53.393Z"
   },
   {
    "duration": 18,
    "start_time": "2023-08-07T07:11:53.407Z"
   },
   {
    "duration": 6,
    "start_time": "2023-08-07T07:11:53.426Z"
   },
   {
    "duration": 13,
    "start_time": "2023-08-07T07:11:53.434Z"
   },
   {
    "duration": 48,
    "start_time": "2023-08-07T07:11:53.449Z"
   },
   {
    "duration": 9,
    "start_time": "2023-08-07T07:11:53.506Z"
   },
   {
    "duration": 20,
    "start_time": "2023-08-07T07:11:53.516Z"
   },
   {
    "duration": 5,
    "start_time": "2023-08-07T07:11:53.538Z"
   },
   {
    "duration": 46,
    "start_time": "2023-08-07T07:11:53.545Z"
   },
   {
    "duration": 24,
    "start_time": "2023-08-07T07:11:53.595Z"
   },
   {
    "duration": 6,
    "start_time": "2023-08-07T07:11:53.621Z"
   },
   {
    "duration": 9,
    "start_time": "2023-08-07T07:11:53.628Z"
   },
   {
    "duration": 12321,
    "start_time": "2023-08-07T07:11:53.639Z"
   },
   {
    "duration": 172,
    "start_time": "2023-08-07T07:12:05.962Z"
   },
   {
    "duration": 145,
    "start_time": "2023-08-07T07:12:06.136Z"
   },
   {
    "duration": 258,
    "start_time": "2023-08-07T07:12:06.283Z"
   },
   {
    "duration": 169,
    "start_time": "2023-08-07T07:12:06.543Z"
   },
   {
    "duration": 171,
    "start_time": "2023-08-07T07:12:06.714Z"
   },
   {
    "duration": 161,
    "start_time": "2023-08-07T07:12:06.886Z"
   },
   {
    "duration": 175,
    "start_time": "2023-08-07T07:12:07.049Z"
   },
   {
    "duration": 138,
    "start_time": "2023-08-07T07:12:07.226Z"
   },
   {
    "duration": 160,
    "start_time": "2023-08-07T07:12:07.365Z"
   },
   {
    "duration": 172,
    "start_time": "2023-08-07T07:12:07.527Z"
   },
   {
    "duration": 189,
    "start_time": "2023-08-07T07:12:07.708Z"
   },
   {
    "duration": 166,
    "start_time": "2023-08-07T07:12:07.900Z"
   },
   {
    "duration": 222,
    "start_time": "2023-08-07T07:12:08.068Z"
   },
   {
    "duration": 240,
    "start_time": "2023-08-07T07:12:08.292Z"
   },
   {
    "duration": 290,
    "start_time": "2023-08-07T07:12:08.534Z"
   },
   {
    "duration": 300,
    "start_time": "2023-08-07T07:12:08.826Z"
   },
   {
    "duration": 33,
    "start_time": "2023-08-07T07:12:09.127Z"
   },
   {
    "duration": 43,
    "start_time": "2023-08-07T07:12:09.162Z"
   },
   {
    "duration": 232,
    "start_time": "2023-08-07T07:12:09.207Z"
   },
   {
    "duration": 18,
    "start_time": "2023-08-07T07:12:09.441Z"
   },
   {
    "duration": 230,
    "start_time": "2023-08-07T07:12:09.461Z"
   },
   {
    "duration": 24,
    "start_time": "2023-08-07T07:12:09.699Z"
   },
   {
    "duration": 214,
    "start_time": "2023-08-07T07:12:09.726Z"
   },
   {
    "duration": 13,
    "start_time": "2023-08-07T07:12:09.942Z"
   },
   {
    "duration": 258,
    "start_time": "2023-08-07T07:12:09.957Z"
   },
   {
    "duration": 20,
    "start_time": "2023-08-07T07:12:10.216Z"
   },
   {
    "duration": 250,
    "start_time": "2023-08-07T07:12:10.238Z"
   },
   {
    "duration": 30,
    "start_time": "2023-08-07T07:12:10.490Z"
   },
   {
    "duration": 229,
    "start_time": "2023-08-07T07:12:10.523Z"
   },
   {
    "duration": 45,
    "start_time": "2023-08-07T07:12:10.754Z"
   },
   {
    "duration": 307,
    "start_time": "2023-08-07T07:12:10.801Z"
   },
   {
    "duration": 15,
    "start_time": "2023-08-07T07:12:11.113Z"
   },
   {
    "duration": 216,
    "start_time": "2023-08-07T07:12:11.131Z"
   },
   {
    "duration": 33,
    "start_time": "2023-08-07T07:12:11.349Z"
   },
   {
    "duration": 32,
    "start_time": "2023-08-07T07:12:11.390Z"
   },
   {
    "duration": 35,
    "start_time": "2023-08-07T07:12:11.424Z"
   },
   {
    "duration": 51,
    "start_time": "2023-08-07T07:12:11.460Z"
   },
   {
    "duration": 215,
    "start_time": "2023-08-07T07:12:11.513Z"
   },
   {
    "duration": 7,
    "start_time": "2023-08-07T07:12:11.730Z"
   },
   {
    "duration": 442,
    "start_time": "2023-08-07T07:13:22.390Z"
   },
   {
    "duration": 114,
    "start_time": "2023-08-07T07:13:22.834Z"
   },
   {
    "duration": 15,
    "start_time": "2023-08-07T07:13:22.950Z"
   },
   {
    "duration": 2448,
    "start_time": "2023-08-07T07:13:22.967Z"
   },
   {
    "duration": 66,
    "start_time": "2023-08-07T07:13:25.417Z"
   },
   {
    "duration": 11,
    "start_time": "2023-08-07T07:13:25.493Z"
   },
   {
    "duration": 27,
    "start_time": "2023-08-07T07:13:25.506Z"
   },
   {
    "duration": 18,
    "start_time": "2023-08-07T07:13:25.535Z"
   },
   {
    "duration": 33,
    "start_time": "2023-08-07T07:13:25.555Z"
   },
   {
    "duration": 5,
    "start_time": "2023-08-07T07:13:25.590Z"
   },
   {
    "duration": 30,
    "start_time": "2023-08-07T07:13:25.596Z"
   },
   {
    "duration": 3,
    "start_time": "2023-08-07T07:13:25.628Z"
   },
   {
    "duration": 5,
    "start_time": "2023-08-07T07:13:25.633Z"
   },
   {
    "duration": 5,
    "start_time": "2023-08-07T07:13:25.640Z"
   },
   {
    "duration": 15,
    "start_time": "2023-08-07T07:13:25.647Z"
   },
   {
    "duration": 24,
    "start_time": "2023-08-07T07:13:25.664Z"
   },
   {
    "duration": 16,
    "start_time": "2023-08-07T07:13:25.690Z"
   },
   {
    "duration": 7,
    "start_time": "2023-08-07T07:13:25.708Z"
   },
   {
    "duration": 8,
    "start_time": "2023-08-07T07:13:25.717Z"
   },
   {
    "duration": 12,
    "start_time": "2023-08-07T07:13:25.727Z"
   },
   {
    "duration": 19,
    "start_time": "2023-08-07T07:13:25.741Z"
   },
   {
    "duration": 12,
    "start_time": "2023-08-07T07:13:25.779Z"
   },
   {
    "duration": 5415,
    "start_time": "2023-08-07T07:13:25.792Z"
   },
   {
    "duration": 7,
    "start_time": "2023-08-07T07:13:31.209Z"
   },
   {
    "duration": 35,
    "start_time": "2023-08-07T07:13:31.218Z"
   },
   {
    "duration": 50,
    "start_time": "2023-08-07T07:13:31.255Z"
   },
   {
    "duration": 32,
    "start_time": "2023-08-07T07:13:31.307Z"
   },
   {
    "duration": 45,
    "start_time": "2023-08-07T07:13:31.340Z"
   },
   {
    "duration": 44,
    "start_time": "2023-08-07T07:13:31.387Z"
   },
   {
    "duration": 39,
    "start_time": "2023-08-07T07:13:31.433Z"
   },
   {
    "duration": 36,
    "start_time": "2023-08-07T07:13:31.474Z"
   },
   {
    "duration": 68,
    "start_time": "2023-08-07T07:13:31.513Z"
   },
   {
    "duration": 26,
    "start_time": "2023-08-07T07:13:31.585Z"
   },
   {
    "duration": 13,
    "start_time": "2023-08-07T07:13:31.613Z"
   },
   {
    "duration": 42,
    "start_time": "2023-08-07T07:13:31.628Z"
   },
   {
    "duration": 83,
    "start_time": "2023-08-07T07:13:31.672Z"
   },
   {
    "duration": 53,
    "start_time": "2023-08-07T07:13:31.756Z"
   },
   {
    "duration": 84,
    "start_time": "2023-08-07T07:13:31.811Z"
   },
   {
    "duration": 51,
    "start_time": "2023-08-07T07:13:31.897Z"
   },
   {
    "duration": 12754,
    "start_time": "2023-08-07T07:13:31.950Z"
   },
   {
    "duration": 153,
    "start_time": "2023-08-07T07:13:44.710Z"
   },
   {
    "duration": 162,
    "start_time": "2023-08-07T07:13:44.865Z"
   },
   {
    "duration": 268,
    "start_time": "2023-08-07T07:13:45.029Z"
   },
   {
    "duration": 159,
    "start_time": "2023-08-07T07:13:45.299Z"
   },
   {
    "duration": 170,
    "start_time": "2023-08-07T07:13:45.460Z"
   },
   {
    "duration": 173,
    "start_time": "2023-08-07T07:13:45.632Z"
   },
   {
    "duration": 150,
    "start_time": "2023-08-07T07:13:45.808Z"
   },
   {
    "duration": 150,
    "start_time": "2023-08-07T07:13:45.961Z"
   },
   {
    "duration": 154,
    "start_time": "2023-08-07T07:13:46.113Z"
   },
   {
    "duration": 181,
    "start_time": "2023-08-07T07:13:46.268Z"
   },
   {
    "duration": 204,
    "start_time": "2023-08-07T07:13:46.451Z"
   },
   {
    "duration": 186,
    "start_time": "2023-08-07T07:13:46.657Z"
   },
   {
    "duration": 195,
    "start_time": "2023-08-07T07:13:46.845Z"
   },
   {
    "duration": 232,
    "start_time": "2023-08-07T07:13:47.042Z"
   },
   {
    "duration": 270,
    "start_time": "2023-08-07T07:13:47.276Z"
   },
   {
    "duration": 283,
    "start_time": "2023-08-07T07:13:47.547Z"
   },
   {
    "duration": 31,
    "start_time": "2023-08-07T07:13:47.832Z"
   },
   {
    "duration": 31,
    "start_time": "2023-08-07T07:13:47.865Z"
   },
   {
    "duration": 220,
    "start_time": "2023-08-07T07:13:47.900Z"
   },
   {
    "duration": 16,
    "start_time": "2023-08-07T07:13:48.122Z"
   },
   {
    "duration": 232,
    "start_time": "2023-08-07T07:13:48.139Z"
   },
   {
    "duration": 28,
    "start_time": "2023-08-07T07:13:48.374Z"
   },
   {
    "duration": 263,
    "start_time": "2023-08-07T07:13:48.404Z"
   },
   {
    "duration": 33,
    "start_time": "2023-08-07T07:13:48.669Z"
   },
   {
    "duration": 416,
    "start_time": "2023-08-07T07:16:11.231Z"
   },
   {
    "duration": 110,
    "start_time": "2023-08-07T07:16:11.648Z"
   },
   {
    "duration": 43,
    "start_time": "2023-08-07T07:16:11.760Z"
   },
   {
    "duration": 2656,
    "start_time": "2023-08-07T07:16:11.807Z"
   },
   {
    "duration": 69,
    "start_time": "2023-08-07T07:16:14.464Z"
   },
   {
    "duration": 5,
    "start_time": "2023-08-07T07:16:14.534Z"
   },
   {
    "duration": 8,
    "start_time": "2023-08-07T07:16:14.541Z"
   },
   {
    "duration": 8,
    "start_time": "2023-08-07T07:16:14.550Z"
   },
   {
    "duration": 6,
    "start_time": "2023-08-07T07:16:14.559Z"
   },
   {
    "duration": 21,
    "start_time": "2023-08-07T07:16:14.568Z"
   },
   {
    "duration": 20,
    "start_time": "2023-08-07T07:16:14.590Z"
   },
   {
    "duration": 3,
    "start_time": "2023-08-07T07:16:14.612Z"
   },
   {
    "duration": 11,
    "start_time": "2023-08-07T07:16:14.617Z"
   },
   {
    "duration": 17,
    "start_time": "2023-08-07T07:16:14.629Z"
   },
   {
    "duration": 49,
    "start_time": "2023-08-07T07:16:14.648Z"
   },
   {
    "duration": 32,
    "start_time": "2023-08-07T07:16:14.699Z"
   },
   {
    "duration": 84,
    "start_time": "2023-08-07T07:16:14.733Z"
   },
   {
    "duration": 135,
    "start_time": "2023-08-07T07:16:14.819Z"
   },
   {
    "duration": 6,
    "start_time": "2023-08-07T07:16:14.956Z"
   },
   {
    "duration": 8,
    "start_time": "2023-08-07T07:16:14.963Z"
   },
   {
    "duration": 44,
    "start_time": "2023-08-07T07:16:14.973Z"
   },
   {
    "duration": 38,
    "start_time": "2023-08-07T07:16:15.019Z"
   },
   {
    "duration": 5473,
    "start_time": "2023-08-07T07:16:15.059Z"
   },
   {
    "duration": 9,
    "start_time": "2023-08-07T07:16:20.535Z"
   },
   {
    "duration": 31,
    "start_time": "2023-08-07T07:16:20.546Z"
   },
   {
    "duration": 33,
    "start_time": "2023-08-07T07:16:20.582Z"
   },
   {
    "duration": 32,
    "start_time": "2023-08-07T07:16:20.618Z"
   },
   {
    "duration": 67,
    "start_time": "2023-08-07T07:16:20.656Z"
   },
   {
    "duration": 63,
    "start_time": "2023-08-07T07:16:20.724Z"
   },
   {
    "duration": 36,
    "start_time": "2023-08-07T07:16:20.790Z"
   },
   {
    "duration": 35,
    "start_time": "2023-08-07T07:16:20.827Z"
   },
   {
    "duration": 36,
    "start_time": "2023-08-07T07:16:20.864Z"
   },
   {
    "duration": 27,
    "start_time": "2023-08-07T07:16:20.903Z"
   },
   {
    "duration": 17,
    "start_time": "2023-08-07T07:16:20.932Z"
   },
   {
    "duration": 10,
    "start_time": "2023-08-07T07:16:20.951Z"
   },
   {
    "duration": 56,
    "start_time": "2023-08-07T07:16:20.962Z"
   },
   {
    "duration": 5,
    "start_time": "2023-08-07T07:16:21.020Z"
   },
   {
    "duration": 17,
    "start_time": "2023-08-07T07:16:21.027Z"
   },
   {
    "duration": 54,
    "start_time": "2023-08-07T07:16:21.046Z"
   },
   {
    "duration": 12604,
    "start_time": "2023-08-07T07:16:21.102Z"
   },
   {
    "duration": 171,
    "start_time": "2023-08-07T07:16:33.708Z"
   },
   {
    "duration": 158,
    "start_time": "2023-08-07T07:16:33.885Z"
   },
   {
    "duration": 269,
    "start_time": "2023-08-07T07:16:34.044Z"
   },
   {
    "duration": 147,
    "start_time": "2023-08-07T07:16:34.315Z"
   },
   {
    "duration": 153,
    "start_time": "2023-08-07T07:16:34.463Z"
   },
   {
    "duration": 151,
    "start_time": "2023-08-07T07:16:34.619Z"
   },
   {
    "duration": 154,
    "start_time": "2023-08-07T07:16:34.773Z"
   },
   {
    "duration": 138,
    "start_time": "2023-08-07T07:16:34.928Z"
   },
   {
    "duration": 162,
    "start_time": "2023-08-07T07:16:35.068Z"
   },
   {
    "duration": 162,
    "start_time": "2023-08-07T07:16:35.232Z"
   },
   {
    "duration": 163,
    "start_time": "2023-08-07T07:16:35.395Z"
   },
   {
    "duration": 160,
    "start_time": "2023-08-07T07:16:35.559Z"
   },
   {
    "duration": 189,
    "start_time": "2023-08-07T07:16:35.721Z"
   },
   {
    "duration": 250,
    "start_time": "2023-08-07T07:16:35.913Z"
   },
   {
    "duration": 261,
    "start_time": "2023-08-07T07:16:36.164Z"
   },
   {
    "duration": 289,
    "start_time": "2023-08-07T07:16:36.427Z"
   },
   {
    "duration": 33,
    "start_time": "2023-08-07T07:16:36.718Z"
   },
   {
    "duration": 38,
    "start_time": "2023-08-07T07:16:36.754Z"
   },
   {
    "duration": 218,
    "start_time": "2023-08-07T07:16:36.796Z"
   },
   {
    "duration": 16,
    "start_time": "2023-08-07T07:16:37.017Z"
   },
   {
    "duration": 215,
    "start_time": "2023-08-07T07:16:37.035Z"
   },
   {
    "duration": 41,
    "start_time": "2023-08-07T07:16:37.252Z"
   },
   {
    "duration": 197,
    "start_time": "2023-08-07T07:16:37.299Z"
   },
   {
    "duration": 22,
    "start_time": "2023-08-07T07:16:37.499Z"
   },
   {
    "duration": 300690,
    "start_time": "2023-08-07T07:16:37.523Z"
   },
   {
    "duration": 27,
    "start_time": "2023-08-07T07:21:38.220Z"
   },
   {
    "duration": 416480,
    "start_time": "2023-08-07T07:21:38.257Z"
   },
   {
    "duration": 13,
    "start_time": "2023-08-07T07:28:34.738Z"
   },
   {
    "duration": 302036,
    "start_time": "2023-08-07T07:28:34.752Z"
   },
   {
    "duration": 22,
    "start_time": "2023-08-07T07:33:36.789Z"
   },
   {
    "duration": 247,
    "start_time": "2023-08-07T07:33:36.813Z"
   },
   {
    "duration": 39,
    "start_time": "2023-08-07T07:33:37.063Z"
   },
   {
    "duration": 206,
    "start_time": "2023-08-07T07:33:37.104Z"
   },
   {
    "duration": 16,
    "start_time": "2023-08-07T07:33:37.312Z"
   },
   {
    "duration": 18,
    "start_time": "2023-08-07T07:33:37.329Z"
   },
   {
    "duration": 43,
    "start_time": "2023-08-07T07:33:37.349Z"
   },
   {
    "duration": 18,
    "start_time": "2023-08-07T07:33:37.395Z"
   },
   {
    "duration": 237,
    "start_time": "2023-08-07T07:33:37.415Z"
   },
   {
    "duration": 6,
    "start_time": "2023-08-07T07:33:37.654Z"
   },
   {
    "duration": 449,
    "start_time": "2023-08-07T07:35:40.220Z"
   },
   {
    "duration": 111,
    "start_time": "2023-08-07T07:35:40.671Z"
   },
   {
    "duration": 23,
    "start_time": "2023-08-07T07:35:40.784Z"
   },
   {
    "duration": 2644,
    "start_time": "2023-08-07T07:35:45.759Z"
   },
   {
    "duration": 62,
    "start_time": "2023-08-07T07:35:57.139Z"
   },
   {
    "duration": 7,
    "start_time": "2023-08-07T07:36:02.157Z"
   },
   {
    "duration": 7,
    "start_time": "2023-08-07T07:36:06.552Z"
   },
   {
    "duration": 4,
    "start_time": "2023-08-07T07:36:06.964Z"
   },
   {
    "duration": 5,
    "start_time": "2023-08-07T07:36:07.358Z"
   },
   {
    "duration": 4,
    "start_time": "2023-08-07T07:36:07.722Z"
   },
   {
    "duration": 20,
    "start_time": "2023-08-07T07:36:08.655Z"
   },
   {
    "duration": 7,
    "start_time": "2023-08-07T07:36:10.600Z"
   },
   {
    "duration": 4,
    "start_time": "2023-08-07T07:36:10.840Z"
   },
   {
    "duration": 5,
    "start_time": "2023-08-07T07:36:11.042Z"
   },
   {
    "duration": 6,
    "start_time": "2023-08-07T07:36:14.646Z"
   },
   {
    "duration": 15,
    "start_time": "2023-08-07T07:36:18.998Z"
   },
   {
    "duration": 11,
    "start_time": "2023-08-07T07:36:20.891Z"
   },
   {
    "duration": 22,
    "start_time": "2023-08-07T07:36:21.173Z"
   },
   {
    "duration": 5,
    "start_time": "2023-08-07T07:36:21.417Z"
   },
   {
    "duration": 6,
    "start_time": "2023-08-07T07:36:24.662Z"
   },
   {
    "duration": 22,
    "start_time": "2023-08-07T07:36:25.104Z"
   },
   {
    "duration": 6,
    "start_time": "2023-08-07T07:36:27.865Z"
   },
   {
    "duration": 6245,
    "start_time": "2023-08-07T07:36:28.222Z"
   },
   {
    "duration": 34,
    "start_time": "2023-08-07T07:36:34.469Z"
   },
   {
    "duration": 7,
    "start_time": "2023-08-07T07:36:38.799Z"
   },
   {
    "duration": 6,
    "start_time": "2023-08-07T07:36:39.727Z"
   },
   {
    "duration": 10,
    "start_time": "2023-08-07T07:36:41.912Z"
   },
   {
    "duration": 15,
    "start_time": "2023-08-07T07:36:42.372Z"
   },
   {
    "duration": 9,
    "start_time": "2023-08-07T07:36:43.021Z"
   },
   {
    "duration": 6,
    "start_time": "2023-08-07T07:36:44.531Z"
   },
   {
    "duration": 7,
    "start_time": "2023-08-07T07:36:51.132Z"
   },
   {
    "duration": 18,
    "start_time": "2023-08-07T07:36:51.502Z"
   },
   {
    "duration": 7,
    "start_time": "2023-08-07T07:36:51.918Z"
   },
   {
    "duration": 23,
    "start_time": "2023-08-07T07:36:54.104Z"
   },
   {
    "duration": 8,
    "start_time": "2023-08-07T07:36:58.811Z"
   },
   {
    "duration": 37,
    "start_time": "2023-08-07T07:36:59.087Z"
   },
   {
    "duration": 7,
    "start_time": "2023-08-07T07:36:59.437Z"
   },
   {
    "duration": 6,
    "start_time": "2023-08-07T07:37:02.255Z"
   },
   {
    "duration": 11,
    "start_time": "2023-08-07T07:37:02.499Z"
   },
   {
    "duration": 13417,
    "start_time": "2023-08-07T07:37:02.712Z"
   },
   {
    "duration": 204,
    "start_time": "2023-08-07T07:37:16.132Z"
   },
   {
    "duration": 159,
    "start_time": "2023-08-07T07:37:16.338Z"
   },
   {
    "duration": 180,
    "start_time": "2023-08-07T07:37:24.516Z"
   },
   {
    "duration": 284,
    "start_time": "2023-08-07T07:37:27.871Z"
   },
   {
    "duration": 160,
    "start_time": "2023-08-07T07:37:28.239Z"
   },
   {
    "duration": 233,
    "start_time": "2023-08-07T07:37:28.514Z"
   },
   {
    "duration": 150,
    "start_time": "2023-08-07T07:37:31.021Z"
   },
   {
    "duration": 190,
    "start_time": "2023-08-07T07:37:32.905Z"
   },
   {
    "duration": 166,
    "start_time": "2023-08-07T07:37:33.114Z"
   },
   {
    "duration": 178,
    "start_time": "2023-08-07T07:37:33.290Z"
   },
   {
    "duration": 213,
    "start_time": "2023-08-07T07:37:35.401Z"
   },
   {
    "duration": 179,
    "start_time": "2023-08-07T07:37:35.617Z"
   },
   {
    "duration": 219,
    "start_time": "2023-08-07T07:37:35.799Z"
   },
   {
    "duration": 197,
    "start_time": "2023-08-07T07:37:39.016Z"
   },
   {
    "duration": 440,
    "start_time": "2023-08-07T07:37:51.319Z"
   },
   {
    "duration": 336,
    "start_time": "2023-08-07T07:37:51.762Z"
   },
   {
    "duration": 34,
    "start_time": "2023-08-07T07:37:54.832Z"
   },
   {
    "duration": 29,
    "start_time": "2023-08-07T07:37:57.370Z"
   },
   {
    "duration": 247,
    "start_time": "2023-08-07T07:38:01.794Z"
   },
   {
    "duration": 17,
    "start_time": "2023-08-07T07:38:02.043Z"
   },
   {
    "duration": 259,
    "start_time": "2023-08-07T07:38:02.175Z"
   },
   {
    "duration": 31,
    "start_time": "2023-08-07T07:38:07.260Z"
   },
   {
    "duration": 207,
    "start_time": "2023-08-07T07:38:13.447Z"
   },
   {
    "duration": 14,
    "start_time": "2023-08-07T07:38:14.342Z"
   },
   {
    "duration": 499,
    "start_time": "2023-08-07T07:44:31.523Z"
   },
   {
    "duration": 136,
    "start_time": "2023-08-07T07:44:32.025Z"
   },
   {
    "duration": 22,
    "start_time": "2023-08-07T07:44:32.164Z"
   },
   {
    "duration": 2779,
    "start_time": "2023-08-07T07:44:32.188Z"
   },
   {
    "duration": 58,
    "start_time": "2023-08-07T07:44:34.969Z"
   },
   {
    "duration": 6,
    "start_time": "2023-08-07T07:44:35.029Z"
   },
   {
    "duration": 54,
    "start_time": "2023-08-07T07:44:35.037Z"
   },
   {
    "duration": 40,
    "start_time": "2023-08-07T07:44:35.100Z"
   },
   {
    "duration": 67,
    "start_time": "2023-08-07T07:44:35.142Z"
   },
   {
    "duration": 53,
    "start_time": "2023-08-07T07:44:35.211Z"
   },
   {
    "duration": 51,
    "start_time": "2023-08-07T07:44:35.266Z"
   },
   {
    "duration": 40,
    "start_time": "2023-08-07T07:44:35.319Z"
   },
   {
    "duration": 35,
    "start_time": "2023-08-07T07:44:35.361Z"
   },
   {
    "duration": 22,
    "start_time": "2023-08-07T07:44:35.400Z"
   },
   {
    "duration": 40,
    "start_time": "2023-08-07T07:44:35.424Z"
   },
   {
    "duration": 85,
    "start_time": "2023-08-07T07:44:35.466Z"
   },
   {
    "duration": 51,
    "start_time": "2023-08-07T07:44:35.553Z"
   },
   {
    "duration": 11,
    "start_time": "2023-08-07T07:44:35.606Z"
   },
   {
    "duration": 41,
    "start_time": "2023-08-07T07:44:35.619Z"
   },
   {
    "duration": 42,
    "start_time": "2023-08-07T07:44:35.662Z"
   },
   {
    "duration": 39,
    "start_time": "2023-08-07T07:44:35.706Z"
   },
   {
    "duration": 6,
    "start_time": "2023-08-07T07:44:35.747Z"
   },
   {
    "duration": 6275,
    "start_time": "2023-08-07T07:44:35.755Z"
   },
   {
    "duration": 9,
    "start_time": "2023-08-07T07:44:42.032Z"
   },
   {
    "duration": 22,
    "start_time": "2023-08-07T07:44:42.042Z"
   },
   {
    "duration": 5,
    "start_time": "2023-08-07T07:44:42.066Z"
   },
   {
    "duration": 17,
    "start_time": "2023-08-07T07:44:42.075Z"
   },
   {
    "duration": 11,
    "start_time": "2023-08-07T07:44:42.095Z"
   },
   {
    "duration": 27,
    "start_time": "2023-08-07T07:44:42.109Z"
   },
   {
    "duration": 21,
    "start_time": "2023-08-07T07:44:42.140Z"
   },
   {
    "duration": 9,
    "start_time": "2023-08-07T07:44:42.164Z"
   },
   {
    "duration": 39,
    "start_time": "2023-08-07T07:44:42.175Z"
   },
   {
    "duration": 17,
    "start_time": "2023-08-07T07:44:42.216Z"
   },
   {
    "duration": 11,
    "start_time": "2023-08-07T07:44:42.235Z"
   },
   {
    "duration": 5,
    "start_time": "2023-08-07T07:44:42.248Z"
   },
   {
    "duration": 56,
    "start_time": "2023-08-07T07:44:42.255Z"
   },
   {
    "duration": 8,
    "start_time": "2023-08-07T07:44:42.319Z"
   },
   {
    "duration": 9,
    "start_time": "2023-08-07T07:44:42.329Z"
   },
   {
    "duration": 9,
    "start_time": "2023-08-07T07:44:42.340Z"
   },
   {
    "duration": 13519,
    "start_time": "2023-08-07T07:44:42.351Z"
   },
   {
    "duration": 186,
    "start_time": "2023-08-07T07:44:55.877Z"
   },
   {
    "duration": 165,
    "start_time": "2023-08-07T07:44:56.065Z"
   },
   {
    "duration": 277,
    "start_time": "2023-08-07T07:44:56.232Z"
   },
   {
    "duration": 157,
    "start_time": "2023-08-07T07:44:56.510Z"
   },
   {
    "duration": 159,
    "start_time": "2023-08-07T07:44:56.669Z"
   },
   {
    "duration": 183,
    "start_time": "2023-08-07T07:44:56.829Z"
   },
   {
    "duration": 153,
    "start_time": "2023-08-07T07:44:57.017Z"
   },
   {
    "duration": 166,
    "start_time": "2023-08-07T07:44:57.172Z"
   },
   {
    "duration": 172,
    "start_time": "2023-08-07T07:44:57.340Z"
   },
   {
    "duration": 176,
    "start_time": "2023-08-07T07:44:57.515Z"
   },
   {
    "duration": 193,
    "start_time": "2023-08-07T07:44:57.693Z"
   },
   {
    "duration": 176,
    "start_time": "2023-08-07T07:44:57.890Z"
   },
   {
    "duration": 220,
    "start_time": "2023-08-07T07:44:58.068Z"
   },
   {
    "duration": 245,
    "start_time": "2023-08-07T07:44:58.290Z"
   },
   {
    "duration": 281,
    "start_time": "2023-08-07T07:44:58.537Z"
   },
   {
    "duration": 304,
    "start_time": "2023-08-07T07:44:58.820Z"
   },
   {
    "duration": 35,
    "start_time": "2023-08-07T07:44:59.126Z"
   },
   {
    "duration": 31,
    "start_time": "2023-08-07T07:44:59.163Z"
   },
   {
    "duration": 251,
    "start_time": "2023-08-07T07:44:59.196Z"
   },
   {
    "duration": 15,
    "start_time": "2023-08-07T07:44:59.449Z"
   },
   {
    "duration": 254,
    "start_time": "2023-08-07T07:44:59.465Z"
   },
   {
    "duration": 21,
    "start_time": "2023-08-07T07:44:59.724Z"
   },
   {
    "duration": 245,
    "start_time": "2023-08-07T07:44:59.747Z"
   },
   {
    "duration": 23,
    "start_time": "2023-08-07T07:44:59.994Z"
   },
   {
    "duration": 77,
    "start_time": "2023-08-07T07:45:00.018Z"
   },
   {
    "duration": 43,
    "start_time": "2023-08-07T07:45:00.096Z"
   },
   {
    "duration": 540,
    "start_time": "2023-08-07T07:47:51.913Z"
   },
   {
    "duration": 154,
    "start_time": "2023-08-07T07:47:53.042Z"
   },
   {
    "duration": 17,
    "start_time": "2023-08-07T07:47:53.229Z"
   },
   {
    "duration": 2936,
    "start_time": "2023-08-07T07:47:53.367Z"
   },
   {
    "duration": 61,
    "start_time": "2023-08-07T07:47:56.307Z"
   },
   {
    "duration": 12,
    "start_time": "2023-08-07T07:47:56.370Z"
   },
   {
    "duration": 44,
    "start_time": "2023-08-07T07:47:56.385Z"
   },
   {
    "duration": 7,
    "start_time": "2023-08-07T07:47:56.432Z"
   },
   {
    "duration": 36,
    "start_time": "2023-08-07T07:47:56.441Z"
   },
   {
    "duration": 34,
    "start_time": "2023-08-07T07:47:56.479Z"
   },
   {
    "duration": 35,
    "start_time": "2023-08-07T07:47:56.515Z"
   },
   {
    "duration": 39,
    "start_time": "2023-08-07T07:47:56.552Z"
   },
   {
    "duration": 8,
    "start_time": "2023-08-07T07:47:56.671Z"
   },
   {
    "duration": 4,
    "start_time": "2023-08-07T07:47:58.835Z"
   },
   {
    "duration": 7,
    "start_time": "2023-08-07T07:47:59.353Z"
   },
   {
    "duration": 13,
    "start_time": "2023-08-07T07:48:00.010Z"
   },
   {
    "duration": 21,
    "start_time": "2023-08-07T07:48:00.167Z"
   },
   {
    "duration": 18,
    "start_time": "2023-08-07T07:48:00.338Z"
   },
   {
    "duration": 8,
    "start_time": "2023-08-07T07:48:01.931Z"
   },
   {
    "duration": 7,
    "start_time": "2023-08-07T07:48:02.440Z"
   },
   {
    "duration": 39,
    "start_time": "2023-08-07T07:48:02.610Z"
   },
   {
    "duration": 5,
    "start_time": "2023-08-07T07:48:04.933Z"
   },
   {
    "duration": 6270,
    "start_time": "2023-08-07T07:48:05.135Z"
   },
   {
    "duration": 16,
    "start_time": "2023-08-07T07:48:11.407Z"
   },
   {
    "duration": 9,
    "start_time": "2023-08-07T07:48:11.425Z"
   },
   {
    "duration": 13,
    "start_time": "2023-08-07T07:48:11.436Z"
   },
   {
    "duration": 7,
    "start_time": "2023-08-07T07:48:11.451Z"
   },
   {
    "duration": 19,
    "start_time": "2023-08-07T07:48:11.460Z"
   },
   {
    "duration": 12,
    "start_time": "2023-08-07T07:48:11.481Z"
   },
   {
    "duration": 6,
    "start_time": "2023-08-07T07:48:11.495Z"
   },
   {
    "duration": 16,
    "start_time": "2023-08-07T07:48:11.503Z"
   },
   {
    "duration": 26,
    "start_time": "2023-08-07T07:48:11.521Z"
   },
   {
    "duration": 13,
    "start_time": "2023-08-07T07:48:11.548Z"
   },
   {
    "duration": 12,
    "start_time": "2023-08-07T07:48:16.781Z"
   },
   {
    "duration": 5,
    "start_time": "2023-08-07T07:48:21.156Z"
   },
   {
    "duration": 43,
    "start_time": "2023-08-07T07:48:21.202Z"
   },
   {
    "duration": 7,
    "start_time": "2023-08-07T07:48:21.352Z"
   },
   {
    "duration": 10,
    "start_time": "2023-08-07T07:48:21.511Z"
   },
   {
    "duration": 17,
    "start_time": "2023-08-07T07:48:23.280Z"
   },
   {
    "duration": 13449,
    "start_time": "2023-08-07T07:48:23.416Z"
   },
   {
    "duration": 171,
    "start_time": "2023-08-07T07:48:36.867Z"
   },
   {
    "duration": 146,
    "start_time": "2023-08-07T07:48:37.039Z"
   },
   {
    "duration": 185,
    "start_time": "2023-08-07T07:48:37.187Z"
   },
   {
    "duration": 290,
    "start_time": "2023-08-07T07:48:37.374Z"
   },
   {
    "duration": 197,
    "start_time": "2023-08-07T07:48:37.667Z"
   },
   {
    "duration": 171,
    "start_time": "2023-08-07T07:48:37.865Z"
   },
   {
    "duration": 171,
    "start_time": "2023-08-07T07:48:38.038Z"
   },
   {
    "duration": 173,
    "start_time": "2023-08-07T07:48:38.212Z"
   },
   {
    "duration": 172,
    "start_time": "2023-08-07T07:48:42.506Z"
   },
   {
    "duration": 171,
    "start_time": "2023-08-07T07:48:42.683Z"
   },
   {
    "duration": 191,
    "start_time": "2023-08-07T07:48:42.856Z"
   },
   {
    "duration": 174,
    "start_time": "2023-08-07T07:48:43.049Z"
   },
   {
    "duration": 193,
    "start_time": "2023-08-07T07:48:46.374Z"
   },
   {
    "duration": 195,
    "start_time": "2023-08-07T07:48:49.174Z"
   },
   {
    "duration": 405,
    "start_time": "2023-08-07T07:48:51.838Z"
   },
   {
    "duration": 309,
    "start_time": "2023-08-07T07:48:52.245Z"
   },
   {
    "duration": 43,
    "start_time": "2023-08-07T07:48:55.843Z"
   },
   {
    "duration": 16,
    "start_time": "2023-08-07T07:48:59.322Z"
   },
   {
    "duration": 266,
    "start_time": "2023-08-07T07:48:59.555Z"
   },
   {
    "duration": 26,
    "start_time": "2023-08-07T07:48:59.826Z"
   },
   {
    "duration": 227,
    "start_time": "2023-08-07T07:49:02.692Z"
   },
   {
    "duration": 25,
    "start_time": "2023-08-07T07:49:12.126Z"
   },
   {
    "duration": 209,
    "start_time": "2023-08-07T07:49:13.245Z"
   },
   {
    "duration": 5,
    "start_time": "2023-08-07T07:49:27.815Z"
   },
   {
    "duration": 114,
    "start_time": "2023-08-07T07:49:49.516Z"
   },
   {
    "duration": 16,
    "start_time": "2023-08-07T07:49:59.994Z"
   },
   {
    "duration": 20,
    "start_time": "2023-08-07T07:50:05.615Z"
   },
   {
    "duration": 24,
    "start_time": "2023-08-07T07:50:14.283Z"
   },
   {
    "duration": 11,
    "start_time": "2023-08-07T07:50:21.240Z"
   },
   {
    "duration": 16,
    "start_time": "2023-08-07T07:50:52.640Z"
   },
   {
    "duration": 21,
    "start_time": "2023-08-07T07:51:02.640Z"
   },
   {
    "duration": 28,
    "start_time": "2023-08-07T07:51:56.302Z"
   },
   {
    "duration": 18,
    "start_time": "2023-08-07T07:52:06.420Z"
   },
   {
    "duration": 17,
    "start_time": "2023-08-07T07:52:21.251Z"
   },
   {
    "duration": 17,
    "start_time": "2023-08-07T07:52:27.611Z"
   },
   {
    "duration": 32,
    "start_time": "2023-08-07T07:52:42.409Z"
   },
   {
    "duration": 5,
    "start_time": "2023-08-07T07:52:53.440Z"
   },
   {
    "duration": 38,
    "start_time": "2023-08-07T07:53:00.684Z"
   },
   {
    "duration": 15,
    "start_time": "2023-08-07T07:53:23.048Z"
   },
   {
    "duration": 10,
    "start_time": "2023-08-07T07:55:24.324Z"
   },
   {
    "duration": 10,
    "start_time": "2023-08-07T07:55:38.333Z"
   },
   {
    "duration": 141,
    "start_time": "2023-08-07T07:55:51.040Z"
   },
   {
    "duration": 431,
    "start_time": "2023-08-07T07:56:08.971Z"
   },
   {
    "duration": 50102,
    "start_time": "2023-08-07T07:57:05.299Z"
   },
   {
    "duration": 335,
    "start_time": "2023-08-07T07:59:10.391Z"
   },
   {
    "duration": 52275,
    "start_time": "2023-08-07T08:00:22.906Z"
   },
   {
    "duration": 268,
    "start_time": "2023-08-07T08:01:18.999Z"
   },
   {
    "duration": 53950,
    "start_time": "2023-08-07T08:01:25.491Z"
   },
   {
    "duration": 23,
    "start_time": "2023-08-07T08:02:25.310Z"
   },
   {
    "duration": 54234,
    "start_time": "2023-08-07T08:02:28.142Z"
   },
   {
    "duration": 29,
    "start_time": "2023-08-07T08:03:37.711Z"
   },
   {
    "duration": 54843,
    "start_time": "2023-08-07T08:03:57.190Z"
   },
   {
    "duration": 34,
    "start_time": "2023-08-07T08:05:00.192Z"
   },
   {
    "duration": 368,
    "start_time": "2023-08-07T08:05:01.049Z"
   },
   {
    "duration": 54145,
    "start_time": "2023-08-07T08:05:23.478Z"
   },
   {
    "duration": 27,
    "start_time": "2023-08-07T08:06:28.502Z"
   },
   {
    "duration": 58028,
    "start_time": "2023-08-07T08:06:30.295Z"
   },
   {
    "duration": 30,
    "start_time": "2023-08-07T08:11:08.788Z"
   },
   {
    "duration": 10,
    "start_time": "2023-08-07T08:11:13.149Z"
   },
   {
    "duration": 32,
    "start_time": "2023-08-07T08:11:16.249Z"
   },
   {
    "duration": 25,
    "start_time": "2023-08-07T08:11:18.931Z"
   },
   {
    "duration": 309,
    "start_time": "2023-08-07T08:11:19.528Z"
   },
   {
    "duration": 268,
    "start_time": "2023-08-07T08:11:36.472Z"
   },
   {
    "duration": 28,
    "start_time": "2023-08-07T08:14:32.967Z"
   },
   {
    "duration": 22,
    "start_time": "2023-08-07T08:16:15.003Z"
   },
   {
    "duration": 17,
    "start_time": "2023-08-07T08:16:22.313Z"
   },
   {
    "duration": 32,
    "start_time": "2023-08-07T08:16:35.316Z"
   },
   {
    "duration": 121,
    "start_time": "2023-08-07T08:16:53.418Z"
   },
   {
    "duration": 13,
    "start_time": "2023-08-07T08:17:14.818Z"
   },
   {
    "duration": 27,
    "start_time": "2023-08-07T08:17:27.474Z"
   },
   {
    "duration": 88,
    "start_time": "2023-08-07T08:17:31.513Z"
   },
   {
    "duration": 61072,
    "start_time": "2023-08-07T08:19:41.623Z"
   },
   {
    "duration": 53496,
    "start_time": "2023-08-07T08:20:58.598Z"
   },
   {
    "duration": 29,
    "start_time": "2023-08-07T08:25:17.326Z"
   },
   {
    "duration": 21,
    "start_time": "2023-08-07T08:25:44.035Z"
   },
   {
    "duration": 26,
    "start_time": "2023-08-07T08:25:59.308Z"
   },
   {
    "duration": 191,
    "start_time": "2023-08-07T08:27:47.912Z"
   },
   {
    "duration": 232,
    "start_time": "2023-08-07T08:27:58.861Z"
   },
   {
    "duration": 7,
    "start_time": "2023-08-07T08:31:37.263Z"
   },
   {
    "duration": 120,
    "start_time": "2023-08-07T08:46:51.051Z"
   },
   {
    "duration": 1983,
    "start_time": "2023-08-07T08:47:04.530Z"
   },
   {
    "duration": 48,
    "start_time": "2023-08-07T08:47:34.891Z"
   },
   {
    "duration": 29,
    "start_time": "2023-08-07T08:47:55.495Z"
   },
   {
    "duration": 21,
    "start_time": "2023-08-07T08:48:16.866Z"
   },
   {
    "duration": 26,
    "start_time": "2023-08-07T08:48:26.610Z"
   },
   {
    "duration": 12,
    "start_time": "2023-08-07T08:49:24.166Z"
   },
   {
    "duration": 50019,
    "start_time": "2023-08-07T08:49:30.827Z"
   },
   {
    "duration": 51009,
    "start_time": "2023-08-07T08:50:55.418Z"
   },
   {
    "duration": 152,
    "start_time": "2023-08-07T08:53:55.205Z"
   },
   {
    "duration": 20,
    "start_time": "2023-08-07T08:54:01.616Z"
   },
   {
    "duration": 21,
    "start_time": "2023-08-07T08:55:35.449Z"
   },
   {
    "duration": 19,
    "start_time": "2023-08-07T08:55:49.447Z"
   },
   {
    "duration": 10567,
    "start_time": "2023-08-07T08:56:52.466Z"
   },
   {
    "duration": 21,
    "start_time": "2023-08-07T08:57:17.952Z"
   },
   {
    "duration": 426,
    "start_time": "2023-08-07T08:57:37.189Z"
   },
   {
    "duration": 104,
    "start_time": "2023-08-07T08:57:37.617Z"
   },
   {
    "duration": 15,
    "start_time": "2023-08-07T08:57:37.723Z"
   },
   {
    "duration": 2383,
    "start_time": "2023-08-07T08:57:37.739Z"
   },
   {
    "duration": 63,
    "start_time": "2023-08-07T08:57:40.125Z"
   },
   {
    "duration": 10,
    "start_time": "2023-08-07T08:57:40.190Z"
   },
   {
    "duration": 30,
    "start_time": "2023-08-07T08:57:40.202Z"
   },
   {
    "duration": 11,
    "start_time": "2023-08-07T08:57:40.234Z"
   },
   {
    "duration": 9,
    "start_time": "2023-08-07T08:57:40.248Z"
   },
   {
    "duration": 10,
    "start_time": "2023-08-07T08:57:40.258Z"
   },
   {
    "duration": 41,
    "start_time": "2023-08-07T08:57:40.270Z"
   },
   {
    "duration": 4,
    "start_time": "2023-08-07T08:57:40.314Z"
   },
   {
    "duration": 21,
    "start_time": "2023-08-07T08:57:40.320Z"
   },
   {
    "duration": 26,
    "start_time": "2023-08-07T08:57:40.345Z"
   },
   {
    "duration": 26,
    "start_time": "2023-08-07T08:57:40.373Z"
   },
   {
    "duration": 13,
    "start_time": "2023-08-07T08:57:40.401Z"
   },
   {
    "duration": 10,
    "start_time": "2023-08-07T08:57:40.417Z"
   },
   {
    "duration": 12,
    "start_time": "2023-08-07T08:57:40.429Z"
   },
   {
    "duration": 12,
    "start_time": "2023-08-07T08:57:40.443Z"
   },
   {
    "duration": 23,
    "start_time": "2023-08-07T08:57:40.456Z"
   },
   {
    "duration": 32,
    "start_time": "2023-08-07T08:57:40.481Z"
   },
   {
    "duration": 12,
    "start_time": "2023-08-07T08:57:40.516Z"
   },
   {
    "duration": 5438,
    "start_time": "2023-08-07T08:57:40.530Z"
   },
   {
    "duration": 13,
    "start_time": "2023-08-07T08:57:45.970Z"
   },
   {
    "duration": 18,
    "start_time": "2023-08-07T08:57:45.984Z"
   },
   {
    "duration": 29,
    "start_time": "2023-08-07T08:57:46.003Z"
   },
   {
    "duration": 15,
    "start_time": "2023-08-07T08:57:46.034Z"
   },
   {
    "duration": 48,
    "start_time": "2023-08-07T08:57:46.051Z"
   },
   {
    "duration": 8,
    "start_time": "2023-08-07T08:57:46.102Z"
   },
   {
    "duration": 11,
    "start_time": "2023-08-07T08:57:46.112Z"
   },
   {
    "duration": 21,
    "start_time": "2023-08-07T08:57:46.124Z"
   },
   {
    "duration": 21,
    "start_time": "2023-08-07T08:57:46.147Z"
   },
   {
    "duration": 58,
    "start_time": "2023-08-07T08:57:46.171Z"
   },
   {
    "duration": 52,
    "start_time": "2023-08-07T08:57:46.232Z"
   },
   {
    "duration": 20,
    "start_time": "2023-08-07T08:57:46.286Z"
   },
   {
    "duration": 47,
    "start_time": "2023-08-07T08:57:46.308Z"
   },
   {
    "duration": 33,
    "start_time": "2023-08-07T08:57:46.357Z"
   },
   {
    "duration": 23,
    "start_time": "2023-08-07T08:57:46.392Z"
   },
   {
    "duration": 30,
    "start_time": "2023-08-07T08:57:46.417Z"
   },
   {
    "duration": 10445,
    "start_time": "2023-08-07T08:57:46.449Z"
   },
   {
    "duration": 171,
    "start_time": "2023-08-07T08:57:56.902Z"
   },
   {
    "duration": 152,
    "start_time": "2023-08-07T08:57:57.075Z"
   },
   {
    "duration": 262,
    "start_time": "2023-08-07T08:57:57.228Z"
   },
   {
    "duration": 157,
    "start_time": "2023-08-07T08:57:57.493Z"
   },
   {
    "duration": 160,
    "start_time": "2023-08-07T08:57:57.652Z"
   },
   {
    "duration": 156,
    "start_time": "2023-08-07T08:57:57.814Z"
   },
   {
    "duration": 155,
    "start_time": "2023-08-07T08:57:57.974Z"
   },
   {
    "duration": 147,
    "start_time": "2023-08-07T08:57:58.131Z"
   },
   {
    "duration": 148,
    "start_time": "2023-08-07T08:57:58.279Z"
   },
   {
    "duration": 165,
    "start_time": "2023-08-07T08:57:58.429Z"
   },
   {
    "duration": 206,
    "start_time": "2023-08-07T08:57:58.597Z"
   },
   {
    "duration": 171,
    "start_time": "2023-08-07T08:57:58.805Z"
   },
   {
    "duration": 187,
    "start_time": "2023-08-07T08:57:58.978Z"
   },
   {
    "duration": 219,
    "start_time": "2023-08-07T08:57:59.167Z"
   },
   {
    "duration": 260,
    "start_time": "2023-08-07T08:57:59.394Z"
   },
   {
    "duration": 282,
    "start_time": "2023-08-07T08:57:59.656Z"
   },
   {
    "duration": 63,
    "start_time": "2023-08-07T08:57:59.940Z"
   },
   {
    "duration": 23,
    "start_time": "2023-08-07T08:58:00.005Z"
   },
   {
    "duration": 273,
    "start_time": "2023-08-07T08:58:00.031Z"
   },
   {
    "duration": 20,
    "start_time": "2023-08-07T08:58:00.306Z"
   },
   {
    "duration": 259,
    "start_time": "2023-08-07T08:58:00.328Z"
   },
   {
    "duration": 25,
    "start_time": "2023-08-07T08:58:00.590Z"
   },
   {
    "duration": 251,
    "start_time": "2023-08-07T08:58:00.617Z"
   },
   {
    "duration": 23,
    "start_time": "2023-08-07T08:58:00.874Z"
   },
   {
    "duration": 38347,
    "start_time": "2023-08-07T08:58:00.899Z"
   },
   {
    "duration": 14,
    "start_time": "2023-08-07T08:58:39.248Z"
   },
   {
    "duration": 42310,
    "start_time": "2023-08-07T08:58:39.263Z"
   },
   {
    "duration": 23,
    "start_time": "2023-08-07T08:59:21.580Z"
   },
   {
    "duration": 42761,
    "start_time": "2023-08-07T08:59:21.604Z"
   },
   {
    "duration": 25,
    "start_time": "2023-08-07T09:00:04.367Z"
   },
   {
    "duration": 41763,
    "start_time": "2023-08-07T09:00:04.394Z"
   },
   {
    "duration": 20,
    "start_time": "2023-08-07T09:00:46.159Z"
   },
   {
    "duration": 39234,
    "start_time": "2023-08-07T09:00:46.182Z"
   },
   {
    "duration": 17,
    "start_time": "2023-08-07T09:01:25.417Z"
   },
   {
    "duration": 7,
    "start_time": "2023-08-07T09:01:25.436Z"
   },
   {
    "duration": 50,
    "start_time": "2023-08-07T09:01:25.445Z"
   },
   {
    "duration": 33832,
    "start_time": "2023-08-07T09:01:25.496Z"
   },
   {
    "duration": 89,
    "start_time": "2023-08-07T09:01:59.330Z"
   },
   {
    "duration": 0,
    "start_time": "2023-08-07T09:01:59.421Z"
   },
   {
    "duration": 30,
    "start_time": "2023-08-07T09:02:17.974Z"
   },
   {
    "duration": 27,
    "start_time": "2023-08-07T09:02:33.825Z"
   },
   {
    "duration": 18,
    "start_time": "2023-08-07T09:39:20.199Z"
   },
   {
    "duration": 26,
    "start_time": "2023-08-07T09:43:43.349Z"
   },
   {
    "duration": 15,
    "start_time": "2023-08-07T09:43:50.928Z"
   },
   {
    "duration": 177,
    "start_time": "2023-08-07T09:43:57.578Z"
   },
   {
    "duration": 152,
    "start_time": "2023-08-07T09:44:07.909Z"
   },
   {
    "duration": 166,
    "start_time": "2023-08-07T09:44:18.387Z"
   },
   {
    "duration": 509,
    "start_time": "2023-08-07T09:44:33.665Z"
   },
   {
    "duration": 180,
    "start_time": "2023-08-07T09:44:40.905Z"
   },
   {
    "duration": 3576,
    "start_time": "2023-08-07T09:44:47.666Z"
   },
   {
    "duration": 531,
    "start_time": "2023-08-07T09:45:00.919Z"
   },
   {
    "duration": 227,
    "start_time": "2023-08-07T09:45:09.576Z"
   },
   {
    "duration": 158,
    "start_time": "2023-08-07T09:45:17.460Z"
   },
   {
    "duration": 163,
    "start_time": "2023-08-07T09:45:26.961Z"
   },
   {
    "duration": 201,
    "start_time": "2023-08-07T09:45:32.775Z"
   },
   {
    "duration": 202,
    "start_time": "2023-08-07T09:45:42.268Z"
   },
   {
    "duration": 6,
    "start_time": "2023-08-07T09:47:25.011Z"
   },
   {
    "duration": 432,
    "start_time": "2023-08-07T09:50:36.783Z"
   },
   {
    "duration": 103,
    "start_time": "2023-08-07T09:50:37.217Z"
   },
   {
    "duration": 15,
    "start_time": "2023-08-07T09:50:37.322Z"
   },
   {
    "duration": 2330,
    "start_time": "2023-08-07T09:50:37.340Z"
   },
   {
    "duration": 50,
    "start_time": "2023-08-07T09:50:39.672Z"
   },
   {
    "duration": 4,
    "start_time": "2023-08-07T09:50:39.724Z"
   },
   {
    "duration": 22,
    "start_time": "2023-08-07T09:50:39.730Z"
   },
   {
    "duration": 12,
    "start_time": "2023-08-07T09:50:39.753Z"
   },
   {
    "duration": 24,
    "start_time": "2023-08-07T09:50:39.767Z"
   },
   {
    "duration": 35,
    "start_time": "2023-08-07T09:50:39.794Z"
   },
   {
    "duration": 34,
    "start_time": "2023-08-07T09:50:39.830Z"
   },
   {
    "duration": 21,
    "start_time": "2023-08-07T09:50:39.866Z"
   },
   {
    "duration": 41,
    "start_time": "2023-08-07T09:50:39.889Z"
   },
   {
    "duration": 25,
    "start_time": "2023-08-07T09:50:39.932Z"
   },
   {
    "duration": 31,
    "start_time": "2023-08-07T09:50:39.959Z"
   },
   {
    "duration": 17,
    "start_time": "2023-08-07T09:50:39.993Z"
   },
   {
    "duration": 19,
    "start_time": "2023-08-07T09:50:40.012Z"
   },
   {
    "duration": 19,
    "start_time": "2023-08-07T09:50:40.033Z"
   },
   {
    "duration": 17,
    "start_time": "2023-08-07T09:50:40.053Z"
   },
   {
    "duration": 29,
    "start_time": "2023-08-07T09:50:40.072Z"
   },
   {
    "duration": 24,
    "start_time": "2023-08-07T09:50:40.103Z"
   },
   {
    "duration": 15,
    "start_time": "2023-08-07T09:50:40.129Z"
   },
   {
    "duration": 5073,
    "start_time": "2023-08-07T09:50:40.145Z"
   },
   {
    "duration": 5,
    "start_time": "2023-08-07T09:50:45.220Z"
   },
   {
    "duration": 38,
    "start_time": "2023-08-07T09:50:45.227Z"
   },
   {
    "duration": 32,
    "start_time": "2023-08-07T09:50:45.266Z"
   },
   {
    "duration": 20,
    "start_time": "2023-08-07T09:50:45.300Z"
   },
   {
    "duration": 29,
    "start_time": "2023-08-07T09:50:45.324Z"
   },
   {
    "duration": 33,
    "start_time": "2023-08-07T09:50:45.355Z"
   },
   {
    "duration": 21,
    "start_time": "2023-08-07T09:50:45.391Z"
   },
   {
    "duration": 36,
    "start_time": "2023-08-07T09:50:45.413Z"
   },
   {
    "duration": 42,
    "start_time": "2023-08-07T09:50:45.451Z"
   },
   {
    "duration": 19,
    "start_time": "2023-08-07T09:50:45.495Z"
   },
   {
    "duration": 32,
    "start_time": "2023-08-07T09:50:45.516Z"
   },
   {
    "duration": 14,
    "start_time": "2023-08-07T09:50:45.549Z"
   },
   {
    "duration": 70,
    "start_time": "2023-08-07T09:50:45.565Z"
   },
   {
    "duration": 18,
    "start_time": "2023-08-07T09:50:45.637Z"
   },
   {
    "duration": 47,
    "start_time": "2023-08-07T09:50:45.656Z"
   },
   {
    "duration": 26,
    "start_time": "2023-08-07T09:50:45.705Z"
   },
   {
    "duration": 9707,
    "start_time": "2023-08-07T09:50:45.733Z"
   },
   {
    "duration": 164,
    "start_time": "2023-08-07T09:50:55.442Z"
   },
   {
    "duration": 141,
    "start_time": "2023-08-07T09:50:55.608Z"
   },
   {
    "duration": 252,
    "start_time": "2023-08-07T09:50:55.751Z"
   },
   {
    "duration": 160,
    "start_time": "2023-08-07T09:50:56.005Z"
   },
   {
    "duration": 157,
    "start_time": "2023-08-07T09:50:56.166Z"
   },
   {
    "duration": 166,
    "start_time": "2023-08-07T09:50:56.325Z"
   },
   {
    "duration": 151,
    "start_time": "2023-08-07T09:50:56.493Z"
   },
   {
    "duration": 151,
    "start_time": "2023-08-07T09:50:56.645Z"
   },
   {
    "duration": 148,
    "start_time": "2023-08-07T09:50:56.797Z"
   },
   {
    "duration": 170,
    "start_time": "2023-08-07T09:50:56.946Z"
   },
   {
    "duration": 174,
    "start_time": "2023-08-07T09:50:57.118Z"
   },
   {
    "duration": 154,
    "start_time": "2023-08-07T09:50:57.294Z"
   },
   {
    "duration": 190,
    "start_time": "2023-08-07T09:50:57.450Z"
   },
   {
    "duration": 220,
    "start_time": "2023-08-07T09:50:57.642Z"
   },
   {
    "duration": 298,
    "start_time": "2023-08-07T09:50:57.863Z"
   },
   {
    "duration": 290,
    "start_time": "2023-08-07T09:50:58.162Z"
   },
   {
    "duration": 44,
    "start_time": "2023-08-07T09:50:58.454Z"
   },
   {
    "duration": 15,
    "start_time": "2023-08-07T09:50:58.499Z"
   },
   {
    "duration": 216,
    "start_time": "2023-08-07T09:50:58.516Z"
   },
   {
    "duration": 16,
    "start_time": "2023-08-07T09:50:58.734Z"
   },
   {
    "duration": 218,
    "start_time": "2023-08-07T09:50:58.751Z"
   },
   {
    "duration": 24,
    "start_time": "2023-08-07T09:50:58.971Z"
   },
   {
    "duration": 205,
    "start_time": "2023-08-07T09:50:58.996Z"
   },
   {
    "duration": 13,
    "start_time": "2023-08-07T09:50:59.202Z"
   },
   {
    "duration": 36883,
    "start_time": "2023-08-07T09:50:59.216Z"
   },
   {
    "duration": 16,
    "start_time": "2023-08-07T09:51:36.101Z"
   },
   {
    "duration": 40491,
    "start_time": "2023-08-07T09:51:36.119Z"
   },
   {
    "duration": 13,
    "start_time": "2023-08-07T09:52:16.612Z"
   },
   {
    "duration": 40435,
    "start_time": "2023-08-07T09:52:16.627Z"
   },
   {
    "duration": 28,
    "start_time": "2023-08-07T09:52:57.063Z"
   },
   {
    "duration": 41475,
    "start_time": "2023-08-07T09:52:57.093Z"
   },
   {
    "duration": 18,
    "start_time": "2023-08-07T09:53:38.578Z"
   },
   {
    "duration": 41158,
    "start_time": "2023-08-07T09:53:38.598Z"
   },
   {
    "duration": 29,
    "start_time": "2023-08-07T09:54:19.758Z"
   },
   {
    "duration": 36,
    "start_time": "2023-08-07T09:54:19.790Z"
   },
   {
    "duration": 33,
    "start_time": "2023-08-07T09:54:19.828Z"
   },
   {
    "duration": 10,
    "start_time": "2023-08-07T09:54:19.863Z"
   },
   {
    "duration": 252,
    "start_time": "2023-08-07T09:54:19.874Z"
   },
   {
    "duration": 5,
    "start_time": "2023-08-07T09:54:20.128Z"
   },
   {
    "duration": 457,
    "start_time": "2023-08-07T09:55:46.547Z"
   },
   {
    "duration": 120,
    "start_time": "2023-08-07T09:55:47.006Z"
   },
   {
    "duration": 15,
    "start_time": "2023-08-07T09:55:47.127Z"
   },
   {
    "duration": 2545,
    "start_time": "2023-08-07T09:55:47.144Z"
   },
   {
    "duration": 45,
    "start_time": "2023-08-07T09:55:49.692Z"
   },
   {
    "duration": 6,
    "start_time": "2023-08-07T09:55:49.739Z"
   },
   {
    "duration": 43,
    "start_time": "2023-08-07T09:55:49.747Z"
   },
   {
    "duration": 29,
    "start_time": "2023-08-07T09:55:49.793Z"
   },
   {
    "duration": 10,
    "start_time": "2023-08-07T09:55:49.824Z"
   },
   {
    "duration": 10,
    "start_time": "2023-08-07T09:55:49.838Z"
   },
   {
    "duration": 29,
    "start_time": "2023-08-07T09:55:49.850Z"
   },
   {
    "duration": 21,
    "start_time": "2023-08-07T09:55:49.882Z"
   },
   {
    "duration": 23,
    "start_time": "2023-08-07T09:55:49.904Z"
   },
   {
    "duration": 13,
    "start_time": "2023-08-07T09:55:49.929Z"
   },
   {
    "duration": 12,
    "start_time": "2023-08-07T09:55:49.944Z"
   },
   {
    "duration": 31,
    "start_time": "2023-08-07T09:55:49.957Z"
   },
   {
    "duration": 23,
    "start_time": "2023-08-07T09:55:49.990Z"
   },
   {
    "duration": 55,
    "start_time": "2023-08-07T09:55:50.015Z"
   },
   {
    "duration": 36,
    "start_time": "2023-08-07T09:55:50.072Z"
   },
   {
    "duration": 40,
    "start_time": "2023-08-07T09:55:50.110Z"
   },
   {
    "duration": 58,
    "start_time": "2023-08-07T09:55:50.151Z"
   },
   {
    "duration": 35,
    "start_time": "2023-08-07T09:55:50.211Z"
   },
   {
    "duration": 5311,
    "start_time": "2023-08-07T09:55:50.248Z"
   },
   {
    "duration": 6,
    "start_time": "2023-08-07T09:55:55.561Z"
   },
   {
    "duration": 23,
    "start_time": "2023-08-07T09:55:55.569Z"
   },
   {
    "duration": 35,
    "start_time": "2023-08-07T09:55:55.594Z"
   },
   {
    "duration": 21,
    "start_time": "2023-08-07T09:55:55.631Z"
   },
   {
    "duration": 12,
    "start_time": "2023-08-07T09:55:55.656Z"
   },
   {
    "duration": 30,
    "start_time": "2023-08-07T09:55:55.670Z"
   },
   {
    "duration": 20,
    "start_time": "2023-08-07T09:55:55.702Z"
   },
   {
    "duration": 21,
    "start_time": "2023-08-07T09:55:55.723Z"
   },
   {
    "duration": 27,
    "start_time": "2023-08-07T09:55:55.745Z"
   },
   {
    "duration": 26,
    "start_time": "2023-08-07T09:55:55.773Z"
   },
   {
    "duration": 10,
    "start_time": "2023-08-07T09:55:55.801Z"
   },
   {
    "duration": 10,
    "start_time": "2023-08-07T09:55:55.812Z"
   },
   {
    "duration": 39,
    "start_time": "2023-08-07T09:55:55.823Z"
   },
   {
    "duration": 6,
    "start_time": "2023-08-07T09:55:55.864Z"
   },
   {
    "duration": 16,
    "start_time": "2023-08-07T09:55:55.872Z"
   },
   {
    "duration": 13,
    "start_time": "2023-08-07T09:55:55.895Z"
   },
   {
    "duration": 9863,
    "start_time": "2023-08-07T09:55:55.909Z"
   },
   {
    "duration": 173,
    "start_time": "2023-08-07T09:56:05.774Z"
   },
   {
    "duration": 156,
    "start_time": "2023-08-07T09:56:05.949Z"
   },
   {
    "duration": 245,
    "start_time": "2023-08-07T09:56:06.107Z"
   },
   {
    "duration": 160,
    "start_time": "2023-08-07T09:56:06.353Z"
   },
   {
    "duration": 143,
    "start_time": "2023-08-07T09:56:06.514Z"
   },
   {
    "duration": 154,
    "start_time": "2023-08-07T09:56:06.659Z"
   },
   {
    "duration": 140,
    "start_time": "2023-08-07T09:56:06.815Z"
   },
   {
    "duration": 142,
    "start_time": "2023-08-07T09:56:06.956Z"
   },
   {
    "duration": 147,
    "start_time": "2023-08-07T09:56:07.099Z"
   },
   {
    "duration": 170,
    "start_time": "2023-08-07T09:56:07.248Z"
   },
   {
    "duration": 171,
    "start_time": "2023-08-07T09:56:07.420Z"
   },
   {
    "duration": 154,
    "start_time": "2023-08-07T09:56:07.593Z"
   },
   {
    "duration": 187,
    "start_time": "2023-08-07T09:56:07.749Z"
   },
   {
    "duration": 226,
    "start_time": "2023-08-07T09:56:07.938Z"
   },
   {
    "duration": 261,
    "start_time": "2023-08-07T09:56:08.166Z"
   },
   {
    "duration": 290,
    "start_time": "2023-08-07T09:56:08.429Z"
   },
   {
    "duration": 31,
    "start_time": "2023-08-07T09:56:08.720Z"
   },
   {
    "duration": 35,
    "start_time": "2023-08-07T09:56:08.753Z"
   },
   {
    "duration": 213,
    "start_time": "2023-08-07T09:56:08.790Z"
   },
   {
    "duration": 15,
    "start_time": "2023-08-07T09:56:09.005Z"
   },
   {
    "duration": 200,
    "start_time": "2023-08-07T09:56:09.021Z"
   },
   {
    "duration": 15,
    "start_time": "2023-08-07T09:56:09.222Z"
   },
   {
    "duration": 210,
    "start_time": "2023-08-07T09:56:09.238Z"
   },
   {
    "duration": 13,
    "start_time": "2023-08-07T09:56:09.450Z"
   },
   {
    "duration": 40325,
    "start_time": "2023-08-07T09:56:09.485Z"
   },
   {
    "duration": 15,
    "start_time": "2023-08-07T09:56:49.812Z"
   },
   {
    "duration": 463,
    "start_time": "2023-08-07T09:56:57.103Z"
   },
   {
    "duration": 134,
    "start_time": "2023-08-07T09:56:57.568Z"
   },
   {
    "duration": 23,
    "start_time": "2023-08-07T09:56:57.705Z"
   },
   {
    "duration": 2680,
    "start_time": "2023-08-07T09:56:57.731Z"
   },
   {
    "duration": 54,
    "start_time": "2023-08-07T09:57:00.415Z"
   },
   {
    "duration": 8,
    "start_time": "2023-08-07T09:57:00.472Z"
   },
   {
    "duration": 33,
    "start_time": "2023-08-07T09:57:00.483Z"
   },
   {
    "duration": 20,
    "start_time": "2023-08-07T09:57:00.521Z"
   },
   {
    "duration": 29,
    "start_time": "2023-08-07T09:57:00.543Z"
   },
   {
    "duration": 44,
    "start_time": "2023-08-07T09:57:00.575Z"
   },
   {
    "duration": 57,
    "start_time": "2023-08-07T09:57:00.621Z"
   },
   {
    "duration": 26,
    "start_time": "2023-08-07T09:57:00.681Z"
   },
   {
    "duration": 36,
    "start_time": "2023-08-07T09:57:00.709Z"
   },
   {
    "duration": 43,
    "start_time": "2023-08-07T09:57:00.750Z"
   },
   {
    "duration": 52,
    "start_time": "2023-08-07T09:57:00.795Z"
   },
   {
    "duration": 47,
    "start_time": "2023-08-07T09:57:00.849Z"
   },
   {
    "duration": 68,
    "start_time": "2023-08-07T09:57:00.901Z"
   },
   {
    "duration": 129,
    "start_time": "2023-08-07T09:57:00.971Z"
   },
   {
    "duration": 236,
    "start_time": "2023-08-07T09:57:01.101Z"
   },
   {
    "duration": 54,
    "start_time": "2023-08-07T09:57:01.339Z"
   },
   {
    "duration": 51,
    "start_time": "2023-08-07T09:57:01.397Z"
   },
   {
    "duration": 56,
    "start_time": "2023-08-07T09:57:01.450Z"
   },
   {
    "duration": 5827,
    "start_time": "2023-08-07T09:57:01.509Z"
   },
   {
    "duration": 5,
    "start_time": "2023-08-07T09:57:07.338Z"
   },
   {
    "duration": 17,
    "start_time": "2023-08-07T09:57:07.344Z"
   },
   {
    "duration": 15,
    "start_time": "2023-08-07T09:57:07.362Z"
   },
   {
    "duration": 11,
    "start_time": "2023-08-07T09:57:07.384Z"
   },
   {
    "duration": 16,
    "start_time": "2023-08-07T09:57:07.397Z"
   },
   {
    "duration": 8,
    "start_time": "2023-08-07T09:57:07.415Z"
   },
   {
    "duration": 6,
    "start_time": "2023-08-07T09:57:07.425Z"
   },
   {
    "duration": 10,
    "start_time": "2023-08-07T09:57:07.433Z"
   },
   {
    "duration": 13,
    "start_time": "2023-08-07T09:57:07.445Z"
   },
   {
    "duration": 21,
    "start_time": "2023-08-07T09:57:07.461Z"
   },
   {
    "duration": 8,
    "start_time": "2023-08-07T09:57:07.485Z"
   },
   {
    "duration": 20,
    "start_time": "2023-08-07T09:57:07.495Z"
   },
   {
    "duration": 39,
    "start_time": "2023-08-07T09:57:07.517Z"
   },
   {
    "duration": 7,
    "start_time": "2023-08-07T09:57:07.558Z"
   },
   {
    "duration": 16,
    "start_time": "2023-08-07T09:57:07.567Z"
   },
   {
    "duration": 13,
    "start_time": "2023-08-07T09:57:07.587Z"
   },
   {
    "duration": 10302,
    "start_time": "2023-08-07T09:57:07.602Z"
   },
   {
    "duration": 194,
    "start_time": "2023-08-07T09:57:17.915Z"
   },
   {
    "duration": 154,
    "start_time": "2023-08-07T09:57:18.111Z"
   },
   {
    "duration": 288,
    "start_time": "2023-08-07T09:57:18.267Z"
   },
   {
    "duration": 192,
    "start_time": "2023-08-07T09:57:18.557Z"
   },
   {
    "duration": 172,
    "start_time": "2023-08-07T09:57:18.751Z"
   },
   {
    "duration": 180,
    "start_time": "2023-08-07T09:57:18.926Z"
   },
   {
    "duration": 157,
    "start_time": "2023-08-07T09:57:19.108Z"
   },
   {
    "duration": 151,
    "start_time": "2023-08-07T09:57:19.267Z"
   },
   {
    "duration": 202,
    "start_time": "2023-08-07T09:57:19.420Z"
   },
   {
    "duration": 182,
    "start_time": "2023-08-07T09:57:19.623Z"
   },
   {
    "duration": 213,
    "start_time": "2023-08-07T09:57:19.808Z"
   },
   {
    "duration": 208,
    "start_time": "2023-08-07T09:57:20.022Z"
   },
   {
    "duration": 255,
    "start_time": "2023-08-07T09:57:20.233Z"
   },
   {
    "duration": 273,
    "start_time": "2023-08-07T09:57:20.490Z"
   },
   {
    "duration": 668,
    "start_time": "2023-08-07T09:57:27.056Z"
   },
   {
    "duration": 1840,
    "start_time": "2023-08-07T09:57:33.259Z"
   },
   {
    "duration": 1098,
    "start_time": "2023-08-07T09:57:46.166Z"
   },
   {
    "duration": 591,
    "start_time": "2023-08-07T09:57:55.145Z"
   },
   {
    "duration": 529,
    "start_time": "2023-08-07T09:58:02.095Z"
   },
   {
    "duration": 502,
    "start_time": "2023-08-07T09:58:07.570Z"
   },
   {
    "duration": 335,
    "start_time": "2023-08-07T09:58:15.986Z"
   },
   {
    "duration": 372,
    "start_time": "2023-08-07T09:58:28.932Z"
   },
   {
    "duration": 291,
    "start_time": "2023-08-07T09:58:36.465Z"
   },
   {
    "duration": 431,
    "start_time": "2023-08-07T09:58:57.348Z"
   },
   {
    "duration": 117,
    "start_time": "2023-08-07T09:58:57.782Z"
   },
   {
    "duration": 18,
    "start_time": "2023-08-07T09:58:57.900Z"
   },
   {
    "duration": 2619,
    "start_time": "2023-08-07T09:58:57.920Z"
   },
   {
    "duration": 70,
    "start_time": "2023-08-07T09:59:00.541Z"
   },
   {
    "duration": 5,
    "start_time": "2023-08-07T09:59:00.613Z"
   },
   {
    "duration": 61,
    "start_time": "2023-08-07T09:59:00.620Z"
   },
   {
    "duration": 16,
    "start_time": "2023-08-07T09:59:00.694Z"
   },
   {
    "duration": 42,
    "start_time": "2023-08-07T09:59:00.712Z"
   },
   {
    "duration": 48,
    "start_time": "2023-08-07T09:59:00.757Z"
   },
   {
    "duration": 63,
    "start_time": "2023-08-07T09:59:00.806Z"
   },
   {
    "duration": 20,
    "start_time": "2023-08-07T09:59:00.870Z"
   },
   {
    "duration": 35,
    "start_time": "2023-08-07T09:59:00.892Z"
   },
   {
    "duration": 35,
    "start_time": "2023-08-07T09:59:00.929Z"
   },
   {
    "duration": 52,
    "start_time": "2023-08-07T09:59:00.966Z"
   },
   {
    "duration": 70,
    "start_time": "2023-08-07T09:59:01.020Z"
   },
   {
    "duration": 41,
    "start_time": "2023-08-07T09:59:01.092Z"
   },
   {
    "duration": 71,
    "start_time": "2023-08-07T09:59:01.135Z"
   },
   {
    "duration": 52,
    "start_time": "2023-08-07T09:59:01.209Z"
   },
   {
    "duration": 75,
    "start_time": "2023-08-07T09:59:01.263Z"
   },
   {
    "duration": 84,
    "start_time": "2023-08-07T09:59:01.340Z"
   },
   {
    "duration": 54,
    "start_time": "2023-08-07T09:59:01.426Z"
   },
   {
    "duration": 5754,
    "start_time": "2023-08-07T09:59:01.482Z"
   },
   {
    "duration": 7,
    "start_time": "2023-08-07T09:59:07.238Z"
   },
   {
    "duration": 11,
    "start_time": "2023-08-07T09:59:07.246Z"
   },
   {
    "duration": 30,
    "start_time": "2023-08-07T09:59:07.259Z"
   },
   {
    "duration": 10,
    "start_time": "2023-08-07T09:59:07.293Z"
   },
   {
    "duration": 6,
    "start_time": "2023-08-07T09:59:07.313Z"
   },
   {
    "duration": 7,
    "start_time": "2023-08-07T09:59:07.320Z"
   },
   {
    "duration": 8,
    "start_time": "2023-08-07T09:59:07.328Z"
   },
   {
    "duration": 10,
    "start_time": "2023-08-07T09:59:07.338Z"
   },
   {
    "duration": 36,
    "start_time": "2023-08-07T09:59:07.349Z"
   },
   {
    "duration": 8,
    "start_time": "2023-08-07T09:59:07.397Z"
   },
   {
    "duration": 5,
    "start_time": "2023-08-07T09:59:07.407Z"
   },
   {
    "duration": 3,
    "start_time": "2023-08-07T09:59:07.414Z"
   },
   {
    "duration": 36,
    "start_time": "2023-08-07T09:59:07.419Z"
   },
   {
    "duration": 33,
    "start_time": "2023-08-07T09:59:07.457Z"
   },
   {
    "duration": 17,
    "start_time": "2023-08-07T09:59:07.492Z"
   },
   {
    "duration": 8,
    "start_time": "2023-08-07T09:59:07.510Z"
   },
   {
    "duration": 10217,
    "start_time": "2023-08-07T09:59:07.519Z"
   },
   {
    "duration": 167,
    "start_time": "2023-08-07T09:59:17.738Z"
   },
   {
    "duration": 139,
    "start_time": "2023-08-07T09:59:17.907Z"
   },
   {
    "duration": 278,
    "start_time": "2023-08-07T09:59:18.047Z"
   },
   {
    "duration": 175,
    "start_time": "2023-08-07T09:59:18.326Z"
   },
   {
    "duration": 163,
    "start_time": "2023-08-07T09:59:18.503Z"
   },
   {
    "duration": 190,
    "start_time": "2023-08-07T09:59:18.668Z"
   },
   {
    "duration": 156,
    "start_time": "2023-08-07T09:59:18.861Z"
   },
   {
    "duration": 135,
    "start_time": "2023-08-07T09:59:19.019Z"
   },
   {
    "duration": 161,
    "start_time": "2023-08-07T09:59:19.156Z"
   },
   {
    "duration": 159,
    "start_time": "2023-08-07T09:59:19.319Z"
   },
   {
    "duration": 187,
    "start_time": "2023-08-07T09:59:19.481Z"
   },
   {
    "duration": 175,
    "start_time": "2023-08-07T09:59:19.670Z"
   },
   {
    "duration": 203,
    "start_time": "2023-08-07T09:59:19.847Z"
   },
   {
    "duration": 288,
    "start_time": "2023-08-07T09:59:20.052Z"
   },
   {
    "duration": 360,
    "start_time": "2023-08-07T09:59:20.342Z"
   },
   {
    "duration": 293,
    "start_time": "2023-08-07T09:59:20.704Z"
   },
   {
    "duration": 33,
    "start_time": "2023-08-07T09:59:20.999Z"
   },
   {
    "duration": 16,
    "start_time": "2023-08-07T09:59:21.033Z"
   },
   {
    "duration": 253,
    "start_time": "2023-08-07T09:59:21.050Z"
   },
   {
    "duration": 15,
    "start_time": "2023-08-07T09:59:21.305Z"
   },
   {
    "duration": 228,
    "start_time": "2023-08-07T09:59:21.321Z"
   },
   {
    "duration": 37,
    "start_time": "2023-08-07T09:59:21.551Z"
   },
   {
    "duration": 220,
    "start_time": "2023-08-07T09:59:21.591Z"
   },
   {
    "duration": 12,
    "start_time": "2023-08-07T09:59:21.813Z"
   },
   {
    "duration": 39635,
    "start_time": "2023-08-07T09:59:21.827Z"
   },
   {
    "duration": 24,
    "start_time": "2023-08-07T10:00:01.464Z"
   },
   {
    "duration": 42965,
    "start_time": "2023-08-07T10:00:01.497Z"
   },
   {
    "duration": 30,
    "start_time": "2023-08-07T10:00:44.464Z"
   },
   {
    "duration": 42870,
    "start_time": "2023-08-07T10:00:44.495Z"
   },
   {
    "duration": 24,
    "start_time": "2023-08-07T10:01:27.375Z"
   },
   {
    "duration": 42483,
    "start_time": "2023-08-07T10:01:27.401Z"
   },
   {
    "duration": 15,
    "start_time": "2023-08-07T10:02:09.887Z"
   },
   {
    "duration": 42570,
    "start_time": "2023-08-07T10:02:09.903Z"
   },
   {
    "duration": 29,
    "start_time": "2023-08-07T10:02:52.475Z"
   },
   {
    "duration": 20,
    "start_time": "2023-08-07T10:02:52.506Z"
   },
   {
    "duration": 63,
    "start_time": "2023-08-07T10:02:52.529Z"
   },
   {
    "duration": 10,
    "start_time": "2023-08-07T10:02:52.595Z"
   },
   {
    "duration": 257,
    "start_time": "2023-08-07T10:02:52.607Z"
   },
   {
    "duration": 22,
    "start_time": "2023-08-07T10:02:52.866Z"
   }
  ],
  "kernelspec": {
   "display_name": "Python 3 (ipykernel)",
   "language": "python",
   "name": "python3"
  },
  "language_info": {
   "codemirror_mode": {
    "name": "ipython",
    "version": 3
   },
   "file_extension": ".py",
   "mimetype": "text/x-python",
   "name": "python",
   "nbconvert_exporter": "python",
   "pygments_lexer": "ipython3",
   "version": "3.9.5"
  },
  "toc": {
   "base_numbering": 1,
   "nav_menu": {},
   "number_sections": true,
   "sideBar": true,
   "skip_h1_title": true,
   "title_cell": "Table of Contents",
   "title_sidebar": "Contents",
   "toc_cell": false,
   "toc_position": {},
   "toc_section_display": true,
   "toc_window_display": false
  }
 },
 "nbformat": 4,
 "nbformat_minor": 4
}
